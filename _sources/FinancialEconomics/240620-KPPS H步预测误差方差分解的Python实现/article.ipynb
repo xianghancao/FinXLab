{
 "cells": [
  {
   "cell_type": "markdown",
   "id": "bc62d4e0-c878-48aa-a4ff-a6f77d325d3f",
   "metadata": {},
   "source": [
    "# KPPS H步预测误差方差分解的Python实现"
   ]
  },
  {
   "cell_type": "markdown",
   "id": "1b6ca4e5-2c00-47a0-a73c-f6ccd96ed1c0",
   "metadata": {},
   "source": [
    "First: Jun 20, 2024"
   ]
  },
  {
   "cell_type": "markdown",
   "id": "85637f42-90f0-4850-8b80-2474794c1bae",
   "metadata": {},
   "source": [
    "```{contents}\n",
    "```"
   ]
  },
  {
   "cell_type": "markdown",
   "id": "211c38a4-9ff5-4925-a7cd-fc87d117a400",
   "metadata": {},
   "source": [
    "## KPPS"
   ]
  },
  {
   "cell_type": "markdown",
   "id": "6b5d0045-be2f-4d37-b7a5-02158c2de79c",
   "metadata": {},
   "source": [
    "KPPS H-step-ahead forecast error variance decompositions:\n",
    "\n",
    "$$\n",
    "\\theta_{ij}^g(H)=\\frac{\\sigma_{jj}^{-1}\\sum_{h=0}^{H-1}(e_i^{\\prime}A_h\\Sigma e_j)^2}{\\sum_{h=0}^{H-1}(e_i^{\\prime}A_h\\Sigma A_h^{\\prime}e_i)}\n",
    "$$"
   ]
  },
  {
   "cell_type": "markdown",
   "id": "7fba6f12-7093-46b4-ad27-5988eb1d45fe",
   "metadata": {},
   "source": [
    "为了实现这个FEVD公式，我们需要先理解每个符号的含义和计算步骤：\n",
    "\n",
    "- $ \\theta_{ij}^g(H) $ 是广义预测误差方差分解（GFEVD）。\n",
    "- $ \\sigma_{jj}^{-1} $ 是残差协方差矩阵 $\\Sigma$ 的逆矩阵中的对角元素。\n",
    "- $ A_h $ 是VAR模型的冲击响应矩阵（Impulse Response Matrix）在第 $ h $ 步。\n",
    "- $ e_i $ 和 $ e_j $ 是单位向量，用于选择对应的变量。\n",
    "\n",
    "计算步骤：\n",
    "\n",
    "1. 拟合VAR模型，得到模型参数。\n",
    "2. 计算冲击响应矩阵 $ A_h $。\n",
    "3. 根据公式计算每个变量的GFEVD。\n",
    "\n"
   ]
  },
  {
   "cell_type": "markdown",
   "id": "50d98808-0a92-4bf9-997f-5c772b8b63c3",
   "metadata": {},
   "source": [
    "本文使用R语言内置的数据集中名为Canada的数据集。该数据集是时间序列数据，包含了加拿大的年度未调整生产、储蓄和投资数据，时间跨度从1937年到1965年。\n",
    "- Year - 年份\n",
    "- Production - 生产总值\n",
    "- Savings - 储蓄总值\n",
    "- Investment - 投资总值"
   ]
  },
  {
   "cell_type": "code",
   "execution_count": 7,
   "id": "c2a47e4b-1baf-4387-b216-7041af20c0db",
   "metadata": {
    "tags": []
   },
   "outputs": [
    {
     "name": "stdout",
     "output_type": "stream",
     "text": [
      "            e        prod          rw     U\n",
      "0  929.610514  405.366466  386.136109  7.53\n",
      "1  929.803985  404.639834  388.135759  7.70\n",
      "2  930.318388  403.814883  390.540113  7.47\n",
      "3  931.427687  404.215773  393.963817  7.27\n",
      "4  932.662006  405.046714  396.764691  7.37\n"
     ]
    }
   ],
   "source": [
    "import pandas as pd\n",
    "\n",
    "import matplotlib.pyplot as plt\n",
    "\n",
    "# 读取CSV文件\n",
    "df = pd.read_csv('Canada_data.csv')\n",
    "\n",
    "# 删除任何可能的空行或列（如果有）\n",
    "df.dropna(inplace=True)\n",
    "\n",
    "# 检查数据集的前几行\n",
    "print(df.head())"
   ]
  },
  {
   "cell_type": "markdown",
   "id": "7328cfd6-c673-4687-9d1e-8f959f4af170",
   "metadata": {},
   "source": [
    "## VAR模型"
   ]
  },
  {
   "cell_type": "code",
   "execution_count": 8,
   "id": "b7bad8fd-8bca-49de-a571-4b831c116f26",
   "metadata": {
    "tags": []
   },
   "outputs": [],
   "source": [
    "from statsmodels.tsa.api import VAR\n",
    "\n",
    "model = VAR(df)\n",
    "results = model.fit(maxlags=2, ic='aic')  # 可以根据需要调整滞后阶数"
   ]
  },
  {
   "cell_type": "markdown",
   "id": "6b5c1734-5bbf-40b2-9dad-a7d55e6b72be",
   "metadata": {},
   "source": [
    "获取模型残差的协方差矩阵及其逆矩阵"
   ]
  },
  {
   "cell_type": "code",
   "execution_count": 9,
   "id": "f0349db7-a15d-4a94-a3a8-cd35f1431fa0",
   "metadata": {
    "tags": []
   },
   "outputs": [],
   "source": [
    "import numpy as np\n",
    "sigma_u = results.sigma_u"
   ]
  },
  {
   "cell_type": "markdown",
   "id": "6fac8a81-cd53-40bd-b798-cdc2edf3a791",
   "metadata": {
    "tags": []
   },
   "source": [
    "## 脉冲响应函数（IRF）"
   ]
  },
  {
   "cell_type": "markdown",
   "id": "02dc66fd-02b8-412e-a812-b5566eb38b47",
   "metadata": {},
   "source": [
    "计算在第 $ h$ 步的冲击响应矩阵 $ A_h$\n"
   ]
  },
  {
   "cell_type": "code",
   "execution_count": 10,
   "id": "6955ca06-9160-4b6c-be5c-6ff55095bbb4",
   "metadata": {},
   "outputs": [
    {
     "data": {
      "text/plain": [
       "array([[[ 1.        ,  0.        ,  0.        ,  0.        ],\n",
       "        [ 0.        ,  1.        ,  0.        ,  0.        ],\n",
       "        [ 0.        ,  0.        ,  1.        ,  0.        ],\n",
       "        [ 0.        ,  0.        ,  0.        ,  1.        ]],\n",
       "\n",
       "       [[ 1.6378206 ,  0.16727167, -0.06311863,  0.26558478],\n",
       "        [-0.17276581,  1.1504282 ,  0.0513039 , -0.47850131],\n",
       "        [-0.26883287, -0.081065  ,  0.89547833,  0.01213003],\n",
       "        [-0.58076382, -0.07811707,  0.01866214,  0.6189315 ]],\n",
       "\n",
       "       [[ 2.01915006,  0.34911497, -0.1425158 ,  0.65124297],\n",
       "        [ 0.16764893,  1.15539453, -0.01191318,  0.12401542],\n",
       "        [-0.30622451, -0.21694805,  0.86759379, -0.14194662],\n",
       "        [-0.89234278, -0.1847587 ,  0.10271259,  0.19527081]],\n",
       "\n",
       "       [[ 2.24263533,  0.51890237, -0.2308082 ,  1.14696461],\n",
       "        [ 0.35801917,  1.14252986, -0.11435232,  0.74159876],\n",
       "        [-0.17807312, -0.32275268,  0.83873951, -0.28809984],\n",
       "        [-1.05145989, -0.2807327 ,  0.17637234, -0.22933386]],\n",
       "\n",
       "       [[ 2.32449796,  0.67044291, -0.3142239 ,  1.6488512 ],\n",
       "        [ 0.39725263,  1.11590322, -0.18466053,  1.19472084],\n",
       "        [ 0.03557054, -0.38993786,  0.80475331, -0.42272692],\n",
       "        [-1.09758548, -0.36301899,  0.23772303, -0.61784181]],\n",
       "\n",
       "       [[ 2.28832807,  0.80033105, -0.38019643,  2.08584182],\n",
       "        [ 0.33767351,  1.07772079, -0.22032578,  1.4788005 ],\n",
       "        [ 0.30943013, -0.42047344,  0.76031357, -0.49397343],\n",
       "        [-1.05456381, -0.42981253,  0.28102669, -0.92823677]]])"
      ]
     },
     "execution_count": 10,
     "metadata": {},
     "output_type": "execute_result"
    }
   ],
   "source": [
    "H=5\n",
    "irf = results.irf(H)  # 设置脉冲响应函数的预测步数，例如5步\n",
    "irf_non_orth = irf.irfs  # orth_irfs 为正交化IRF，irfs 为非正交化IRF\n",
    "irf_non_orth # h, j, i"
   ]
  },
  {
   "cell_type": "markdown",
   "id": "06e77085-9c9d-4f9c-a50a-3e6bfe452d09",
   "metadata": {},
   "source": [
    "## 基于MA过程"
   ]
  },
  {
   "cell_type": "code",
   "execution_count": 11,
   "id": "87556d0f-e6c4-4666-87f0-03d4f0f02594",
   "metadata": {
    "tags": []
   },
   "outputs": [
    {
     "data": {
      "text/plain": [
       "array([[[ 1.        ,  0.        ,  0.        ,  0.        ],\n",
       "        [ 0.        ,  1.        ,  0.        ,  0.        ],\n",
       "        [ 0.        ,  0.        ,  1.        ,  0.        ],\n",
       "        [ 0.        ,  0.        ,  0.        ,  1.        ]],\n",
       "\n",
       "       [[ 1.6378206 ,  0.16727167, -0.06311863,  0.26558478],\n",
       "        [-0.17276581,  1.1504282 ,  0.0513039 , -0.47850131],\n",
       "        [-0.26883287, -0.081065  ,  0.89547833,  0.01213003],\n",
       "        [-0.58076382, -0.07811707,  0.01866214,  0.6189315 ]],\n",
       "\n",
       "       [[ 2.01915006,  0.34911497, -0.1425158 ,  0.65124297],\n",
       "        [ 0.16764893,  1.15539453, -0.01191318,  0.12401542],\n",
       "        [-0.30622451, -0.21694805,  0.86759379, -0.14194662],\n",
       "        [-0.89234278, -0.1847587 ,  0.10271259,  0.19527081]],\n",
       "\n",
       "       [[ 2.24263533,  0.51890237, -0.2308082 ,  1.14696461],\n",
       "        [ 0.35801917,  1.14252986, -0.11435232,  0.74159876],\n",
       "        [-0.17807312, -0.32275268,  0.83873951, -0.28809984],\n",
       "        [-1.05145989, -0.2807327 ,  0.17637234, -0.22933386]],\n",
       "\n",
       "       [[ 2.32449796,  0.67044291, -0.3142239 ,  1.6488512 ],\n",
       "        [ 0.39725263,  1.11590322, -0.18466053,  1.19472084],\n",
       "        [ 0.03557054, -0.38993786,  0.80475331, -0.42272692],\n",
       "        [-1.09758548, -0.36301899,  0.23772303, -0.61784181]],\n",
       "\n",
       "       [[ 2.28832807,  0.80033105, -0.38019643,  2.08584182],\n",
       "        [ 0.33767351,  1.07772079, -0.22032578,  1.4788005 ],\n",
       "        [ 0.30943013, -0.42047344,  0.76031357, -0.49397343],\n",
       "        [-1.05456381, -0.42981253,  0.28102669, -0.92823677]]])"
      ]
     },
     "execution_count": 11,
     "metadata": {},
     "output_type": "execute_result"
    }
   ],
   "source": [
    "MA_A = results.ma_rep(maxn=5)\n",
    "MA_A"
   ]
  },
  {
   "cell_type": "markdown",
   "id": "e1f88959-1144-48a9-aa84-f9bb0865362b",
   "metadata": {},
   "source": [
    "\n",
    "\n",
    "## 计算广义预测误差方差分解（GFEVD）\n",
    "函数 `compute_gfevd` 实现公式中所述的计算，遍历每个变量  $i$  和  $j$ ，并根据给定的预测步数  $H$  进行计算。"
   ]
  },
  {
   "cell_type": "code",
   "execution_count": 12,
   "id": "7af31274-bed4-4cd0-8990-fddb5606e6bf",
   "metadata": {
    "tags": []
   },
   "outputs": [],
   "source": [
    "import numpy as np\n",
    "\n",
    "# 计算 GFEVD\n",
    "def compute_gfevd(H, A, sigma_u):\n",
    "    n_vars = A.shape[1]\n",
    "    gfevd = np.zeros((n_vars, n_vars))\n",
    "    e = np.eye(n_vars)\n",
    "    \n",
    "    for i in range(n_vars):\n",
    "        for j in range(n_vars):\n",
    "            num = 1/sigma_u[j, j] * np.sum([(e[i].T @ A[h] @ sigma_u @ e[j]) ** 2 for h in range(H)]) \n",
    "            den = np.sum([(e[i].T @ A[h] @ sigma_u @ A[h].T @ e[i]) for h in range(H)])\n",
    "            gfevd[i, j] = num / den\n",
    "    return gfevd"
   ]
  },
  {
   "cell_type": "code",
   "execution_count": 7,
   "id": "194b3ba3-fd51-48b9-9731-b5198ef852cc",
   "metadata": {
    "tags": []
   },
   "outputs": [
    {
     "data": {
      "text/html": [
       "<div>\n",
       "<style scoped>\n",
       "    .dataframe tbody tr th:only-of-type {\n",
       "        vertical-align: middle;\n",
       "    }\n",
       "\n",
       "    .dataframe tbody tr th {\n",
       "        vertical-align: top;\n",
       "    }\n",
       "\n",
       "    .dataframe thead th {\n",
       "        text-align: right;\n",
       "    }\n",
       "</style>\n",
       "<table border=\"1\" class=\"dataframe\">\n",
       "  <thead>\n",
       "    <tr style=\"text-align: right;\">\n",
       "      <th></th>\n",
       "      <th>e</th>\n",
       "      <th>prod</th>\n",
       "      <th>rw</th>\n",
       "      <th>U</th>\n",
       "    </tr>\n",
       "  </thead>\n",
       "  <tbody>\n",
       "    <tr>\n",
       "      <th>e</th>\n",
       "      <td>1.314613</td>\n",
       "      <td>0.154236</td>\n",
       "      <td>0.070726</td>\n",
       "      <td>0.300967</td>\n",
       "    </tr>\n",
       "    <tr>\n",
       "      <th>prod</th>\n",
       "      <td>0.005640</td>\n",
       "      <td>0.976393</td>\n",
       "      <td>0.011240</td>\n",
       "      <td>0.071030</td>\n",
       "    </tr>\n",
       "    <tr>\n",
       "      <th>rw</th>\n",
       "      <td>0.074124</td>\n",
       "      <td>0.027349</td>\n",
       "      <td>0.970155</td>\n",
       "      <td>0.052102</td>\n",
       "    </tr>\n",
       "    <tr>\n",
       "      <th>U</th>\n",
       "      <td>1.289732</td>\n",
       "      <td>0.115564</td>\n",
       "      <td>0.119263</td>\n",
       "      <td>0.806846</td>\n",
       "    </tr>\n",
       "  </tbody>\n",
       "</table>\n",
       "</div>"
      ],
      "text/plain": [
       "             e      prod        rw         U\n",
       "e     1.314613  0.154236  0.070726  0.300967\n",
       "prod  0.005640  0.976393  0.011240  0.071030\n",
       "rw    0.074124  0.027349  0.970155  0.052102\n",
       "U     1.289732  0.115564  0.119263  0.806846"
      ]
     },
     "execution_count": 7,
     "metadata": {},
     "output_type": "execute_result"
    }
   ],
   "source": [
    "# 计算 GFEVD\n",
    "H=5\n",
    "gfevd = compute_gfevd(H, irf_non_orth, sigma_u, sigma_u_inv)\n",
    "\n",
    "gfevd = pd.DataFrame(gfevd[:,:], index=df.columns,\n",
    "             columns=df.columns)\n",
    "\n",
    "\n",
    "gfevd"
   ]
  },
  {
   "cell_type": "code",
   "execution_count": 8,
   "id": "499c720a-3b02-4348-8334-7df3d274a3a9",
   "metadata": {
    "tags": []
   },
   "outputs": [
    {
     "data": {
      "text/html": [
       "<div>\n",
       "<style scoped>\n",
       "    .dataframe tbody tr th:only-of-type {\n",
       "        vertical-align: middle;\n",
       "    }\n",
       "\n",
       "    .dataframe tbody tr th {\n",
       "        vertical-align: top;\n",
       "    }\n",
       "\n",
       "    .dataframe thead th {\n",
       "        text-align: right;\n",
       "    }\n",
       "</style>\n",
       "<table border=\"1\" class=\"dataframe\">\n",
       "  <thead>\n",
       "    <tr style=\"text-align: right;\">\n",
       "      <th></th>\n",
       "      <th>e</th>\n",
       "      <th>prod</th>\n",
       "      <th>rw</th>\n",
       "      <th>U</th>\n",
       "    </tr>\n",
       "  </thead>\n",
       "  <tbody>\n",
       "    <tr>\n",
       "      <th>e</th>\n",
       "      <td>1.314613</td>\n",
       "      <td>0.154236</td>\n",
       "      <td>0.070726</td>\n",
       "      <td>0.300967</td>\n",
       "    </tr>\n",
       "    <tr>\n",
       "      <th>prod</th>\n",
       "      <td>0.005640</td>\n",
       "      <td>0.976393</td>\n",
       "      <td>0.011240</td>\n",
       "      <td>0.071030</td>\n",
       "    </tr>\n",
       "    <tr>\n",
       "      <th>rw</th>\n",
       "      <td>0.074124</td>\n",
       "      <td>0.027349</td>\n",
       "      <td>0.970155</td>\n",
       "      <td>0.052102</td>\n",
       "    </tr>\n",
       "    <tr>\n",
       "      <th>U</th>\n",
       "      <td>1.289732</td>\n",
       "      <td>0.115564</td>\n",
       "      <td>0.119263</td>\n",
       "      <td>0.806846</td>\n",
       "    </tr>\n",
       "  </tbody>\n",
       "</table>\n",
       "</div>"
      ],
      "text/plain": [
       "             e      prod        rw         U\n",
       "e     1.314613  0.154236  0.070726  0.300967\n",
       "prod  0.005640  0.976393  0.011240  0.071030\n",
       "rw    0.074124  0.027349  0.970155  0.052102\n",
       "U     1.289732  0.115564  0.119263  0.806846"
      ]
     },
     "execution_count": 8,
     "metadata": {},
     "output_type": "execute_result"
    }
   ],
   "source": [
    "# 计算 GFEVD\n",
    "gfevd = compute_gfevd(H, MA_A, sigma_u, sigma_u_inv)\n",
    "\n",
    "gfevd = pd.DataFrame(gfevd[:,:], index=df.columns,\n",
    "             columns=df.columns)\n",
    "\n",
    "\n",
    "gfevd"
   ]
  },
  {
   "cell_type": "markdown",
   "id": "32a058a1-0fe3-4bd5-8eca-b6db34bda7cf",
   "metadata": {},
   "source": [
    "两者结果是一致的。"
   ]
  },
  {
   "cell_type": "markdown",
   "id": "f4d25e93-e94a-4822-8b09-a43c619bc976",
   "metadata": {},
   "source": [
    "\n",
    "## 归一化和结果展示\n",
    "归一化计算结果，确保分母为1。\n",
    "\n",
    "通过这种方式，你可以计算并查看不同变量在给定预测步数内的广义预测误差方差分解（GFEVD）结果。这种方法不仅考虑了直接的冲击影响，还考虑了残差协方差矩阵的逆，从而提供了更全面的分析。"
   ]
  },
  {
   "cell_type": "code",
   "execution_count": 13,
   "id": "64ad3494-ff2d-479e-b6ea-8a114b851f61",
   "metadata": {
    "tags": []
   },
   "outputs": [],
   "source": [
    "def scale_one(df):\n",
    "    # j 归一化\n",
    "    s1 = df.values\n",
    "    s2 = df.values.sum(axis=1)\n",
    "    s3 = (s1.T/s2).T\n",
    "    return pd.DataFrame(s3, index=df.index, columns=df.index)"
   ]
  },
  {
   "cell_type": "code",
   "execution_count": 14,
   "id": "d2ef9920-2daf-41d4-b507-3d813b9fc959",
   "metadata": {
    "tags": []
   },
   "outputs": [
    {
     "data": {
      "text/html": [
       "<div>\n",
       "<style scoped>\n",
       "    .dataframe tbody tr th:only-of-type {\n",
       "        vertical-align: middle;\n",
       "    }\n",
       "\n",
       "    .dataframe tbody tr th {\n",
       "        vertical-align: top;\n",
       "    }\n",
       "\n",
       "    .dataframe thead th {\n",
       "        text-align: right;\n",
       "    }\n",
       "</style>\n",
       "<table border=\"1\" class=\"dataframe\">\n",
       "  <thead>\n",
       "    <tr style=\"text-align: right;\">\n",
       "      <th></th>\n",
       "      <th>e</th>\n",
       "      <th>prod</th>\n",
       "      <th>rw</th>\n",
       "      <th>U</th>\n",
       "    </tr>\n",
       "  </thead>\n",
       "  <tbody>\n",
       "    <tr>\n",
       "      <th>e</th>\n",
       "      <td>0.714253</td>\n",
       "      <td>0.083799</td>\n",
       "      <td>0.038427</td>\n",
       "      <td>0.163521</td>\n",
       "    </tr>\n",
       "    <tr>\n",
       "      <th>prod</th>\n",
       "      <td>0.005299</td>\n",
       "      <td>0.917401</td>\n",
       "      <td>0.010561</td>\n",
       "      <td>0.066738</td>\n",
       "    </tr>\n",
       "    <tr>\n",
       "      <th>rw</th>\n",
       "      <td>0.065963</td>\n",
       "      <td>0.024338</td>\n",
       "      <td>0.863334</td>\n",
       "      <td>0.046365</td>\n",
       "    </tr>\n",
       "    <tr>\n",
       "      <th>U</th>\n",
       "      <td>0.553199</td>\n",
       "      <td>0.049569</td>\n",
       "      <td>0.051155</td>\n",
       "      <td>0.346077</td>\n",
       "    </tr>\n",
       "  </tbody>\n",
       "</table>\n",
       "</div>"
      ],
      "text/plain": [
       "             e      prod        rw         U\n",
       "e     0.714253  0.083799  0.038427  0.163521\n",
       "prod  0.005299  0.917401  0.010561  0.066738\n",
       "rw    0.065963  0.024338  0.863334  0.046365\n",
       "U     0.553199  0.049569  0.051155  0.346077"
      ]
     },
     "execution_count": 14,
     "metadata": {},
     "output_type": "execute_result"
    }
   ],
   "source": [
    "scale_one(gfevd)"
   ]
  },
  {
   "cell_type": "code",
   "execution_count": 15,
   "id": "f8c333be-f189-4f38-832c-716f05cea3b6",
   "metadata": {
    "tags": []
   },
   "outputs": [
    {
     "data": {
      "text/plain": [
       "e       1.0\n",
       "prod    1.0\n",
       "rw      1.0\n",
       "U       1.0\n",
       "dtype: float64"
      ]
     },
     "execution_count": 15,
     "metadata": {},
     "output_type": "execute_result"
    }
   ],
   "source": [
    "scale_one(gfevd).sum(axis=1)"
   ]
  },
  {
   "cell_type": "markdown",
   "id": "9b3f8aeb-7352-494d-a1be-17e4b3c091bb",
   "metadata": {},
   "source": []
  }
 ],
 "metadata": {
  "kernelspec": {
   "display_name": "Python 3 (ipykernel)",
   "language": "python",
   "name": "python3"
  },
  "language_info": {
   "codemirror_mode": {
    "name": "ipython",
    "version": 3
   },
   "file_extension": ".py",
   "mimetype": "text/x-python",
   "name": "python",
   "nbconvert_exporter": "python",
   "pygments_lexer": "ipython3",
   "version": "3.9.17"
  }
 },
 "nbformat": 4,
 "nbformat_minor": 5
}
