{
 "cells": [
  {
   "cell_type": "markdown",
   "id": "1984588a-e29b-4a53-9149-e2dd70f1987f",
   "metadata": {},
   "source": [
    "# TVP-VAR model"
   ]
  },
  {
   "cell_type": "markdown",
   "id": "af7d6205-bff7-4fce-a858-0d5e2d3d1662",
   "metadata": {},
   "source": [
    "First: 2024.01.01 Updated:2024.12.27 Version: 0.2 "
   ]
  },
  {
   "cell_type": "markdown",
   "id": "40fecdef-11c3-4d83-9865-7899c2d1f5aa",
   "metadata": {},
   "source": [
    "```{contents}\n",
    "```"
   ]
  },
  {
   "cell_type": "markdown",
   "id": "e5bd9d62-18e1-4c00-b57e-db640e75fceb",
   "metadata": {},
   "source": [
    "\n",
    "The Time-Varying Parameter Vector Autoregressive (TVP-VAR) model is an extension of the traditional Vector Autoregressive (VAR) model that allows for the parameters of the system to change over time. This flexibility makes it particularly useful for capturing structural changes in economic relationships and dynamic interactions among variables over time, which are often seen in financial and macroeconomic data."
   ]
  },
  {
   "cell_type": "markdown",
   "id": "d34ed9ed-e910-4490-a298-7a22e34fed20",
   "metadata": {},
   "source": [
    "TVP-VAR models are particularly useful in modeling economic and financial systems where relationships between variables may change over time due to structural shifts, regime changes, or evolving market conditions. The flexibility of time-varying parameters makes TVP-VAR a powerful tool for understanding dynamic relationships in systems with non-stationary or changing dynamics."
   ]
  },
  {
   "cell_type": "markdown",
   "id": "7b0c37ed-c993-48be-b8d0-988736cc22cb",
   "metadata": {},
   "source": [
    "## Theory"
   ]
  },
  {
   "cell_type": "markdown",
   "id": "b5ee3bca-45e3-4daa-b34d-60c0ea6fcf98",
   "metadata": {},
   "source": [
    "## **Key Features of TVP-VAR**\n",
    "\n",
    "1. **Time-Varying Parameters**:\n",
    "   - The main feature of TVP-VAR is that the coefficients of the VAR model are allowed to change over time. This enables the model to capture structural breaks or shifts in relationships that are common in economic and financial data.\n",
    "\n",
    "2. **Dynamic Nature**:\n",
    "   - Unlike a static VAR model, which assumes constant relationships between the variables, TVP-VAR adapts to new information, allowing for the estimation of relationships that evolve over time.\n",
    "\n",
    "3. **State-Space Representation**:\n",
    "   - TVP-VAR is often estimated using a **state-space model** framework, where the time-varying parameters are treated as unobserved variables, and the model’s evolution is governed by dynamic equations. This framework allows the model to account for time-dependent changes in the parameters.\n",
    "\n",
    "4. **Forecasting and Impulse Response**:\n",
    "   - TVP-VAR models can be used for dynamic forecasting and impulse response analysis, providing time-varying predictions and responses to shocks over different periods.\n"
   ]
  },
  {
   "cell_type": "markdown",
   "id": "1774c14f-b0d4-4f71-99ce-bb95ae7ca618",
   "metadata": {},
   "source": [
    "\n",
    "## Mathematical Representation\n",
    "For a system with $ k $ variables and lag length $ p $, the TVP-VAR model can be written as:\n",
    "\n",
    "$$\n",
    "\\mathbf{y}_t = \\mathbf{A}_{1,t} \\mathbf{y}_{t-1} + \\mathbf{A}_{2,t} \\mathbf{y}_{t-2} + \\cdots + \\mathbf{A}_{p,t} \\mathbf{y}_{t-p} + \\mathbf{c}_t + \\boldsymbol{\\epsilon}_t\n",
    "$$\n",
    "\n",
    "where:\n",
    "- $ \\mathbf{y}_t $ is a $ k \\times 1 $ vector of time series variables at time $ t $.\n",
    "- $ \\mathbf{A}_{j,t} $ (for $ j = 1, 2, \\ldots, p $) are $ k \\times k $ matrices of time-varying coefficients.\n",
    "- $ \\mathbf{c}_t $ is a $ k \\times 1 $ vector of time-varying intercepts.\n",
    "- $ \\boldsymbol{\\epsilon}_t \\sim \\mathcal{N}(0, \\boldsymbol{\\Sigma}_t) $ is the error term, where $ \\boldsymbol{\\Sigma}_t $ represents a time-varying covariance matrix, often with stochastic volatility.\n"
   ]
  },
  {
   "cell_type": "markdown",
   "id": "c36a0288-cc6d-449b-a51a-19c73087ec63",
   "metadata": {},
   "source": [
    "## **Model Estimation**\n",
    "\n",
    "The estimation of TVP-VAR models generally involves the following steps:\n",
    "\n",
    "1. **State-Space Representation**:\n",
    "   - TVP-VAR is often expressed in **state-space form**, where the time-varying parameters are treated as unobserved states. The model is then estimated using methods such as the **Kalman filter** or **Markov Chain Monte Carlo (MCMC)** simulations.\n",
    "\n",
    "2. **Kalman Filter**:\n",
    "   - The Kalman filter is widely used to estimate the unobserved time-varying parameters by updating the parameter estimates recursively based on observed data.\n",
    "\n",
    "3. **Bayesian Estimation**:\n",
    "   - Bayesian methods are commonly used to estimate the TVP-VAR model, where prior distributions are specified for the parameters, and posterior distributions are obtained using methods like MCMC.\n",
    "\n",
    "4. **Model Diagnostics**:\n",
    "   - The model's goodness-of-fit and forecasting performance are often assessed using out-of-sample validation and comparing the model’s fit to the data over time.\n"
   ]
  },
  {
   "cell_type": "markdown",
   "id": "d5ace7ba-f029-4cd6-9805-4c20615c50bd",
   "metadata": {},
   "source": [
    "## **Advantages of TVP-VAR**\n",
    "1. **Flexibility**:\n",
    "   - The ability to model time-varying parameters allows the TVP-VAR model to capture structural changes and evolving relationships in the data.\n",
    "\n",
    "2. **Dynamic Analysis**:\n",
    "   - TVP-VAR provides more accurate dynamic analysis compared to standard VAR models by adapting to changes over time.\n",
    "\n",
    "3. **Improved Forecasting**:\n",
    "   - The model can deliver better forecasts, especially in systems with non-stationary or changing dynamics.\n",
    "\n",
    "4. **Captures Non-Stationarity**:\n",
    "   - TVP-VAR models can capture non-stationary behavior in the data, unlike static VAR models that assume constant relationships.\n",
    "\n",
    "---\n",
    "\n",
    "## **Limitations of TVP-VAR**\n",
    "\n",
    "1. **Model Complexity**:\n",
    "   - TVP-VAR models are more complex than standard VAR models, and their estimation can be computationally intensive, especially for large datasets.\n",
    "\n",
    "2. **Data Requirements**:\n",
    "   - TVP-VAR models require large datasets to effectively estimate the time-varying parameters, as the model needs enough data to capture the changes over time.\n",
    "\n",
    "3. **Overfitting**:\n",
    "   - There is a risk of overfitting the model if too many time-varying parameters are included, leading to poor out-of-sample performance.\n",
    "\n",
    "---\n",
    "\n",
    "## **Conclusion**\n",
    "\n",
    "The **TVP-VAR** model is a powerful extension of the VAR model that allows for time-varying relationships between variables. It is widely used in economic and financial analysis, where relationships between variables are not constant over time. The flexibility of TVP-VAR models enables better modeling of dynamic systems and improved forecasting performance, especially in the presence of structural changes. However, their complexity and computational intensity may be a challenge in practice.\n"
   ]
  }
 ],
 "metadata": {
  "kernelspec": {
   "display_name": "Python 3 (ipykernel)",
   "language": "python",
   "name": "python3"
  },
  "language_info": {
   "codemirror_mode": {
    "name": "ipython",
    "version": 3
   },
   "file_extension": ".py",
   "mimetype": "text/x-python",
   "name": "python",
   "nbconvert_exporter": "python",
   "pygments_lexer": "ipython3",
   "version": "3.11.7"
  }
 },
 "nbformat": 4,
 "nbformat_minor": 5
}
