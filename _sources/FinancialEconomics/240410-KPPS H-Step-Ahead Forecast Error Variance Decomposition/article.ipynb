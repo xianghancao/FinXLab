{
 "cells": [
  {
   "cell_type": "markdown",
   "id": "fd4db690-d434-4bf1-be56-988d1df3f814",
   "metadata": {
    "tags": []
   },
   "source": [
    "# KPPS H-Step-Ahead Forecast Error Variance Decomposition(FEVD)"
   ]
  },
  {
   "cell_type": "markdown",
   "id": "632ba211-8a20-4ac0-ad0c-15c21eed5675",
   "metadata": {},
   "source": [
    "First: 2024.4.10 Updated:2024.4.21 Version: 0.0.2 "
   ]
  },
  {
   "cell_type": "markdown",
   "id": "ed045eff-82ea-439b-94a6-ab401b2bdc8f",
   "metadata": {},
   "source": [
    "```{contents}\n",
    ":local:\n",
    "```"
   ]
  },
  {
   "cell_type": "markdown",
   "id": "acc6fd9c-7811-4639-868d-c916dab212d7",
   "metadata": {},
   "source": [
    "The **KPPS H-step-ahead forecast error variance decomposition** (often referred to as the **FEVD**) is a method for understanding the contribution of each variable to the forecast error of another variable over different time horizons."
   ]
  },
  {
   "cell_type": "markdown",
   "id": "fa663100-9eb0-4981-a7a9-1a6796bb5527",
   "metadata": {},
   "source": [
    "## **Key Features of KPPS FEVD:**\n",
    "\n",
    "- **Forecast Horizon**: The method looks at **forecasting errors** over a defined time horizon (H steps ahead). It decomposes the **variance of forecast errors** for each variable into the contributions from all other variables in the system.\n",
    "  \n",
    "- **Purpose**: The main purpose of the KPPS FEVD is to quantify the **dynamic interrelationships** between variables over time, helping to understand which variables are influencing the forecast errors of others. It can be particularly useful in **time-varying systems** where relationships change over different forecasting horizons.\n",
    "  \n",
    "- **Methodology**:\n",
    "  - Typically applied to **Vector Autoregressive (VAR)** models.\n",
    "  - The forecast error variance decomposition breaks down the variance of forecast errors into portions attributable to each variable.\n",
    "  - The results can be viewed as the **proportion** of the variance of a variable’s forecast error that can be attributed to shocks to other variables in the system.\n",
    "  \n",
    "- **Time-Varying**: The H-step-ahead FEVD can be computed for different steps ahead (e.g., 1-step ahead, 5-steps ahead, 10-steps ahead) to analyze how the contribution of different variables evolves over time.\n",
    "\n",
    "## **Applications**\n",
    "- Studying **forecast accuracy** and understanding the **predictive power** of each variable in a system.\n",
    "- Examining **impulse responses** and **spillovers** over multiple time horizons.\n"
   ]
  },
  {
   "cell_type": "markdown",
   "id": "705691e7-ff73-48a0-ac47-00fac3e86fcf",
   "metadata": {},
   "source": [
    "## 向量自回归过程（VAR）"
   ]
  },
  {
   "cell_type": "markdown",
   "id": "1bbf3803-8029-4999-9d78-2d2f6246937b",
   "metadata": {},
   "source": [
    "我们感兴趣建模一个 $T\\times K$ 多元时间序列$Y$，其中 $T$ 表示观测样本数量，$K$ 表示变量数量。估计时间序列及其滞后值之间关系的一种方法是向量自回归过程："
   ]
  },
  {
   "cell_type": "markdown",
   "id": "11cd62e7-b75d-4565-ade6-79c5290ba032",
   "metadata": {},
   "source": [
    "$$\n",
    "Y_t=\\nu+A_1Y_{t-1}+\\ldots+A_pY_{t-p}+u_t\\\\u_t\\sim\\mathsf{Normal}(0,\\Sigma_u)\n",
    "$$"
   ]
  },
  {
   "cell_type": "markdown",
   "id": "5589dc2c-44a8-4b24-bc8a-69a023c40362",
   "metadata": {},
   "source": [
    "其中 $A_i$ 是一个系数矩阵"
   ]
  },
  {
   "cell_type": "markdown",
   "id": "e5fc064b-66fb-4815-93ed-ddd2d6b3e14a",
   "metadata": {},
   "source": [
    "VAR类假设传入的时间序列是平稳的。非平稳或趋势性数据通常可以通过首次差分或其他方法转换为平稳的。对于非平稳时间序列的直接分析，标准的稳定VAR(p)模型并不适用。"
   ]
  },
  {
   "cell_type": "markdown",
   "id": "d09a9c10-a523-4786-bc7b-556c3367176c",
   "metadata": {},
   "source": [
    "### 滞后阶数的选择"
   ]
  },
  {
   "cell_type": "markdown",
   "id": "050af390-8e52-42a8-8e30-171368c7cd5c",
   "metadata": {},
   "source": [
    "应用VAR模型，选择合适的滞后阶数（Lag order）p， 这里我们假设已经通过某种信息准则（如AIC）选择了最佳的滞后阶数"
   ]
  },
  {
   "cell_type": "markdown",
   "id": "457388a6-e557-4015-b922-b81fd4ff6348",
   "metadata": {},
   "source": [
    "滞后阶数的选择可能是一个困难的问题。标准分析采用似然比检验或基于信息准则的阶数选择。"
   ]
  },
  {
   "cell_type": "markdown",
   "id": "2ffcebe1-46b3-4acc-b2bc-e62c551e5f83",
   "metadata": {},
   "source": [
    "### 脉冲响应分析（IRA）\n",
    "脉冲响应（Impulse Response）是对其中一个变量的单位脉冲的估计响应。在实践中，它们是使用$VAR(p)$过程的 $MA(\\infty)$表示来计算的：\n",
    "\n",
    "$$Y_t=\\mu+\\sum_{i=0}^\\infty\\Phi_iu_{t-i}$$"
   ]
  },
  {
   "cell_type": "markdown",
   "id": "2ec350ce-bf82-4631-9143-d615be6b449c",
   "metadata": {},
   "source": [
    "### 预测误差方法分解（FEVD）"
   ]
  },
  {
   "cell_type": "markdown",
   "id": "c8e45059-79a3-4b60-95d6-b80902860431",
   "metadata": {},
   "source": [
    "使用正交化响应脉冲（Orthogonalized Impulse Response）${\\Theta_i}$ 进行预测误差方法分解(Forecast Error Variance Decomposition, FEVD)"
   ]
  },
  {
   "cell_type": "markdown",
   "id": "f9a99456-1c2d-433a-bc3c-823460e0dddc",
   "metadata": {},
   "source": [
    "$$\n",
    "\\omega_{jk,i}=\\sum_{i=0}^{h-1}(e_j^{\\prime}\\Theta_ie_k)^2/\\mathrm{MSE}_j(h)\n",
    "$$"
   ]
  },
  {
   "cell_type": "markdown",
   "id": "8fffd324-27bc-4258-b4f9-4690730d028a",
   "metadata": {},
   "source": [
    "$$\\mathrm{MSE}_j(h)=\\sum_{i=0}^{h-1}e_j^{\\prime}\\Phi_i\\Sigma_u\\Phi_i^{\\prime}e_j$$"
   ]
  },
  {
   "cell_type": "markdown",
   "id": "68a35910-5093-4f85-8577-54af95163f93",
   "metadata": {},
   "source": [
    "## 基于方差分解的波动率溢出度量"
   ]
  },
  {
   "cell_type": "markdown",
   "id": "9145bd90-c4e4-488f-9756-1a1b78bc3180",
   "metadata": {},
   "source": [
    "KPPS H-step-ahead forecast error variance decompositions:\n",
    "\n",
    "$$\\theta_{ij}^g(H)=\\frac{\\sigma_{jj}^{-1}\\sum_{h=0}^{H-1}(e_i^{\\prime}A_h\\Sigma e_j)^2}{\\sum_{h=0}^{H-1}(e_i^{\\prime}A_h\\Sigma A_h^{\\prime}e_i)}$$"
   ]
  },
  {
   "cell_type": "markdown",
   "id": "79a6f0f3-c144-48d2-8908-e99dd6bb014b",
   "metadata": {},
   "source": [
    "为了实现这个FEVD公式，我们需要先理解每个符号的含义和计算步骤：\n",
    "\n",
    "- $ \\theta_{ij}^g(H) $ 是广义预测误差方差分解（GFEVD）。\n",
    "- $ \\sigma_{jj}^{-1} $ 是残差协方差矩阵 $\\Sigma$ 的逆矩阵中的对角元素。\n",
    "- $ A_h $ 是VAR模型的冲击响应矩阵（Impulse Response Matrix）在第 $ h $ 步。\n",
    "- $ e_i $ 和 $ e_j $ 是单位向量，用于选择对应的变量。\n",
    "\n",
    "计算步骤：\n",
    "\n",
    "1. 拟合VAR模型，得到模型参数。\n",
    "2. 计算冲击响应矩阵 $ A_h $。\n",
    "3. 根据公式计算每个变量的GFEVD。\n",
    "\n"
   ]
  },
  {
   "cell_type": "markdown",
   "id": "63201ec1-a8b4-4f5a-a2d8-99840dbdb4fd",
   "metadata": {},
   "source": [
    "## FEVD vs. Diebold-Yilmaz (DY) Method\n",
    "\n",
    "Both the **KPPS H-step-ahead forecast error variance decomposition** and the **Diebold-Yilmaz (DY) method** are techniques used to analyze the **interdependencies** or **spillover effects** between variables in multivariate time series models, but they have different objectives, methodologies, and applications. Below is a comparison of the two:\n",
    "\n",
    "\n",
    "The **Diebold-Yilmaz (DY) method** is a more **generalized measure of spillovers** in multivariate time series, specifically designed to quantify **financial and economic spillover effects** across multiple markets or assets. It calculates the **direction and magnitude of spillovers** between variables based on their **variance decompositions**.\n",
    "\n",
    "The DY method typically uses a **generalized version of the forecast error variance decomposition** that does not require orthogonalization assumptions (e.g., Cholesky decomposition). This allows for more flexible and robust estimates of spillovers, especially when shocks are correlated. The method generates a **spillover index** that quantifies the **total** spillover from one variable to others, as well as the **directional spillovers** (e.g., how much Variable A affects Variable B, and vice versa). DY can also be applied over different **time horizons** (e.g., short-term vs long-term spillovers), and it allows for **dynamic spillover measures** that change over time.\n",
    "\n",
    "\n",
    "### **Key Differences**\n",
    "\n",
    "| Feature                          | **KPPS H-step-ahead FEVD**                            | **Diebold-Yilmaz (DY) Method**                       |\n",
    "|----------------------------------|------------------------------------------------------|-----------------------------------------------------|\n",
    "| **Focus**                        | Decomposes forecast error variance over a horizon (H-step ahead). | Quantifies directional spillovers and inter-market linkages. |\n",
    "| **Methodology**                  | Variance decomposition of forecast errors.           | Generalized variance decomposition and spillover index. |\n",
    "| **Type of Analysis**             | Focus on **forecast accuracy** and contributions to forecast errors. | Focus on **spillovers and risk transmission** across markets. |\n",
    "| **Time-Varying**                 | Can be used for different forecast horizons (e.g., short-term, long-term). | Can provide **dynamic spillover** measures over time. |\n",
    "| **Application Domain**           | Economic forecasting and **impulse response analysis**. | Financial markets, **inter-market contagion**, risk management. |\n",
    "| **Orthogonalization**            | Usually requires orthogonalization (e.g., Cholesky). | Does not require strict orthogonalization, uses generalized method. |\n",
    "| **Output**                       | Variance decomposition of forecast error for each variable. | Spillover index and directional spillover contributions. |\n",
    "\n",
    "---\n",
    "\n",
    "## **Conclusion**\n",
    "\n",
    "- **KPPS H-step-ahead FEVD** is useful for analyzing **forecast error variance contributions** over a specified forecast horizon, helping to understand how variables influence each other’s forecast accuracy at different time horizons.\n",
    "  \n",
    "- **Diebold-Yilmaz (DY) Method** is specifically designed for quantifying **spillovers** between markets or assets, providing a more direct measure of **interdependencies and risk transmission**. It’s particularly suited for applications involving **financial contagion** or understanding how markets influence each other.\n",
    "\n",
    "Both methods are complementary and can be used together for a comprehensive understanding of dynamic relationships between variables."
   ]
  },
  {
   "cell_type": "code",
   "execution_count": null,
   "id": "cfe5300a-978a-4f95-9882-75cd22d74b3c",
   "metadata": {},
   "outputs": [],
   "source": []
  }
 ],
 "metadata": {
  "kernelspec": {
   "display_name": "Python 3 (ipykernel)",
   "language": "python",
   "name": "python3"
  },
  "language_info": {
   "codemirror_mode": {
    "name": "ipython",
    "version": 3
   },
   "file_extension": ".py",
   "mimetype": "text/x-python",
   "name": "python",
   "nbconvert_exporter": "python",
   "pygments_lexer": "ipython3",
   "version": "3.11.7"
  }
 },
 "nbformat": 4,
 "nbformat_minor": 5
}
