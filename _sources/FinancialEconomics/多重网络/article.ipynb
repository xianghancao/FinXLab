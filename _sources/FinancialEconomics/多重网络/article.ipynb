{
 "cells": [
  {
   "cell_type": "code",
   "execution_count": null,
   "id": "5177b94e-a385-4ae3-955e-14f81f11e71a",
   "metadata": {},
   "outputs": [],
   "source": []
  },
  {
   "cell_type": "markdown",
   "id": "1d8cdb42-88d0-4282-b72f-7f52438b2cc5",
   "metadata": {},
   "source": [
    "- Gong et al.(2023) 研究涵盖了18个全球金融市场的实现波动率（RV）、隐含波动率（IV）和方差风险溢价（VRP）。文章使用了基于向量自回归（VAR）模型的方差分解框架中的溢出指数方法来计算不同金融市场之间的波动性溢出强度，并构建了多重网络模型来分析这些市场之间的连接性。研究发现，信息传输机制在RV、IV和VRP三个层面上存在差异。长期来看，IV层的溢出效应最强；短期来看，VRP层的溢出冲击最明显。在市场层面，欧洲和美国市场是主要的溢出发射者，而亚洲市场主要是溢出接收者。"
   ]
  }
 ],
 "metadata": {
  "kernelspec": {
   "display_name": "Python 3 (ipykernel)",
   "language": "python",
   "name": "python3"
  },
  "language_info": {
   "codemirror_mode": {
    "name": "ipython",
    "version": 3
   },
   "file_extension": ".py",
   "mimetype": "text/x-python",
   "name": "python",
   "nbconvert_exporter": "python",
   "pygments_lexer": "ipython3",
   "version": "3.11.7"
  }
 },
 "nbformat": 4,
 "nbformat_minor": 5
}
