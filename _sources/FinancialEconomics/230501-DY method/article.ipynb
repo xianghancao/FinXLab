{
 "cells": [
  {
   "cell_type": "markdown",
   "id": "99eb1f94-987f-44fb-9537-20542f647417",
   "metadata": {},
   "source": [
    "\n",
    "# Diebold&Yilmaz method\n"
   ]
  },
  {
   "cell_type": "markdown",
   "id": "ef492f91-7c75-4020-a896-584e26658fd8",
   "metadata": {},
   "source": [
    "First: 2023.05.01 Updated:2024.12.27 Version: 0.2 "
   ]
  },
  {
   "cell_type": "markdown",
   "id": "c4b4b735-7376-4b9f-8004-217cbdfe2c22",
   "metadata": {},
   "source": [
    "```{contents}\n",
    ":local:\n",
    "```"
   ]
  },
  {
   "cell_type": "markdown",
   "id": "eb29cc53-31e5-4dd6-8460-108283ead3d3",
   "metadata": {},
   "source": [
    "The **Diebold and Yilmaz (2009)** method is a widely used approach for measuring **spillover effects** between financial markets or economic variables. This method calculates the extent to which shocks to one variable in a multivariate system affect other variables. It is particularly valuable in the analysis of **financial contagion** and **market interdependence**, helping to assess how changes in one market (e.g., stock returns) spill over to others (e.g., bond yields, commodity prices).\n",
    "\n",
    "The Diebold-Yilmaz (DY) method focuses on **forecast error variance decompositions** from a **Vector Autoregressive (VAR)** model to quantify the contribution of each variable's innovations to the forecast error of other variables in the system."
   ]
  },
  {
   "cell_type": "markdown",
   "id": "0c036a38-eef0-4b14-8ebb-3444ae4f3ac4",
   "metadata": {},
   "source": [
    "\n",
    "## 1. Key Concepts\n",
    "\n",
    "1. **Variance Decomposition**:\n",
    "   - The main idea is to decompose the forecast error variance of each variable into components that show how much of the variance is explained by the shocks (innovations) to each of the other variables.\n",
    "   - This gives a measure of the **interconnectedness** or **spillover** among the variables.\n",
    "\n",
    "2. **Variance Decomposition Matrix**:\n",
    "   - From a VAR model, the **forecast error variance decomposition matrix** is constructed, where each element represents how much of the variance in one variable is due to shocks from other variables.\n",
    "\n",
    "3. **Spillover Index**:\n",
    "   - The DY method uses the **total spillover index** to summarize the overall interconnectedness in the system. It also decomposes spillovers into **total outgoing spillovers** (how much each variable \"sends out\" shocks) and **total incoming spillovers** (how much each variable \"receives\" shocks).\n",
    "\n",
    "---\n",
    "\n",
    "### 1.1 Methodology\n",
    "\n",
    "1. **Estimate a VAR Model**:\n",
    "   - The first step is to estimate a **Vector Autoregression (VAR)** model using the time series data. This model captures the dynamic relationship between the variables.\n",
    "\n",
    "2. **Variance Decomposition**:\n",
    "   - Compute the forecast error variance decomposition to see how much of the variance in each variable is explained by its own shocks and by shocks to the other variables.\n",
    "\n",
    "3. **Compute Spillover Indices**:\n",
    "   - Calculate the **spillover index** and **directional spillovers** (i.e., how much a shock from one variable affects others). This can be broken down into:\n",
    "     - **Total Spillovers**: Measure of overall interconnectedness.\n",
    "     - **Outgoing Spillovers**: Measure of how much a variable sends out shocks to others.\n",
    "     - **Incoming Spillovers**: Measure of how much a variable is affected by shocks from others."
   ]
  },
  {
   "cell_type": "markdown",
   "id": "7effe6e8-7571-49ce-ad9c-afe230d7eaa7",
   "metadata": {},
   "source": [
    "\n",
    "\n",
    "## 2. Connectedness\n",
    "\n",
    "连通性（Connectedness）是现代风险度量和管理的中心概念。以往的基于相关性的度量方法虽然广泛使用，但是它只测量成对的关联，并且很大程度上与线性、高斯方法联系在一起。Equi-correlation（Engle&Kelly,2012）有效的集中在平均的成对相关性（average pairwise correlation）。CoVaR方法（Adrian&Brunnermeier，2011）、MES方法（Acharya，2010；Acharya，2012）超越以往的成对关联性，跟踪单个企业和整个市场之间的关联。\n",
    "\n",
    "\n",
    "$d^H_{ij}$ 表示 $ij$-th $H$-step variance decomposition component;\n",
    "\n",
    "![Connectedness Table Schematic](images/Connectedness.png)\n"
   ]
  },
  {
   "cell_type": "markdown",
   "id": "d2bc53c4-6df2-4fc9-89f2-afe6ca0685a5",
   "metadata": {},
   "source": [
    "\n",
    "## 3. connectedness measures\n",
    "\n",
    "$C^H_{i\\leftarrow j}$：成对有向连通性(pairwise directional connectedness)\n",
    "\n",
    "$$\n",
    "C^H_{i\\leftarrow j}=d^H_{ij}\n",
    "$$\n",
    "\n",
    "$C^H_{i\\leftarrow \\bullet}$：到$i$的总有向连通性\n",
    "\n",
    "$$\n",
    "C^H_{i\\leftarrow \\bullet}=\\sum^{N}_{j\\neq i}d^H_{ij}\n",
    "$$\n",
    "\n",
    "H-step 方差分解矩阵$D^{gH}=[d_{ij}^{gH}]$包含元素$d^{gH}_{ij}$:\n",
    "\n",
    "$$\n",
    "d^{gH}_{ij}=\\frac{\\sigma^{-1}_{jj}\\sum_{h=0}^{H-1}(e'\\Theta_h\\sum{e_j})^2}{\\sum_{h=0}^{H-1}(e'\\Theta_h\\sum\\Theta'_h{e_j})}\n",
    "$$\n"
   ]
  },
  {
   "cell_type": "markdown",
   "id": "c860687a-b684-4a9a-8c81-6432ac9be286",
   "metadata": {},
   "source": [
    "## 4. Diebold & Yilmaz Spillover Index\n",
    "\n",
    "The **spillover index** is calculated as follows:\n",
    "\n",
    "1. **Total Spillover Index**:\n",
    "   $$\n",
    "   \\text{Total Spillover Index} = \\frac{\\sum_{i \\neq j} \\text{Variance Decomposition (i → j)}}{\\sum_{i} \\text{Variance Decomposition (i → i)}}\n",
    "   $$\n",
    "\n",
    "2. **Directional Spillovers**:\n",
    "   - **Outgoing Spillover** from variable $i$ to $j$: The proportion of variance in $j$'s forecast error that is explained by $i$'s shock.\n",
    "   - **Incoming Spillover**: The proportion of variance in $i$'s forecast error explained by shocks from $j$.\n",
    "\n",
    "### 4.1 Advantages of Diebold & Yilmaz Method\n",
    "\n",
    "1. **Quantifies Interconnectedness**: Provides a clear measure of how much each variable influences others.\n",
    "2. **Identifies Spillovers**: Helps to quantify financial contagion, which is useful in risk management and policy making.\n",
    "3. **Useful in Crisis Periods**: Effectively captures market contagion during times of economic instability.\n",
    "\n",
    "\n",
    "\n",
    "### 4.2 Limitations\n",
    "\n",
    "1. **Model Assumptions**: The method assumes that the VAR model is correctly specified and that all relationships are linear.\n",
    "2. **Sensitivity to Lag Length**: The results can be sensitive to the number of lags chosen for the VAR model.\n",
    "3. **Stationarity**: The variables should be stationary; otherwise, pre-processing like differencing is required.\n"
   ]
  },
  {
   "cell_type": "markdown",
   "id": "e3d70682-3f7b-4c8f-8da7-499755207318",
   "metadata": {},
   "source": [
    "## Reference\n",
    "1. Diebold&Yilmaz, on the network Topology of Variance Decompostions, 2012\n",
    "2. Engle, R.F. and B.T. Kelly (2012), “Dynamic Equicorrelation,” Journal of Business and Economic Statistics, 30, 212–228.\n",
    "2. Adrian, T. and M. Brunnermeier (2011), “CoVaR,” NBER Working Paper No. 17454.\n",
    "3. Acharya, V., L. Pedersen, T. Philippe, and M. Richardson (2010), “Measuring Systemic Risk,” Manuscript, Stern School, New York University.\n",
    "4. Acharya, V.V., R. Engle, and M. Richardson (2012), “Capital Shortfall: A New Approach to Ranking and Regulating Systemic Risks,” American Economic Review Papers and Pro- ceedings, in press.\n",
    "\n",
    "\n",
    "\n"
   ]
  }
 ],
 "metadata": {
  "kernelspec": {
   "display_name": "Python 3 (ipykernel)",
   "language": "python",
   "name": "python3"
  },
  "language_info": {
   "codemirror_mode": {
    "name": "ipython",
    "version": 3
   },
   "file_extension": ".py",
   "mimetype": "text/x-python",
   "name": "python",
   "nbconvert_exporter": "python",
   "pygments_lexer": "ipython3",
   "version": "3.11.7"
  }
 },
 "nbformat": 4,
 "nbformat_minor": 5
}
