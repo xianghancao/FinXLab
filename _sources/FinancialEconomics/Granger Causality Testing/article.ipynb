{
 "cells": [
  {
   "cell_type": "markdown",
   "id": "7b8aed16-ee0b-4227-88a2-678e1b995f3f",
   "metadata": {},
   "source": [
    "# Granger Causality Testing"
   ]
  },
  {
   "cell_type": "markdown",
   "id": "5e1032ac-a7cb-4817-8a16-8522830a180b",
   "metadata": {},
   "source": [
    "First: 2024.12.27 Updated:2024.12.27 Version: 0.1 "
   ]
  },
  {
   "cell_type": "markdown",
   "id": "44472848-8370-4941-a09d-2a510fe8ff0b",
   "metadata": {},
   "source": [
    "\n",
    "Granger causality is a statistical hypothesis test used to determine whether one time series can predict another. It evaluates whether past values of one variable (the **cause**) contain information that helps improve the prediction of another variable (the **effect**), beyond what is already captured by the past values of the effect variable itself.\n",
    "\n",
    "**Important Note:** Granger causality does not imply true causation in the philosophical or scientific sense—it only identifies predictive relationships.\n",
    "\n",
    "---\n",
    "\n",
    "### **Key Concept**\n",
    "\n",
    "For a time series $X_t$ to \"Granger-cause\" another time series $Y_t$:\n",
    "1. Past values of $X_t$ should help predict $Y_t$, after accounting for past values of $Y_t$.\n",
    "2. Adding lagged values of $X_t$ to the model of $Y_t$ should significantly improve the model's fit.\n",
    "\n",
    "---\n",
    "\n",
    "### **Mathematical Formulation**\n",
    "\n",
    "#### **1. Unrestricted Model (With $X_t$)**\n",
    "$$\n",
    "Y_t = \\alpha + \\sum_{i=1}^p \\beta_i Y_{t-i} + \\sum_{j=1}^q \\gamma_j X_{t-j} + \\epsilon_t\n",
    "$$\n",
    "\n",
    "#### **2. Restricted Model (Without $X_t$)**\n",
    "$$\n",
    "Y_t = \\alpha + \\sum_{i=1}^p \\beta_i Y_{t-i} + \\eta_t\n",
    "$$\n",
    "\n",
    "#### **Hypotheses:**\n",
    "- **Null Hypothesis ($H_0$)**: $ \\gamma_1 = \\gamma_2 = \\ldots = \\gamma_q = 0 $  \n",
    "  ($X_t$ does not Granger-cause $Y_t$).\n",
    "- **Alternative Hypothesis ($H_1$)**: At least one $ \\gamma_j \\neq 0 $.\n",
    "\n",
    "A test statistic (e.g., $F$-statistic) is computed to compare the two models. If the null hypothesis is rejected, $X_t$ is said to Granger-cause $Y_t$.\n",
    "\n",
    "---\n",
    "\n",
    "### **Assumptions**\n",
    "\n",
    "1. **Stationarity**:  \n",
    "   - The time series must be stationary, or transformations like differencing should be applied.\n",
    "2. **Lag Selection**:  \n",
    "   - The appropriate number of lags ($p, q$) should be determined using criteria such as Akaike Information Criterion (AIC) or Bayesian Information Criterion (BIC).\n",
    "3. **No Autocorrelation in Residuals**:  \n",
    "   - Ensure that model residuals are white noise for reliable results.\n",
    "\n",
    "---\n",
    "\n",
    "### **Applications**\n",
    "\n",
    "1. **Economics and Finance**:\n",
    "   - Examining whether changes in one market (e.g., exchange rates) predict changes in another (e.g., stock prices).\n",
    "   - Evaluating the relationship between monetary policy and inflation.\n",
    "\n",
    "2. **Social Sciences**:\n",
    "   - Determining if media coverage influences public opinion or vice versa.\n",
    "\n",
    "3. **Natural Sciences**:\n",
    "   - Analyzing relationships in climate variables (e.g., temperature and precipitation).\n",
    "\n",
    "### **Limitations**\n",
    "\n",
    "1. **Correlation vs. Causation**:\n",
    "   - Granger causality detects predictive relationships, not true causation.\n",
    "\n",
    "2. **Stationarity Requirement**:\n",
    "   - Non-stationary time series can produce spurious results unless properly transformed.\n",
    "\n",
    "3. **Lag Specification Sensitivity**:\n",
    "   - Results can depend on the chosen lag length.\n",
    "\n",
    "4. **Omitted Variables**:\n",
    "   - If important variables are excluded, the test results may be misleading.\n",
    "\n",
    "---\n",
    "\n",
    "### **Enhanced Techniques**\n",
    "\n",
    "1. **Vector Autoregression (VAR):**\n",
    "   - Extends Granger causality testing to multivariate systems.\n",
    "2. **Nonlinear Granger Causality:**\n",
    "   - Captures nonlinear predictive relationships.\n",
    "3. **Directed Acyclic Graphs (DAGs):**\n",
    "   - Provides causal structures rather than predictive relationships.\n",
    "\n",
    "---\n",
    "\n",
    "Would you like to see an example involving real-world financial data or expand into more advanced methods like nonlinear Granger causality?"
   ]
  },
  {
   "cell_type": "markdown",
   "id": "7a0067e8-f897-43a0-885e-14aff29678ea",
   "metadata": {},
   "source": [
    "### **Example: Granger Causality in R**"
   ]
  },
  {
   "cell_type": "markdown",
   "id": "f3a4e93c-ac91-4eb0-80f1-d48879896d63",
   "metadata": {},
   "source": [
    "Data Preparation"
   ]
  },
  {
   "cell_type": "code",
   "execution_count": 1,
   "id": "3693ca87-2a4e-479a-8540-474e6da46a0d",
   "metadata": {},
   "outputs": [],
   "source": [
    "# Simulate two time series\n",
    "set.seed(123)\n",
    "x <- arima.sim(list(order = c(1, 0, 0), ar = 0.5), n = 100)\n",
    "y <- arima.sim(list(order = c(1, 0, 0), ar = 0.3), n = 100) + 0.4 * lag(x, -1)\n",
    "\n",
    "data <- cbind(x, y)"
   ]
  },
  {
   "cell_type": "markdown",
   "id": "c9c9f3e9-7bfe-439d-ad65-601a3a044869",
   "metadata": {},
   "source": [
    "Granger Causality Test"
   ]
  },
  {
   "cell_type": "code",
   "execution_count": 2,
   "id": "1eaf4aa5-2c39-405e-ab52-0b1ea491f5bc",
   "metadata": {},
   "outputs": [
    {
     "name": "stderr",
     "output_type": "stream",
     "text": [
      "Loading required package: zoo\n",
      "\n",
      "\n",
      "Attaching package: ‘zoo’\n",
      "\n",
      "\n",
      "The following objects are masked from ‘package:base’:\n",
      "\n",
      "    as.Date, as.Date.numeric\n",
      "\n",
      "\n"
     ]
    },
    {
     "name": "stdout",
     "output_type": "stream",
     "text": [
      "Granger causality test\n",
      "\n",
      "Model 1: y ~ Lags(y, 1:2) + Lags(x, 1:2)\n",
      "Model 2: y ~ Lags(y, 1:2)\n",
      "  Res.Df Df      F Pr(>F)\n",
      "1     92                 \n",
      "2     94 -2 2.2875 0.1073\n"
     ]
    }
   ],
   "source": [
    "library(lmtest)\n",
    "\n",
    "# Granger causality test\n",
    "granger_test <- grangertest(y ~ x, order = 2, data = data)\n",
    "print(granger_test)"
   ]
  },
  {
   "cell_type": "markdown",
   "id": "f5897889-31bc-49f1-98d8-afb2a8fe08ca",
   "metadata": {},
   "source": [
    "- **p-value**: If $ p < 0.05 $, reject the null hypothesis ($X_t$ Granger-causes $Y_t$).\n"
   ]
  }
 ],
 "metadata": {
  "kernelspec": {
   "display_name": "R",
   "language": "R",
   "name": "ir"
  },
  "language_info": {
   "codemirror_mode": "r",
   "file_extension": ".r",
   "mimetype": "text/x-r-source",
   "name": "R",
   "pygments_lexer": "r",
   "version": "4.4.0"
  }
 },
 "nbformat": 4,
 "nbformat_minor": 5
}
