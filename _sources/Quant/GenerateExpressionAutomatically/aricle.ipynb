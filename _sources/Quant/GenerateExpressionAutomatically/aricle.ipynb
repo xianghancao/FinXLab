{
 "cells": [
  {
   "cell_type": "markdown",
   "id": "bd2630d4-e31f-486a-8259-312552624f84",
   "metadata": {},
   "source": []
  },
  {
   "cell_type": "markdown",
   "id": "5fb8e72b-39bf-4059-94d9-4ef68abbbc12",
   "metadata": {},
   "source": [
    "![Screen Shot 2020-10-21 at 11.52.17 AM](logo.png)\n",
    "\n",
    "\n",
    "AutoMarketFeature(AMF)  aims to speedily generate a portfolio of characteristics based on price and volume in the market.\n",
    "\n",
    "Its features include:\n",
    "\n",
    "- Generate features by batch combinations\n",
    "- Specifically select elements\n",
    "- Control the probability of the occurrence of each element\n",
    "- Connect with DataBase\n",
    "\n",
    "## Conceptions:\n",
    "\n",
    "elements: price and volume, e.g. close, open, low, high, volume e.g.\n",
    "\n",
    "operators: math operators, e.g. add(), std();\n",
    "\n",
    "expression: short for 'expr' means 'var(close, 10)'\n",
    "\n",
    "layer: nesting levels, e.g. layer of 'var(close, 10)' is 1; layer of 'delay(var(clpse, 10), 1)' is 2;\n",
    "\n",
    "## Files:\n",
    "\n",
    "operators_blacklist.yaml: block the occurrence of specific elements;\n",
    "\n",
    "prob_control.yaml: the probability the occurrence of each element;\n",
    "\n",
    "## Examples:\n",
    "```python\n",
    "import os\n",
    "os.path.join('/your_path/')\n",
    "from lib import expr_generator\n",
    "eg = expr_generator.ExprGenerator()\n",
    "eg.get_one_expr(layer_num=1)\n",
    "```\n",
    "```python\n",
    "[ExprGenerator] layer:1 expr:ts_min(Volume,60)\n",
    "{'expr': 'ts_min(Volume,60)',\n",
    " 'layer': 1,\n",
    "  'create_date': '2020-10-22 14:38:49'}\n",
    "```\n",
    "\n",
    "```python\n",
    "eg.get_one_expr(layer_num=2)\n",
    "```\n",
    "\n",
    "```python\n",
    "[ExprGenerator] layer:2 expr:stddev(delta2(VolChg,60,100),200)\n",
    "{'expr': 'stddev(delta2(VolChg,60,100),200)',\n",
    " 'layer': 2,\n",
    " 'create_date': '2020-10-22 14:45:37'}\n",
    "```\n",
    "\n",
    "generate more:\n",
    "![image_01](image_01.png)"
   ]
  },
  {
   "cell_type": "code",
   "execution_count": null,
   "id": "9241d7fb-d15a-415d-a0db-0791fdbc27a9",
   "metadata": {},
   "outputs": [],
   "source": []
  }
 ],
 "metadata": {
  "kernelspec": {
   "display_name": "Python 3 (ipykernel)",
   "language": "python",
   "name": "python3"
  },
  "language_info": {
   "codemirror_mode": {
    "name": "ipython",
    "version": 3
   },
   "file_extension": ".py",
   "mimetype": "text/x-python",
   "name": "python",
   "nbconvert_exporter": "python",
   "pygments_lexer": "ipython3",
   "version": "3.11.7"
  }
 },
 "nbformat": 4,
 "nbformat_minor": 5
}
