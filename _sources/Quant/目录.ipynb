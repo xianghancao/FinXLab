{
 "cells": [
  {
   "cell_type": "markdown",
   "id": "0bd51b94-f061-466c-a3df-0f62eaca6d20",
   "metadata": {},
   "source": [
    "# Quant"
   ]
  },
  {
   "cell_type": "markdown",
   "id": "15d35ddb-0869-443c-a5e5-8d9aef1ab35d",
   "metadata": {},
   "source": [
    "## Contents\n",
    "\n",
    "```{tableofcontents}\n",
    "```"
   ]
  }
 ],
 "metadata": {
  "kernelspec": {
   "display_name": "Python 3 (ipykernel)",
   "language": "python",
   "name": "python3"
  },
  "language_info": {
   "codemirror_mode": {
    "name": "ipython",
    "version": 3
   },
   "file_extension": ".py",
   "mimetype": "text/x-python",
   "name": "python",
   "nbconvert_exporter": "python",
   "pygments_lexer": "ipython3",
   "version": "3.11.7"
  }
 },
 "nbformat": 4,
 "nbformat_minor": 5
}
