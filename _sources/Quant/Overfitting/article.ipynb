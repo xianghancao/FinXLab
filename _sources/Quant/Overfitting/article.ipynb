{
 "cells": [
  {
   "cell_type": "markdown",
   "id": "b9495463-e222-4633-a459-1a8c77d7e0f5",
   "metadata": {},
   "source": [
    "# Overfitting"
   ]
  },
  {
   "cell_type": "markdown",
   "id": "d37111e3-f48c-461e-be94-f95f515d69ce",
   "metadata": {},
   "source": [
    "\n",
    "\n",
    "Overfitting is optimization performed incorrectly. The overfitting of a trading strategy is the identification of parameters that produce good trading performance on in-sample price history but produce poor trading performance on out-of-sample price history.\n",
    "\n",
    "It is helpful to understand that overfitting in the field of statistics means to fit a statistical model with too many parameters. The statistician continued to add variable after variable to his model to produce a closer and closer fit to past data with no effort to validate its robustness.\n",
    "\n",
    "There are also degress of overfitting. A mildly overfit trading strategy may still produce real-time profit. But a massively overfit trading strategy is unlikely to do so.\n",
    "\n",
    "Overfitting occurs when the fine line between proper and improper optimization is crossed. This line is easy to miss, and that is why it is essential to rigorously follow correct testing and optimization procedures.\n",
    "\n",
    "The closeness of fitting and accuracy of prediction are attributed to two important factors: the complexity of modeling process and the degree of non-random movement of data[1]. Predictive models can only make valid predictions in the presence of nonrandom (predictable) behavior in the data. Models that operate within their capabilities are appropriate for the part of the model that is not subject to random price changes. When the model overadapts to the random part of the price change, the model will be inappropriate or overfitting.\n",
    "\n",
    "The causes of overfitting\n",
    "\n",
    "1. Insufficient degress of freedom\n",
    "2. Inadequate data and trade sample\n",
    "3. Incorrect optimization methods\n",
    "4. Big win in a small trade sample\n",
    "\n",
    "## Degrees of Freedom\n",
    "\n",
    "[The evaluation and optimization of trading strategies] Each data point in the sample represents \"one degree of freedom\". A degree of freedom then is said to be consumed or used by each trading rule and by every data point necessary to calculate indicators.\n",
    "\n",
    "## Reference\n",
    "\n",
    "Robert Pardo, Optimization, *The Evaluation and Optimization of Trading Strategies*"
   ]
  },
  {
   "cell_type": "code",
   "execution_count": null,
   "id": "05c893df-beb6-4c75-823c-afe3946f400b",
   "metadata": {},
   "outputs": [],
   "source": []
  }
 ],
 "metadata": {
  "kernelspec": {
   "display_name": "Python 3 (ipykernel)",
   "language": "python",
   "name": "python3"
  },
  "language_info": {
   "codemirror_mode": {
    "name": "ipython",
    "version": 3
   },
   "file_extension": ".py",
   "mimetype": "text/x-python",
   "name": "python",
   "nbconvert_exporter": "python",
   "pygments_lexer": "ipython3",
   "version": "3.11.7"
  }
 },
 "nbformat": 4,
 "nbformat_minor": 5
}
