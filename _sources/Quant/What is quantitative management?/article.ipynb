{
 "cells": [
  {
   "cell_type": "markdown",
   "id": "a0b1d2e4-d183-4162-8ad3-c9780f31bb4e",
   "metadata": {},
   "source": [
    "# Active quantitative management "
   ]
  },
  {
   "cell_type": "markdown",
   "id": "8402a12b-f855-49d9-b9e7-73091e3b4ede",
   "metadata": {},
   "source": [
    "xianghancao, 20191117"
   ]
  },
  {
   "cell_type": "markdown",
   "id": "e7fac749-8f1a-4e73-9454-ee00e4d07912",
   "metadata": {},
   "source": [
    "## What is quantitative management?\n",
    "\n",
    "Quantitative management: quantitative management mainly studies the change rule of factor return rate from the perspective of statistics, and manages factor exposure from the perspective of combination in order to surpass the benchmark. Qualitative management mainly studies the residual rate of return of a single stock, that is, the excess rate of return that cannot be explained from the perspective of factors.\n",
    "\n",
    "定量管理: 定量管理主要从统计的角度研究因子收益率的变化规律，并从组合的角度对因子暴露进行管理以求超越基准;定性管理主要研究个股的残差收益率，即从因子角度无法解释的超额收益率。\n",
    "\n",
    "## What is Passive management?\n",
    "\n",
    "Passive management: also known as indexation management, the goal is to track a stock index or other benchmark as much as possible, so that the performance of the portfolio and performance benchmark deviation is minimal. The passive portfolio manager positions the portfolio according to the composition and weight of the benchmark index, reinvests dividend income, adjusts the portfolio position according to the established proportion according to the subscription and redemption, and makes necessary adjustments according to the component stocks and weight changes of the index company to ensure the close tracking of the index. The main reason for the growth of passive management in domestic and international markets is that many actively managed fund managers do not beat the benchmark index, and the implicit assumption of adopting a passive management strategy is that portfolio managers cannot beat the market. \n",
    "\n",
    "被动管理：又称指数化管理，目标是尽可能的跟踪某个股票指数或者其他基准，使得投资组合的绩效与业绩基准偏离最小。被动投资组合经理根据基准指数的成分及权重对组合进行置，再投资分红收入，根据申购赎回按照既定比例进行组合头寸调整，并根据指数公司的成份股调整及权重变化进行必要的调整以保证紧密跟踪指数。被动管理在国内外市场发展壮大的主要原因在于许多主动管理的基金经理并没有战胜基准指数，采用被动管理策略隐含的假设是投资组合经理不可能战胜市场。\n",
    "\n",
    "## What is Active management?\n",
    "\n",
    "Active management: the belief that a portfolio can beat a stock index or other benchmark by properly selecting stocks. Other benchmarks may have nothing to do with the stock market, but some absolute level of return. Active management the sole goal of an investment manager is to find stocks that have the potential to beat the benchmark and make active allocations, whether using fundamental or technical analysis or both.\n",
    "\n",
    "主动管理：相信通过合理的选择股票，投资组合的收益可以战胜某个股票指数或者其他基准。其他基准有可能跟股票市场无关，而是某个绝对的收益率水平。主动管理投资经理的唯一目标就是寻找有潜力战胜基准的股票并进行积极的配置，无论是采用基本面分析方法还是技术分析方法，或者兼而有之。"
   ]
  },
  {
   "cell_type": "code",
   "execution_count": null,
   "id": "6b30ba99-d89c-405e-b5e1-81b1eaa90b66",
   "metadata": {},
   "outputs": [],
   "source": []
  }
 ],
 "metadata": {
  "kernelspec": {
   "display_name": "Python 3 (ipykernel)",
   "language": "python",
   "name": "python3"
  },
  "language_info": {
   "codemirror_mode": {
    "name": "ipython",
    "version": 3
   },
   "file_extension": ".py",
   "mimetype": "text/x-python",
   "name": "python",
   "nbconvert_exporter": "python",
   "pygments_lexer": "ipython3",
   "version": "3.11.7"
  }
 },
 "nbformat": 4,
 "nbformat_minor": 5
}
