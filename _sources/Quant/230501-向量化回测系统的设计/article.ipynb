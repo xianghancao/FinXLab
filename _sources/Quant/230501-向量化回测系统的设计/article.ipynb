{
 "cells": [
  {
   "cell_type": "markdown",
   "id": "caa43050-8e9b-4bca-8c94-5e3cf39ce8db",
   "metadata": {},
   "source": [
    "# 向量化回测系统的设计"
   ]
  },
  {
   "cell_type": "markdown",
   "id": "7f3a879f-6e3c-4a1d-8f80-e36a264297f9",
   "metadata": {},
   "source": [
    "<div class=\"alert alert-block alert-success\">\n",
    "Keywords:  Quantitative Investment; Vector Backtesting Framework\n",
    "    \n",
    "Draft: 2023.5.1 Updated:2024.7.25 Version: 0.0.3\n",
    "</div>\n"
   ]
  },
  {
   "cell_type": "markdown",
   "id": "2c2ecfae-042c-4b66-b52d-bfd246ae25bd",
   "metadata": {},
   "source": [
    "```{contents}\n",
    "```"
   ]
  },
  {
   "cell_type": "markdown",
   "id": "337e9fbd-4470-44a2-b490-5717d334fd96",
   "metadata": {},
   "source": [
    "本节提供了一个实用的向量化回测(Vectorised Backtester)框架，它提供了回测的基本思路，该框架被业界已被普遍证明是有效和可实施的。\n",
    "\n",
    "![backtester.png](images/backtester.png)\n",
    "\n",
    "回测系统的应该包含两个主要部分：\n",
    "1. 要交易的市场和标的物，回测的时间范围，交易频率，交易成本，交易方法，以及对于策略的评估等等。\n",
    "2. 策略，即策略师关于如何交易的代码。\n",
    "\n",
    "当具体得设计一个回测系统时，可以分成以下几个部分。"
   ]
  },
  {
   "cell_type": "markdown",
   "id": "fd7b6619-dac2-4ac3-a70a-b299ab96114e",
   "metadata": {},
   "source": [
    "## 1. 资产池"
   ]
  },
  {
   "cell_type": "markdown",
   "id": "4e10fb09-6a33-4dbb-9551-5d69bf2da94a",
   "metadata": {},
   "source": [
    "投资股票池为可以投资的标的证券范围，即我们准备使用哪些股票来进行投资。例如，A50指数作为国内我们在[上交所网站](http://www.sse.com.cn/home/index.shtml)上，检索A50指数成分股。\n",
    "> 上海证券市场规模大、流动性好的最具代表性的50只股票组成样本股，以便综合反映上海证券市场最具市场影响力的一批龙头企业的整体状况。上证50指数自2004年1月2日起正式发布。其目标是建立一个成交活跃、规模较大、主要作为衍生金融工具基础的投资指数。——上交所"
   ]
  },
  {
   "cell_type": "code",
   "execution_count": 1,
   "id": "3120ae45-32fb-4e16-83d0-e09129efa534",
   "metadata": {},
   "outputs": [],
   "source": [
    "ticker = {'浦发银行':'600000', '上海机场':'600009', '民生银行':'600016',\n",
    "            '中国石化':'600028', '中信证券':'600030', '三一重工':'600031',\n",
    "            '招商银行':'600036', '保利地产':'600048', '中国联通':'600050',\n",
    "            '上汽集团':'600104', '复星医药':'600196', '恒瑞医药':'600276',\n",
    "            '万华化学':'600309', '通威股份':'600438', '贵州茅台':'600519',\n",
    "            '山东黄金':'600547', '恒生电子':'600570', '海螺水泥':'600585',\n",
    "            '用友网络':'600588', '海尔智家':'600690', '三安光电':'600703',\n",
    "            '闻泰科技':'600745', '山西汾酒':'600809', '海通证券':'600837',\n",
    "            '伊利股份':'600887', '航发动力':'600893', '中泰证券':'600918',\n",
    "            '隆基股份':'601012', '中信建投':'601066', '中国神华':'601088',\n",
    "            '工业富联':'601138', '兴业银行':'601166', '国泰君安':'601211',\n",
    "            '农业银行':'601288', '中国平安':'601318', '新华保险':'601336',\n",
    "            '工商银行':'601398', '中国太保':'601601', '中国人寿':'601628',\n",
    "            '中国建筑':'601668', '华泰证券':'601688', '光大银行':'601818',\n",
    "            '中国石油':'601857', '中国中免':'601888', '紫金矿业':'601899',\n",
    "            '中金公司':'601995', '药明康德':'603259', '海天味业':'603288',\n",
    "            '韦尔股份':'603501', '兆易创新':'603986'}"
   ]
  },
  {
   "cell_type": "markdown",
   "id": "5df3e8c2-08c5-4103-ac6a-e6a717c3c07d",
   "metadata": {},
   "source": [
    "定义完股票池后，我们可以开始收集、整理和截取数据："
   ]
  },
  {
   "cell_type": "code",
   "execution_count": null,
   "id": "468c04c2-c797-4919-be8c-6014933a01a7",
   "metadata": {},
   "outputs": [],
   "source": [
    "import tushare\n",
    "import warnings\n",
    "warnings.filterwarnings('ignore')\n",
    "for i in ticker:\n",
    "    df = tushare.get_k_data(ticker[i], start='2000-01-01', end='2020-02-01')  #获取某个时间段内的深圳指数\n",
    "    df.to_csv('datasets/A50/%s.csv' %i)"
   ]
  },
  {
   "cell_type": "markdown",
   "id": "360d8829-b066-46a7-9e3c-52801d20dede",
   "metadata": {},
   "source": [
    "从tushare API读取的同时，我们将数据存储在'datasets/A50/'路径下。"
   ]
  },
  {
   "cell_type": "markdown",
   "id": "7599de41-24b1-4282-8fb4-def693c2687d",
   "metadata": {},
   "source": [
    "原始的股票数据是按照每个股票，这里我们称其为tickers，来单独存放的。为了进行向量式计算，我们将其重新组合成\"OpenPrice\", \"HighestPrice\", \"LowestPrice\", \"ClosePrice\", \"Volume\"这5个2维向量。\n",
    "\n",
    "![data_process](images/data_process.png)"
   ]
  },
  {
   "cell_type": "code",
   "execution_count": 4,
   "id": "1a5e4ff4-bbfc-45d4-bcba-491c29d95839",
   "metadata": {},
   "outputs": [],
   "source": [
    "import pandas as pd\n",
    "ClosePrice = pd.DataFrame()\n",
    "OpenPrice = pd.DataFrame()\n",
    "HighestPrice = pd.DataFrame()\n",
    "LowestPrice = pd.DataFrame()\n",
    "Volume = pd.DataFrame()\n",
    "\n",
    "for i in ticker:\n",
    "    df = pd.read_csv('datasets/A50/%s.csv' %i, index_col=0)\n",
    "    df.index = df['date']\n",
    "    ClosePrice[i] = df['close']\n",
    "    OpenPrice[i] = df['open']\n",
    "    HighestPrice[i] = df['high']\n",
    "    LowestPrice[i] = df['low']\n",
    "    Volume[i] = df['volume']\n",
    "dates = ClosePrice.index.values"
   ]
  },
  {
   "cell_type": "code",
   "execution_count": 5,
   "id": "e52d30b6-08f6-4bc1-9c58-c7e1cb8d2e2d",
   "metadata": {},
   "outputs": [
    {
     "data": {
      "text/html": [
       "<div>\n",
       "<style scoped>\n",
       "    .dataframe tbody tr th:only-of-type {\n",
       "        vertical-align: middle;\n",
       "    }\n",
       "\n",
       "    .dataframe tbody tr th {\n",
       "        vertical-align: top;\n",
       "    }\n",
       "\n",
       "    .dataframe thead th {\n",
       "        text-align: right;\n",
       "    }\n",
       "</style>\n",
       "<table border=\"1\" class=\"dataframe\">\n",
       "  <thead>\n",
       "    <tr style=\"text-align: right;\">\n",
       "      <th></th>\n",
       "      <th>浦发银行</th>\n",
       "      <th>上海机场</th>\n",
       "      <th>民生银行</th>\n",
       "      <th>中国石化</th>\n",
       "      <th>中信证券</th>\n",
       "      <th>三一重工</th>\n",
       "      <th>招商银行</th>\n",
       "      <th>保利地产</th>\n",
       "      <th>中国联通</th>\n",
       "      <th>上汽集团</th>\n",
       "      <th>...</th>\n",
       "      <th>华泰证券</th>\n",
       "      <th>光大银行</th>\n",
       "      <th>中国石油</th>\n",
       "      <th>中国中免</th>\n",
       "      <th>紫金矿业</th>\n",
       "      <th>中金公司</th>\n",
       "      <th>药明康德</th>\n",
       "      <th>海天味业</th>\n",
       "      <th>韦尔股份</th>\n",
       "      <th>兆易创新</th>\n",
       "    </tr>\n",
       "    <tr>\n",
       "      <th>date</th>\n",
       "      <th></th>\n",
       "      <th></th>\n",
       "      <th></th>\n",
       "      <th></th>\n",
       "      <th></th>\n",
       "      <th></th>\n",
       "      <th></th>\n",
       "      <th></th>\n",
       "      <th></th>\n",
       "      <th></th>\n",
       "      <th></th>\n",
       "      <th></th>\n",
       "      <th></th>\n",
       "      <th></th>\n",
       "      <th></th>\n",
       "      <th></th>\n",
       "      <th></th>\n",
       "      <th></th>\n",
       "      <th></th>\n",
       "      <th></th>\n",
       "      <th></th>\n",
       "    </tr>\n",
       "  </thead>\n",
       "  <tbody>\n",
       "    <tr>\n",
       "      <th>2020-01-17</th>\n",
       "      <td>10.42</td>\n",
       "      <td>72.47</td>\n",
       "      <td>5.28</td>\n",
       "      <td>3.855</td>\n",
       "      <td>22.644</td>\n",
       "      <td>15.261</td>\n",
       "      <td>32.217</td>\n",
       "      <td>13.54</td>\n",
       "      <td>5.65</td>\n",
       "      <td>22.247</td>\n",
       "      <td>...</td>\n",
       "      <td>18.692</td>\n",
       "      <td>3.555</td>\n",
       "      <td>5.17</td>\n",
       "      <td>86.63</td>\n",
       "      <td>4.20</td>\n",
       "      <td>NaN</td>\n",
       "      <td>56.676</td>\n",
       "      <td>51.067</td>\n",
       "      <td>129.330</td>\n",
       "      <td>127.433</td>\n",
       "    </tr>\n",
       "    <tr>\n",
       "      <th>2020-01-20</th>\n",
       "      <td>10.44</td>\n",
       "      <td>71.16</td>\n",
       "      <td>5.31</td>\n",
       "      <td>3.835</td>\n",
       "      <td>22.993</td>\n",
       "      <td>15.631</td>\n",
       "      <td>32.597</td>\n",
       "      <td>13.40</td>\n",
       "      <td>5.74</td>\n",
       "      <td>21.657</td>\n",
       "      <td>...</td>\n",
       "      <td>18.882</td>\n",
       "      <td>3.575</td>\n",
       "      <td>5.18</td>\n",
       "      <td>83.68</td>\n",
       "      <td>4.12</td>\n",
       "      <td>NaN</td>\n",
       "      <td>57.319</td>\n",
       "      <td>52.131</td>\n",
       "      <td>138.959</td>\n",
       "      <td>139.162</td>\n",
       "    </tr>\n",
       "    <tr>\n",
       "      <th>2020-01-21</th>\n",
       "      <td>10.27</td>\n",
       "      <td>69.61</td>\n",
       "      <td>5.24</td>\n",
       "      <td>3.795</td>\n",
       "      <td>22.478</td>\n",
       "      <td>14.901</td>\n",
       "      <td>32.077</td>\n",
       "      <td>12.87</td>\n",
       "      <td>5.60</td>\n",
       "      <td>20.607</td>\n",
       "      <td>...</td>\n",
       "      <td>18.322</td>\n",
       "      <td>3.505</td>\n",
       "      <td>5.12</td>\n",
       "      <td>80.53</td>\n",
       "      <td>3.94</td>\n",
       "      <td>NaN</td>\n",
       "      <td>57.402</td>\n",
       "      <td>52.082</td>\n",
       "      <td>135.626</td>\n",
       "      <td>136.826</td>\n",
       "    </tr>\n",
       "    <tr>\n",
       "      <th>2020-01-22</th>\n",
       "      <td>9.96</td>\n",
       "      <td>70.17</td>\n",
       "      <td>5.25</td>\n",
       "      <td>3.765</td>\n",
       "      <td>22.504</td>\n",
       "      <td>15.281</td>\n",
       "      <td>32.107</td>\n",
       "      <td>13.29</td>\n",
       "      <td>5.56</td>\n",
       "      <td>20.717</td>\n",
       "      <td>...</td>\n",
       "      <td>18.412</td>\n",
       "      <td>3.545</td>\n",
       "      <td>5.07</td>\n",
       "      <td>81.36</td>\n",
       "      <td>4.01</td>\n",
       "      <td>NaN</td>\n",
       "      <td>57.759</td>\n",
       "      <td>51.009</td>\n",
       "      <td>137.085</td>\n",
       "      <td>146.101</td>\n",
       "    </tr>\n",
       "    <tr>\n",
       "      <th>2020-01-23</th>\n",
       "      <td>9.54</td>\n",
       "      <td>68.19</td>\n",
       "      <td>5.07</td>\n",
       "      <td>3.725</td>\n",
       "      <td>21.370</td>\n",
       "      <td>14.411</td>\n",
       "      <td>31.097</td>\n",
       "      <td>12.75</td>\n",
       "      <td>5.33</td>\n",
       "      <td>20.117</td>\n",
       "      <td>...</td>\n",
       "      <td>17.792</td>\n",
       "      <td>3.395</td>\n",
       "      <td>4.97</td>\n",
       "      <td>78.78</td>\n",
       "      <td>3.87</td>\n",
       "      <td>NaN</td>\n",
       "      <td>55.997</td>\n",
       "      <td>49.780</td>\n",
       "      <td>136.774</td>\n",
       "      <td>142.734</td>\n",
       "    </tr>\n",
       "  </tbody>\n",
       "</table>\n",
       "<p>5 rows × 50 columns</p>\n",
       "</div>"
      ],
      "text/plain": [
       "             浦发银行   上海机场  民生银行   中国石化    中信证券    三一重工    招商银行   保利地产  中国联通  \\\n",
       "date                                                                         \n",
       "2020-01-17  10.42  72.47  5.28  3.855  22.644  15.261  32.217  13.54  5.65   \n",
       "2020-01-20  10.44  71.16  5.31  3.835  22.993  15.631  32.597  13.40  5.74   \n",
       "2020-01-21  10.27  69.61  5.24  3.795  22.478  14.901  32.077  12.87  5.60   \n",
       "2020-01-22   9.96  70.17  5.25  3.765  22.504  15.281  32.107  13.29  5.56   \n",
       "2020-01-23   9.54  68.19  5.07  3.725  21.370  14.411  31.097  12.75  5.33   \n",
       "\n",
       "              上汽集团  ...    华泰证券   光大银行  中国石油   中国中免  紫金矿业  中金公司    药明康德  \\\n",
       "date                ...                                                   \n",
       "2020-01-17  22.247  ...  18.692  3.555  5.17  86.63  4.20   NaN  56.676   \n",
       "2020-01-20  21.657  ...  18.882  3.575  5.18  83.68  4.12   NaN  57.319   \n",
       "2020-01-21  20.607  ...  18.322  3.505  5.12  80.53  3.94   NaN  57.402   \n",
       "2020-01-22  20.717  ...  18.412  3.545  5.07  81.36  4.01   NaN  57.759   \n",
       "2020-01-23  20.117  ...  17.792  3.395  4.97  78.78  3.87   NaN  55.997   \n",
       "\n",
       "              海天味业     韦尔股份     兆易创新  \n",
       "date                                  \n",
       "2020-01-17  51.067  129.330  127.433  \n",
       "2020-01-20  52.131  138.959  139.162  \n",
       "2020-01-21  52.082  135.626  136.826  \n",
       "2020-01-22  51.009  137.085  146.101  \n",
       "2020-01-23  49.780  136.774  142.734  \n",
       "\n",
       "[5 rows x 50 columns]"
      ]
     },
     "execution_count": 5,
     "metadata": {},
     "output_type": "execute_result"
    }
   ],
   "source": [
    "ClosePrice.tail()"
   ]
  },
  {
   "cell_type": "markdown",
   "id": "6d8112ec-eac7-41cf-8065-03aa774ea5bd",
   "metadata": {},
   "source": [
    "## 2. 策略/信号"
   ]
  },
  {
   "cell_type": "markdown",
   "id": "dcd26c0f-f04e-4a6b-b237-bfe02730902b",
   "metadata": {},
   "source": [
    "我们知道在技术分析里，均线交叉策略是一类应用广泛的策略，它的策略想法如下：\n",
    "- 5日的均线称为MA_5\n",
    "- 10日的均线称为MA_10\n",
    "- MA_5上穿MA_10则买入，买入数量为上穿后的幅度\n",
    "- MA_5下穿MA_10则卖出，卖出数量为下穿后的幅度"
   ]
  },
  {
   "cell_type": "code",
   "execution_count": 6,
   "id": "df94ae7e-e48f-42db-a001-3391e8fb5ff6",
   "metadata": {},
   "outputs": [],
   "source": [
    "def ma(price, window):\n",
    "    # window 为滑动窗口，即均线计算的窗口长度\n",
    "    return price.rolling(window).mean()\n",
    "\n",
    "five_ma = ma(ClosePrice, 5)   \n",
    "ten_ma = ma(ClosePrice, 10)\n",
    "signal= (five_ma-ten_ma)/ten_ma  "
   ]
  },
  {
   "cell_type": "markdown",
   "id": "822778a0-6ca3-4600-b931-401b6e1317c2",
   "metadata": {},
   "source": [
    "## 3.交易规则"
   ]
  },
  {
   "cell_type": "markdown",
   "id": "ff4f795b-51b0-4b4e-9abd-0d4dab775766",
   "metadata": {},
   "source": [
    "在交易中，使用什么价格进行撮合交易是我们关心的问题，是开盘价、收盘价、还是别的？这里以开盘价为例："
   ]
  },
  {
   "cell_type": "markdown",
   "id": "c9eea96c-3a97-43ff-8c5b-1752bdd9c921",
   "metadata": {},
   "source": [
    "<img src=\"images/trade_rules.png\" alt=\"images/trade_rules.png\" width=\"600\">"
   ]
  },
  {
   "cell_type": "code",
   "execution_count": 7,
   "id": "3e6c5372-7aed-44a3-a953-927e77f5fd6b",
   "metadata": {},
   "outputs": [],
   "source": [
    "import numpy as np\n",
    "def deal(signal, dates, start_date, end_date, open_price, maxlookback=50):\n",
    "    \"\"\"\n",
    "                    -----------------------------------------------------------------------------\n",
    "    time                |...|      idx-1      |      idx       |      idx+1       |\n",
    "                    -----------------------------------------------------------------------------\n",
    "                        |   |                 |     dates      |                  |\n",
    "                    -----------------------------------------------------------------------------\n",
    "    signal               |...|     signal     |                |       ...        |\n",
    "                    -----------------------------------------------------------------------------\n",
    "    Openprice trade     |...|                 |   OpenPrice    |     post_open    |\n",
    "                    -----------------------------------------------------------------------------\n",
    "    \"\"\"\n",
    "    # 选择起始日期 - 终止日期\n",
    "    start_idx = np.where(dates>=start_date)[0][0]\n",
    "    end_idx = np.where(dates>end_date)[0][0]\n",
    "    idx = np.arange(start_idx+maxlookback, end_idx)\n",
    "    \n",
    "    # 重新采样dates、signal\n",
    "    resample_dates = dates[idx]\n",
    "    resample_signal = signal.iloc[idx-1,:]                                \n",
    "\n",
    "    # 对信号进行归一化，变成权重\n",
    "    scaled_resample_wgts = (resample_signal.T / (np.nansum(np.abs(resample_signal), axis=1) + 1e-20)).T\n",
    "\n",
    "    \n",
    "    # 计算交易价格和收益率\n",
    "    open_price = pd.DataFrame(open_price).fillna(method='ffill').values   \n",
    "    open_price = open_price[idx]\n",
    "    post_open = np.nan * np.zeros_like(open_price)\n",
    "    post_open[:-1] = open_price[1:]\n",
    "    resample_return = post_open/open_price - 1\n",
    "    resample_tradeprice = open_price\n",
    "    \n",
    "    return resample_return, resample_tradeprice, scaled_resample_wgts, resample_dates\n"
   ]
  },
  {
   "cell_type": "code",
   "execution_count": 8,
   "id": "f8d82413-fc6c-49d9-9007-245b6b020958",
   "metadata": {},
   "outputs": [],
   "source": [
    "resample_return, resample_tradeprice, scaled_resample_wgts, resample_dates = deal(signal,\n",
    "                                                                                 dates=dates, \n",
    "                                                                                 start_date='2010-01-01',\n",
    "                                                                                 end_date = '2020-01-01',\n",
    "                                                                                 open_price=OpenPrice,\n",
    "                                                                                 maxlookback=50)"
   ]
  },
  {
   "cell_type": "markdown",
   "id": "678aebea-b7dc-462e-9828-0a955e82c1ad",
   "metadata": {},
   "source": [
    "## 4.评估"
   ]
  },
  {
   "cell_type": "markdown",
   "id": "4d3e86fd-6781-4b72-88cc-40ef97c98fff",
   "metadata": {},
   "source": [
    "### 4.1 收益率PNL"
   ]
  },
  {
   "cell_type": "markdown",
   "id": "4d1f5bab-ebb6-42e5-822b-600b29da7444",
   "metadata": {},
   "source": [
    "计算盈亏PNL(Profit&Loss)情况："
   ]
  },
  {
   "cell_type": "code",
   "execution_count": 9,
   "id": "a2a7148a-5e18-4abf-bfbf-3340186f83a2",
   "metadata": {},
   "outputs": [],
   "source": [
    "pnl = resample_return * scaled_resample_wgts      # 盈亏=收益率 * 归一化后的信号权重   \n",
    "pnl = pnl.sum(axis=1)\n",
    "cpnl = np.cumsum(pnl)"
   ]
  },
  {
   "cell_type": "markdown",
   "id": "61c635ff-aca0-450c-b6f5-5624616b0c45",
   "metadata": {},
   "source": [
    "考虑手续费为万1时的盈亏(PNL)情况:"
   ]
  },
  {
   "cell_type": "code",
   "execution_count": 10,
   "id": "c607ff65-e1a6-42fb-a00f-3adc204adcec",
   "metadata": {},
   "outputs": [],
   "source": [
    "pre_scaled_resample_wgts = scaled_resample_wgts.shift(1)     #计算昨日权重\n",
    "chg = scaled_resample_wgts - pre_scaled_resample_wgts        #计算权重变化\n",
    "turnover = np.nansum(np.nan_to_num(np.abs(chg)), axis=1)        #换手率 = |权重变化|，nan值变为0，再求和\n",
    "avg_turnover = np.nanmean(turnover)"
   ]
  },
  {
   "cell_type": "code",
   "execution_count": 11,
   "id": "f2768227-f333-49c9-ad07-e78a5b7de2e1",
   "metadata": {},
   "outputs": [],
   "source": [
    "cost = 0.001           \n",
    "net_pnl = pnl - cost * turnover     #盈亏-手续费*换手率\n",
    "net_cpnl = np.cumsum(net_pnl)"
   ]
  },
  {
   "cell_type": "markdown",
   "id": "b8af0365-7b86-4032-869c-f93e91fb64fc",
   "metadata": {},
   "source": [
    "### 4.2 夏普比率"
   ]
  },
  {
   "cell_type": "code",
   "execution_count": 12,
   "id": "39afbab3-4980-424b-91c8-603ae2f4e6c4",
   "metadata": {},
   "outputs": [],
   "source": [
    "sharpe =  np.sqrt(252) * np.nanmean(net_pnl) / np.nanstd(net_pnl) "
   ]
  },
  {
   "cell_type": "markdown",
   "id": "bea3e4ae-b0db-41d1-8172-5389dce4a0a7",
   "metadata": {},
   "source": [
    "### 4.3 损失回撤"
   ]
  },
  {
   "cell_type": "code",
   "execution_count": 13,
   "id": "c60b28ba-9a00-41fe-915c-52fe8e2fd1d8",
   "metadata": {},
   "outputs": [],
   "source": [
    "def drawdown(cpnl):\n",
    "    _cpnl = cpnl.values * np.ones((len(cpnl), len(cpnl)))\n",
    "    _cpnl = np.tril(_cpnl)\n",
    "    max_cpnl = np.nanmax(_cpnl, axis=1)\n",
    "    return pd.Series(cpnl - max_cpnl, index=cpnl.index)\n",
    "\n",
    "\n",
    "drawdown = drawdown(cpnl)\n",
    "max_drawdown = round(np.abs(np.min(drawdown)), 4)"
   ]
  },
  {
   "cell_type": "markdown",
   "id": "7884fb58-27d5-47d3-acba-0c70847d8bff",
   "metadata": {},
   "source": [
    "### 4.4 可视化信号表现"
   ]
  },
  {
   "cell_type": "code",
   "execution_count": 19,
   "id": "950fd1b4-c37a-4e1b-8d66-b7ee9f316972",
   "metadata": {},
   "outputs": [
    {
     "data": {
      "image/png": "[encoded data removed]",
      "text/plain": [
       "<Figure size 1200x600 with 2 Axes>"
      ]
     },
     "metadata": {},
     "output_type": "display_data"
    }
   ],
   "source": [
    "import matplotlib.pyplot as plt\n",
    "figure, ax = plt.subplots(nrows=2, ncols=1, figsize=(12,6))\n",
    "\n",
    "# 绘制收益率PNL曲线\n",
    "pnl = np.zeros(len(cpnl)+1)\n",
    "pnl[1:] = cpnl\n",
    "pnl_line = ax[0].plot(pnl, color='b', linewidth=2, label='pnl')\n",
    "\n",
    "net_pnl = np.zeros(len(net_cpnl)+1)\n",
    "net_pnl[1:] = net_cpnl\n",
    "net_pnl_line = ax[0].plot(net_pnl, color='r', linewidth=2, label='net_pnl')\n",
    "\n",
    "dates = resample_dates\n",
    "step = len(dates)/20\n",
    "space = [i for i in np.arange(len(dates)) if i%step==0]\n",
    "dates_str = [i.split(' ')[0] for i in dates[space]]\n",
    "if len(np.unique(dates_str)) <= 3:\n",
    "    step = int(len(dates)/5)\n",
    "    space = [i for i in np.arange(len(dates)) if i%step==0]\n",
    "    dates_str = [i for i in dates[space]]\n",
    "\n",
    "ax[0].set_ylabel('PNL')\n",
    "ax[0].set_xticks(space, dates_str, rotation=45)\n",
    "ax[0].set_title('Signal Perfomance')\n",
    "ax[0].legend(loc=2)\n",
    "ax[0].grid()\n",
    "\n",
    "# 绘制回撤曲线\n",
    "ax[1].bar(drawdown.index, height=drawdown, color='red')\n",
    "ax[1].set_xticks(space, dates_str, rotation=45)\n",
    "ax[1].set_xlabel('Date')\n",
    "ax[1].set_ylabel('Drawdown')\n",
    "plt.show()\n"
   ]
  },
  {
   "cell_type": "code",
   "execution_count": 18,
   "id": "4867676c-0915-4a52-9cbe-6bcd82d60fd2",
   "metadata": {
    "tags": []
   },
   "outputs": [
    {
     "data": {
      "text/plain": [
       "array([ 0.        , -0.15447166, -0.11542349, ...,         nan,\n",
       "               nan,         nan])"
      ]
     },
     "execution_count": 18,
     "metadata": {},
     "output_type": "execute_result"
    }
   ],
   "source": [
    "net_pnl"
   ]
  },
  {
   "cell_type": "markdown",
   "id": "f5023ec8-b233-45f0-87a6-185100fe27b7",
   "metadata": {},
   "source": [
    "## 5. 向量式回测系统的优缺点\n",
    "\n",
    "### 优点\n",
    "\n",
    "- 快速： 向量化回测系统实现回测的速度非常快，1000多只股票和1000多个时间戳的回测可以在1秒内完成。这种高效的框架有利于策略师在短时间内开发和分析交易理念。\n",
    "\n",
    "- 矩阵计算友好： 向量化回测系统允许在策略产生和性能统计期间进行矩阵计算。相比之下，事件驱动的回测器在序列中隔离市场数据，给阵列计算带来困难。\n",
    "\n",
    "- 从信号处理角度看待策略：向量化回测系统使用框架式数据或面板式数据，帮助策略师从信号处理的角度来考虑数据。特别是，一些操作，如随着时间的推移增强或减弱信号，如果使用向量化回测系统就会变得很方便。\n",
    "\n",
    "### 缺点\n",
    "1. 当未来的数据被意外地包括在模拟中的某个点上，而该数据实际上是不可用的，那么回测系统就会被引入前瞻性偏差（Look-ahead bias）。而当策略师在代码中操作向量时，超前指数N+k，即超出当前N，将带来前瞻偏差。这导致了一些不容易察觉的问题。\n",
    "2. 订单类型问题是向量化回测器的另一个缺点。市场订单和限价订单是常见的订单类型。而向量式回测器只模拟TWAP或VWAP的交易，这些都是之前估计的交易价格。\n"
   ]
  },
  {
   "cell_type": "markdown",
   "id": "05979a6c-8767-4936-892a-2e8974814a7a",
   "metadata": {},
   "source": [
    "## 参考\n",
    "\n",
    "1. Michael L. Halls-Moore, Strategies Optimisation, *Successful Algorithm Trading* , Chapter 3\n",
    "2. 《高效的无效》Efficiently Inefficient, Lasse Heje Pedersen, 2021"
   ]
  }
 ],
 "metadata": {
  "kernelspec": {
   "display_name": "Python 3 (ipykernel)",
   "language": "python",
   "name": "python3"
  },
  "language_info": {
   "codemirror_mode": {
    "name": "ipython",
    "version": 3
   },
   "file_extension": ".py",
   "mimetype": "text/x-python",
   "name": "python",
   "nbconvert_exporter": "python",
   "pygments_lexer": "ipython3",
   "version": "3.11.7"
  }
 },
 "nbformat": 4,
 "nbformat_minor": 5
}
