{
 "cells": [
  {
   "cell_type": "markdown",
   "id": "fd4db690-d434-4bf1-be56-988d1df3f814",
   "metadata": {
    "tags": []
   },
   "source": [
    "# 基于方差分解的波动率溢出度量"
   ]
  },
  {
   "cell_type": "markdown",
   "id": "632ba211-8a20-4ac0-ad0c-15c21eed5675",
   "metadata": {},
   "source": [
    "First: 2024.4.10 Updated:2024.4.21 Version: 0.0.2 "
   ]
  },
  {
   "cell_type": "markdown",
   "id": "a146c3a4-0fa5-4bf1-9f2a-b53b0afc7f49",
   "metadata": {},
   "source": [
    "```{contents}\n",
    "```"
   ]
  },
  {
   "cell_type": "markdown",
   "id": "acc6fd9c-7811-4639-868d-c916dab212d7",
   "metadata": {},
   "source": [
    "## 介绍"
   ]
  },
  {
   "cell_type": "markdown",
   "id": "fa663100-9eb0-4981-a7a9-1a6796bb5527",
   "metadata": {},
   "source": [
    "- Sims(1980)引入了 VAR 方差分解，记录了某个变量 $i$ 的 $H$ 步前瞻预测误差方差（H-step-ahead forecast error variance ）中有多少是由另一个变量 $j$ 的创新造成的。\n",
    "- Diebold & Yilmaz（2009）根据向量自回归（VAR）的预测误差方差分解，提出了一种波动溢出衡量方法。\n",
    "- Diebold and Yilmaz (2012) 使用一个广义向量自回归框架，其中，预测误差方差分解对于变量排序是不变的，同时，提出了总体和方向波动溢出的度量。\n",
    "- Gong et al.(2023) 研究涵盖了18个全球金融市场的实现波动率（RV）、隐含波动率（IV）和方差风险溢价（VRP）。文章使用了基于向量自回归（VAR）模型的方差分解框架中的溢出指数方法来计算不同金融市场之间的波动性溢出强度，并构建了多重网络模型来分析这些市场之间的连接性。研究发现，信息传输机制在RV、IV和VRP三个层面上存在差异。长期来看，IV层的溢出效应最强；短期来看，VRP层的溢出冲击最明显。在市场层面，欧洲和美国市场是主要的溢出发射者，而亚洲市场主要是溢出接收者。"
   ]
  },
  {
   "cell_type": "markdown",
   "id": "705691e7-ff73-48a0-ac47-00fac3e86fcf",
   "metadata": {},
   "source": [
    "## 向量自回归过程（VAR）"
   ]
  },
  {
   "cell_type": "markdown",
   "id": "1bbf3803-8029-4999-9d78-2d2f6246937b",
   "metadata": {},
   "source": [
    "我们感兴趣建模一个 $T\\times K$ 多元时间序列$Y$，其中 $T$ 表示观测样本数量，$K$ 表示变量数量。估计时间序列及其滞后值之间关系的一种方法是向量自回归过程："
   ]
  },
  {
   "cell_type": "markdown",
   "id": "11cd62e7-b75d-4565-ade6-79c5290ba032",
   "metadata": {},
   "source": [
    "$$\n",
    "Y_t=\\nu+A_1Y_{t-1}+\\ldots+A_pY_{t-p}+u_t\\\\u_t\\sim\\mathsf{Normal}(0,\\Sigma_u)\n",
    "$$"
   ]
  },
  {
   "cell_type": "markdown",
   "id": "5589dc2c-44a8-4b24-bc8a-69a023c40362",
   "metadata": {},
   "source": [
    "其中 $A_i$ 是一个系数矩阵"
   ]
  },
  {
   "cell_type": "markdown",
   "id": "e5fc064b-66fb-4815-93ed-ddd2d6b3e14a",
   "metadata": {},
   "source": [
    "VAR类假设传入的时间序列是平稳的。非平稳或趋势性数据通常可以通过首次差分或其他方法转换为平稳的。对于非平稳时间序列的直接分析，标准的稳定VAR(p)模型并不适用。"
   ]
  },
  {
   "cell_type": "markdown",
   "id": "d09a9c10-a523-4786-bc7b-556c3367176c",
   "metadata": {},
   "source": [
    "### 滞后阶数的选择"
   ]
  },
  {
   "cell_type": "markdown",
   "id": "050af390-8e52-42a8-8e30-171368c7cd5c",
   "metadata": {},
   "source": [
    "应用VAR模型，选择合适的滞后阶数（Lag order）p， 这里我们假设已经通过某种信息准则（如AIC）选择了最佳的滞后阶数"
   ]
  },
  {
   "cell_type": "markdown",
   "id": "457388a6-e557-4015-b922-b81fd4ff6348",
   "metadata": {},
   "source": [
    "滞后阶数的选择可能是一个困难的问题。标准分析采用似然比检验或基于信息准则的阶数选择。"
   ]
  },
  {
   "cell_type": "markdown",
   "id": "2ffcebe1-46b3-4acc-b2bc-e62c551e5f83",
   "metadata": {},
   "source": [
    "### 脉冲响应分析（IRA）\n",
    "脉冲响应（Impulse Response）是对其中一个变量的单位脉冲的估计响应。在实践中，它们是使用$VAR(p)$过程的 $MA(\\infty)$表示来计算的：\n",
    "\n",
    "$$Y_t=\\mu+\\sum_{i=0}^\\infty\\Phi_iu_{t-i}$$"
   ]
  },
  {
   "cell_type": "markdown",
   "id": "2ec350ce-bf82-4631-9143-d615be6b449c",
   "metadata": {},
   "source": [
    "### 预测误差方法分解（FEVD）"
   ]
  },
  {
   "cell_type": "markdown",
   "id": "c8e45059-79a3-4b60-95d6-b80902860431",
   "metadata": {},
   "source": [
    "使用正交化响应脉冲（Orthogonalized Impulse Response）${\\Theta_i}$ 进行预测误差方法分解(Forecast Error Variance Decomposition, FEVD)"
   ]
  },
  {
   "cell_type": "markdown",
   "id": "f9a99456-1c2d-433a-bc3c-823460e0dddc",
   "metadata": {},
   "source": [
    "$$\n",
    "\\omega_{jk,i}=\\sum_{i=0}^{h-1}(e_j^{\\prime}\\Theta_ie_k)^2/\\mathrm{MSE}_j(h)\n",
    "$$"
   ]
  },
  {
   "cell_type": "markdown",
   "id": "8fffd324-27bc-4258-b4f9-4690730d028a",
   "metadata": {},
   "source": [
    "$$\\mathrm{MSE}_j(h)=\\sum_{i=0}^{h-1}e_j^{\\prime}\\Phi_i\\Sigma_u\\Phi_i^{\\prime}e_j$$"
   ]
  },
  {
   "cell_type": "markdown",
   "id": "68a35910-5093-4f85-8577-54af95163f93",
   "metadata": {},
   "source": [
    "## 基于方差分解的波动率溢出度量"
   ]
  },
  {
   "cell_type": "markdown",
   "id": "9145bd90-c4e4-488f-9756-1a1b78bc3180",
   "metadata": {},
   "source": [
    "KPPS H-step-ahead forecast error variance decompositions:\n",
    "\n",
    "$$\\theta_{ij}^g(H)=\\frac{\\sigma_{jj}^{-1}\\sum_{h=0}^{H-1}(e_i^{\\prime}A_h\\Sigma e_j)^2}{\\sum_{h=0}^{H-1}(e_i^{\\prime}A_h\\Sigma A_h^{\\prime}e_i)}$$"
   ]
  },
  {
   "cell_type": "markdown",
   "id": "79a6f0f3-c144-48d2-8908-e99dd6bb014b",
   "metadata": {},
   "source": [
    "为了实现这个FEVD公式，我们需要先理解每个符号的含义和计算步骤：\n",
    "\n",
    "- $ \\theta_{ij}^g(H) $ 是广义预测误差方差分解（GFEVD）。\n",
    "- $ \\sigma_{jj}^{-1} $ 是残差协方差矩阵 $\\Sigma$ 的逆矩阵中的对角元素。\n",
    "- $ A_h $ 是VAR模型的冲击响应矩阵（Impulse Response Matrix）在第 $ h $ 步。\n",
    "- $ e_i $ 和 $ e_j $ 是单位向量，用于选择对应的变量。\n",
    "\n",
    "计算步骤：\n",
    "\n",
    "1. 拟合VAR模型，得到模型参数。\n",
    "2. 计算冲击响应矩阵 $ A_h $。\n",
    "3. 根据公式计算每个变量的GFEVD。\n",
    "\n"
   ]
  },
  {
   "cell_type": "markdown",
   "id": "63201ec1-a8b4-4f5a-a2d8-99840dbdb4fd",
   "metadata": {},
   "source": []
  }
 ],
 "metadata": {
  "kernelspec": {
   "display_name": "Python 3 (ipykernel)",
   "language": "python",
   "name": "python3"
  },
  "language_info": {
   "codemirror_mode": {
    "name": "ipython",
    "version": 3
   },
   "file_extension": ".py",
   "mimetype": "text/x-python",
   "name": "python",
   "nbconvert_exporter": "python",
   "pygments_lexer": "ipython3",
   "version": "3.9.17"
  }
 },
 "nbformat": 4,
 "nbformat_minor": 5
}
