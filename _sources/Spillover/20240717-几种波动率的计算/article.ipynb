{
 "cells": [
  {
   "cell_type": "markdown",
   "id": "69dca827-cd82-4726-891c-b0a9a993354b",
   "metadata": {},
   "source": [
    "# 几种波动率的计算"
   ]
  },
  {
   "cell_type": "markdown",
   "id": "54d1819d-8dbe-42c8-81e7-074a1c18837c",
   "metadata": {},
   "source": [
    "July 17, 2024"
   ]
  },
  {
   "cell_type": "markdown",
   "id": "1d78489c-fefc-407c-af53-4d982f64e656",
   "metadata": {},
   "source": [
    "```{contents}\n",
    "```"
   ]
  },
  {
   "cell_type": "markdown",
   "id": "e7a00d73-1043-489e-998f-e3ecf18f2e25",
   "metadata": {},
   "source": [
    "## 1. 历史波动率"
   ]
  },
  {
   "cell_type": "markdown",
   "id": "b2ca13e2-aadc-4efb-9dd5-62cbb5e15a22",
   "metadata": {},
   "source": [
    "### 1.1 基于收盘价的波动率计算"
   ]
  },
  {
   "cell_type": "markdown",
   "id": "f5911f69-582d-423d-a260-5302db40bad3",
   "metadata": {},
   "source": [
    "历史波动率是基于过去价格数据计算得出的波动率。它反映了资产在过去一定时期内的价格变动幅度。通常通过计算资产价格的标准差来估计历史波动率。"
   ]
  },
  {
   "cell_type": "markdown",
   "id": "f470f072-7287-420e-b096-2747ab9b2aa5",
   "metadata": {},
   "source": [
    "- **计算方法**：使用过去价格的对数收益率计算标准差。\n",
    "- **公式**：\n",
    "\n",
    "  $$\n",
    "  \\sigma_{hist}^2 = \\frac{1}{N-1} \\sum_{i=1}^{N} (r_i - \\bar{r})^2\n",
    "  $$\n",
    "  \n",
    "    其中 $ r_i $ 是第 $ i $ 个收益率，$ \\bar{r} $ 是收益率的平均值，$ N $ 是样本数量。\n",
    "    \n",
    "    \n",
    "\n",
    "- 年化波动率的计算公式为：\n",
    "\n",
    "  $$\n",
    "  \\sigma_{\\text{annual}} = \\sigma_{\\text{daily}} \\times \\sqrt{252}\n",
    "  $$\n",
    "  \n",
    "  其中，252是交易日的平均数量。通常，日收益率的标准差需要转换为年化波动率。\n"
   ]
  },
  {
   "cell_type": "markdown",
   "id": "7223d88e-1fce-464a-8516-280674686a65",
   "metadata": {},
   "source": [
    "### 1.2 Garman-Klass波动率模型"
   ]
  },
  {
   "cell_type": "markdown",
   "id": "d0a59569-11a0-45d3-a8a1-8dba366b7a11",
   "metadata": {},
   "source": [
    "Garman-Klass波动率模型在1980年由Garman和Klass提出，提供了一个更全面的波动率估计，适用于高频数据和对波动性变化敏感的分析。它用于改进基于高、低、开盘和收盘价的波动率估计。公式如下："
   ]
  },
  {
   "cell_type": "markdown",
   "id": "dff47ba5-0d4c-48b5-81b8-3a89173da158",
   "metadata": {},
   "source": [
    "$$\n",
    "\\sigma^2={0.511*(H_t-L_t)^2-0.019*[(C_t-O_t)(H_t+L_t-2*O_t)-2*(H_t-O_t)*(L_t-O_t)] \\\\\n",
    "-0.383*(C_t-O_t)^2}\n",
    "$$"
   ]
  },
  {
   "cell_type": "markdown",
   "id": "ef445d35-21ce-461c-935c-85b65fb8a37e",
   "metadata": {},
   "source": [
    "其中H、L、O和C分别表示最高价、最低价、开盘价和收盘价。从计算的波动率时间序列来看，与VIX指数走势基本一致。"
   ]
  },
  {
   "cell_type": "markdown",
   "id": "9f74ea58-d88c-4e00-a04e-3669de510be1",
   "metadata": {},
   "source": [
    "它有以下优点：\n",
    "- 适用于基于日内高频数据（如每分钟、每小时）的波动率估计\n",
    "- 使用了修正系数（0.511、-0.019、-0.383）来调整不同价格对波动率的贡献"
   ]
  },
  {
   "cell_type": "code",
   "execution_count": 3,
   "id": "8060ea94-2aca-4cbe-8c9c-5a52003ba41c",
   "metadata": {
    "tags": []
   },
   "outputs": [],
   "source": [
    "import numpy as np\n",
    "import pandas as pd\n",
    "def garman_klass_volatility(open_, high, low, close):\n",
    "    term1 = 0.511 * (high - low) ** 2\n",
    "    term2 = -0.019 * ((close - open_) * (high + low - 2 * open_) - 2 * (high - open_) * (low - open_))\n",
    "    term3 = -0.383 * (close - open_) ** 2\n",
    "    volatility = np.sqrt(term1 + term2 + term3)\n",
    "    return volatility"
   ]
  },
  {
   "cell_type": "markdown",
   "id": "f34fe565-8aa1-4fe5-a59b-ec35b14b1e66",
   "metadata": {
    "tags": []
   },
   "source": [
    "## 2. 条件波动率\n",
    "条件波动率 (Conditional Volatility)是基于金融时间序列模型（如GARCH模型）计算的波动率。与历史波动率（基于过去价格数据计算）和隐含波动率（从期权价格推导）不同，条件波动率依赖于动态模型来更新对未来波动性的预测，考虑了历史数据的影响。"
   ]
  },
  {
   "cell_type": "markdown",
   "id": "28b3e37d-ade0-45a6-aa1e-4cad26e5799d",
   "metadata": {},
   "source": [
    "### 2.1 GARCH模型\n",
    "GARCH (Generalized Autoregressive Conditional Heteroskedasticity) 模型由Tim Bollerslev于1986年提出，扩展了Arch（自回归条件异方差）模型\n",
    "\n",
    "**GARCH(1,1)模型**的基本形式为：\n"
   ]
  },
  {
   "cell_type": "markdown",
   "id": "49947ef3-27b1-4426-b76b-3be65f9f8ae8",
   "metadata": {},
   "source": [
    "\n",
    "$$\n",
    "\\sigma_t^2 = \\alpha_0 + \\alpha_1 \\epsilon_{t-1}^2 + \\beta_1 \\sigma_{t-1}^2\n",
    "$$\n",
    "    "
   ]
  },
  {
   "cell_type": "markdown",
   "id": "3affba56-7d45-4269-b374-a9cb18f7aa74",
   "metadata": {},
   "source": [
    "\n",
    "其中：\n",
    "- $\\sigma_t^2$ 是条件方差（波动率的平方）。\n",
    "- $\\epsilon_{t-1}^2$ 是前期的误差平方。\n",
    "- $\\sigma_{t-1}^2$ 是前期的条件方差。\n",
    "- $\\alpha_0$、$\\alpha_1$ 和 $\\beta_1$ 是模型参数。\n"
   ]
  },
  {
   "cell_type": "markdown",
   "id": "289ce285-3f40-41d0-b1b2-0cab2d8d8670",
   "metadata": {},
   "source": [
    "\n",
    "### 2.2 EGARCH 模型\n",
    "EGARCH(Exponential GARCH) 模型扩展了GARCH模型，由 Nelson (1991) 提出。EGARCH 模型允许波动率的对数形式以对数线性方式来建模，从而可以捕捉到金融时间序列中常见的波动率不对称性（例如，负面消息对波动率的影响大于正面消息）。\n",
    "  - 公式为：\n",
    "    $$\n",
    "    \\ln(\\sigma_t^2) = \\alpha_0 + \\alpha_1 \\left(\\frac{\\epsilon_{t-1}}{\\sigma_{t-1}}\\right) + \\beta_1 \\ln(\\sigma_{t-1}^2)\n",
    "    $$\n",
    "    其中，$\\ln(\\sigma_t^2)$是条件波动率的对数。\n"
   ]
  },
  {
   "cell_type": "markdown",
   "id": "244e477c-f656-4ac7-9f9e-25fb68b614ab",
   "metadata": {},
   "source": [
    "以下是如何使用Python中的`arch`库计算条件波动率的示例代码："
   ]
  },
  {
   "cell_type": "code",
   "execution_count": null,
   "id": "c03022da-2266-43dc-88b4-906499e9b99a",
   "metadata": {},
   "outputs": [],
   "source": [
    "import pandas as pd\n",
    "import numpy as np\n",
    "\n",
    "def calculate_log_returns(df):\n",
    "    \"\"\"\n",
    "    计算对数收益率\n",
    "    df: 收盘价\n",
    "    \"\"\"\n",
    "    return np.log(df / df.shift(1)).dropna()"
   ]
  },
  {
   "cell_type": "code",
   "execution_count": null,
   "id": "883a64c4-01be-499b-a49d-fcad2731fca1",
   "metadata": {},
   "outputs": [],
   "source": [
    "log_returns = calculate_log_returns(close_df)"
   ]
  },
  {
   "cell_type": "code",
   "execution_count": null,
   "id": "6839a016-0988-438e-80b5-e1289a14aec9",
   "metadata": {},
   "outputs": [],
   "source": [
    "def estimate_volatility(series):\n",
    "    \"\"\"\n",
    "    计算基于Garch模型的条件波动率\n",
    "    series: 单条对数收益率序列\n",
    "    \"\"\"\n",
    "    model = arch_model(series, vol='Garch', p=1, q=1)\n",
    "    res = model.fit(disp='off')\n",
    "    return res.conditional_volatility"
   ]
  },
  {
   "cell_type": "markdown",
   "id": "d5d06348-d28e-44f1-b508-694b5d53d784",
   "metadata": {},
   "source": [
    "## Reference"
   ]
  },
  {
   "cell_type": "markdown",
   "id": "cb391a77-4477-4c5d-a6a8-894489d60cf6",
   "metadata": {},
   "source": [
    "1. Bollerslev, T., 1986. Generalized autoregressive conditional heteroskedasticity. Journal of Econometrics 31, 307–327. https://doi.org/10.1016/0304-4076(86)90063-1\n",
    "1. Diebold, F.X., Yilmaz, K., 2009. Measuring Financial Asset Return and Volatility Spillovers, with Application to Global Equity Markets. The Economic Journal 119, 158–171. https://doi.org/10.1111/j.1468-0297.2008.02208.x\n",
    "1. Engle, R.F., 1982. Autoregressive Conditional Heteroscedasticity with Estimates of the Variance of United Kingdom Inflation. Econometrica 50, 987. https://doi.org/10.2307/1912773\n",
    "1. Garman, M.B., Klass, M.J., 1980. On the Estimation of Security Price Volatilities from Historical Data. J BUS 53, 67. https://doi.org/10.1086/296072\n",
    "1. Nelson, D.B., 1991. Conditional Heteroskedasticity in Asset Returns: A New Approach. Econometrica 59, 347. https://doi.org/10.2307/2938260\n"
   ]
  }
 ],
 "metadata": {
  "kernelspec": {
   "display_name": "Python 3 (ipykernel)",
   "language": "python",
   "name": "python3"
  },
  "language_info": {
   "codemirror_mode": {
    "name": "ipython",
    "version": 3
   },
   "file_extension": ".py",
   "mimetype": "text/x-python",
   "name": "python",
   "nbconvert_exporter": "python",
   "pygments_lexer": "ipython3",
   "version": "3.9.17"
  }
 },
 "nbformat": 4,
 "nbformat_minor": 5
}
