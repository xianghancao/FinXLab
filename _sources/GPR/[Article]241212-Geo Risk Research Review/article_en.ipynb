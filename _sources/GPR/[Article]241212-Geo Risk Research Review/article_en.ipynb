{
 "cells": [
  {
   "cell_type": "markdown",
   "id": "20f4116f-a010-47d7-aa11-19dee8bc42ee",
   "metadata": {},
   "source": [
    "# Geo Risk Research Review"
   ]
  },
  {
   "cell_type": "markdown",
   "id": "a98438e3-8a82-4187-86fd-d66bbde3402e",
   "metadata": {},
   "source": [
    "First: 24.12.12"
   ]
  },
  {
   "cell_type": "markdown",
   "id": "80fa9dfa-43c8-4352-ab2a-3edc729fcac4",
   "metadata": {},
   "source": [
    "Bondarenko(2024) analyse the influence from Geopolitical Risk(GPR), especially the difference from Russian and English News. The highlights from this article is the local view from Russian news for evaluating the GPR, which represent the difference from different language and culture from English used contries. Also, the media from individuals have higher perceptions of risk and longer influence than media from goverment. The innovation from Bondarenko(2024) is offering a sanction index, which express how the sanction affect the inflation and interests. The SVAR model is used to analyse the dynamic effects from GDP, inflation, asset prices and currency rates."
   ]
  },
  {
   "cell_type": "markdown",
   "id": "acec90e4-a0fb-4821-be00-46630b5180a7",
   "metadata": {},
   "source": [
    "## news-based indicators using textual analysis\n",
    "|Ref|Works|\n",
    "|---|---|\n",
    "|Baker(2016)|economic policy uncertainty index|\n",
    "|Pesaran(2023)|Sanctions intensity index for Iran|\n",
    "|Bondarenko(2024)|Sanctions intensity index for Russia|"
   ]
  },
  {
   "cell_type": "markdown",
   "id": "5483ee71-2f7b-4459-a91e-90ece14149f2",
   "metadata": {},
   "source": [
    "## Reference"
   ]
  },
  {
   "cell_type": "code",
   "execution_count": null,
   "id": "26a4368f-056c-4b4f-a4a7-cba34e2da7d0",
   "metadata": {},
   "outputs": [],
   "source": []
  }
 ],
 "metadata": {
  "kernelspec": {
   "display_name": "Python 3 (ipykernel)",
   "language": "python",
   "name": "python3"
  },
  "language_info": {
   "codemirror_mode": {
    "name": "ipython",
    "version": 3
   },
   "file_extension": ".py",
   "mimetype": "text/x-python",
   "name": "python",
   "nbconvert_exporter": "python",
   "pygments_lexer": "ipython3",
   "version": "3.11.7"
  }
 },
 "nbformat": 4,
 "nbformat_minor": 5
}
