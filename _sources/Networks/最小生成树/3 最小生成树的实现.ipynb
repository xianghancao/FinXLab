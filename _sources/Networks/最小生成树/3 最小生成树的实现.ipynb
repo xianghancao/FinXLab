{
 "cells": [
  {
   "cell_type": "markdown",
   "id": "4eb2b0f0-3d0c-4268-a3ec-a3c1a1ee95c4",
   "metadata": {
    "tags": []
   },
   "source": [
    "## 最小生成树"
   ]
  },
  {
   "cell_type": "code",
   "execution_count": 13,
   "id": "787ae1cb-133b-45f1-93b7-ce884350c746",
   "metadata": {},
   "outputs": [],
   "source": [
    "list_df.index=list_df['指数名称']\n",
    "graph_dict = list_df['图节点'].to_dict()\n",
    "d_ = d.copy()"
   ]
  },
  {
   "cell_type": "code",
   "execution_count": 14,
   "id": "a4ac577e-fea8-4266-9f0f-4d2fb9b256d0",
   "metadata": {},
   "outputs": [],
   "source": [
    "d_.columns = [graph_dict[i] for i in d.columns]"
   ]
  },
  {
   "cell_type": "code",
   "execution_count": 15,
   "id": "b370b1de-d55c-4da2-9c6a-8dfcb9c4774e",
   "metadata": {},
   "outputs": [],
   "source": [
    "d_.index = [graph_dict[i] for i in d.index]"
   ]
  },
  {
   "cell_type": "code",
   "execution_count": 16,
   "id": "e951c3db-7659-4e94-8589-4c486cfa8d3a",
   "metadata": {},
   "outputs": [
    {
     "data": {
      "text/html": [
       "<div>\n",
       "<style scoped>\n",
       "    .dataframe tbody tr th:only-of-type {\n",
       "        vertical-align: middle;\n",
       "    }\n",
       "\n",
       "    .dataframe tbody tr th {\n",
       "        vertical-align: top;\n",
       "    }\n",
       "\n",
       "    .dataframe thead th {\n",
       "        text-align: right;\n",
       "    }\n",
       "</style>\n",
       "<table border=\"1\" class=\"dataframe\">\n",
       "  <thead>\n",
       "    <tr style=\"text-align: right;\">\n",
       "      <th></th>\n",
       "      <th>7</th>\n",
       "      <th>17</th>\n",
       "      <th>19</th>\n",
       "      <th>14</th>\n",
       "      <th>23</th>\n",
       "      <th>1</th>\n",
       "      <th>21</th>\n",
       "      <th>22</th>\n",
       "      <th>3</th>\n",
       "      <th>2</th>\n",
       "      <th>...</th>\n",
       "      <th>10</th>\n",
       "      <th>13</th>\n",
       "      <th>16</th>\n",
       "      <th>0</th>\n",
       "      <th>6</th>\n",
       "      <th>20</th>\n",
       "      <th>15</th>\n",
       "      <th>5</th>\n",
       "      <th>4</th>\n",
       "      <th>18</th>\n",
       "    </tr>\n",
       "  </thead>\n",
       "  <tbody>\n",
       "    <tr>\n",
       "      <th>7</th>\n",
       "      <td>0.000000</td>\n",
       "      <td>0.645821</td>\n",
       "      <td>0.809773</td>\n",
       "      <td>0.811495</td>\n",
       "      <td>0.828918</td>\n",
       "      <td>0.784436</td>\n",
       "      <td>0.932717</td>\n",
       "      <td>0.922078</td>\n",
       "      <td>0.774122</td>\n",
       "      <td>0.812640</td>\n",
       "      <td>...</td>\n",
       "      <td>0.706982</td>\n",
       "      <td>0.644992</td>\n",
       "      <td>0.694949</td>\n",
       "      <td>0.922015</td>\n",
       "      <td>0.834304</td>\n",
       "      <td>0.831449</td>\n",
       "      <td>0.775408</td>\n",
       "      <td>0.791701</td>\n",
       "      <td>0.852733</td>\n",
       "      <td>0.714349</td>\n",
       "    </tr>\n",
       "    <tr>\n",
       "      <th>17</th>\n",
       "      <td>0.645821</td>\n",
       "      <td>0.000000</td>\n",
       "      <td>0.705031</td>\n",
       "      <td>0.709080</td>\n",
       "      <td>0.802488</td>\n",
       "      <td>0.753661</td>\n",
       "      <td>0.913896</td>\n",
       "      <td>0.906558</td>\n",
       "      <td>0.728014</td>\n",
       "      <td>0.786265</td>\n",
       "      <td>...</td>\n",
       "      <td>0.495062</td>\n",
       "      <td>0.502980</td>\n",
       "      <td>0.474943</td>\n",
       "      <td>0.906445</td>\n",
       "      <td>0.778116</td>\n",
       "      <td>0.738452</td>\n",
       "      <td>0.733918</td>\n",
       "      <td>0.765896</td>\n",
       "      <td>0.803237</td>\n",
       "      <td>0.568184</td>\n",
       "    </tr>\n",
       "    <tr>\n",
       "      <th>19</th>\n",
       "      <td>0.809773</td>\n",
       "      <td>0.705031</td>\n",
       "      <td>0.000000</td>\n",
       "      <td>0.158027</td>\n",
       "      <td>0.908455</td>\n",
       "      <td>0.876920</td>\n",
       "      <td>0.951734</td>\n",
       "      <td>0.950241</td>\n",
       "      <td>0.854972</td>\n",
       "      <td>0.880341</td>\n",
       "      <td>...</td>\n",
       "      <td>0.669613</td>\n",
       "      <td>0.650132</td>\n",
       "      <td>0.652597</td>\n",
       "      <td>0.952959</td>\n",
       "      <td>0.881200</td>\n",
       "      <td>0.317978</td>\n",
       "      <td>0.613983</td>\n",
       "      <td>0.849299</td>\n",
       "      <td>0.913963</td>\n",
       "      <td>0.683543</td>\n",
       "    </tr>\n",
       "    <tr>\n",
       "      <th>14</th>\n",
       "      <td>0.811495</td>\n",
       "      <td>0.709080</td>\n",
       "      <td>0.158027</td>\n",
       "      <td>0.000000</td>\n",
       "      <td>0.907888</td>\n",
       "      <td>0.875235</td>\n",
       "      <td>0.951588</td>\n",
       "      <td>0.950032</td>\n",
       "      <td>0.854828</td>\n",
       "      <td>0.882166</td>\n",
       "      <td>...</td>\n",
       "      <td>0.675484</td>\n",
       "      <td>0.655609</td>\n",
       "      <td>0.656820</td>\n",
       "      <td>0.952606</td>\n",
       "      <td>0.885877</td>\n",
       "      <td>0.220253</td>\n",
       "      <td>0.599760</td>\n",
       "      <td>0.850387</td>\n",
       "      <td>0.917549</td>\n",
       "      <td>0.682310</td>\n",
       "    </tr>\n",
       "    <tr>\n",
       "      <th>23</th>\n",
       "      <td>0.828918</td>\n",
       "      <td>0.802488</td>\n",
       "      <td>0.908455</td>\n",
       "      <td>0.907888</td>\n",
       "      <td>0.000000</td>\n",
       "      <td>0.639553</td>\n",
       "      <td>0.845058</td>\n",
       "      <td>0.834150</td>\n",
       "      <td>0.654295</td>\n",
       "      <td>0.578223</td>\n",
       "      <td>...</td>\n",
       "      <td>0.856796</td>\n",
       "      <td>0.821252</td>\n",
       "      <td>0.826928</td>\n",
       "      <td>0.832778</td>\n",
       "      <td>0.684462</td>\n",
       "      <td>0.908339</td>\n",
       "      <td>0.886862</td>\n",
       "      <td>0.774064</td>\n",
       "      <td>0.687707</td>\n",
       "      <td>0.842040</td>\n",
       "    </tr>\n",
       "  </tbody>\n",
       "</table>\n",
       "<p>5 rows × 24 columns</p>\n",
       "</div>"
      ],
      "text/plain": [
       "          7         17        19        14        23        1         21  \\\n",
       "7   0.000000  0.645821  0.809773  0.811495  0.828918  0.784436  0.932717   \n",
       "17  0.645821  0.000000  0.705031  0.709080  0.802488  0.753661  0.913896   \n",
       "19  0.809773  0.705031  0.000000  0.158027  0.908455  0.876920  0.951734   \n",
       "14  0.811495  0.709080  0.158027  0.000000  0.907888  0.875235  0.951588   \n",
       "23  0.828918  0.802488  0.908455  0.907888  0.000000  0.639553  0.845058   \n",
       "\n",
       "          22        3         2   ...        10        13        16        0   \\\n",
       "7   0.922078  0.774122  0.812640  ...  0.706982  0.644992  0.694949  0.922015   \n",
       "17  0.906558  0.728014  0.786265  ...  0.495062  0.502980  0.474943  0.906445   \n",
       "19  0.950241  0.854972  0.880341  ...  0.669613  0.650132  0.652597  0.952959   \n",
       "14  0.950032  0.854828  0.882166  ...  0.675484  0.655609  0.656820  0.952606   \n",
       "23  0.834150  0.654295  0.578223  ...  0.856796  0.821252  0.826928  0.832778   \n",
       "\n",
       "          6         20        15        5         4         18  \n",
       "7   0.834304  0.831449  0.775408  0.791701  0.852733  0.714349  \n",
       "17  0.778116  0.738452  0.733918  0.765896  0.803237  0.568184  \n",
       "19  0.881200  0.317978  0.613983  0.849299  0.913963  0.683543  \n",
       "14  0.885877  0.220253  0.599760  0.850387  0.917549  0.682310  \n",
       "23  0.684462  0.908339  0.886862  0.774064  0.687707  0.842040  \n",
       "\n",
       "[5 rows x 24 columns]"
      ]
     },
     "execution_count": 16,
     "metadata": {},
     "output_type": "execute_result"
    }
   ],
   "source": [
    "d_.head()"
   ]
  },
  {
   "cell_type": "code",
   "execution_count": 17,
   "id": "1d3527b3-1fed-4ed1-90be-b296ea5ef779",
   "metadata": {
    "tags": []
   },
   "outputs": [],
   "source": [
    "graph_info = []\n",
    "for i in range(d.shape[0]):\n",
    "    for j in range(i+1, d_.shape[1]):\n",
    "        graph_info.append([d_.columns[i],d_.index[j], d_.iloc[i, j]])"
   ]
  },
  {
   "cell_type": "code",
   "execution_count": 18,
   "id": "4b5ddb98-14b7-436b-b9c2-6cb75548f406",
   "metadata": {
    "tags": []
   },
   "outputs": [],
   "source": [
    "# graph_info"
   ]
  },
  {
   "cell_type": "code",
   "execution_count": 19,
   "id": "a820720b-71a3-41fe-a74b-36613ebe18d4",
   "metadata": {},
   "outputs": [],
   "source": [
    "from mst_graph import MSTGraph\n",
    "node_num = 7\n",
    "#g = MSTGraph(graph_info)\n",
    "#g.KruskalMST()\n",
    "#g.mst_plot()"
   ]
  }
 ],
 "metadata": {
  "kernelspec": {
   "display_name": "Python 3 (ipykernel)",
   "language": "python",
   "name": "python3"
  },
  "language_info": {
   "codemirror_mode": {
    "name": "ipython",
    "version": 3
   },
   "file_extension": ".py",
   "mimetype": "text/x-python",
   "name": "python",
   "nbconvert_exporter": "python",
   "pygments_lexer": "ipython3",
   "version": "3.11.7"
  },
  "widgets": {
   "application/vnd.jupyter.widget-state+json": {
    "state": {},
    "version_major": 2,
    "version_minor": 0
   }
  }
 },
 "nbformat": 4,
 "nbformat_minor": 5
}
