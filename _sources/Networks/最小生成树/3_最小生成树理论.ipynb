{
 "cells": [
  {
   "cell_type": "markdown",
   "id": "61840b72-3406-41ed-9370-7de973cb3c31",
   "metadata": {},
   "source": [
    "# 最小生成树"
   ]
  },
  {
   "cell_type": "markdown",
   "id": "6ed9ce66-b1ca-4dc2-922e-32273c9327ee",
   "metadata": {},
   "source": [
    "## 最小生成树问题\n",
    "Given: undirected, connected, weighted graph G = (V,E,w) with non-negative edge weights.\n",
    "where V means vertices, E means edges, w means weights.\n",
    "\n",
    "Goal: Find a subgraph ⊆ E of minimum total weight that links all vertices\n",
    "\n",
    "![MST](图片/a_MST_example.png)"
   ]
  },
  {
   "cell_type": "markdown",
   "id": "ad8b3bca-5fe2-4d95-ab8f-3527e3bc0210",
   "metadata": {},
   "source": [
    "## 最小生成树的应用\n",
    "Street Networks, Wiring Electronic Components, Laying Pipes\n",
    "\n",
    "Weights may represent distances, costs, travel times, capacities, resistance etc."
   ]
  },
  {
   "cell_type": "markdown",
   "id": "a785ecec-ac1f-411f-8d90-3d7ef0f5c5c0",
   "metadata": {},
   "source": [
    "## 5. 最小生成树算法\n",
    "\n",
    "### 5.1 Kruskal算法\n",
    "\n",
    "假设给定的连通图G是完全的，也就是说，每一对顶点都由一条边连接。\n",
    "\n",
    "构造A：在G中还没有被选中的边中，选择一条最短的边，它不会与已经被选中的边形成任何循环。显然最终选择的边的集合必须形成G的生成树，事实上它形成了最短的生成树。\n",
    "\n",
    "构造B：设V是G的任意但固定(非空)的顶点子集，然后尽可能多地执行以下步骤:在G中还没有被选择的，但连接到V的一个顶点或已经选择的边的边中，选择一条最短的边，它不会与已经选择的边形成任何循环。显然最终选择的边的集合形成了G的生成树，实际上它形成了最短的生成树。如果V是G的所有顶点的集合，则构造B可化为构造A。\n",
    "\n",
    "构造A’：这种方法在某种意义上与a是对偶的，尽可能多地执行以下步骤:在尚未选择的边中，选择除去后不会断开它们的最长边。很明显，最终没有选择的边的集合形成了G的生成树，实际上它形成了最短的生成树。在我看来，构造B是否在总体上有一个类似于这个的双重结构是不清楚的。\n",
    "\n",
    "证明见原文。\n",
    "\n",
    "参考文献：\n",
    "\n",
    "Kruskal，J.B.On the Shortest Spanning Subtre of a Graph and the Traveling Salesman Problem[J].Proccedings of the American Mathematical Society，1956，7(1):48—50.\n"
   ]
  },
  {
   "cell_type": "markdown",
   "id": "6f49bd39-d59e-4162-a34e-55186147554f",
   "metadata": {},
   "source": [
    "\n",
    "## 6. 最小生成树的拓扑指标\n",
    "\n",
    "(1). 归一化树长（NTL）\n",
    "\n",
    "NTL定义为最小生成树网络的平均距离，代表节点在网络中的发散程度。\n",
    "   \n",
    "$$\n",
    "NTL(t)=\\frac{1}{N-1}\\sum_{i,j\\in T}d_{ij}\n",
    "$$\n",
    "\n",
    "(2). 平均相似度（MSM）\n",
    "\n",
    "$$\n",
    "MSM = \\frac{2}{N(N-1)}\\sum_{i=1}^{N-1}\\sum^{N}_{j=i+1}D_{ij}\n",
    "$$\n",
    "   \n",
    "$D$表示$N\\times N$的相似矩阵\n",
    "\n",
    "(3). 特征路径长度（CPL）\n",
    "\n",
    "   任意两个节点i与j的平均路由个数，用来度量密集程度。\n",
    "   \n",
    "$$\n",
    "CPL = \\frac{2}{N(N-1)}\\sum_{i,j,i\\neq j}l_{ij}\n",
    "$$\n",
    "   \n",
    "$l_{ij}$表示节点i和j的最短路径的边数。\n",
    "\n",
    "(4). 平均占有层（MOL）\n",
    "\n",
    "$MOL(v_e)=\\frac{1}{N}\\sum_{i=1}^{N}lev(v_i)$\n",
    "\n",
    "$v_i$表示节点，$lev(v_i)$表示两者所在层数的差。\n",
    "\n",
    "(5). 非叶子节点数（NLM）\n",
    "\n",
    "度量MST网络的松散程度，叶子节点是树中没有子节点的节点，即度数为0的节点，而非叶子节点为树中度大于0的节点。\n",
    "\n",
    "参考文献\n",
    "\n",
    "- 张金林,孙凌芸.复杂网络理论下跨市场金融风险传染机制与路径研究[J].中南财经政法大学学报,2020(02):110-121.DOI:10.19639/j.cnki.issn1003-5230.2020.0018.\n",
    "\n",
    "\n",
    "\n"
   ]
  },
  {
   "cell_type": "code",
   "execution_count": null,
   "id": "9d01187f-2251-4823-a19e-06e164e4e7cd",
   "metadata": {},
   "outputs": [],
   "source": []
  }
 ],
 "metadata": {
  "kernelspec": {
   "display_name": "Python 3 (ipykernel)",
   "language": "python",
   "name": "python3"
  },
  "language_info": {
   "codemirror_mode": {
    "name": "ipython",
    "version": 3
   },
   "file_extension": ".py",
   "mimetype": "text/x-python",
   "name": "python",
   "nbconvert_exporter": "python",
   "pygments_lexer": "ipython3",
   "version": "3.11.7"
  },
  "widgets": {
   "application/vnd.jupyter.widget-state+json": {
    "state": {},
    "version_major": 2,
    "version_minor": 0
   }
  }
 },
 "nbformat": 4,
 "nbformat_minor": 5
}
