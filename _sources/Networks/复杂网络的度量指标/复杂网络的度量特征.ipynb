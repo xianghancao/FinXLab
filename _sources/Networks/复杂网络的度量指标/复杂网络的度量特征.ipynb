{
 "cells": [
  {
   "cell_type": "markdown",
   "id": "38d4efd7-8208-4a52-9d11-0d80851233be",
   "metadata": {},
   "source": [
    "# 复杂网络的度量特征\n",
    "\n",
    "## 主要统计特征描述\n",
    "\n",
    "1. 度和度分布\n",
    "\n",
    "   用$k_i$表示网络中节点$i$的度，表示为与节点$i$连接的节点数，通常情况下越大的节点度重要性越高。根据网络是否有向分为无向网络和有向网络。有向网络包括出度和入度。将$<k>$表示为各个节点的度的平均，也就是网络的平均度。\n",
    "\n",
    "   $$\n",
    "   <k>=\\frac{1}{N}\\sum k_i\n",
    "   $$\n",
    "\n",
    "   度的分布是指网络中节点其连接的边数恰好为k的概率，用Pr(k)表示。Pr(k)的分布对判断网络类型有帮助。例如，泊松分布所对应的网络为完全随机网络，幂律分布对应无标度网络。"
   ]
  },
  {
   "cell_type": "markdown",
   "id": "38f6b907-3e0c-4976-a155-f1bd0e57a16c",
   "metadata": {},
   "source": [
    "2. 直径与平均路径长度\n",
    "\n",
    "   用$d_{ij}$表示节点$i$和$j$之间最短路径上的边数。网络的直径在网络中任意两个节点之间的最大距离，记为$D$，则有\n",
    "   \n",
    "   $$\n",
    "   D = max(d_{ij})\n",
    "   $$\n",
    "   \n",
    "   平均路径长度L表示节点i和节点j之间距离的平均值，用N表示网络的节点数，则有：\n",
    "\n",
    "   $$\n",
    "   L = \\frac{1}{\\frac{1}{2}N(N+1)}\\sum_{i\\geq j}{d_{ij}}\n",
    "   $$\n",
    "\n",
    "   小世界特征：在网络平均度$<k>$不变的情况下，平均路径长度L与Log(N)的增长速度成正比。\n",
    "\n",
    "   \n",
    "\n",
    "3. 聚类系数\n",
    "\n",
    "   $C_m$表示节点m的聚类系数，$K_m$表示与节点m相连的n个节点之间实际存在的边数，它们之间的关系表示为：\n",
    "\n",
    "   $$\n",
    "   C_m = \\frac{2K_m}{n(n-1)}\n",
    "   $$\n",
    "\n",
    "   平均系数$C$为各个节点的平均聚类系数，值的范围为0～1。当$C$值为0时，说明网络中所有的节点都为孤立的节点；当$C$为1时，说明网络中所有的节点都直接相连。越接近于0，网络整体越松散；越接近于1网络整体越紧密。\n",
    "\n",
    "参考文献\n",
    "\n",
    "- 张金林,孙凌芸.复杂网络理论下跨市场金融风险传染机制与路径研究[J].中南财经政法大学学报,2020(02):110-121.DOI:10.19639/j.cnki.issn1003-5230.2020.0018.\n",
    "\n"
   ]
  },
  {
   "cell_type": "markdown",
   "id": "a5a30c4c-d697-4bfa-878d-2bbdd05d0918",
   "metadata": {},
   "source": [
    "### 2.2 “小世界”特征Small world\n",
    "\n",
    "\n",
    "\n",
    "参考文献\n",
    "- Collective Dynamics of 'Small-world' Networks, Duncan J.Watts, Steven H. Strogatz, June 1998, Nature, Vol 393.\n",
    "\n",
    "\n",
    "\n",
    "\n",
    "\n",
    "\n",
    "\n",
    "\n",
    "\n",
    "\n",
    "\n",
    "\n",
    "\n"
   ]
  },
  {
   "cell_type": "markdown",
   "id": "1101b41d-4823-483d-9983-3fa68537ecdd",
   "metadata": {},
   "source": [
    "### 2.3 幂律分布power-law degree distributions"
   ]
  },
  {
   "cell_type": "markdown",
   "id": "606a3c56-cea0-4e8e-92d7-612a023a1f79",
   "metadata": {},
   "source": [
    "### 2.4 网络传递性network transitivity"
   ]
  },
  {
   "cell_type": "markdown",
   "id": "4e68ec86-d40e-4e63-b301-bd1bebb064ca",
   "metadata": {},
   "source": [
    "### 2.5 社区结构community structure"
   ]
  },
  {
   "cell_type": "markdown",
   "id": "7736702a-77aa-42db-a6ad-6e6070e1303e",
   "metadata": {},
   "source": [
    "\n",
    "## 3. 几种网络\n",
    "\n"
   ]
  },
  {
   "cell_type": "markdown",
   "id": "16d90209-c915-4427-aed2-6aa89d494f93",
   "metadata": {},
   "source": [
    "## 4. 金融网络的应用 \n",
    "\n",
    "### 4.1 应用相关系数构造边\n",
    "\n",
    "1. 使用指数的对数收益率$S_i(t)$\n",
    "   $$\n",
    "   S_i(t) = lnP(t) -lnP(t-1)\n",
    "   $$\n",
    "\n",
    "2. 两个指数i和j的相关系数$\\rho_{ij}$\n",
    "   $$\n",
    "   \\rho_{ij} = \\frac{<S_iS_j>-<S_i><S_j>}{\\sqrt{(<S_i^2><S_i>^2)(<S_j^2>-<S_j>^2)}}\n",
    "   $$\n",
    "   $<>$表示时间序列的均值。\n",
    "\n",
    "3. 欧几里得距离$d_{ij}=\\sqrt{2(1-\\rho_{ij})}$\n",
    "\n",
    "参考文献：\n",
    "\n",
    "（张金林等，2012）探讨了全球股票市场网络的结构与特质如何作用并影响金融风险的传染，以及研究金融危机时期股票市场风险传染机制及路径。基于金融危机期间全球市场的经验证据，通过复杂网络理论对网络特征进行统计描述，采用最小生成树（MST）法构建网络图，研究金融危机背景下全球股票市场复杂网络的拓扑特征、跨市场金融风险的传染机制和路径。通过对全球股票市场网络在金融危机前、中、后三个阶段的拓扑与市场性质进行实证分析。\n",
    "\n",
    "- 张金林,孙凌芸.复杂网络理论下跨市场金融风险传染机制与路径研究[J].中南财经政法大学学报,2020(02):110-121.DOI:10.19639/j.cnki.issn1003-5230.2020.0018.\n",
    "\n",
    "\n"
   ]
  },
  {
   "cell_type": "markdown",
   "id": "14a32f05-4ed4-43b1-88e9-8d8d392cc24d",
   "metadata": {},
   "source": [
    "## 传染病模型"
   ]
  },
  {
   "cell_type": "markdown",
   "id": "9e159628-8a9f-4f9c-bfff-234bbeb2e2fc",
   "metadata": {},
   "source": [
    "\n",
    "网络模型：https://python.quantecon.org/sir_model.html"
   ]
  },
  {
   "cell_type": "markdown",
   "id": "7824a985-dc29-4ba5-aa0c-9c0fe9b0ce58",
   "metadata": {},
   "source": [
    "## 参考\n",
    "- Profile & Introduction：http://network-science.org\n",
    "- 相关视频：https://www.zhihu.com/people/wang-han-zhi-21/zvideos"
   ]
  },
  {
   "cell_type": "markdown",
   "id": "5339637c-4bf0-40fa-81ac-690c59731480",
   "metadata": {},
   "source": []
  }
 ],
 "metadata": {
  "kernelspec": {
   "display_name": "Python 3 (ipykernel)",
   "language": "python",
   "name": "python3"
  },
  "language_info": {
   "codemirror_mode": {
    "name": "ipython",
    "version": 3
   },
   "file_extension": ".py",
   "mimetype": "text/x-python",
   "name": "python",
   "nbconvert_exporter": "python",
   "pygments_lexer": "ipython3",
   "version": "3.11.7"
  },
  "toc-autonumbering": false,
  "toc-showmarkdowntxt": false,
  "widgets": {
   "application/vnd.jupyter.widget-state+json": {
    "state": {},
    "version_major": 2,
    "version_minor": 0
   }
  }
 },
 "nbformat": 4,
 "nbformat_minor": 5
}
