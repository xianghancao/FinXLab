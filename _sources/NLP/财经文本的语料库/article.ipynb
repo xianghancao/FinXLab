{
 "cells": [
  {
   "cell_type": "markdown",
   "id": "1db8c6d9-3c6e-4ed7-995b-f8095900c36c",
   "metadata": {},
   "source": [
    "# 情感分析任务语料库"
   ]
  },
  {
   "cell_type": "markdown",
   "id": "62e78ce0-04ba-4a5f-acbf-5db3ac28fe20",
   "metadata": {},
   "source": [
    "### **金融短语库（Financial Phrase Bank）**  \n",
    "金融短语库是一个用于金融情感分类的公共数据集（Malo等人，2014）。该数据集包含从金融新闻中选取的4,840个句子。这些句子由16名具有金融市场相关背景知识的研究人员手动标注。情感标签分为三类：**积极（positive）**、**中性（neutral）** 和 **消极（negative）**。\n"
   ]
  },
  {
   "cell_type": "code",
   "execution_count": null,
   "id": "0cec369f-7c02-4aa3-98a4-45cb2ab0d682",
   "metadata": {},
   "outputs": [],
   "source": [
    "from datasets import load_dataset\n",
    "# 选择 financial_phrasebank 数据集（\"sentences_allagree\" 配置）\n",
    "fpb = load_dataset('takala/financial_phrasebank', 'sentences_allagree')\n",
    "fpb"
   ]
  },
  {
   "cell_type": "markdown",
   "id": "5bcdfbd5-16f3-442a-8ffb-498a08614bfb",
   "metadata": {},
   "source": [
    "\n",
    "\n",
    "### **分析师语调数据集（AnalystTone Dataset）**  \n",
    "分析师语调数据集用于衡量分析师报告中的观点，是会计与金融文献中常用的数据集（Huang等人，2014）。该数据集从Investext数据库中的分析师报告中随机选取了10,000个句子，每个句子被手动分类为三种情感类别：**积极**、**消极** 和 **中性**。最终分类结果包含3,580个积极句子、1,830个消极句子和4,590个中性句子。\n"
   ]
  },
  {
   "cell_type": "markdown",
   "id": "f39cea19-2f9c-4da6-9f6d-df291d51f686",
   "metadata": {},
   "source": [
    "\n",
    "### **FiQA 数据集**  \n",
    "FiQA数据集是一个开放挑战数据集，用于金融情感分析，包含1,111个文本句子。给定金融领域中的英文句子（如微博客消息、新闻声明），该任务的目标是预测其对应的数值情感分数，范围为 **-1 到 1**。为了与上述两个数据集进行一致的比较，我们将其原本的回归任务转换为二元分类任务。\n"
   ]
  },
  {
   "cell_type": "code",
   "execution_count": null,
   "id": "fdef44dc-0568-41aa-93df-d22e3b662a0d",
   "metadata": {},
   "outputs": [],
   "source": []
  }
 ],
 "metadata": {
  "kernelspec": {
   "display_name": "Python 3 (ipykernel)",
   "language": "python",
   "name": "python3"
  },
  "language_info": {
   "codemirror_mode": {
    "name": "ipython",
    "version": 3
   },
   "file_extension": ".py",
   "mimetype": "text/x-python",
   "name": "python",
   "nbconvert_exporter": "python",
   "pygments_lexer": "ipython3",
   "version": "3.11.7"
  }
 },
 "nbformat": 4,
 "nbformat_minor": 5
}
