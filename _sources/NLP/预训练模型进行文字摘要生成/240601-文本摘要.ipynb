{
 "cells": [
  {
   "cell_type": "markdown",
   "id": "ec5b9719-bc00-4556-9acc-f89628b3d7b9",
   "metadata": {},
   "source": [
    "## 基于Transformer模型的上市公司财务报告的文本摘要生成"
   ]
  },
  {
   "cell_type": "code",
   "execution_count": null,
   "id": "9d178d4b-6296-4e89-9986-36da09f8bc43",
   "metadata": {},
   "outputs": [],
   "source": []
  },
  {
   "cell_type": "markdown",
   "id": "35b51590-2b42-41e9-917f-3c26a70b8a91",
   "metadata": {},
   "source": [
    "在如今的数字化时代，企业财报信息是投资者、分析师和决策者了解企业经营状况、制定投资策略和进行风险评估的重要依据[1]。由于财报信息的数量庞大、更新频率高，传统手工收集和分析财报信息的方式已经无法满足快速变化的市场需求。\n",
    "\n",
    "同时，来自数据供应商昂贵的报价[2]，以及其数据的不透明性，让中小金融机构面临着数字化转型的挑战。所以，许多金融机构开始利用自己探索自动化和智能化技术来处理和分析财报信息，以提高效率、降低成本，并更好地应对市场变化[3]。因此，利用人工智能技术实现自动化的财报信息收集与分析具有十分重要的现实意义和市场需求。\n",
    "\n",
    "自然语言处理（NLP）是人工智能的分支，旨在帮计算机理解人类语言。计算机拿到文本后，利用算法抽取各句含义，并采集其中重要信息，然后可以进行文本摘要和摘要生成、情感分析和情感预测、实体识别和关系抽取等应用。以文本摘要技术[4]为例，其用于从文本中提取出重要信息，生成一个简洁但完整的摘要，使读者能够快速了解文本的主题、内容和要点，而无需阅读整个文本。证券分析师和其他机构投资者阅读、分析利用该技术处理的财经文档摘要，帮助分析师从其内容快速获取重要主题和市场信号，提高决策效率和决策优势。\n"
   ]
  },
  {
   "cell_type": "markdown",
   "id": "bad5e47c-8fd4-4573-80c4-a5c0923f5924",
   "metadata": {},
   "source": [
    "## 文本摘要"
   ]
  },
  {
   "cell_type": "markdown",
   "id": "a9f5201b-ab11-4d64-a166-1995b91f4102",
   "metadata": {},
   "source": [
    "当前文本摘要技术通常可以分为两种类型：抽取式摘要技术和生成式摘要技术。抽取式摘要技术从原始文本中直接抽取出最重要的句子或段落，并将它们组合成摘要。这种摘要保留了文本中的原始句子，因此更贴近原文。抽取式摘要的优势在于简单直接，易于理解和实现。\n",
    "\n",
    "另一种是生成式摘要技术，即本项目要采用的技术。它通过理解文本的语义和语境，自动生成新的摘要内容，而不是直接抽取原文中的句子。生成式摘要更加灵活，可以生成更具有逻辑性和连贯性的摘要，但也更具有挑战性，因为需要理解文本的语义和生成自然语言文本。常用的生成式摘要方法包括基于循环神经网络（RNN）和Transformer模型[6]（如BERT、GPT）的深度学习模型。\n",
    "使用Transformer模型进行财务报告的文本摘要生成是一个热门的研究方向。"
   ]
  },
  {
   "cell_type": "markdown",
   "id": "30bbcea4-d30c-4a41-a041-846efa8fc6b0",
   "metadata": {},
   "source": [
    "Transformer模型作为深度学习领域的重要技术之一，在自然语言处理任务中取得了巨大成功。其在语义理解和生成能力方面的优势，使其成为生成式摘要任务的理想选择。\n",
    "\n",
    "目前，在这一领域，部分学者已经做出了有出色的研究如：Das等（2021）使用美国证券交易委员会（SEC）文件数据创建了RoBERTa-Fin模型（预训练语言模型），比只使用文本数值特征的模型表现更好，提高了分类准确度。这表明在金融文档分类中，全文和上下文至关重要，混合数据的使用是可行且有效的。Huang等（2023）基于Transformer开发了FinBERT模型，作为一种最先进的大型语言模型，专为金融领域而设计，通过融入金融知识，能够更好地总结金融文本中的上下文信息。Nguyen等（2022）针对英语以外的语言，从诸如OSCAR和C4等大规模多语料库中提取大量金融文本。在三种不同语言中进行了广泛的实验，展示了MFinBERT模型在各种标准基准任务中的有效性。"
   ]
  },
  {
   "cell_type": "markdown",
   "id": "087dd953-6655-4ecd-9158-c8b127efb83b",
   "metadata": {},
   "source": [
    "## 参考\n"
   ]
  },
  {
   "cell_type": "markdown",
   "id": "df6adad9-36d0-4483-9b68-8eed7d8694db",
   "metadata": {},
   "source": [
    "- C. H. Gibson, Financial reporting & analysis, 13e ed. Mason, OH: South-Western/Cengage Learning, 2013.\n",
    "-  Market Data Vendor Businesss & Revenues Review, MarketData.Guru 2022\n",
    "-  L. Mitra and G. Mitra, “Applications of news analytics in finance: A review,” in The Handbook of News Analytics in Finance, 1st ed., G. Mitra and L. Mitra, Eds., Wiley, 2011, pp. 1–39. \n",
    "- W. S. El-Kassas, C. R. Salama, A. A. Rafea, and H. K. Mohamed, “Automatic text summarization: A comprehensive survey,” Expert Systems with Applications, vol. 165, p. 113679, Mar. 2021, doi: 10.1016/j.eswa.2020.113679.\n",
    "- A. Vaswani et al., “Attention Is All You Need.” arXiv, Aug. 01, 2023. Accessed: Mar. 08, 2024. [Online]. Available: http://arxiv.org/abs/1706.03762\n",
    "-  S. Das et al., “Context, Language Modeling, and Multimodal Data in Finance,” JFDS, vol. 3, no. 3, pp. 52–66, Jul. 2021, doi: 10.3905/jfds.2021.1.063.\n",
    "-  A. H. Huang, H. Wang, and Y. Yang, “FINBERT : A Large Language Model for Extracting Information from Financial Text*,” Contemporary Accting Res, vol. 40, no. 2, pp. 806–841, May 2023, doi: 10.1111/1911-3846.12832.\n",
    "-  D. Nguyen, N. Cao, S. Nguyen, S. Ta, and C. Dinh, “MFinBERT: Multilingual Pretrained Language Model For Financial Domain,” in 2022 14th International Conference on Knowledge and Systems Engineering (KSE), Nha Trang, Vietnam: IEEE, Oct. 2022, pp. 1–6. doi: 10.1109/KSE56063.2022.9953749."
   ]
  }
 ],
 "metadata": {
  "kernelspec": {
   "display_name": "Python 3 (ipykernel)",
   "language": "python",
   "name": "python3"
  },
  "language_info": {
   "codemirror_mode": {
    "name": "ipython",
    "version": 3
   },
   "file_extension": ".py",
   "mimetype": "text/x-python",
   "name": "python",
   "nbconvert_exporter": "python",
   "pygments_lexer": "ipython3",
   "version": "3.11.7"
  }
 },
 "nbformat": 4,
 "nbformat_minor": 5
}
