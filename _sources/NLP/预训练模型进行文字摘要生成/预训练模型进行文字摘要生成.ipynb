{
 "cells": [
  {
   "cell_type": "markdown",
   "id": "c971bc9f-20ed-4431-877f-550a7d9ca983",
   "metadata": {},
   "source": [
    "# 预训练模型进行文字摘要生成"
   ]
  },
  {
   "cell_type": "markdown",
   "id": "9f7b480f-745d-4b1c-93f7-8a51d927484e",
   "metadata": {},
   "source": [
    "使用预训练模型生成文字摘要是一种非常流行的自然语言处理（NLP）任务，通常被称为**文本摘要（Text Summarization）**。这一过程可以通过两种主要的方法进行：**抽取式摘要**和**生成式摘要**。在现代深度学习和预训练模型的支持下，尤其是像BERT、GPT、T5、BART这样的预训练模型，都可以用于生成文本摘要。\n"
   ]
  },
  {
   "cell_type": "markdown",
   "id": "e6d01b54-21d4-4470-b452-1ae5501e1ab4",
   "metadata": {},
   "source": [
    "摘要生成的场景有以下：\n",
    "- 新闻摘要：自动从新闻报道中生成简短的摘要。\n",
    "- 科研论文摘要：自动生成论文摘要，帮助研究人员快速了解文献内容。\n",
    "- 社交媒体：从社交媒体上的长篇帖子或讨论中提取关键内容。"
   ]
  },
  {
   "cell_type": "markdown",
   "id": "a6a48a9c-17a5-4105-8125-b63763ff4492",
   "metadata": {},
   "source": [
    "## 使用Hugging Face的模型进行摘要生成\n",
    "以下是如何加载预训练的模型并生成摘要的代码示例：\n"
   ]
  },
  {
   "cell_type": "code",
   "execution_count": 1,
   "id": "9de402db-2747-499f-8cc5-92b630f24ea7",
   "metadata": {},
   "outputs": [
    {
     "data": {
      "application/vnd.jupyter.widget-view+json": {
       "model_id": "cb79df815cbe487297166d85bc0ab598",
       "version_major": 2,
       "version_minor": 0
      },
      "text/plain": [
       "model.safetensors:   7%|7         | 115M/1.63G [00:00<?, ?B/s]"
      ]
     },
     "metadata": {},
     "output_type": "display_data"
    },
    {
     "data": {
      "application/vnd.jupyter.widget-view+json": {
       "model_id": "eb38703e3eff406e8305e43378266a2d",
       "version_major": 2,
       "version_minor": 0
      },
      "text/plain": [
       "generation_config.json:   0%|          | 0.00/363 [00:00<?, ?B/s]"
      ]
     },
     "metadata": {},
     "output_type": "display_data"
    },
    {
     "data": {
      "application/vnd.jupyter.widget-view+json": {
       "model_id": "35fd4ca524ab4d9ca47b4314a0173bb0",
       "version_major": 2,
       "version_minor": 0
      },
      "text/plain": [
       "vocab.json:   0%|          | 0.00/899k [00:00<?, ?B/s]"
      ]
     },
     "metadata": {},
     "output_type": "display_data"
    },
    {
     "data": {
      "application/vnd.jupyter.widget-view+json": {
       "model_id": "b05c9fd36d4743acb262e7e55ac59abc",
       "version_major": 2,
       "version_minor": 0
      },
      "text/plain": [
       "merges.txt:   0%|          | 0.00/456k [00:00<?, ?B/s]"
      ]
     },
     "metadata": {},
     "output_type": "display_data"
    },
    {
     "data": {
      "application/vnd.jupyter.widget-view+json": {
       "model_id": "d2c9388226d7409db0159431294c8654",
       "version_major": 2,
       "version_minor": 0
      },
      "text/plain": [
       "tokenizer.json:   0%|          | 0.00/1.36M [00:00<?, ?B/s]"
      ]
     },
     "metadata": {},
     "output_type": "display_data"
    },
    {
     "name": "stderr",
     "output_type": "stream",
     "text": [
      "Hardware accelerator e.g. GPU is available in the environment, but no `device` argument is passed to the `Pipeline` object. Model will be on CPU.\n"
     ]
    },
    {
     "name": "stdout",
     "output_type": "stream",
     "text": [
      "The development of artificial intelligence (AI) has greatly impacted various industries. It has led to increased efficiency, reduced costs, and enhanced decision-making capabilities. But it has also raised concerns about the ethical implications of AI.\n"
     ]
    }
   ],
   "source": [
    "from transformers import pipeline\n",
    "\n",
    "# 使用Hugging Face的预训练BART模型\n",
    "summarizer = pipeline(\"summarization\", model=\"facebook/bart-large-cnn\")\n",
    "\n",
    "# 输入文本\n",
    "text = \"\"\"\n",
    "In recent years, the development of artificial intelligence (AI) has greatly impacted various industries, from healthcare to finance. \n",
    "AI technologies, particularly machine learning and deep learning, have enabled machines to perform tasks that traditionally required human intelligence. \n",
    "The integration of AI in business operations has led to increased efficiency, reduced costs, and enhanced decision-making capabilities. \n",
    "However, the rapid advancement of AI has also raised concerns about job displacement and the ethical implications of AI technologies. \n",
    "As AI continues to evolve, it is essential for governments, businesses, and society as a whole to address these challenges and ensure that AI is developed and used in a responsible manner.\n",
    "\"\"\"\n",
    "\n",
    "# 生成摘要\n",
    "summary = summarizer(text, max_length=50, min_length=25, do_sample=False)\n",
    "\n",
    "# 打印摘要\n",
    "print(summary[0]['summary_text'])"
   ]
  },
  {
   "cell_type": "markdown",
   "id": "09f84140-fe15-4997-a14c-e0e586e0d413",
   "metadata": {},
   "source": [
    "**参数说明**\n",
    "   - **max_length**：设置生成摘要的最大长度。可以根据需要调整以获得合适的摘要长度。\n",
    "   - **min_length**：设置生成摘要的最小长度，确保摘要不太简短。\n",
    "   - **do_sample**：如果设置为`True`，模型将使用采样生成摘要。如果设置为`False`，则使用贪心策略生成摘要，即选择最可能的词。\n"
   ]
  },
  {
   "cell_type": "code",
   "execution_count": null,
   "id": "2880fa16-e991-432d-8b01-260240c14feb",
   "metadata": {},
   "outputs": [],
   "source": [
    "\n",
    "### 5. **适用的模型**\n",
    "- **BART**：特别适合生成式摘要任务，能够生成更流畅且语义连贯的摘要。\n",
    "- **T5**：将所有任务统一为文本生成任务，非常适合摘要、翻译等任务。\n",
    "- **Pegasus**：专为文本摘要任务设计的模型，尤其擅长生成新闻、科研论文等领域的摘要。\n",
    "\n",
    "### 6. **其他模型与技术**\n",
    "- **GPT系列模型**：虽然GPT-3和GPT-4主要用于生成自然语言文本，但通过给定摘要的提示，也可以生成高质量的摘要。\n",
    "- **BERT+LSTM**：结合了BERT的上下文理解能力和LSTM的序列生成能力，适合抽取式和生成式摘要任务。\n",
    "\n",
    "### 7. **应用场景**\n",
    "   - **新闻摘要**：自动从新闻报道中生成简短的摘要。\n",
    "   - **科研论文摘要**：自动生成论文摘要，帮助研究人员快速了解文献内容。\n",
    "   - **社交媒体**：从社交媒体上的长篇帖子或讨论中提取关键内容。\n",
    "\n",
    "### 总结\n",
    "通过使用**BART**、**T5**等预训练模型，生成式文本摘要已成为一项非常高效且广泛应用的技术。你可以利用Hugging Face的`transformers`库轻松访问这些模型，快速实现摘要生成功能，适用于各类文本处理任务。"
   ]
  }
 ],
 "metadata": {
  "kernelspec": {
   "display_name": "Python 3 (ipykernel)",
   "language": "python",
   "name": "python3"
  },
  "language_info": {
   "codemirror_mode": {
    "name": "ipython",
    "version": 3
   },
   "file_extension": ".py",
   "mimetype": "text/x-python",
   "name": "python",
   "nbconvert_exporter": "python",
   "pygments_lexer": "ipython3",
   "version": "3.11.7"
  }
 },
 "nbformat": 4,
 "nbformat_minor": 5
}
