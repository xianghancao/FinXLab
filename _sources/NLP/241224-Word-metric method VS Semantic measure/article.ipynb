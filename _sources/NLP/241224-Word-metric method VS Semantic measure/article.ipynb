{
 "cells": [
  {
   "cell_type": "markdown",
   "id": "676c1325-593c-41c2-9936-a9fc5372ea0e",
   "metadata": {},
   "source": [
    "# Word-metric methods VS Semantic Models"
   ]
  },
  {
   "cell_type": "markdown",
   "id": "1f4cb37d-76c6-4c93-be0f-51e50fc3e101",
   "metadata": {},
   "source": [
    "Hans Cao, First: 2024/12/24"
   ]
  },
  {
   "cell_type": "markdown",
   "id": "fb0233dc-2b21-405e-a6db-70b422fa3d52",
   "metadata": {},
   "source": [
    "```{contents}\n",
    ":local:\n",
    "```"
   ]
  },
  {
   "cell_type": "markdown",
   "id": "b72247cb-3968-4015-84e2-a72a57bc320a",
   "metadata": {},
   "source": [
    "<!-- \n",
    "| **Aspect**                 | **Word-Metric Method** (dictionary-based approaches)       | **Semantic Measure**   (language models)       |\n",
    "|----------------------------|-------------------------------|--------------------------------|\n",
    "| **Approach**               | Static word list              | Contextual analysis           |\n",
    "| **Accuracy**               | Limited (ignores context)     | High (considers nuance)       |\n",
    "| **Adaptability**           | Low                           | High                          |\n",
    "| **Transparency**           | High                          | Medium (less interpretable)   |\n",
    "| **Implementation Cost**    | Low                           | High                          |\n",
    "| **Domain-Specific Insights** | Limited                      | Strong (with fine-tuning)     |\n",
    "|**Literatures**|Tetlock(2007),Loughran & McDonald(2011), Caldara & Iacoviello(2018),Baker et(2016)|Abdollahi(2024)|\n",
    " -->"
   ]
  },
  {
   "cell_type": "markdown",
   "id": "7061d573-791b-4fdf-bdc8-3d5943fdc6c6",
   "metadata": {},
   "source": [
    "Compared to traditional keyword-based method, the approach based on AI or semantic models or Large language models is more dynamic and has stronger contextual awareness, enabling real-time capture of market sentiment and policy changes."
   ]
  },
  {
   "cell_type": "markdown",
   "id": "de0ce7b3-3d60-4bbe-b539-328255b7cec8",
   "metadata": {},
   "source": [
    "![i](images/Word-metricVSSemantic.png)"
   ]
  }
 ],
 "metadata": {
  "kernelspec": {
   "display_name": "Python 3 (ipykernel)",
   "language": "python",
   "name": "python3"
  },
  "language_info": {
   "codemirror_mode": {
    "name": "ipython",
    "version": 3
   },
   "file_extension": ".py",
   "mimetype": "text/x-python",
   "name": "python",
   "nbconvert_exporter": "python",
   "pygments_lexer": "ipython3",
   "version": "3.11.7"
  }
 },
 "nbformat": 4,
 "nbformat_minor": 5
}
