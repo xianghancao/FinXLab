{
 "cells": [
  {
   "cell_type": "markdown",
   "id": "6f0bd67b-dba1-4320-a839-e173ac269c3c",
   "metadata": {},
   "source": [
    "# 大语言模型"
   ]
  },
  {
   "cell_type": "markdown",
   "id": "d38694ee-69b0-4792-902d-e396ff9619b4",
   "metadata": {
    "tags": []
   },
   "source": [
    "lightin.ai推出的NLP和大语言模型 [lighting.ai](https://lightning.ai/courses/deep-learning-fundamentals/unit-8.0-natural-language-processing-and-large-language-models/)"
   ]
  },
  {
   "cell_type": "markdown",
   "id": "c5261e89-6aab-4578-801c-ce779ea04a11",
   "metadata": {},
   "source": [
    "lighting.ai推出的大语言模型在线studio，https://lightning.ai/"
   ]
  }
 ],
 "metadata": {
  "kernelspec": {
   "display_name": "Python 3 (ipykernel)",
   "language": "python",
   "name": "python3"
  },
  "language_info": {
   "codemirror_mode": {
    "name": "ipython",
    "version": 3
   },
   "file_extension": ".py",
   "mimetype": "text/x-python",
   "name": "python",
   "nbconvert_exporter": "python",
   "pygments_lexer": "ipython3",
   "version": "3.11.7"
  }
 },
 "nbformat": 4,
 "nbformat_minor": 5
}
