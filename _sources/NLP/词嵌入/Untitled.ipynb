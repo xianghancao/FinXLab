{
 "cells": [
  {
   "cell_type": "markdown",
   "id": "b3c73b41-c5ef-4fc2-a79c-2ace1ca10517",
   "metadata": {},
   "source": [
    "# 词嵌入"
   ]
  },
  {
   "cell_type": "markdown",
   "id": "299f3902-819e-4c7d-931d-65327fb476b9",
   "metadata": {},
   "source": [
    "Embedding层通常作为神经网络模型的第一层，尤其是在自然语言处理任务中，如文本分类、情感分析或机器翻译。在将词语转化为稠密向量后，输出将通过后续的层（例如LSTM、GRU或全连接层）进行更复杂的处理。"
   ]
  },
  {
   "cell_type": "markdown",
   "id": "d022d9f4-4352-456b-9e67-c2fd74ee667d",
   "metadata": {},
   "source": [
    "Keras提供了Embedding类，通过设置input_dim、output_dim和input_length，可以控制词汇大小、嵌入向量的维度和序列长度。"
   ]
  },
  {
   "cell_type": "code",
   "execution_count": null,
   "id": "2beedd5a-17b5-48cd-8097-0706f7e713e7",
   "metadata": {},
   "outputs": [],
   "source": [
    "from tensorflow.keras.models import Sequential\n",
    "from tensorflow.keras.layers import Embedding, LSTM, Dense\n",
    "\n",
    "model = Sequential()\n",
    "model.add(Embedding(input_dim=1000, output_dim=32, input_length=100))\n",
    "model.add(LSTM(64))  # 示例LSTM层\n",
    "model.add(Dense(1, activation='sigmoid'))  # 用于二分类的输出层\n",
    "\n",
    "model.compile(optimizer='adam', loss='binary_crossentropy', metrics=['accuracy'])\n"
   ]
  }
 ],
 "metadata": {
  "kernelspec": {
   "display_name": "Python 3 (ipykernel)",
   "language": "python",
   "name": "python3"
  },
  "language_info": {
   "codemirror_mode": {
    "name": "ipython",
    "version": 3
   },
   "file_extension": ".py",
   "mimetype": "text/x-python",
   "name": "python",
   "nbconvert_exporter": "python",
   "pygments_lexer": "ipython3",
   "version": "3.11.7"
  }
 },
 "nbformat": 4,
 "nbformat_minor": 5
}
