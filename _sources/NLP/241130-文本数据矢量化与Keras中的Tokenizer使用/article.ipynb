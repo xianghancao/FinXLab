{
 "cells": [
  {
   "cell_type": "markdown",
   "id": "7c8ac0b5-b0f2-4fb3-ba4d-bb0ade512d54",
   "metadata": {},
   "source": [
    "# 文本数据矢量化与Keras中的Tokenizer使用"
   ]
  },
  {
   "cell_type": "markdown",
   "id": "1a299d2f-75cb-4639-b0c0-a1fd95f542bc",
   "metadata": {},
   "source": [
    "Hans Cao, 2024/11/30"
   ]
  },
  {
   "cell_type": "markdown",
   "id": "59cf1dad-01f7-4a82-92df-dc34fe251338",
   "metadata": {},
   "source": [
    "```{contents}\n",
    ":local:\n",
    "```"
   ]
  },
  {
   "cell_type": "markdown",
   "id": "7cdea2e7-b70a-414c-b6a7-b152aa763904",
   "metadata": {},
   "source": [
    "在自然语言处理（NLP）中，神经网络需要将文本数据转化为数字形式，即“文本矢量化”。本文将通过实例，介绍如何使用 Keras 的 Tokenizer 实现文本数据的矢量化，并完成基础的词嵌入操作。"
   ]
  },
  {
   "cell_type": "markdown",
   "id": "88100b86-2f77-4406-985a-183b5429a24d",
   "metadata": {},
   "source": [
    "在训练神经网络前，必须对文本进行矢量化处理。Keras提供了Tokenizer类，它是一个工具，用于将文本数据转化为整数序列。"
   ]
  },
  {
   "cell_type": "code",
   "execution_count": 21,
   "id": "21406984-6768-45c5-9ee3-1e8ecea9df81",
   "metadata": {},
   "outputs": [],
   "source": [
    "from tensorflow.keras.preprocessing.text import Tokenizer\n",
    "\n",
    "# 示例文本数据\n",
    "lines = ['The quick brown fox',\n",
    "        'Jumps over the lazy brown dog']\n",
    "\n",
    "# 创建 Tokenizer 对象\n",
    "tokenizer = Tokenizer()            \n",
    "# 根据文本生成词汇表\n",
    "tokenizer.fit_on_texts(lines)\n",
    "# 将文本转化为整数序列\n",
    "sequences = tokenizer.texts_to_sequences(lines)"
   ]
  },
  {
   "cell_type": "code",
   "execution_count": 5,
   "id": "fef36d31-f2fd-4ae0-9bcb-54886ebd3fdf",
   "metadata": {},
   "outputs": [
    {
     "data": {
      "text/plain": [
       "[[1, 3, 2, 4], [5, 6, 1, 7, 2, 8]]"
      ]
     },
     "execution_count": 5,
     "metadata": {},
     "output_type": "execute_result"
    }
   ],
   "source": [
    "sequences"
   ]
  },
  {
   "cell_type": "markdown",
   "id": "3cf830ec-22e2-4158-b033-4243f01752d2",
   "metadata": {},
   "source": [
    "第一行和第二行都有brown这个词，用索引2表示。"
   ]
  },
  {
   "cell_type": "code",
   "execution_count": 23,
   "id": "8ef76908-dae6-45a4-a098-d499faf27778",
   "metadata": {},
   "outputs": [
    {
     "data": {
      "text/plain": [
       "{1: 'the',\n",
       " 2: 'brown',\n",
       " 3: 'quick',\n",
       " 4: 'fox',\n",
       " 5: 'jumps',\n",
       " 6: 'over',\n",
       " 7: 'lazy',\n",
       " 8: 'dog'}"
      ]
     },
     "execution_count": 23,
     "metadata": {},
     "output_type": "execute_result"
    }
   ],
   "source": [
    "tokenizer.index_word"
   ]
  },
  {
   "cell_type": "markdown",
   "id": "e0c27bc3-6769-4b84-825a-f34a8b8a5008",
   "metadata": {},
   "source": [
    "index_word 是一个字典，其中键是单词的索引，值是对应的单词。它表示了Tokenizer在文本转整数的过程中所生成的词汇表。"
   ]
  },
  {
   "cell_type": "markdown",
   "id": "5ad84f65-5b3f-44a3-a60c-4ae97fe11fe5",
   "metadata": {},
   "source": [
    "可以使用Tokenizer的sequences_to_texts方法来逆转这个过程，换回文本。"
   ]
  },
  {
   "cell_type": "code",
   "execution_count": 8,
   "id": "c0169c20-4537-45b2-9d05-407dbb27dc3e",
   "metadata": {},
   "outputs": [
    {
     "data": {
      "text/plain": [
       "['the quick brown fox', 'jumps over the lazy brown dog']"
      ]
     },
     "execution_count": 8,
     "metadata": {},
     "output_type": "execute_result"
    }
   ],
   "source": [
    "tokenizer.sequences_to_texts(sequences)"
   ]
  },
  {
   "cell_type": "markdown",
   "id": "c18046db-a703-4666-aa1b-3966c752ceb6",
   "metadata": {},
   "source": [
    "序列的长度3-5个值不等，但神经网络希望所有序列的长度都一样。这是因为：不同文本长度会导致输入神经网络的张量尺寸不一致，使用填充和截断可以将它们标准化为固定长度，从而满足模型输入的要求。Keras的pad_sequences函数可以填充和截断为指定长度。"
   ]
  },
  {
   "cell_type": "code",
   "execution_count": 18,
   "id": "63faa3f3-6d95-4cc7-93f3-3978a9acff98",
   "metadata": {},
   "outputs": [],
   "source": [
    "from tensorflow.keras.preprocessing.sequence import pad_sequences\n",
    "padded_sequences = pad_sequences(sequences, maxlen=6)              # 默认填充发生在左侧，可以通过设置 padding='post' 改为右侧"
   ]
  },
  {
   "cell_type": "code",
   "execution_count": 19,
   "id": "50b48fed-14d2-4713-9df0-55b3fb78caea",
   "metadata": {},
   "outputs": [
    {
     "data": {
      "text/plain": [
       "array([[0, 0, 1, 3, 2, 4],\n",
       "       [5, 6, 1, 7, 2, 8]], dtype=int32)"
      ]
     },
     "execution_count": 19,
     "metadata": {},
     "output_type": "execute_result"
    }
   ],
   "source": [
    "padded_sequences"
   ]
  },
  {
   "cell_type": "markdown",
   "id": "07415914-8ea4-41de-8eea-08af33b8ea21",
   "metadata": {},
   "source": [
    "## 总结\n",
    "文本矢量化是自然语言处理（NLP）中的重要步骤，通过将文本数据转化为数字形式，神经网络可以更高效地理解和处理语言信息。以词嵌入为基础的矢量化方法在多种实际场景中发挥了重要作用，包括但不限于：情感分析、（如正面、负面、中性）、文本分类、机器翻译、语音助手。\n",
    "\n",
    "通过本文的示例，我们初步了解了如何使用 Keras 的 Tokenizer 和 pad_sequences 等工具来实现文本矢量化处理。这些方法为构建更复杂的 NLP 模型（如情感分析器或翻译系统）奠定了基础。"
   ]
  },
  {
   "cell_type": "markdown",
   "id": "5465f21d-094b-4477-9a19-04f757232c72",
   "metadata": {},
   "source": [
    "## 参考\n",
    "- Prosise, J. (2023). Applied Machine Learning and AI for Engineers: Solve Business Problems That Can’t Be Solved Algorithmically. Chapter 11. O’Reilly Media, Cambridge"
   ]
  }
 ],
 "metadata": {
  "kernelspec": {
   "display_name": "Python 3 (ipykernel)",
   "language": "python",
   "name": "python3"
  },
  "language_info": {
   "codemirror_mode": {
    "name": "ipython",
    "version": 3
   },
   "file_extension": ".py",
   "mimetype": "text/x-python",
   "name": "python",
   "nbconvert_exporter": "python",
   "pygments_lexer": "ipython3",
   "version": "3.11.5"
  }
 },
 "nbformat": 4,
 "nbformat_minor": 5
}
