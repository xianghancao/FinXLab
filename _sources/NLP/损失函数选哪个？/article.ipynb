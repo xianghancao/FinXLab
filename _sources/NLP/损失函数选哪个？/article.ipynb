{
 "cells": [
  {
   "cell_type": "markdown",
   "id": "2b8e6b3b-5d05-40e1-90ef-c03eef57dc95",
   "metadata": {},
   "source": [
    "# 损失函数sparse_categorical_crossentropy 和 categorical_crossentropy选哪个？"
   ]
  },
  {
   "cell_type": "markdown",
   "id": "b7749d0c-e13d-4ac1-8010-98bf69f6b095",
   "metadata": {},
   "source": [
    "\n",
    "`sparse_categorical_crossentropy` 和 `categorical_crossentropy`\n",
    "两者的主要区别在于 **标签的表示形式** 和 **适用场景**。\n",
    "\n"
   ]
  },
  {
   "cell_type": "markdown",
   "id": "8ca0bf32-43dc-41cf-ae5b-8e38d10f5022",
   "metadata": {},
   "source": [
    "## **1. 标签表示方式**\n",
    "- **`categorical_crossentropy`**  \n",
    "  需要 **one-hot 编码的标签**。  \n",
    "  - 例如，对于3个类别的分类问题，类别 `2` 的标签表示为 `[0, 0, 1]`。\n",
    "\n",
    "- **`sparse_categorical_crossentropy`**  \n",
    "  需要 **整数形式的标签**（未经过 one-hot 编码）。  \n",
    "  - 例如，对于相同的分类问题，类别 `2` 的标签表示为 `2`。\n",
    "\n",
    "\n",
    "\n",
    "## **2. 使用场景**\n",
    "- **`categorical_crossentropy`**  \n",
    "  - 用于模型输出为 **概率分布**（即每个类别都有一个概率值，输出是形状为 `(batch_size, num_classes)` 的张量）。\n",
    "  - 标签需要是 **one-hot 编码**。\n",
    "\n",
    "- **`sparse_categorical_crossentropy`**  \n",
    "  - 用于模型输出同样为 **概率分布**。\n",
    "  - 标签是整数，直接指示类别索引，无需 one-hot 编码。\n",
    "  - 适合在数据预处理时不想增加 one-hot 编码步骤的情况。\n",
    "\n",
    "\n",
    "\n",
    "## **3. 计算过程**\n",
    "尽管输入形式不同，**两者的底层计算逻辑是相同的**。  \n",
    "公式：\n",
    "$$\n",
    "\\text{CrossEntropyLoss} = - \\sum_{i=1}^{N} y_i \\log(\\hat{y}_i)\n",
    "$$\n",
    "其中：\n",
    "- $ y_i $ 是目标标签；\n",
    "- $ \\hat{y}_i $ 是模型预测的概率分布。\n",
    "\n",
    "对于 `categorical_crossentropy`：\n",
    "- $ y_i $ 是一个 one-hot 向量，因此只会对正确类别的概率取对数。\n",
    "\n",
    "对于 `sparse_categorical_crossentropy`：\n",
    "- $ y_i $ 是一个整数，直接用于索引预测分布中的概率值。\n",
    "\n",
    "\n",
    "\n",
    "## **4. 实际选择**\n",
    "- 如果您的标签是 **one-hot 编码的**，选择 `categorical_crossentropy`。\n",
    "- 如果您的标签是 **整数编码的**，选择 `sparse_categorical_crossentropy`。\n",
    "\n"
   ]
  },
  {
   "cell_type": "markdown",
   "id": "9e4648d0-c898-406d-8706-f0af818b18bd",
   "metadata": {},
   "source": [
    "\n",
    "## **代码示例**\n",
    "\n",
    "### 使用 `categorical_crossentropy`\n",
    "\n"
   ]
  },
  {
   "cell_type": "code",
   "execution_count": null,
   "id": "923895ce-2cb9-481d-9a95-9ae74e204292",
   "metadata": {},
   "outputs": [],
   "source": [
    "from tensorflow.keras.losses import CategoricalCrossentropy\n",
    "\n",
    "loss_fn = CategoricalCrossentropy()\n",
    "y_true = [[0, 0, 1], [0, 1, 0]]  # one-hot 编码标签\n",
    "y_pred = [[0.1, 0.2, 0.7], [0.3, 0.5, 0.2]]  # 模型预测\n",
    "loss = loss_fn(y_true, y_pred)\n",
    "print('Loss:', loss.numpy())"
   ]
  },
  {
   "cell_type": "markdown",
   "id": "66ecf94c-356d-48ad-aae1-9883ef3cb3ae",
   "metadata": {},
   "source": [
    "\n",
    "\n",
    "### 使用 `sparse_categorical_crossentropy`\n",
    "\n"
   ]
  },
  {
   "cell_type": "code",
   "execution_count": null,
   "id": "4c3ab931-f99d-443b-bee6-d8b4d3692fe6",
   "metadata": {},
   "outputs": [],
   "source": [
    "from tensorflow.keras.losses import SparseCategoricalCrossentropy\n",
    "\n",
    "loss_fn = SparseCategoricalCrossentropy()\n",
    "y_true = [2, 1]  # 整数形式标签\n",
    "y_pred = [[0.1, 0.2, 0.7], [0.3, 0.5, 0.2]]  # 模型预测\n",
    "loss = loss_fn(y_true, y_pred)\n",
    "print('Loss:', loss.numpy())"
   ]
  },
  {
   "cell_type": "markdown",
   "id": "7f4e3696-ca0c-4b29-b36f-481e50ccc836",
   "metadata": {},
   "source": [
    "\n",
    "### **总结**\n",
    "1. 如果标签是 **one-hot 编码**，选择 `categorical_crossentropy`。\n",
    "2. 如果标签是 **整数编码**，选择 `sparse_categorical_crossentropy`。\n",
    "3. 计算结果一致，只是输入格式不同。\n",
    "\n",
    "通过选择合适的损失函数，可以减少数据预处理步骤并提高代码的简洁性。"
   ]
  }
 ],
 "metadata": {
  "kernelspec": {
   "display_name": "Python 3 (ipykernel)",
   "language": "python",
   "name": "python3"
  },
  "language_info": {
   "codemirror_mode": {
    "name": "ipython",
    "version": 3
   },
   "file_extension": ".py",
   "mimetype": "text/x-python",
   "name": "python",
   "nbconvert_exporter": "python",
   "pygments_lexer": "ipython3",
   "version": "3.11.7"
  }
 },
 "nbformat": 4,
 "nbformat_minor": 5
}
