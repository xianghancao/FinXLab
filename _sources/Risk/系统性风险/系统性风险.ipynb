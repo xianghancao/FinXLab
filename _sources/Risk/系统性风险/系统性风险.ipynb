{
 "cells": [
  {
   "cell_type": "markdown",
   "id": "41aa307e-1e59-4af3-8d5c-e0e27c2c2146",
   "metadata": {},
   "source": [
    "# 系统性风险"
   ]
  },
  {
   "cell_type": "markdown",
   "id": "b1412822-5108-45ca-b7af-2336eaa14058",
   "metadata": {},
   "source": [
    "学术界通过 构建模型测算系统性风险的大小 (张天顶和张宇， 2018;胡宗义等，2020;罗萍，2020)[2-4]，目前主流 的测量方法有“条件在险价值法”(Conditional Value at Risk，CoVaR)、“增量条件在险价值法”(Delta Conditional Value at Risk，ΔCoVaR) 以及“边际预期 损失法”(Marginal Expected Shortfall，MES)。Co- VaR 以单个金融机构发生极端损失时金融市场风险的 大小衡量金融机构的系统性风险值 (Adrian 和 Brun- nermeier，2016)[5]，进一步得到 ΔCoVaR 衡量风险溢 出。CoVaR 考虑 α 分位点的极端尾部风险而忽略了极 端风险以外的所有损失，MES (Acharya 等，2010; 宋加山等，2020)[6，7] 很好地补充了这一不足，可计算 出极端风险之外的损失平均值。由于现有文献计算系 统性风险的结果存在一定差异，因此，为提高识别系 统重要性部门的精准度，可以使用多种方法同时测算 系统性风险值。"
   ]
  },
  {
   "cell_type": "markdown",
   "id": "ed2db05f-4e2b-4009-b565-6e89b50968ce",
   "metadata": {},
   "source": [
    "## 系统性风险事件\n",
    "### 2020年3月美股4次熔断\n",
    "原因：https://finance.sina.com.cn/zl/china/2020-12-28/zl-iiznezxs9384952.shtml\n",
    "原油：https://www.iea.org/reports/gas-2020/2020-meltdown"
   ]
  },
  {
   "cell_type": "markdown",
   "id": "04a6ff74-a9aa-497d-85c6-78b95479efa0",
   "metadata": {},
   "source": [
    "## 文献综述\n",
    "###  Systemic Risk的解释\n",
    "\n",
    "\n",
    "Systemic Risk不同于证券市场中不能通过分散投资来消除的系统性风险（Systematic Risk）。\"整个金融体系崩溃或丧失功能的或然性。\"（张晓朴，2010）\n",
    "\n",
    "“导致市场大量参与者同时遭受损失，并且迅速扩散到系统中”的风险。（Benoit et al., 2017）\n",
    "\n",
    "系统风险被视为“难以定义，但当你看到它时，你就会知道它”（Bisias et al., 2012）\n",
    "\n",
    "系统风险是威胁到金融体系的稳定性或公众信心的任何情况。（Billio et al., 2012）\n",
    "\n",
    "“严重的金融不稳定的风险”，也就是“金融不稳定变得非常普遍，以至于影响到金融系统的运作，并对经济增长和福利造成重大影响”的情况（European Central Bank， 2019）\n",
    "\n",
    "金融危机的经典定义源自戈德史密斯，是指全部或大部分金融指标———短期利率、资产（证券、房地产、土地 ）价 格、商业破产数和金融机构倒闭数———的急剧、短暂和超周期的恶化（Goldsmith， 1982）。 \n",
    "\n",
    "\n",
    "\n",
    "### 参考文献\n",
    "\n",
    "1. 张晓朴，系统性金融风险研究：演进、成因与监管，2010.7，国际金融研究\n",
    "2. Benoit，S. ; Colliard，J. E. ; Hurlin，C. and Perignon，C. 2017.“Where the Risks Lie: A Survey on Systemic Risk. ” Review of Finance\n",
    "3. Billio, M., M. Getmansky, A.W. Lo, and L. Pelizzon, 2012:[Econometric measures of connectedness and systemic risk in the finance and insurance sectors](https://www.sciencedirect.com/science/article/pii/S0304405X11002868), *Journal of Financial Economics*, Vol.104(3), P535-559\n",
    "4. Bisias, D., Flood, M., Lo, A. W., and S. Valavanis 2012: [A survey of systemic risk analytics](https://www.annualreviews.org/doi/10.1146/annurev-financial-110311-101754), *Annual Review of Financial Economics*, Vol.4(1), P255-296\n",
    "5. European Central Bank, 2009：[The concept of systemic risk](https://www.ecb.europa.eu/pub/pdf/other/financialstabilityreview200912en.pdf?59003c77f87b44c0c34782e3573ccb03), *Financial Stability Review (December 2009)*\n",
    "Global Financial Stability Report https://www.imf.org/en/publications/gfsr\n",
    "\n",
    "\n"
   ]
  },
  {
   "cell_type": "markdown",
   "id": "738544d6-205e-4f74-87ea-9f06561f9804",
   "metadata": {},
   "source": [
    "\n",
    "\n",
    "## 外部冲击\n",
    "\n",
    "公共突发事件\n",
    "\n",
    "WHO宣布为“国际关注的突发公共卫生事件”有：\n",
    "\n",
    "“新型冠状病毒肺炎”疫情被世界卫生组织（World Health Organization，WHO）宣布为国际关注的突发公共卫生事件。\n",
    "\n",
    "\n",
    "\n",
    "\n",
    "\n",
    "\n",
    "\n"
   ]
  },
  {
   "cell_type": "markdown",
   "id": "37434c9e-c028-49d9-afd1-9fc950c88021",
   "metadata": {},
   "source": [
    "## 传统风险的测度\n",
    "\n",
    "### “在险价值”Value-at-Risk，VAR  \n",
    "$$\n",
    "Pr_T(r_{j,T+1}<-VaR^{p,j}_{T+1|T})=p\n",
    "$$\n",
    "### “条件风险在值法”CoVaR以及 $\\Delta$CoVaR\n",
    "\n",
    "CoVaR测量市场的系统性风险。CoVaR:Adrian & Brunnermeier(2011)定义：\n",
    "\n",
    "$$\n",
    "Pr(r_{j,T+1}<-CoVaR^{j|i}_{T+1|T}|\\mathbb{C}(r_{i,T+1}))=p\n",
    "$$\n",
    "\n",
    "CoVaR无法衡量超过特定的置信水平的潜在损失，且不具备可加性，难以对整个金融系统面临的系统性风险进行客户。\n",
    "$$\n",
    "\\Delta CoVaR^{j|i}_{T+1|T} = CoVaR^{j|VaR(i)}_{T+1|T} - CoVaR^{j|Med(i)}_{T+1|T}\n",
    "$$\n",
    "\n",
    "### “边际期望损失法”MES（Marginal expected shortfall）\n",
    "\n",
    "MES主要测量单个企业的系统性风险暴露。(Acharya, 2010)将MES表示如下：\n",
    "\n",
    "$j$ 表示某个公司 \n",
    "\n",
    "$r_{mkt,T+1}$表示整个市场回报率\n",
    "\n",
    "$\\mathbb{C}(r_{mkt,T+1})$ 表示市场极端事件，例如市场收益低于某个阈值\n",
    "\n",
    "$MES^{j|mkt}$跟踪$j$公司的回报率对于市场极端事件的敏感度，提供了一个基于市场可以度量$j$公司的脆弱性的指标。\n",
    "$$\n",
    "MES_{T+1|T}^{j|mkt}=E_T[r_{j,T+1}|\\mathbb{C}(r_{mkt,T+1})]\n",
    "$$\n",
    "\n",
    "### expected capital shortfall(ECS)\n",
    "\n",
    "(Acharya, 2010)认为ECS和MES相关，可以表示如下：\n",
    "$$\n",
    "ECS^{j|mkt}_{T+1|T}=a_{0j}+a_{1j}MES^{j|mkt}_{T+1|T}\n",
    "$$\n",
    "\n",
    "### 参考\n",
    "\n",
    "Acharya, V., L. Pedersen, T. Philippe, and M. Richardson (2010), “Measuring Systemic Risk,” Manuscript, Stern School, New York University.\n",
    "\n",
    "Adrian, T. and M. Brunnermeier (2011), “CoVaR,” NBER Working Paper No. 17454."
   ]
  },
  {
   "cell_type": "markdown",
   "id": "083ac437-333c-48b1-80e4-54761890fa72",
   "metadata": {},
   "source": [
    "## 复杂网络与金融网络应用\n",
    "\n",
    "### 标志性文献\n",
    "\n",
    "[To-do]1998年，Watts及其导师Strogatz在Nature上的文章《Collective Dynamics of Small-world Networks》，刻画了现实世界中的网络所具有的大的凝聚系数和短的平均路径长度的小世界特性。\n",
    "\n",
    "[To-do]1999年，Barabasi及其博士生Albert在Science上的文章《Emergence of Scaling in Random Networks》提出无尺度网络模型(度分布为幂律分布)，\n",
    "\n",
    "[To-do]2002年Girvan和Newman在PNAS上的一篇文章《Community structure in social and biological networks》，指出复杂网络中普遍存在着聚类特性，每一个类称之为一个社团(community)，并提出了一个发现这些社团的算法。"
   ]
  },
  {
   "cell_type": "markdown",
   "id": "ccfb30e8-98f6-4b88-afa5-897fcd53ea7c",
   "metadata": {},
   "source": [
    "## 金融网络和金融传染\n",
    "\n",
    "Allen F, Gale D. Financial contagion[J]. Journal of Political Economy, 2000, 108(1): 1-33\n",
    "\n",
    "1. Yellen, J.L. 2013: [Interconnectedness and systemic risk: Lessons from the financial crisis and policy implications](https://www.federalreserve.gov/newsevents/speech/yellen20130104a.htm), Speech at the American Economic Association/American Finance Association Joint Luncheon, San Diego, California\n",
    "\n",
    "\n",
    "\n"
   ]
  },
  {
   "cell_type": "markdown",
   "id": "2bfb043b-8577-493b-a412-9503fd61aa2e",
   "metadata": {},
   "source": [
    "## 一些新想法"
   ]
  },
  {
   "cell_type": "markdown",
   "id": "cb407667-923b-4eef-910d-851df8cf6abd",
   "metadata": {},
   "source": [
    "使用  Manifold learning and t-SNE 方法来描述系统性风险网络"
   ]
  },
  {
   "cell_type": "markdown",
   "id": "70ae7f1b-0d19-446d-a43e-1e531694a0a0",
   "metadata": {},
   "source": [
    "参考：\n",
    "- Introduction to Machine Learning - 11 - Manifold learning and t-SNE：\n",
    "https://www.youtube.com/watch?v=MnRskV3NY1k\n",
    "- Visualizing Data Using t-SNEVisualizing Data Using t-SNE：https://www.youtube.com/watch?v=RJVL80Gg3lAhttps://www.youtube.com/watch?v=RJVL80Gg3lA\n",
    "- 介绍：https://www.oreilly.com/content/an-illustrated-introduction-to-the-t-sne-algorithm/\n",
    "- sklearn的t-SNE的实现：https://scikit-learn.org/stable/modules/manifold.html#t-sne"
   ]
  },
  {
   "cell_type": "markdown",
   "id": "65002b4a-d083-4e03-9dd7-0f1a40697c35",
   "metadata": {},
   "source": [
    "# 系统性风险研究机构"
   ]
  },
  {
   "cell_type": "markdown",
   "id": "e8f8a59c-afeb-4f86-82ae-9ca26c281396",
   "metadata": {},
   "source": [
    "## Systemic Risk Centre at LSE\n",
    "The Systemic Risk Centre (SRC) was set up to study the risks that may trigger the next financial crisis and to develop tools to help policymakers and financial institutions become better prepared. \n",
    "https://www.systemicrisk.ac.uk"
   ]
  },
  {
   "cell_type": "markdown",
   "id": "c51e7775-4b4e-43d9-be04-f67f715563f4",
   "metadata": {},
   "source": [
    "## AIRiskLab at UCL\n",
    "We live in an era where scientific fields are overwhelmingly impacted by AI, becoming ever more reliant on it, and finance is no exception. Although the use of AI in financial modelling has already begun and the prospects are promising, the complexity of AI algorithms entails that it is not clear how and to what extent such algorithms will reshape the world of finance. To face these challenges, now more than ever, a thorough analysis and investigations of these models with innovative ideas and solutions are required.\n",
    "https://www.ucl.ac.uk/institute-finance-technology/research/airisklab"
   ]
  },
  {
   "cell_type": "markdown",
   "id": "7138850a-d1da-481f-b1ef-519c68ba79c9",
   "metadata": {},
   "source": [
    "## Systemic Risk Hub\n",
    "Systemic Risk Hub is an independent and collaborative initiative, which groups together leading researchers, academics and professionals, acting separately or altogether within various institutions around the world. The aim of this Hub is to bring together the most outstanding developments in the current literature regarding systemic risk, creating a platform for transfers of knowledge and dialogue. This Hub also encourages collaborative cross-fertilizations, evaluations and propositions of improved methodologies for assessing this type of risk.\n",
    "http://www.systemic-risk-hub.org"
   ]
  },
  {
   "cell_type": "markdown",
   "id": "80a7ced6-fef0-43ec-afa2-00398bac5692",
   "metadata": {},
   "source": [
    "\n",
    "Tools and concepts from the complex networks theory has been applied to analyze and watch temporal evolution of the financial market, such as May(2008), Goyal(2009), Jackson(2008) & Vega-Redondo(2007).\n",
    "\n",
    "Financial systemic risk is the risk associated with the occurrence of a breakdown of the financial system(Caccioli, 2017). The contagion within financial system(for example, the interbank market, the payments system, portfolio correlations. etc.) can be measured by the connectivity of network, which means the shock from part institutes will be transmitted widely, and will amplify within highly connected network.(Aubuchon,2010). \n",
    "\n",
    "The evolution of the topology of the network of cross-border bank exposures shows that the network’s connectivity, degree and clustering coefficient have increased over time while the average path length between nodes has declined(Hattori, 2007).\n",
    "\n",
    "The connections of nodes in a financial network can be well described as the distance $d_{ij}=\\sqrt{2(1−ρ_{ij})}$, where $ρ_{ij}$ is the correlation coefficient of the log-return time series of two stock $i$ and $j$, which was proposed by Mantegna(1999). \n",
    "\n",
    "\n",
    "文献：[1]R.N.Mantegna,H.E.Stanley,AnIntroductiontoEconophysics:CorrelationsandComplexityinFinance,CambridgeUniversityPress,Cambridge,1999.\n",
    "[2]Mantegna, R. N. (1999). Hierarchical structure in financial markets. The European Physical Journal B, 11(1), 193–197. doi:10.1007/s100510050929 \n",
    "[3]Aubuchon, C., & Wheelock, D. (2010). The geographic distribution and characteristics of U.S. bank failures, 2007–2010: Do bank failures still reflect local economic conditions? Federal Reserve Bank of St. Louis Review, 92, 395–415.\n",
    "[4]Goyal, S. (2009). Connections: An introduction to the economics of networks. Princeton: Princeton\n",
    "University Press.\n",
    "[5]Jackson, M. (2008). Social and economic networks. Princeton: Princeton University Press.\n",
    "[6]Vega-Redondo, F. (2007). Complex social networks. Cambridge: Cambridge University Press.\n",
    "[7]Hattori, M., & Suda, Y. (2007). Developments in a cross-border bank exposure “network”. Bank of Japan Working Paper 07-E-21.\n",
    "[8]Caccioli, F., & Barucca, P., Kobayashi, T. (2017). Network models of financial systemic risk: A review. \n",
    "[9]May, R., & Arinaminpathy, N. (2010). Systemic risk: The dynamics of model banking systems. Interface: Journal of the Royal Society, 7, 823–838.\n",
    "[10]May, R., Levin, S., & Sugihara, G. (2008). Ecology for bankers. Nature, 451, 893–895.\n",
    "\n"
   ]
  },
  {
   "cell_type": "code",
   "execution_count": null,
   "id": "7e90845c-7016-4205-8cc1-5547a856c338",
   "metadata": {},
   "outputs": [],
   "source": []
  },
  {
   "cell_type": "markdown",
   "id": "2a5a3389-e8b0-45b4-8078-9b2aa5e3492d",
   "metadata": {},
   "source": [
    "### V-lab\n",
    "link:https://vlab.stern.nyu.edu/zh/docs/liquidity"
   ]
  }
 ],
 "metadata": {
  "kernelspec": {
   "display_name": "Python 3 (ipykernel)",
   "language": "python",
   "name": "python3"
  },
  "language_info": {
   "codemirror_mode": {
    "name": "ipython",
    "version": 3
   },
   "file_extension": ".py",
   "mimetype": "text/x-python",
   "name": "python",
   "nbconvert_exporter": "python",
   "pygments_lexer": "ipython3",
   "version": "3.11.5"
  },
  "toc-autonumbering": true
 },
 "nbformat": 4,
 "nbformat_minor": 5
}
