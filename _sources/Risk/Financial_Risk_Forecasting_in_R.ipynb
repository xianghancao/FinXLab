{
 "cells": [
  {
   "cell_type": "markdown",
   "metadata": {},
   "source": [
    "# Introduction\n",
    "\n",
    "This notebook is an implementation of Jón Daníelsson's _Financial Risk Forecasting_ (Wiley, 2011) in R 4.2.0, with annotations and introductory examples. The introductory examples (Appendix) are similar to Appendix B in the original book.\n",
    "\n",
    "Bullet point numbers correspond to the R/MATLAB Listing numbers in the original book, referred to henceforth as _FRF_.\n",
    "\n",
    "More details can be found at the book website: https://www.financialriskforecasting.com/\n",
    "\n",
    "Last updated: June 2022"
   ]
  },
  {
   "cell_type": "markdown",
   "metadata": {},
   "source": [
    "Copyright 2011- 2020 Jón Daníelsson. This code is free software: you can redistribute it and/or modify it under the terms of the GNU General Public License as published by the Free Software Foundation, either version 3 of the License, or (at your option) any later version. This code is distributed in the hope that it will be useful, but WITHOUT ANY WARRANTY; without even the implied warranty of MERCHANTABILITY or FITNESS FOR A PARTICULAR PURPOSE. See the GNU General Public License for more details. The GNU General Public License is available at: https://www.gnu.org/licenses/."
   ]
  },
  {
   "cell_type": "markdown",
   "metadata": {},
   "source": [
    "<a id='top'></a>\n",
    "## Table of Contents \n",
    "[Chapter 0. Appendix - Introduction](#0) <br>\n",
    "[Chapter 1. Financial Markets, Prices and Risk](#1) <br>\n",
    "[Chapter 2. Univariate Volatility Modeling](#2) <br>\n",
    "[Chapter 3. Multivariate Volatility Models](#3) <br>\n",
    "[Chapter 4. Risk Measures](#4) <br>\n",
    "[Chapter 5. Implementing Risk Forecasts](#5) <br>\n",
    "[Chapter 6. Analytical Value-at-Risk for Options and Bonds](#6) <br>\n",
    "[Chapter 7. Simulation Methods for VaR for Options and Bonds](#7) <br>\n",
    "[Chapter 8. Backtesting and Stress Testing](#8) <br>\n",
    "[Chapter 9. Extreme Value Theory](#9) <br>"
   ]
  },
  {
   "cell_type": "markdown",
   "metadata": {},
   "source": [
    "<a id='0'></a>\n",
    "***"
   ]
  },
  {
   "cell_type": "markdown",
   "metadata": {},
   "source": [
    "# Appendix: An Introduction to R\n",
    "\n",
    "Created in R 4.2 (June 2022)\n",
    "\n",
    "-  R.1: Entering and Printing Data\n",
    "-  R.2: Vectors, Matrices and Sequences\n",
    "-  R.3: Importing Data (to be updated)\n",
    "-  R.4: Basic Summary Statistics\n",
    "-  R.5: Calculating Moments\n",
    "-  R.6: Basic Matrix Operations\n",
    "-  R.7: Statistical Distributions\n",
    "-  R.8: Statistical Tests\n",
    "-  R.9: Time Series\n",
    "-  R.10: Loops and Functions\n",
    "-  R.11: Basic Graphs\n",
    "-  R.12: Miscellaneous Useful Functions"
   ]
  },
  {
   "cell_type": "code",
   "execution_count": 1,
   "metadata": {},
   "outputs": [
    {
     "name": "stdout",
     "output_type": "stream",
     "text": [
      "[1] 10\n"
     ]
    }
   ],
   "source": [
    "# Entering and Printing Data in R\n",
    "# Listing R.1\n",
    "# Last updated June 2018\n",
    "#\n",
    "#\n",
    "\n",
    "x = 10             # assign x the value 10\n",
    "print(x)           # print x"
   ]
  },
  {
   "cell_type": "code",
   "execution_count": 2,
   "metadata": {},
   "outputs": [
    {
     "name": "stdout",
     "output_type": "stream",
     "text": [
      "[1] 1 3 5 7 9\n",
      "[1] 5\n",
      "NULL\n",
      "[1] 5\n",
      "[1] 2 3\n",
      "     [,1] [,2] [,3]\n",
      "[1,]    1    1    1\n",
      "[2,]    2    2    2\n",
      "[3,]    3    3    3\n",
      "[4,]    1    1    1\n",
      "[5,]    2    2    2\n",
      "[6,]    3    3    3\n",
      " [1]  1  2  3  4  5  6  7  8  9 10\n"
     ]
    }
   ],
   "source": [
    "# Vectors, Matrices and Sequences in R\n",
    "# Listing R.2\n",
    "# Last updated June 2018\n",
    "#\n",
    "#\n",
    "\n",
    "y = c(1,3,5,7,9)          # create vector using c()\n",
    "\n",
    "print(y)\n",
    "\n",
    "print(y[3])               # calling 3rd element (R indices start at 1)\n",
    "\n",
    "print(dim(y))             # gives NULL since y is a vector, not a matrix\n",
    "\n",
    "print(length(y))          # as expected, y has length 5\n",
    "\n",
    "v = matrix(nrow=2,ncol=3) # fill a 2 x 3 matrix with NaN values (default)\n",
    "\n",
    "print(dim(v))             # as expected, v is size (2,3)\n",
    "\n",
    "w = matrix(c(1,2,3),nrow=6,ncol=3) # repeats matrix twice by rows, thrice by columns\n",
    "\n",
    "print(w)\n",
    "\n",
    "s = 1:10                  # s is a list of integers from 1 to 10 inclusive\n",
    "\n",
    "print(s)                  "
   ]
  },
  {
   "cell_type": "code",
   "execution_count": 3,
   "metadata": {},
   "outputs": [
    {
     "data": {
      "text/html": [
       "16.25"
      ],
      "text/latex": [
       "16.25"
      ],
      "text/markdown": [
       "16.25"
      ],
      "text/plain": [
       "[1] 16.25"
      ]
     },
     "metadata": {},
     "output_type": "display_data"
    },
    {
     "data": {
      "text/html": [
       "115.785"
      ],
      "text/latex": [
       "115.785"
      ],
      "text/markdown": [
       "115.785"
      ],
      "text/plain": [
       "[1] 115.785"
      ]
     },
     "metadata": {},
     "output_type": "display_data"
    },
    {
     "data": {
      "text/html": [
       "9"
      ],
      "text/latex": [
       "9"
      ],
      "text/markdown": [
       "9"
      ],
      "text/plain": [
       "[1] 9"
      ]
     },
     "metadata": {},
     "output_type": "display_data"
    },
    {
     "data": {
      "text/html": [
       "3.1"
      ],
      "text/latex": [
       "3.1"
      ],
      "text/markdown": [
       "3.1"
      ],
      "text/plain": [
       "[1] 3.1"
      ]
     },
     "metadata": {},
     "output_type": "display_data"
    },
    {
     "data": {
      "text/html": [
       "<ol class=list-inline>\n",
       "\t<li>3.1</li>\n",
       "\t<li>9</li>\n",
       "</ol>\n"
      ],
      "text/latex": [
       "\\begin{enumerate*}\n",
       "\\item 3.1\n",
       "\\item 9\n",
       "\\end{enumerate*}\n"
      ],
      "text/markdown": [
       "1. 3.1\n",
       "2. 9\n",
       "\n",
       "\n"
      ],
      "text/plain": [
       "[1] 3.1 9.0"
      ]
     },
     "metadata": {},
     "output_type": "display_data"
    },
    {
     "data": {
      "text/html": [
       "5.41666666666667"
      ],
      "text/latex": [
       "5.41666666666667"
      ],
      "text/markdown": [
       "5.41666666666667"
      ],
      "text/plain": [
       "[1] 5.416667"
      ]
     },
     "metadata": {},
     "output_type": "display_data"
    },
    {
     "data": {
      "text/html": [
       "4.15"
      ],
      "text/latex": [
       "4.15"
      ],
      "text/markdown": [
       "4.15"
      ],
      "text/plain": [
       "[1] 4.15"
      ]
     },
     "metadata": {},
     "output_type": "display_data"
    },
    {
     "data": {
      "text/html": [
       "<table>\n",
       "<tbody>\n",
       "\t<tr><td>9.905833</td></tr>\n",
       "</tbody>\n",
       "</table>\n"
      ],
      "text/latex": [
       "\\begin{tabular}{l}\n",
       "\t 9.905833\\\\\n",
       "\\end{tabular}\n"
      ],
      "text/markdown": [
       "\n",
       "| 9.905833 |\n",
       "\n"
      ],
      "text/plain": [
       "     [,1]    \n",
       "[1,] 9.905833"
      ]
     },
     "metadata": {},
     "output_type": "display_data"
    },
    {
     "data": {
      "text/html": [
       "<table>\n",
       "<tbody>\n",
       "\t<tr><td>9.905833</td></tr>\n",
       "</tbody>\n",
       "</table>\n"
      ],
      "text/latex": [
       "\\begin{tabular}{l}\n",
       "\t 9.905833\\\\\n",
       "\\end{tabular}\n"
      ],
      "text/markdown": [
       "\n",
       "| 9.905833 |\n",
       "\n"
      ],
      "text/plain": [
       "     [,1]    \n",
       "[1,] 9.905833"
      ]
     },
     "metadata": {},
     "output_type": "display_data"
    },
    {
     "data": {
      "text/html": [
       "<table>\n",
       "<tbody>\n",
       "\t<tr><td>1</td></tr>\n",
       "</tbody>\n",
       "</table>\n"
      ],
      "text/latex": [
       "\\begin{tabular}{l}\n",
       "\t 1\\\\\n",
       "\\end{tabular}\n"
      ],
      "text/markdown": [
       "\n",
       "| 1 |\n",
       "\n"
      ],
      "text/plain": [
       "     [,1]\n",
       "[1,] 1   "
      ]
     },
     "metadata": {},
     "output_type": "display_data"
    },
    {
     "data": {
      "text/html": [
       "<ol class=list-inline>\n",
       "\t<li>3.1</li>\n",
       "\t<li>4.15</li>\n",
       "\t<li>9</li>\n",
       "</ol>\n"
      ],
      "text/latex": [
       "\\begin{enumerate*}\n",
       "\\item 3.1\n",
       "\\item 4.15\n",
       "\\item 9\n",
       "\\end{enumerate*}\n"
      ],
      "text/markdown": [
       "1. 3.1\n",
       "2. 4.15\n",
       "3. 9\n",
       "\n",
       "\n"
      ],
      "text/plain": [
       "[1] 3.10 4.15 9.00"
      ]
     },
     "metadata": {},
     "output_type": "display_data"
    },
    {
     "data": {
      "text/html": [
       "<table>\n",
       "<tbody>\n",
       "\t<tr><td>1.131402</td></tr>\n",
       "\t<tr><td>1.423108</td></tr>\n",
       "\t<tr><td>2.197225</td></tr>\n",
       "</tbody>\n",
       "</table>\n"
      ],
      "text/latex": [
       "\\begin{tabular}{l}\n",
       "\t 1.131402\\\\\n",
       "\t 1.423108\\\\\n",
       "\t 2.197225\\\\\n",
       "\\end{tabular}\n"
      ],
      "text/markdown": [
       "\n",
       "| 1.131402 |\n",
       "| 1.423108 |\n",
       "| 2.197225 |\n",
       "\n"
      ],
      "text/plain": [
       "     [,1]    \n",
       "[1,] 1.131402\n",
       "[2,] 1.423108\n",
       "[3,] 2.197225"
      ]
     },
     "metadata": {},
     "output_type": "display_data"
    }
   ],
   "source": [
    "# Basic Summary Statistics in R\n",
    "# Listing R.3\n",
    "# Last updated June 2018\n",
    "#\n",
    "#\n",
    "\n",
    "y=matrix(c(3.1,4.15,9))\n",
    "\n",
    "sum(y)         # sum of all elements of y\n",
    "prod(y)        # product of all elements of y\n",
    "max(y)         # maximum value of y\n",
    "min(y)         # minimum value of y\n",
    "range(y)       # min, max value of y\n",
    "mean(y)        # arithmetic mean\n",
    "median(y)      # median\n",
    "var(y)         # variance\n",
    "cov(y)         # covar matrix = variance for single vector\n",
    "cor(y)         # corr matrix = [1] for single vector\n",
    "sort(y)        # sorting in ascending order\n",
    "log(y)         # natural log"
   ]
  },
  {
   "cell_type": "code",
   "execution_count": 4,
   "metadata": {},
   "outputs": [
    {
     "data": {
      "text/html": [
       "5.41666666666667"
      ],
      "text/latex": [
       "5.41666666666667"
      ],
      "text/markdown": [
       "5.41666666666667"
      ],
      "text/plain": [
       "[1] 5.416667"
      ]
     },
     "metadata": {},
     "output_type": "display_data"
    },
    {
     "data": {
      "text/html": [
       "<table>\n",
       "<tbody>\n",
       "\t<tr><td>9.905833</td></tr>\n",
       "</tbody>\n",
       "</table>\n"
      ],
      "text/latex": [
       "\\begin{tabular}{l}\n",
       "\t 9.905833\\\\\n",
       "\\end{tabular}\n"
      ],
      "text/markdown": [
       "\n",
       "| 9.905833 |\n",
       "\n"
      ],
      "text/plain": [
       "     [,1]    \n",
       "[1,] 9.905833"
      ]
     },
     "metadata": {},
     "output_type": "display_data"
    },
    {
     "data": {
      "text/html": [
       "3.14735338551827"
      ],
      "text/latex": [
       "3.14735338551827"
      ],
      "text/markdown": [
       "3.14735338551827"
      ],
      "text/plain": [
       "[1] 3.147353"
      ]
     },
     "metadata": {},
     "output_type": "display_data"
    },
    {
     "data": {
      "text/html": [
       "0.61960293299089"
      ],
      "text/latex": [
       "0.61960293299089"
      ],
      "text/markdown": [
       "0.61960293299089"
      ],
      "text/plain": [
       "[1] 0.6196029"
      ]
     },
     "metadata": {},
     "output_type": "display_data"
    },
    {
     "data": {
      "text/html": [
       "1.5"
      ],
      "text/latex": [
       "1.5"
      ],
      "text/markdown": [
       "1.5"
      ],
      "text/plain": [
       "[1] 1.5"
      ]
     },
     "metadata": {},
     "output_type": "display_data"
    }
   ],
   "source": [
    "# Calculating Moments in R\n",
    "# Listing R.4\n",
    "# Last updated June 2018\n",
    "#\n",
    "#\n",
    "\n",
    "library(moments)\n",
    "\n",
    "mean(y)      # mean\n",
    "var(y)       # variance\n",
    "sd(y)        # unbiased standard deviation, by default\n",
    "skewness(y)  # skewness\n",
    "kurtosis(y)  # kurtosis"
   ]
  },
  {
   "cell_type": "code",
   "execution_count": 5,
   "metadata": {},
   "outputs": [
    {
     "data": {
      "text/html": [
       "<table>\n",
       "<tbody>\n",
       "\t<tr><td> 7</td></tr>\n",
       "\t<tr><td>10</td></tr>\n",
       "</tbody>\n",
       "</table>\n"
      ],
      "text/latex": [
       "\\begin{tabular}{l}\n",
       "\t  7\\\\\n",
       "\t 10\\\\\n",
       "\\end{tabular}\n"
      ],
      "text/markdown": [
       "\n",
       "|  7 |\n",
       "| 10 |\n",
       "\n"
      ],
      "text/plain": [
       "     [,1]\n",
       "[1,]  7  \n",
       "[2,] 10  "
      ]
     },
     "metadata": {},
     "output_type": "display_data"
    },
    {
     "data": {
      "text/html": [
       "<table>\n",
       "<tbody>\n",
       "\t<tr><td>1</td><td>3</td></tr>\n",
       "\t<tr><td>2</td><td>4</td></tr>\n",
       "\t<tr><td>1</td><td>2</td></tr>\n",
       "</tbody>\n",
       "</table>\n"
      ],
      "text/latex": [
       "\\begin{tabular}{ll}\n",
       "\t 1 & 3\\\\\n",
       "\t 2 & 4\\\\\n",
       "\t 1 & 2\\\\\n",
       "\\end{tabular}\n"
      ],
      "text/markdown": [
       "\n",
       "| 1 | 3 |\n",
       "| 2 | 4 |\n",
       "| 1 | 2 |\n",
       "\n"
      ],
      "text/plain": [
       "     [,1] [,2]\n",
       "[1,] 1    3   \n",
       "[2,] 2    4   \n",
       "[3,] 1    2   "
      ]
     },
     "metadata": {},
     "output_type": "display_data"
    },
    {
     "data": {
      "text/html": [
       "<table>\n",
       "<tbody>\n",
       "\t<tr><td>1</td><td>3</td><td>1</td></tr>\n",
       "\t<tr><td>2</td><td>4</td><td>2</td></tr>\n",
       "</tbody>\n",
       "</table>\n"
      ],
      "text/latex": [
       "\\begin{tabular}{lll}\n",
       "\t 1 & 3 & 1\\\\\n",
       "\t 2 & 4 & 2\\\\\n",
       "\\end{tabular}\n"
      ],
      "text/markdown": [
       "\n",
       "| 1 | 3 | 1 |\n",
       "| 2 | 4 | 2 |\n",
       "\n"
      ],
      "text/plain": [
       "     [,1] [,2] [,3]\n",
       "[1,] 1    3    1   \n",
       "[2,] 2    4    2   "
      ]
     },
     "metadata": {},
     "output_type": "display_data"
    }
   ],
   "source": [
    "# Basic Matrix Operations in R\n",
    "# Listing R.5\n",
    "# Last updated June 2018\n",
    "#\n",
    "#\n",
    "\n",
    "z = matrix(c(1,2,3,4),2,2)   # z is a 2 x 2 matrix\n",
    "x = matrix(c(1,2),1,2)       # x is a 1 x 2 matrix\n",
    "\n",
    "## Note: z * x is undefined since the two matrices are not conformable\n",
    "\n",
    "z %*% t(x)                   # this evaluates to a 2 x 1 matrix\n",
    "\n",
    "rbind(z,x)                   # \"stacking\" z and x vertically\n",
    "cbind(z,t(x))                # \"stacking z and x' horizontally\n",
    "\n",
    "## Note: dimensions must match along the combining axis"
   ]
  },
  {
   "cell_type": "code",
   "execution_count": 6,
   "metadata": {},
   "outputs": [
    {
     "data": {
      "text/html": [
       "<ol class=list-inline>\n",
       "\t<li>-1.2815515655446</li>\n",
       "\t<li>-0.841621233572914</li>\n",
       "\t<li>-0.524400512708041</li>\n",
       "\t<li>-0.2533471031358</li>\n",
       "\t<li>0</li>\n",
       "\t<li>0.2533471031358</li>\n",
       "\t<li>0.524400512708041</li>\n",
       "\t<li>0.841621233572914</li>\n",
       "\t<li>1.2815515655446</li>\n",
       "</ol>\n"
      ],
      "text/latex": [
       "\\begin{enumerate*}\n",
       "\\item -1.2815515655446\n",
       "\\item -0.841621233572914\n",
       "\\item -0.524400512708041\n",
       "\\item -0.2533471031358\n",
       "\\item 0\n",
       "\\item 0.2533471031358\n",
       "\\item 0.524400512708041\n",
       "\\item 0.841621233572914\n",
       "\\item 1.2815515655446\n",
       "\\end{enumerate*}\n"
      ],
      "text/markdown": [
       "1. -1.2815515655446\n",
       "2. -0.841621233572914\n",
       "3. -0.524400512708041\n",
       "4. -0.2533471031358\n",
       "5. 0\n",
       "6. 0.2533471031358\n",
       "7. 0.524400512708041\n",
       "8. 0.841621233572914\n",
       "9. 1.2815515655446\n",
       "\n",
       "\n"
      ],
      "text/plain": [
       "[1] -1.2815516 -0.8416212 -0.5244005 -0.2533471  0.0000000  0.2533471  0.5244005\n",
       "[8]  0.8416212  1.2815516"
      ]
     },
     "metadata": {},
     "output_type": "display_data"
    },
    {
     "data": {
      "text/html": [
       "<ol class=list-inline>\n",
       "\t<li>0.0199709840358594</li>\n",
       "\t<li>0.0580582617584078</li>\n",
       "\t<li>0.186950483150029</li>\n",
       "\t<li>0.5</li>\n",
       "\t<li>0.813049516849971</li>\n",
       "\t<li>0.941941738241592</li>\n",
       "\t<li>0.980029015964141</li>\n",
       "</ol>\n"
      ],
      "text/latex": [
       "\\begin{enumerate*}\n",
       "\\item 0.0199709840358594\n",
       "\\item 0.0580582617584078\n",
       "\\item 0.186950483150029\n",
       "\\item 0.5\n",
       "\\item 0.813049516849971\n",
       "\\item 0.941941738241592\n",
       "\\item 0.980029015964141\n",
       "\\end{enumerate*}\n"
      ],
      "text/markdown": [
       "1. 0.0199709840358594\n",
       "2. 0.0580582617584078\n",
       "3. 0.186950483150029\n",
       "4. 0.5\n",
       "5. 0.813049516849971\n",
       "6. 0.941941738241592\n",
       "7. 0.980029015964141\n",
       "\n",
       "\n"
      ],
      "text/plain": [
       "[1] 0.01997098 0.05805826 0.18695048 0.50000000 0.81304952 0.94194174 0.98002902"
      ]
     },
     "metadata": {},
     "output_type": "display_data"
    },
    {
     "data": {
      "text/html": [
       "<ol class=list-inline>\n",
       "\t<li>0</li>\n",
       "\t<li>0</li>\n",
       "\t<li>0</li>\n",
       "\t<li>0.5</li>\n",
       "\t<li>0.303265329856317</li>\n",
       "\t<li>0.183939720585721</li>\n",
       "\t<li>0.111565080074215</li>\n",
       "</ol>\n"
      ],
      "text/latex": [
       "\\begin{enumerate*}\n",
       "\\item 0\n",
       "\\item 0\n",
       "\\item 0\n",
       "\\item 0.5\n",
       "\\item 0.303265329856317\n",
       "\\item 0.183939720585721\n",
       "\\item 0.111565080074215\n",
       "\\end{enumerate*}\n"
      ],
      "text/markdown": [
       "1. 0\n",
       "2. 0\n",
       "3. 0\n",
       "4. 0.5\n",
       "5. 0.303265329856317\n",
       "6. 0.183939720585721\n",
       "7. 0.111565080074215\n",
       "\n",
       "\n"
      ],
      "text/plain": [
       "[1] 0.0000000 0.0000000 0.0000000 0.5000000 0.3032653 0.1839397 0.1115651"
      ]
     },
     "metadata": {},
     "output_type": "display_data"
    },
    {
     "name": "stdout",
     "output_type": "stream",
     "text": [
      "      mean          sd    \n",
      "  0.09037338   1.46351265 \n",
      " (0.14635126) (0.10348597)\n"
     ]
    }
   ],
   "source": [
    "# Statistical Distributions in R\n",
    "# Listing R.6\n",
    "# Last updated June 2018\n",
    "#\n",
    "#\n",
    "\n",
    "\n",
    "q = seq(from = -3, to = 3, length = 7)     # specify a set of values\n",
    "\n",
    "p = seq(from = 0.1, to = 0.9, length = 9)  # specify a set of probabilities\n",
    "\n",
    "qnorm(p, mean = 0, sd = 1)                 # element-wise inverse Normal quantile\n",
    "\n",
    "pt(q, df = 4)                              # element-wise cdf under Student-t(4)\n",
    "\n",
    "dchisq(q, df = 2)                          # element-wise pdf under Chisq(2)\n",
    "\n",
    "## Similar syntax for other distributions\n",
    "## q for quantile, p for cdf, d for pdf\n",
    "## followed by the abbreviation of the distribution\n",
    "\n",
    "## One can also obtain pseudorandom samples from distributions\n",
    "\n",
    "x = rt(100, df = 5)                        # Sampling 100 times from TDist with 5 df\n",
    "\n",
    "y = rnorm(50, mean = 0, sd = 1)            # Sampling 50 times from a standard normal \n",
    "\n",
    "## Given data, we obtain MLE estimates of distribution parameters with package MASS:\n",
    "\n",
    "library(MASS)\n",
    "\n",
    "res = fitdistr(x, densfun = \"normal\")      # Fitting x to normal dist\n",
    "\n",
    "print(res)"
   ]
  },
  {
   "cell_type": "code",
   "execution_count": 7,
   "metadata": {},
   "outputs": [
    {
     "name": "stderr",
     "output_type": "stream",
     "text": [
      "Warning message:\n",
      "\"package 'tseries' was built under R version 3.6.3\"Registered S3 method overwritten by 'xts':\n",
      "  method     from\n",
      "  as.zoo.xts zoo \n",
      "Registered S3 method overwritten by 'quantmod':\n",
      "  method            from\n",
      "  as.zoo.data.frame zoo \n"
     ]
    },
    {
     "data": {
      "text/plain": [
       "\n",
       "\tJarque Bera Test\n",
       "\n",
       "data:  x\n",
       "X-squared = 181.87, df = 2, p-value < 2.2e-16\n"
      ]
     },
     "metadata": {},
     "output_type": "display_data"
    },
    {
     "data": {
      "text/plain": [
       "\n",
       "\tBox-Ljung test\n",
       "\n",
       "data:  x\n",
       "X-squared = 16.067, df = 20, p-value = 0.7125\n"
      ]
     },
     "metadata": {},
     "output_type": "display_data"
    }
   ],
   "source": [
    "# Statistical Tests in R\n",
    "# Listing R.7\n",
    "# Last updated June 2018\n",
    "#\n",
    "#\n",
    "\n",
    "library(tseries)\n",
    "\n",
    "x = rt(500, df = 5)                            # Create hypothetical dataset x\n",
    "\n",
    "jarque.bera.test(x)                            # Jarque-Bera test for normality\n",
    "Box.test(x, lag = 20, type = c(\"Ljung-Box\"))   # Ljung-Box test for serial correlation"
   ]
  },
  {
   "cell_type": "code",
   "execution_count": 8,
   "metadata": {},
   "outputs": [
    {
     "data": {
      "image/png": "[encoded data removed]",
      "text/plain": [
       "Plot with title \"Series  x\""
      ]
     },
     "metadata": {},
     "output_type": "display_data"
    }
   ],
   "source": [
    "# Time Series in R\n",
    "# Listing R.8\n",
    "# Last updated June 2018\n",
    "#\n",
    "#\n",
    "\n",
    "x = rt(60, df = 5)  # Create hypothetical dataset x\n",
    "\n",
    "par(mfrow=c(1,2), pty='s')\n",
    "\n",
    "acf(x,20)           # autocorrelation for lags 1:20\n",
    "pacf(x,20)          # partial autocorrelation for lags 1:20"
   ]
  },
  {
   "cell_type": "code",
   "execution_count": 9,
   "metadata": {},
   "outputs": [
    {
     "name": "stdout",
     "output_type": "stream",
     "text": [
      "[1] 9\n",
      "[1] 16\n",
      "[1] 25\n",
      "[1] 36\n",
      "[1] 49\n",
      "[1] \"X is not a multiple of 3\"\n"
     ]
    },
    {
     "data": {
      "text/html": [
       "2.84966889440353"
      ],
      "text/latex": [
       "2.84966889440353"
      ],
      "text/markdown": [
       "2.84966889440353"
      ],
      "text/plain": [
       "[1] 2.849669"
      ]
     },
     "metadata": {},
     "output_type": "display_data"
    }
   ],
   "source": [
    "# Loops and Functions in R\n",
    "# Listing R.9\n",
    "# Last updated June 2018\n",
    "#\n",
    "#\n",
    "\n",
    "## For loops\n",
    "\n",
    "for (i in 3:7)        # iterates through [3,4,5,6,7]\n",
    "    print(i^2)      \n",
    "\n",
    "## If-else loops\n",
    "\n",
    "X = 10\n",
    "\n",
    "if (X %% 3 == 0) {\n",
    "    print(\"X is a multiple of 3\")\n",
    "} else {\n",
    "    print(\"X is not a multiple of 3\")\n",
    "}\n",
    "    \n",
    "## Functions (example: a simple excess kurtosis function)\n",
    "\n",
    "excess_kurtosis = function(x, excess = 3){ # note: excess optional, default=3\n",
    "    m4 = mean((x-mean(x))^4)\n",
    "    excess_kurt = m4/(sd(x)^4) - excess\n",
    "    excess_kurt\n",
    "}\n",
    "\n",
    "x = rt(60, df = 5)                         # Create hypothetical dataset x\n",
    "\n",
    "excess_kurtosis(x)      "
   ]
  },
  {
   "cell_type": "code",
   "execution_count": 10,
   "metadata": {},
   "outputs": [
    {
     "data": {
      "image/png": "[encoded data removed]",
      "text/plain": [
       "Plot with title \"Histogram of y\""
      ]
     },
     "metadata": {},
     "output_type": "display_data"
    }
   ],
   "source": [
    "# Basic Graphs in R\n",
    "# Listing R.10\n",
    "# Last updated June 2018\n",
    "#\n",
    "#\n",
    "\n",
    "y = rnorm(50, mean = 0, sd = 1)\n",
    "\n",
    "par(mfrow=c(2,2)) # sets up space for subplots\n",
    "\n",
    "barplot(y)        # bar plot\n",
    "plot(y,type='l')  # line plot\n",
    "hist(y)           # histogram\n",
    "plot(y)           # scatter plot"
   ]
  },
  {
   "cell_type": "code",
   "execution_count": 11,
   "metadata": {},
   "outputs": [
    {
     "name": "stdout",
     "output_type": "stream",
     "text": [
      "[1] \"double\"\n",
      "[1] \"integer\"\n"
     ]
    }
   ],
   "source": [
    "# Miscellaneous Useful Functions in R\n",
    "# Listing R.11\n",
    "# Last updated June 2018\n",
    "#\n",
    "#\n",
    "\n",
    "## Convert objects from one type to another with as.integer() etc\n",
    "## To check type, use typeof(object)\n",
    "\n",
    "x = 8.0\n",
    "\n",
    "print(typeof(x))\n",
    "\n",
    "x = as.integer(x)\n",
    "\n",
    "print(typeof(x))"
   ]
  },
  {
   "cell_type": "markdown",
   "metadata": {},
   "source": [
    "<a id='1'></a>\n",
    "***"
   ]
  },
  {
   "cell_type": "markdown",
   "metadata": {},
   "source": [
    "# Chapter 1: Financial Markets, Prices and Risk\n",
    "\n",
    "-  1.1: Loading hypothetical stock prices, converting to returns, plotting returns\n",
    "-  1.3: Summary statistics for returns timeseries\n",
    "-  1.5: Autocorrelation function (ACF) plots, Ljung-Box test\n",
    "-  1.7: Quantile-Quantile (QQ) plots\n",
    "-  1.9: Correlation matrix between different stocks"
   ]
  },
  {
   "cell_type": "code",
   "execution_count": 12,
   "metadata": {},
   "outputs": [
    {
     "data": {
      "image/png": "[encoded data removed]",
      "text/plain": [
       "plot without title"
      ]
     },
     "metadata": {},
     "output_type": "display_data"
    }
   ],
   "source": [
    "# Download S&P500 data in R\n",
    "# Listing 1.1\n",
    "# Last updated August 2019\n",
    "#\n",
    "#\n",
    "\n",
    "\n",
    " \n",
    "price = read.csv('index.csv')\n",
    "y=diff(log(price$Index))  # calculate returns\n",
    "plot(y)             # plot returns"
   ]
  },
  {
   "cell_type": "code",
   "execution_count": 13,
   "metadata": {
    "scrolled": true,
    "tags": []
   },
   "outputs": [
    {
     "data": {
      "text/html": [
       "0.000258159900825998"
      ],
      "text/latex": [
       "0.000258159900825998"
      ],
      "text/markdown": [
       "0.000258159900825998"
      ],
      "text/plain": [
       "[1] 0.0002581599"
      ]
     },
     "metadata": {},
     "output_type": "display_data"
    },
    {
     "data": {
      "text/html": [
       "0.0100057286437631"
      ],
      "text/latex": [
       "0.0100057286437631"
      ],
      "text/markdown": [
       "0.0100057286437631"
      ],
      "text/plain": [
       "[1] 0.01000573"
      ]
     },
     "metadata": {},
     "output_type": "display_data"
    },
    {
     "data": {
      "text/html": [
       "-0.101955486273023"
      ],
      "text/latex": [
       "-0.101955486273023"
      ],
      "text/markdown": [
       "-0.101955486273023"
      ],
      "text/plain": [
       "[1] -0.1019555"
      ]
     },
     "metadata": {},
     "output_type": "display_data"
    },
    {
     "data": {
      "text/html": [
       "0.106735895029117"
      ],
      "text/latex": [
       "0.106735895029117"
      ],
      "text/markdown": [
       "0.106735895029117"
      ],
      "text/plain": [
       "[1] 0.1067359"
      ]
     },
     "metadata": {},
     "output_type": "display_data"
    },
    {
     "data": {
      "text/html": [
       "0.152633269896337"
      ],
      "text/latex": [
       "0.152633269896337"
      ],
      "text/markdown": [
       "0.152633269896337"
      ],
      "text/plain": [
       "[1] 0.1526333"
      ]
     },
     "metadata": {},
     "output_type": "display_data"
    },
    {
     "data": {
      "text/html": [
       "16.981171461092"
      ],
      "text/latex": [
       "16.981171461092"
      ],
      "text/markdown": [
       "16.981171461092"
      ],
      "text/plain": [
       "[1] 16.98117"
      ]
     },
     "metadata": {},
     "output_type": "display_data"
    },
    {
     "data": {
      "text/plain": [
       "\n",
       "\tJarque Bera Test\n",
       "\n",
       "data:  y\n",
       "X-squared = 46251, df = 2, p-value < 2.2e-16\n"
      ]
     },
     "metadata": {},
     "output_type": "display_data"
    }
   ],
   "source": [
    "# Sample statistics in R\n",
    "# Listing 1.3\n",
    "# Last updated July 2020\n",
    "#\n",
    "#\n",
    "\n",
    "library(moments)\n",
    "library(tseries)\n",
    "\n",
    "mean(y)\n",
    "sd(y)\n",
    "min(y)\n",
    "max(y)\n",
    "skewness(y)\n",
    "kurtosis(y)\n",
    "jarque.bera.test(y)"
   ]
  },
  {
   "cell_type": "code",
   "execution_count": 14,
   "metadata": {
    "scrolled": true
   },
   "outputs": [
    {
     "data": {
      "text/plain": [
       "\n",
       "\tBox-Ljung test\n",
       "\n",
       "data:  y\n",
       "X-squared = 93.488, df = 20, p-value = 1.809e-11\n"
      ]
     },
     "metadata": {},
     "output_type": "display_data"
    },
    {
     "data": {
      "text/plain": [
       "\n",
       "\tBox-Ljung test\n",
       "\n",
       "data:  y^2\n",
       "X-squared = 2543, df = 20, p-value < 2.2e-16\n"
      ]
     },
     "metadata": {},
     "output_type": "display_data"
    },
    {
     "data": {
      "image/png": "[encoded data removed]",
      "text/plain": [
       "Plot with title \"Series  y^2\""
      ]
     },
     "metadata": {},
     "output_type": "display_data"
    }
   ],
   "source": [
    "# ACF plots and the Ljung-Box test in R\n",
    "# Listing 1.5\n",
    "# Last updated July 2020\n",
    "#\n",
    "#\n",
    "\n",
    "library(MASS)\n",
    "library(stats)\n",
    "\n",
    "par(mfrow=c(1,2), pty=\"s\")\n",
    "q = acf(y,20)\n",
    "q1 = acf(y^2,20)\n",
    "\n",
    "Box.test(y, lag = 20, type = c(\"Ljung-Box\"))\n",
    "Box.test(y^2, lag = 20, type = c(\"Ljung-Box\"))"
   ]
  },
  {
   "cell_type": "code",
   "execution_count": 15,
   "metadata": {
    "scrolled": true
   },
   "outputs": [
    {
     "name": "stderr",
     "output_type": "stream",
     "text": [
      "Loading required package: carData\n"
     ]
    },
    {
     "data": {
      "text/html": [
       "<ol class=list-inline>\n",
       "\t<li>3192</li>\n",
       "\t<li>3101</li>\n",
       "</ol>\n"
      ],
      "text/latex": [
       "\\begin{enumerate*}\n",
       "\\item 3192\n",
       "\\item 3101\n",
       "\\end{enumerate*}\n"
      ],
      "text/markdown": [
       "1. 3192\n",
       "2. 3101\n",
       "\n",
       "\n"
      ],
      "text/plain": [
       "[1] 3192 3101"
      ]
     },
     "metadata": {},
     "output_type": "display_data"
    },
    {
     "data": {
      "text/html": [
       "<ol class=list-inline>\n",
       "\t<li>3192</li>\n",
       "\t<li>3101</li>\n",
       "</ol>\n"
      ],
      "text/latex": [
       "\\begin{enumerate*}\n",
       "\\item 3192\n",
       "\\item 3101\n",
       "\\end{enumerate*}\n"
      ],
      "text/markdown": [
       "1. 3192\n",
       "2. 3101\n",
       "\n",
       "\n"
      ],
      "text/plain": [
       "[1] 3192 3101"
      ]
     },
     "metadata": {},
     "output_type": "display_data"
    },
    {
     "data": {
      "image/png": "[encoded data removed]",
      "text/plain": [
       "plot without title"
      ]
     },
     "metadata": {},
     "output_type": "display_data"
    }
   ],
   "source": [
    "# QQ plots in R\n",
    "# Listing 1.7\n",
    "# Last updated June 2018\n",
    "#\n",
    "#\n",
    "\n",
    "library(car)\n",
    "\n",
    "par(mfrow=c(1,2), pty=\"s\")\n",
    "\n",
    "qqPlot(y)\n",
    "qqPlot(y,distribution=\"t\",df=5)"
   ]
  },
  {
   "cell_type": "code",
   "execution_count": 16,
   "metadata": {},
   "outputs": [
    {
     "name": "stdout",
     "output_type": "stream",
     "text": [
      "          A         B         C\n",
      "A 1.0000000 0.2296842 0.2126192\n",
      "B 0.2296842 1.0000000 0.1450511\n",
      "C 0.2126192 0.1450511 1.0000000\n"
     ]
    }
   ],
   "source": [
    "# Download stock prices in R\n",
    "# Listing 1.9\n",
    "# Last updated June 2018\n",
    "#\n",
    "#\n",
    "\n",
    "p = read.csv('stocks.csv')\n",
    "\n",
    "y=apply(log(p),2,diff)\n",
    "print(cor(y)) # correlation matrix"
   ]
  },
  {
   "cell_type": "markdown",
   "metadata": {},
   "source": [
    "<a id='2'></a>\n",
    "***"
   ]
  },
  {
   "cell_type": "markdown",
   "metadata": {},
   "source": [
    "# Chapter 2: Univariate Volatility Modelling\n",
    "\n",
    "-  2.1: GARCH and t-GARCH estimation\n",
    "-  2.3: APARCH estimation"
   ]
  },
  {
   "cell_type": "code",
   "execution_count": 17,
   "metadata": {
    "scrolled": true
   },
   "outputs": [
    {
     "name": "stderr",
     "output_type": "stream",
     "text": [
      "Your code contains a unicode char which cannot be displayed in your\n",
      "current locale and R will silently convert it to an escaped form when the\n",
      "R kernel executes this code. This can lead to subtle errors if you use\n",
      "such chars to do comparisons. For more information, please see\n",
      "https://github.com/IRkernel/repr/wiki/Problems-with-unicode-on-windowsWarning message:\n",
      "\"package 'rugarch' was built under R version 3.6.3\"Loading required package: parallel\n",
      "\n",
      "Attaching package: 'rugarch'\n",
      "\n",
      "The following object is masked from 'package:stats':\n",
      "\n",
      "    sigma\n",
      "\n"
     ]
    }
   ],
   "source": [
    "# ARCH and GARCH estimation in R\n",
    "# Listing 2.1\n",
    "# Last updated July 2020\n",
    "#\n",
    "#\n",
    "\n",
    "library(rugarch)\n",
    "\n",
    "p = read.csv('index.csv')\n",
    "\n",
    "## We multiply returns by 100 and de-mean them\n",
    "y=diff(log(p$Index))*100\n",
    "y=y-mean(y)\n",
    "\n",
    "## GARCH(1,1)\n",
    "spec1 = ugarchspec(variance.model = list( garchOrder = c(1, 1)),\n",
    " mean.model = list( armaOrder = c(0,0),include.mean = FALSE))\n",
    "res1 = ugarchfit(spec = spec1, data = y)\n",
    "\n",
    "## ARCH(1)\n",
    "spec2 = ugarchspec(variance.model = list( garchOrder = c(1, 0)),\n",
    " mean.model = list( armaOrder = c(0,0),include.mean = FALSE))\n",
    "res2 = ugarchfit(spec = spec2, data = y)\n",
    "\n",
    "## tGARCH(1,1)\n",
    "spec3 = ugarchspec(variance.model = list( garchOrder = c(1, 1)),\n",
    " mean.model = list( armaOrder = c(0,0),include.mean = FALSE), \n",
    " distribution.model = \"std\")\n",
    "res3 = ugarchfit(spec = spec3, data = y)\n",
    "\n",
    "## plot(res) shows various graphical analysis, works in command line"
   ]
  },
  {
   "cell_type": "code",
   "execution_count": 18,
   "metadata": {
    "scrolled": true
   },
   "outputs": [
    {
     "name": "stdout",
     "output_type": "stream",
     "text": [
      "\n",
      "*---------------------------------*\n",
      "*          GARCH Model Fit        *\n",
      "*---------------------------------*\n",
      "\n",
      "Conditional Variance Dynamics \t\n",
      "-----------------------------------\n",
      "GARCH Model\t: apARCH(1,1)\n",
      "Mean Model\t: ARFIMA(0,0,0)\n",
      "Distribution\t: norm \n",
      "\n",
      "Optimal Parameters\n",
      "------------------------------------\n",
      "        Estimate  Std. Error   t value Pr(>|t|)\n",
      "omega   0.013024    0.001742   7.47834  0.00000\n",
      "alpha1  0.068106    0.005309  12.82897  0.00000\n",
      "beta1   0.918173    0.005618 163.42362  0.00000\n",
      "gamma1  0.009355    0.031721   0.29493  0.76805\n",
      "delta   2.000000          NA        NA       NA\n",
      "\n",
      "Robust Standard Errors:\n",
      "        Estimate  Std. Error  t value Pr(>|t|)\n",
      "omega   0.013024    0.003600  3.61723 0.000298\n",
      "alpha1  0.068106    0.009486  7.17951 0.000000\n",
      "beta1   0.918173    0.012216 75.16401 0.000000\n",
      "gamma1  0.009355    0.060855  0.15373 0.877823\n",
      "delta   2.000000          NA       NA       NA\n",
      "\n",
      "LogLikelihood : -6970.28 \n",
      "\n",
      "Information Criteria\n",
      "------------------------------------\n",
      "                   \n",
      "Akaike       2.4575\n",
      "Bayes        2.4621\n",
      "Shibata      2.4575\n",
      "Hannan-Quinn 2.4591\n",
      "\n",
      "Weighted Ljung-Box Test on Standardized Residuals\n",
      "------------------------------------\n",
      "                        statistic p-value\n",
      "Lag[1]                      3.616 0.05722\n",
      "Lag[2*(p+q)+(p+q)-1][2]     3.857 0.08240\n",
      "Lag[4*(p+q)+(p+q)-1][5]     4.221 0.22779\n",
      "d.o.f=0\n",
      "H0 : No serial correlation\n",
      "\n",
      "Weighted Ljung-Box Test on Standardized Squared Residuals\n",
      "------------------------------------\n",
      "                        statistic p-value\n",
      "Lag[1]                     0.4164  0.5188\n",
      "Lag[2*(p+q)+(p+q)-1][5]    3.3472  0.3473\n",
      "Lag[4*(p+q)+(p+q)-1][9]    4.2909  0.5403\n",
      "d.o.f=2\n",
      "\n",
      "Weighted ARCH LM Tests\n",
      "------------------------------------\n",
      "            Statistic Shape Scale P-Value\n",
      "ARCH Lag[3]    0.5263 0.500 2.000  0.4682\n",
      "ARCH Lag[5]    0.5995 1.440 1.667  0.8539\n",
      "ARCH Lag[7]    0.9614 2.315 1.543  0.9198\n",
      "\n",
      "Nyblom stability test\n",
      "------------------------------------\n",
      "Joint Statistic:  0.5702\n",
      "Individual Statistics:              \n",
      "omega  0.12447\n",
      "alpha1 0.22152\n",
      "beta1  0.14319\n",
      "gamma1 0.08482\n",
      "\n",
      "Asymptotic Critical Values (10% 5% 1%)\n",
      "Joint Statistic:     \t 1.07 1.24 1.6\n",
      "Individual Statistic:\t 0.35 0.47 0.75\n",
      "\n",
      "Sign Bias Test\n",
      "------------------------------------\n",
      "                   t-value   prob sig\n",
      "Sign Bias           1.1061 0.2687    \n",
      "Negative Sign Bias  0.2245 0.8224    \n",
      "Positive Sign Bias  0.0615 0.9510    \n",
      "Joint Effect        1.6625 0.6453    \n",
      "\n",
      "\n",
      "Adjusted Pearson Goodness-of-Fit Test:\n",
      "------------------------------------\n",
      "  group statistic p-value(g-1)\n",
      "1    20     308.5    3.656e-54\n",
      "2    30     353.5    1.753e-57\n",
      "3    40     381.3    9.740e-58\n",
      "4    50     393.5    2.611e-55\n",
      "\n",
      "\n",
      "Elapsed time : 0.1839082 \n",
      "\n"
     ]
    }
   ],
   "source": [
    "# Advanced ARCH and GARCH estimation in R\n",
    "# Listing 2.3\n",
    "# Last updated July 2020\n",
    "#\n",
    "#\n",
    "\n",
    "## Normal APARCH(1,1)\n",
    "spec4 = ugarchspec(variance.model = list(model=\"apARCH\", garchOrder = c(1, 1)),\n",
    " mean.model = list( armaOrder = c(0,0),include.mean = FALSE))\n",
    "res4 = ugarchfit(spec = spec4, data = y)\n",
    "## show(res4)\n",
    "\n",
    "## Normal APARCH(1,1) with fixed delta\n",
    "spec5 = ugarchspec(variance.model = list(model=\"apARCH\", garchOrder = c(1, 1)),\n",
    " mean.model = list( armaOrder = c(0,0),include.mean = FALSE), fixed.pars=list(delta=2))\n",
    "res5 = ugarchfit(spec = spec5, data = y)\n",
    "show(res5)\n"
   ]
  },
  {
   "cell_type": "markdown",
   "metadata": {},
   "source": [
    "<a id='3'></a>\n",
    "***"
   ]
  },
  {
   "cell_type": "markdown",
   "metadata": {},
   "source": [
    "# Chapter 3: Multivariate Volatility Models\n",
    "\n",
    "-  3.1: Loading hypothetical stock prices\n",
    "-  3.3: EWMA estimation\n",
    "-  3.5: OGARCH estimation\n",
    "-  3.7: DCC estimation\n",
    "-  3.9: Comparison of EWMA, OGARCH, DCC"
   ]
  },
  {
   "cell_type": "code",
   "execution_count": 19,
   "metadata": {},
   "outputs": [],
   "source": [
    "# Download stock prices in R\n",
    "# Listing 3.1\n",
    "# Last updated August 2019\n",
    "#\n",
    "#\n",
    "\n",
    "\n",
    "p = read.csv('stocks.csv')\n",
    "y=apply(log(p),2,diff)     # calculate returns\n",
    "y = y[,1:2]                # consider first two stocks\n",
    "y[,1] = y[,1]-mean(y[,1])  # subtract mean\n",
    "y[,2] = y[,2]-mean(y[,2])\n",
    "TT = dim(y)[1]"
   ]
  },
  {
   "cell_type": "code",
   "execution_count": 20,
   "metadata": {},
   "outputs": [
    {
     "name": "stdout",
     "output_type": "stream",
     "text": [
      "[1] 0.2296842 0.2236347 0.2218277 0.2270681 0.2054204 0.1992979\n",
      "[1] 0.1931994 0.1914987 0.2177147 0.3436632 0.3122741 0.3159703\n"
     ]
    }
   ],
   "source": [
    "# EWMA in R\n",
    "# Listing 3.3\n",
    "# Last updated August 2019\n",
    "#\n",
    "#\n",
    "\n",
    "## create a matrix to hold covariance matrix for each t\n",
    "EWMA = matrix(nrow=TT,ncol=3)   \n",
    "lambda = 0.94\n",
    "S = cov(y)                      # initial (t=1) covar matrix\n",
    "EWMA[1,] = c(S)[c(1,4,2)]       # extract var and covar\n",
    "for (i in 2:dim(y)[1]){  \n",
    "      S = lambda*S+(1-lambda)*  y[i-1,] %*% t(y[i-1,])\n",
    "      EWMA[i,] = c(S)[c(1,4,2)] \n",
    "}\n",
    "EWMArho = EWMA[,3]/sqrt(EWMA[,1]*EWMA[,2]) # calculate correlations\n",
    "\n",
    "print(head(EWMArho))\n",
    "print(tail(EWMArho))"
   ]
  },
  {
   "cell_type": "code",
   "execution_count": 21,
   "metadata": {},
   "outputs": [
    {
     "name": "stderr",
     "output_type": "stream",
     "text": [
      "Warning message:\n",
      "\"package 'rmgarch' was built under R version 3.6.3\""
     ]
    },
    {
     "name": "stdout",
     "output_type": "stream",
     "text": [
      "\n",
      "*------------------------------*\n",
      "*        GO-GARCH Fit          *\n",
      "*------------------------------*\n",
      "\n",
      "Mean Model\t\t: CONSTANT\n",
      "GARCH Model\t\t: sGARCH\n",
      "Distribution\t: mvnorm\n",
      "ICA Method\t\t: fastica\n",
      "No. Factors\t\t: 2\n",
      "No. Periods\t\t: 5676\n",
      "Log-Likelihood\t: 40378.57\n",
      "------------------------------------\n",
      "\n",
      "U (rotation matrix) : \n",
      "\n",
      "       [,1]  [,2]\n",
      "[1,] -0.358 0.934\n",
      "[2,]  0.934 0.358\n",
      "\n",
      "A (mixing matrix) : \n",
      "\n",
      "         [,1]     [,2]\n",
      "[1,] -0.00642 0.000213\n",
      "[2,] -0.00187 0.009296\n",
      "\n"
     ]
    }
   ],
   "source": [
    "# GOGARCH in R\n",
    "# Listing 3.5\n",
    "# Last updated August 2019\n",
    "#\n",
    "#\n",
    "\n",
    "library(rmgarch)\n",
    "spec = gogarchspec(mean.model = list(armaOrder = c(0, 0), \n",
    "    include.mean =FALSE),\n",
    "    variance.model = list(model = \"sGARCH\", \n",
    "    garchOrder = c(1,1)) , \n",
    "    distribution.model =  \"mvnorm\"\n",
    ")\n",
    "fit = gogarchfit(spec = spec, data = y)\n",
    "\n",
    "show(fit) \n"
   ]
  },
  {
   "cell_type": "code",
   "execution_count": 22,
   "metadata": {},
   "outputs": [],
   "source": [
    "# DCC in R\n",
    "# Listing 3.7\n",
    "# Last updated August 2019\n",
    "#\n",
    "#\n",
    "\n",
    "\n",
    "xspec = ugarchspec(mean.model = list(armaOrder = c(0, 0), include.mean = FALSE))\n",
    "\n",
    "uspec = multispec(replicate(2, xspec))\n",
    "\n",
    "spec = dccspec(uspec = uspec, dccOrder = c(1, 1), distribution = 'mvnorm')\n",
    "\n",
    "res = dccfit(spec, data = y)\n",
    "\n",
    "H=res@mfit$H\n",
    "\n",
    "DCCrho=vector(length=dim(y)[1])\n",
    "\n",
    "for(i in 1:dim(y)[1]){\n",
    "    DCCrho[i] =  H[1,2,i]/sqrt(H[1,1,i]*H[2,2,i])\n",
    "}"
   ]
  },
  {
   "cell_type": "code",
   "execution_count": 23,
   "metadata": {},
   "outputs": [
    {
     "data": {
      "image/png": "[encoded data removed]",
      "text/plain": [
       "plot without title"
      ]
     },
     "metadata": {},
     "output_type": "display_data"
    }
   ],
   "source": [
    "# Sample statistics in R\n",
    "# Listing 3.9\n",
    "# Last updated August 2019\n",
    "#\n",
    "#\n",
    "\n",
    "matplot(cbind(EWMArho,DCCrho),type='l',las=1,lty=1,col=2:3,ylab=\"\")\n",
    "mtext(\"Correlations\",side=2,line=0.3,at=1,las=1,cex=0.8)\n",
    "legend(\"bottomright\",c(\"EWMA\",\"DCC\"),lty=1,col=2:3,bty=\"n\",cex=0.7)"
   ]
  },
  {
   "cell_type": "markdown",
   "metadata": {},
   "source": [
    "<a id='4'></a>\n",
    "***"
   ]
  },
  {
   "cell_type": "markdown",
   "metadata": {},
   "source": [
    "# Chapter 4: Risk Measures\n",
    "\n",
    "-  4.1: Expected Shortfall (ES) estimation under normality assumption"
   ]
  },
  {
   "cell_type": "code",
   "execution_count": 24,
   "metadata": {},
   "outputs": [
    {
     "name": "stdout",
     "output_type": "stream",
     "text": [
      "Probabilities: 50% 10% 5% 2.5% 1% 0.1% \n",
      " VaR: 0 1.281552 1.644854 1.959964 2.326348 3.090232 \n",
      " ES: 0.7978846 1.754983 2.062713 2.337803 2.665214 3.36709"
     ]
    }
   ],
   "source": [
    "# ES in R\n",
    "# Listing 4.1\n",
    "# Last updated August 2016\n",
    "#\n",
    "#\n",
    "\n",
    "p = c(0.5,0.1,0.05,0.025,0.01,0.001)\n",
    "VaR = -qnorm(p)\n",
    "ES = dnorm(qnorm(p))/p\n",
    "\n",
    "cat(\"Probabilities:\", paste0(p*100,\"%\"), \"\\n\",\n",
    "   \"VaR:\", VaR, \"\\n\",\n",
    "   \"ES:\", ES)"
   ]
  },
  {
   "cell_type": "markdown",
   "metadata": {},
   "source": [
    "<a id='5'></a>\n",
    "***"
   ]
  },
  {
   "cell_type": "markdown",
   "metadata": {},
   "source": [
    "# Chapter 5: Implementing Risk Forecasts\n",
    "\n",
    "-  5.1: Loading hypothetical stock prices, converting to returns\n",
    "-  5.3: Univariate HS Value at Risk (VaR)\n",
    "-  5.5: Multivariate HS VaR\n",
    "-  5.7: Univariate ES VaR\n",
    "-  5.9: Normal VaR\n",
    "-  5.11: Portfolio Normal VaR\n",
    "-  5.13: Student-t VaR\n",
    "-  5.15: Normal ES VaR\n",
    "-  5.17: Direct Integration Normal ES VaR\n",
    "-  5.19: MA Normal VaR\n",
    "-  5.21: EWMA VaR\n",
    "-  5.23: Two-asset EWMA VaR\n",
    "-  5.25: GARCH(1,1) VaR"
   ]
  },
  {
   "cell_type": "code",
   "execution_count": 25,
   "metadata": {},
   "outputs": [],
   "source": [
    "# Download stock prices in R\n",
    "# Listing 5.1\n",
    "# Last updated July 2020\n",
    "#\n",
    "#\n",
    "\n",
    "p = read.csv('stocks.csv')\n",
    "\n",
    "## Calculate returns. Note that first column is dates\n",
    "y = apply(log(p),2,diff)\n",
    "\n",
    "## Specify portfolio value and VaR probability\n",
    "portfolio_value = 1000 \n",
    "p = 0.01"
   ]
  },
  {
   "cell_type": "code",
   "execution_count": 26,
   "metadata": {},
   "outputs": [
    {
     "name": "stdout",
     "output_type": "stream",
     "text": [
      "[1] 17.49822\n"
     ]
    }
   ],
   "source": [
    "# Univariate HS in R\n",
    "# Listing 5.3\n",
    "# Last updated July 2020\n",
    "#\n",
    "#\n",
    "\n",
    "\n",
    "y1 = y[,1]                     # select one asset\n",
    "ys = sort(y1)                  # sort returns\n",
    "op = ceiling(length(y1)*p)     # p percent smallest, rounded up\n",
    "VaR1 = -ys[op]*portfolio_value\n",
    "print(VaR1)"
   ]
  },
  {
   "cell_type": "code",
   "execution_count": 27,
   "metadata": {},
   "outputs": [
    {
     "name": "stdout",
     "output_type": "stream",
     "text": [
      "[1] 14.20901\n"
     ]
    }
   ],
   "source": [
    "# Multivariate HS in R\n",
    "# Listing 5.5\n",
    "# Last updated July 2020\n",
    "#\n",
    "#\n",
    "\n",
    "w = matrix(c(0.3,0.2,0.5))   # vector of portfolio weights\n",
    "\n",
    "## The number of columns of the left matrix must be the same as the number of rows of the right matrix \n",
    "\n",
    "yp = y %*% w                 # obtain portfolio returns\n",
    "yps = sort(yp)\n",
    "VaR2 = -yps[op]*portfolio_value\n",
    "print(VaR2)"
   ]
  },
  {
   "cell_type": "code",
   "execution_count": 28,
   "metadata": {},
   "outputs": [
    {
     "name": "stdout",
     "output_type": "stream",
     "text": [
      "[1] 22.56339\n"
     ]
    }
   ],
   "source": [
    "# Univariate ES in R\n",
    "# Listing 5.7\n",
    "# Last updated August 2019\n",
    "#\n",
    "#\n",
    "\n",
    "ES1 = -mean(ys[1:op])*portfolio_value\n",
    "\n",
    "print(ES1)"
   ]
  },
  {
   "cell_type": "code",
   "execution_count": 29,
   "metadata": {},
   "outputs": [
    {
     "name": "stdout",
     "output_type": "stream",
     "text": [
      "[1] 14.94957\n"
     ]
    }
   ],
   "source": [
    "# Normal VaR in R\n",
    "# Listing 5.9\n",
    "# Last updated August 2019\n",
    "#\n",
    "#\n",
    "\n",
    "sigma = sd(y1) # estimate volatility\n",
    "VaR3 = -sigma * qnorm(p) * portfolio_value\n",
    "\n",
    "print(VaR3)"
   ]
  },
  {
   "cell_type": "code",
   "execution_count": 30,
   "metadata": {},
   "outputs": [
    {
     "name": "stdout",
     "output_type": "stream",
     "text": [
      "[1] 12.27959\n"
     ]
    }
   ],
   "source": [
    "# Portfolio normal VaR in R\n",
    "# Listing 5.11\n",
    "# Last updated August 2019\n",
    "#\n",
    "#\n",
    "\n",
    "sigma = sqrt(t(w) %*% cov(y) %*% w)[1] # portfolio volatility\n",
    "## Note: the trailing [1] is to convert a single element matrix to float\n",
    "\n",
    "VaR4 = -sigma * qnorm(p)*portfolio_value\n",
    "\n",
    "print(VaR4)"
   ]
  },
  {
   "cell_type": "code",
   "execution_count": 31,
   "metadata": {},
   "outputs": [
    {
     "name": "stderr",
     "output_type": "stream",
     "text": [
      "Warning message:\n",
      "\"package 'QRM' was built under R version 3.6.3\"Loading required package: gsl\n",
      "Loading required package: Matrix\n",
      "Loading required package: mvtnorm\n",
      "Warning message:\n",
      "\"package 'mvtnorm' was built under R version 3.6.3\"Loading required package: numDeriv\n",
      "Loading required package: timeSeries\n",
      "Warning message:\n",
      "\"package 'timeSeries' was built under R version 3.6.3\"Loading required package: timeDate\n",
      "\n",
      "Attaching package: 'timeDate'\n",
      "\n",
      "The following objects are masked from 'package:moments':\n",
      "\n",
      "    kurtosis, skewness\n",
      "\n",
      "\n",
      "Attaching package: 'QRM'\n",
      "\n",
      "The following object is masked from 'package:base':\n",
      "\n",
      "    lbeta\n",
      "\n"
     ]
    },
    {
     "name": "stdout",
     "output_type": "stream",
     "text": [
      "[1] 17.12558\n"
     ]
    }
   ],
   "source": [
    "# Student-t VaR in R\n",
    "# Listing 5.13\n",
    "# Last updated July 2020\n",
    "#\n",
    "#\n",
    "\n",
    "library(QRM)\n",
    "\n",
    "scy1 = (y1)*100                     # scale the returns \n",
    "res = fit.st(scy1) \n",
    "sigma1 = unname(res$par.ests['sigma']/100)  # rescale the volatility\n",
    "nu = unname(res$par.ests['nu'])\n",
    "## Note: We are removing the names of the fit.st output using unname()\n",
    "\n",
    "VaR5 = - sigma1 * qt(df=nu,p=p) *  portfolio_value\n",
    "\n",
    "print(VaR5)"
   ]
  },
  {
   "cell_type": "code",
   "execution_count": 32,
   "metadata": {},
   "outputs": [
    {
     "name": "stdout",
     "output_type": "stream",
     "text": [
      "[1] 17.12719\n"
     ]
    }
   ],
   "source": [
    "# Normal ES in R\n",
    "# Listing 5.15\n",
    "# Last updated June August 2019\n",
    "#\n",
    "#\n",
    "\n",
    "sigma = sd(y1)\n",
    "ES2 = sigma*dnorm(qnorm(p))/p * portfolio_value\n",
    "\n",
    "print(ES2)"
   ]
  },
  {
   "cell_type": "code",
   "execution_count": 33,
   "metadata": {},
   "outputs": [
    {
     "name": "stdout",
     "output_type": "stream",
     "text": [
      "[1] 17.12719\n"
     ]
    }
   ],
   "source": [
    "# Direct integration ES in R\n",
    "# Listing 5.17\n",
    "# Last updated July 2020\n",
    "#\n",
    "#\n",
    "\n",
    "VaR = -qnorm(p)\n",
    "integrand = function(q){q*dnorm(q)}\n",
    "ES = -sigma*integrate(integrand,-Inf,-VaR)$value/p*portfolio_value\n",
    "\n",
    "print(ES)"
   ]
  },
  {
   "cell_type": "code",
   "execution_count": 34,
   "metadata": {},
   "outputs": [
    {
     "name": "stdout",
     "output_type": "stream",
     "text": [
      "[1] 16.0505\n",
      "[1] 16.1491\n",
      "[1] 18.85435\n",
      "[1] 18.88212\n",
      "[1] 16.23053\n",
      "[1] 16.16976\n"
     ]
    }
   ],
   "source": [
    "# MA normal VaR in R\n",
    "# Listing 5.19\n",
    "# Last updated June August 2019\n",
    "#\n",
    "#\n",
    "\n",
    "WE=20\n",
    "for (t in seq(length(y1)-5,length(y1))){\n",
    "  t1=t-WE+1\n",
    "  window= y1[t1:t] # estimation window\n",
    "  sigma=sd(window)\n",
    "  VaR6 = -sigma * qnorm(p) * portfolio_value\n",
    "  print(VaR6)\n",
    "}"
   ]
  },
  {
   "cell_type": "code",
   "execution_count": 35,
   "metadata": {},
   "outputs": [
    {
     "name": "stdout",
     "output_type": "stream",
     "text": [
      "[1] 16.75344\n"
     ]
    }
   ],
   "source": [
    "# EWMA VaR in R\n",
    "# Listing 5.21\n",
    "# Last updated July 2020\n",
    "#\n",
    "#\n",
    "\n",
    "lambda = 0.94\n",
    "s11 = var(y1)             # initial variance, using unconditional\n",
    "for (t in 2:length(y1)){ \n",
    "  s11 = lambda * s11  + (1-lambda) * y1[t-1]^2\n",
    "}\n",
    "VaR7 = -qnorm(p) * sqrt(s11) * portfolio_value\n",
    "\n",
    "print(VaR7)"
   ]
  },
  {
   "cell_type": "code",
   "execution_count": 36,
   "metadata": {},
   "outputs": [
    {
     "name": "stdout",
     "output_type": "stream",
     "text": [
      "[1] 11.50952\n"
     ]
    }
   ],
   "source": [
    "# Three-asset EWMA VaR in R\n",
    "# Listing 5.23\n",
    "# Last updated August 2019\n",
    "#\n",
    "#\n",
    "\n",
    "s = cov(y)                        # initial covariance\n",
    "for (t in 2:dim(y)[1]){\n",
    "  s = lambda*s + (1-lambda)*y[t-1,] %*% t(y[t-1,])\n",
    "}\n",
    "sigma = sqrt(t(w) %*% s %*% w)[1] # portfolio vol\n",
    "## Note: trailing[1] is to convert single element matrix to float\n",
    "\n",
    "VaR8 = -sigma * qnorm(p) * portfolio_value\n",
    "\n",
    "print(VaR8)"
   ]
  },
  {
   "cell_type": "code",
   "execution_count": 37,
   "metadata": {},
   "outputs": [
    {
     "name": "stdout",
     "output_type": "stream",
     "text": [
      "     VaR \n",
      "16.87364 \n"
     ]
    }
   ],
   "source": [
    "# Univariate GARCH in R\n",
    "# Listing 5.25\n",
    "# Last updated July 2020\n",
    "#\n",
    "#\n",
    "library(rugarch)\n",
    "\n",
    "spec = ugarchspec(variance.model = list( garchOrder = c(1, 1)),\n",
    "                  mean.model = list( armaOrder = c(0,0),include.mean = FALSE))\n",
    "res = ugarchfit(spec = spec, data = y1)\n",
    "\n",
    "omega = res@fit$coef['omega']\n",
    "alpha = res@fit$coef['alpha1']\n",
    "beta = res@fit$coef['beta1']\n",
    "sigma2 = omega + alpha * tail(y1,1)^2 + beta * tail(res@fit$var,1)  \n",
    "VaR9 = -sqrt(sigma2) * qnorm(p) * portfolio_value \n",
    "names(VaR9)=\"VaR\"\n",
    "print(VaR9)"
   ]
  },
  {
   "cell_type": "markdown",
   "metadata": {},
   "source": [
    "<a id='6'></a>\n",
    "***"
   ]
  },
  {
   "cell_type": "markdown",
   "metadata": {},
   "source": [
    "# Chapter 6: Analytical Value-at-Risk for Options and Bonds\n",
    "\n",
    "-  6.1: Black-Scholes function definition\n",
    "-  6.3: Black-Scholes option price calculation example"
   ]
  },
  {
   "cell_type": "code",
   "execution_count": 38,
   "metadata": {},
   "outputs": [],
   "source": [
    "# Black-Scholes function in R\n",
    "# Listing 6.1\n",
    "# Last updated 2011\n",
    "#\n",
    "#\n",
    "\n",
    "bs = function(X, P, r, sigma, T){\n",
    "\td1 = (log(P/X) + (r + 0.5*sigma^2)*(T))/(sigma*sqrt(T))\n",
    "\td2 = d1 - sigma*sqrt(T)\n",
    "\n",
    "\tCall = P*pnorm(d1,mean=0,sd=1)-X*exp(-r*(T))*pnorm(d2,mean=0,sd=1)\n",
    "\tPut = X*exp(-r*(T))*pnorm(-d2,mean=0,sd=1)-P*pnorm(-d1,mean=0,sd=1)\n",
    "\n",
    "\tDelta.Call = pnorm(d1, mean = 0, sd = 1) \n",
    "\tDelta.Put = Delta.Call - 1\n",
    "\tGamma = dnorm(d1, mean = 0, sd = 1)/(P*sigma*sqrt(T))\n",
    "\n",
    "\treturn(list(Call=Call,Put=Put,Delta.Call=Delta.Call,Delta.Put=Delta.Put,Gamma=Gamma))\n",
    "}"
   ]
  },
  {
   "cell_type": "code",
   "execution_count": 39,
   "metadata": {},
   "outputs": [
    {
     "name": "stdout",
     "output_type": "stream",
     "text": [
      "$Call\n",
      "[1] 13.49852\n",
      "\n",
      "$Put\n",
      "[1] 1.27641\n",
      "\n",
      "$Delta.Call\n",
      "[1] 0.8395228\n",
      "\n",
      "$Delta.Put\n",
      "[1] -0.1604772\n",
      "\n",
      "$Gamma\n",
      "[1] 0.01723826\n",
      "\n"
     ]
    }
   ],
   "source": [
    "# Black-Scholes in R\n",
    "# Listing 6.3\n",
    "# Last updated July 2020\n",
    "#\n",
    "#\n",
    "\n",
    "f = bs(X = 90, P = 100, r = 0.05, sigma = 0.2, T = 0.5)\n",
    "\n",
    "print(f)"
   ]
  },
  {
   "cell_type": "markdown",
   "metadata": {},
   "source": [
    "<a id='7'></a>\n",
    "***"
   ]
  },
  {
   "cell_type": "markdown",
   "metadata": {},
   "source": [
    "# Chapter 7: Simulation Methods for VaR for Options and Bonds\n",
    "\n",
    "-  7.1: Plotting normal distribution transformation\n",
    "-  7.3: Random number generation from Uniform(0,1), Normal(0,1)\n",
    "-  7.5: Bond pricing using yield curve\n",
    "-  7.7: Yield curve simulations\n",
    "-  7.9: Bond price simulations\n",
    "-  7.11: Black-Scholes analytical pricing of call\n",
    "-  7.13: Black-Scholes Monte Carlo simulation pricing of call\n",
    "-  7.15: Option density plots\n",
    "-  7.17: VaR simulation of portfolio with only underlying\n",
    "-  7.19: VaR simulation of portfolio with only call\n",
    "-  7.21: VaR simulation of portfolio with call, put and underlying\n",
    "-  7.23: Simulated two-asset returns\n",
    "-  7.25: Two-asset portfolio VaR\n",
    "-  7.27: Two-asset portfolio VaR with a call"
   ]
  },
  {
   "cell_type": "code",
   "execution_count": 40,
   "metadata": {},
   "outputs": [
    {
     "data": {
      "image/png": "[encoded data removed]",
      "text/plain": [
       "plot without title"
      ]
     },
     "metadata": {},
     "output_type": "display_data"
    }
   ],
   "source": [
    "# Transformation in R\n",
    "# Listing 7.1\n",
    "# Last updated 2011\n",
    "#\n",
    "#\n",
    "\n",
    "x = seq(-3, 3, by = 0.1)\n",
    "plot(x, pnorm(x), type = \"l\")"
   ]
  },
  {
   "cell_type": "code",
   "execution_count": 41,
   "metadata": {},
   "outputs": [
    {
     "data": {
      "text/html": [
       "<ol class=list-inline>\n",
       "\t<li>0.0693609158042818</li>\n",
       "\t<li>0.817775198724121</li>\n",
       "\t<li>0.942621732363477</li>\n",
       "\t<li>0.269381876336411</li>\n",
       "\t<li>0.169348123250529</li>\n",
       "\t<li>0.0338956224732101</li>\n",
       "\t<li>0.178785004187375</li>\n",
       "\t<li>0.641665365546942</li>\n",
       "\t<li>0.0228777434676886</li>\n",
       "\t<li>0.00832482660189271</li>\n",
       "</ol>\n"
      ],
      "text/latex": [
       "\\begin{enumerate*}\n",
       "\\item 0.0693609158042818\n",
       "\\item 0.817775198724121\n",
       "\\item 0.942621732363477\n",
       "\\item 0.269381876336411\n",
       "\\item 0.169348123250529\n",
       "\\item 0.0338956224732101\n",
       "\\item 0.178785004187375\n",
       "\\item 0.641665365546942\n",
       "\\item 0.0228777434676886\n",
       "\\item 0.00832482660189271\n",
       "\\end{enumerate*}\n"
      ],
      "text/markdown": [
       "1. 0.0693609158042818\n",
       "2. 0.817775198724121\n",
       "3. 0.942621732363477\n",
       "4. 0.269381876336411\n",
       "5. 0.169348123250529\n",
       "6. 0.0338956224732101\n",
       "7. 0.178785004187375\n",
       "8. 0.641665365546942\n",
       "9. 0.0228777434676886\n",
       "10. 0.00832482660189271\n",
       "\n",
       "\n"
      ],
      "text/plain": [
       " [1] 0.069360916 0.817775199 0.942621732 0.269381876 0.169348123 0.033895622\n",
       " [7] 0.178785004 0.641665366 0.022877743 0.008324827"
      ]
     },
     "metadata": {},
     "output_type": "display_data"
    },
    {
     "data": {
      "text/html": [
       "<ol class=list-inline>\n",
       "\t<li>-0.27229604424923</li>\n",
       "\t<li>-0.315348711467784</li>\n",
       "\t<li>-0.628255236517538</li>\n",
       "\t<li>-0.106463884872094</li>\n",
       "\t<li>0.428014802202354</li>\n",
       "\t<li>-0.777719582147445</li>\n",
       "\t<li>-1.29388229761362</li>\n",
       "\t<li>-0.779566508059429</li>\n",
       "\t<li>0.0119517585652984</li>\n",
       "\t<li>-0.152416237822168</li>\n",
       "</ol>\n"
      ],
      "text/latex": [
       "\\begin{enumerate*}\n",
       "\\item -0.27229604424923\n",
       "\\item -0.315348711467784\n",
       "\\item -0.628255236517538\n",
       "\\item -0.106463884872094\n",
       "\\item 0.428014802202354\n",
       "\\item -0.777719582147445\n",
       "\\item -1.29388229761362\n",
       "\\item -0.779566508059429\n",
       "\\item 0.0119517585652984\n",
       "\\item -0.152416237822168\n",
       "\\end{enumerate*}\n"
      ],
      "text/markdown": [
       "1. -0.27229604424923\n",
       "2. -0.315348711467784\n",
       "3. -0.628255236517538\n",
       "4. -0.106463884872094\n",
       "5. 0.428014802202354\n",
       "6. -0.777719582147445\n",
       "7. -1.29388229761362\n",
       "8. -0.779566508059429\n",
       "9. 0.0119517585652984\n",
       "10. -0.152416237822168\n",
       "\n",
       "\n"
      ],
      "text/plain": [
       " [1] -0.27229604 -0.31534871 -0.62825524 -0.10646388  0.42801480 -0.77771958\n",
       " [7] -1.29388230 -0.77956651  0.01195176 -0.15241624"
      ]
     },
     "metadata": {},
     "output_type": "display_data"
    },
    {
     "data": {
      "text/html": [
       "<ol class=list-inline>\n",
       "\t<li>-0.54686521181825</li>\n",
       "\t<li>0.325766227984669</li>\n",
       "\t<li>-0.310344756918247</li>\n",
       "\t<li>1.64011963529838</li>\n",
       "\t<li>-0.60065788608405</li>\n",
       "\t<li>-0.504397302337928</li>\n",
       "\t<li>0.146674867812759</li>\n",
       "\t<li>0.421606955584244</li>\n",
       "\t<li>-1.10969020069546</li>\n",
       "\t<li>0.674102188748512</li>\n",
       "</ol>\n"
      ],
      "text/latex": [
       "\\begin{enumerate*}\n",
       "\\item -0.54686521181825\n",
       "\\item 0.325766227984669\n",
       "\\item -0.310344756918247\n",
       "\\item 1.64011963529838\n",
       "\\item -0.60065788608405\n",
       "\\item -0.504397302337928\n",
       "\\item 0.146674867812759\n",
       "\\item 0.421606955584244\n",
       "\\item -1.10969020069546\n",
       "\\item 0.674102188748512\n",
       "\\end{enumerate*}\n"
      ],
      "text/markdown": [
       "1. -0.54686521181825\n",
       "2. 0.325766227984669\n",
       "3. -0.310344756918247\n",
       "4. 1.64011963529838\n",
       "5. -0.60065788608405\n",
       "6. -0.504397302337928\n",
       "7. 0.146674867812759\n",
       "8. 0.421606955584244\n",
       "9. -1.10969020069546\n",
       "10. 0.674102188748512\n",
       "\n",
       "\n"
      ],
      "text/plain": [
       " [1] -0.5468652  0.3257662 -0.3103448  1.6401196 -0.6006579 -0.5043973\n",
       " [7]  0.1466749  0.4216070 -1.1096902  0.6741022"
      ]
     },
     "metadata": {},
     "output_type": "display_data"
    }
   ],
   "source": [
    "# Various RNs in R\n",
    "# Listing 7.3\n",
    "# Last updated 2011\n",
    "#\n",
    "#\n",
    "\n",
    "set.seed(12) # set seed\n",
    "\n",
    "S = 10\n",
    "runif(S)\n",
    "rnorm(S)\n",
    "rt(S,4)"
   ]
  },
  {
   "cell_type": "code",
   "execution_count": 42,
   "metadata": {},
   "outputs": [
    {
     "name": "stdout",
     "output_type": "stream",
     "text": [
      "[1] 9.913206\n"
     ]
    }
   ],
   "source": [
    "# Price bond in R\n",
    "# Listing 7.5\n",
    "# Last updated July 2020\n",
    "#\n",
    "#\n",
    "\n",
    "yield = c(5.00, 5.69, 6.09, 6.38, 6.61,\n",
    "        6.79, 6.94, 7.07, 7.19, 7.30)   # yield curve\n",
    "T = length(yield)                       # number of time periods\n",
    "r = 0.07                                # initial yield rate\n",
    "Par = 10                                # par value\n",
    "coupon = r * Par                        # coupon payments\n",
    "cc = rep(coupon, T)                     # vector of cash flows\n",
    "cc[T] = cc[T] + Par                     # add par to cash flows\n",
    "P = sum(cc/((1+yield/100)^(1:T)))      # calculate price\n",
    "\n",
    "print(P)"
   ]
  },
  {
   "cell_type": "code",
   "execution_count": 43,
   "metadata": {},
   "outputs": [
    {
     "data": {
      "image/png": "[encoded data removed]",
      "text/plain": [
       "plot without title"
      ]
     },
     "metadata": {},
     "output_type": "display_data"
    }
   ],
   "source": [
    "# Simulate yields in R\n",
    "# Listing 7.7\n",
    "# Last updated August 2019\n",
    "#\n",
    "#\n",
    "\n",
    "set.seed(12)                           # set seed\n",
    "\n",
    "sigma = 1.5                            # daily yield volatiltiy\n",
    "S = 8                                  # number of simulations\n",
    "r = rnorm(S, 0, sigma)                 # generate random numbers \n",
    "ysim = matrix(nrow=length(yield),ncol=S)\n",
    "for (i in 1:S) ysim[,i]=yield+r[i]\n",
    "matplot(ysim,type='l')"
   ]
  },
  {
   "cell_type": "code",
   "execution_count": 44,
   "metadata": {},
   "outputs": [
    {
     "data": {
      "image/png": "[encoded data removed]",
      "text/plain": [
       "Plot with title \"Histogram of SP\""
      ]
     },
     "metadata": {},
     "output_type": "display_data"
    },
    {
     "data": {
      "image/png": "[encoded data removed]",
      "text/plain": [
       "Plot with title \"Histogram of SP\""
      ]
     },
     "metadata": {},
     "output_type": "display_data"
    }
   ],
   "source": [
    "# Simulate bond prices in R\n",
    "# Listing 7.9\n",
    "# Last updated November 2020\n",
    "#\n",
    "#\n",
    "\n",
    "SP = rep(NA, length = S)\n",
    "for (i in 1:S){                            # S simulations\n",
    "  SP[i] = sum(cc/((1+ysim[,i]/100)^(1:T)))\n",
    "}\n",
    "SP = SP-(mean(SP) - P)                     # correct for mean\n",
    "\n",
    "par(mfrow=c(1,2), pty=\"s\")\n",
    "\n",
    "barplot(SP)\n",
    "\n",
    "hist(SP,probability=TRUE)\n",
    "x=seq(6,16,length=100)\n",
    "lines(x, dnorm(x, mean = mean(SP), sd = sd(SP)))\n",
    "\n",
    "\n",
    "S = 50000\n",
    "r = rnorm(S, 0, sigma)                 # generate random numbers \n",
    "ysim = matrix(nrow=length(yield),ncol=S)\n",
    "for (i in 1:S) ysim[,i]=yield+r[i]\n",
    "\n",
    "SP = rep(NA, length = S)\n",
    "for (i in 1:S){                            # S simulations\n",
    "  SP[i] = sum(cc/((1+ysim[,i]/100)^(1:T)))\n",
    "}\n",
    "SP = SP-(mean(SP) - P)                     # correct for mean\n",
    "\n",
    "par(mfrow=c(1,2), pty=\"s\")\n",
    "\n",
    "barplot(SP)\n",
    "\n",
    "hist(SP,probability=TRUE)\n",
    "x=seq(6,16,length=100)\n",
    "lines(x, dnorm(x, mean = mean(SP), sd = sd(SP)))"
   ]
  },
  {
   "cell_type": "code",
   "execution_count": 45,
   "metadata": {},
   "outputs": [
    {
     "name": "stdout",
     "output_type": "stream",
     "text": [
      "$Call\n",
      "[1] 11.08728\n",
      "\n",
      "$Put\n",
      "[1] 0.09967718\n",
      "\n",
      "$Delta.Call\n",
      "[1] 0.9660259\n",
      "\n",
      "$Delta.Put\n",
      "[1] -0.03397407\n",
      "\n",
      "$Gamma\n",
      "[1] 0.01066378\n",
      "\n"
     ]
    }
   ],
   "source": [
    "# Black-Scholes valuation in R\n",
    "# Listing 7.11\n",
    "# Last updated July 2020\n",
    "#\n",
    "#\n",
    "\n",
    "P0 = 50                          # initial spot price\n",
    "sigma = 0.2                      # annual volatility\n",
    "r = 0.05                         # annual interest\n",
    "TT = 0.5                         # time to expiration\n",
    "X = 40                           # strike price\n",
    "f = bs(X = X, P = P0, r = r, sigma = sigma, T = TT)          # analytical call price\n",
    "## This calculation uses the Black-Scholes pricing function (Listing 6.1/6.2)\n",
    "\n",
    "print(f)"
   ]
  },
  {
   "cell_type": "code",
   "execution_count": 46,
   "metadata": {},
   "outputs": [
    {
     "name": "stdout",
     "output_type": "stream",
     "text": [
      "[1] 11.08709\n"
     ]
    }
   ],
   "source": [
    "# Black-Scholes simulation in R\n",
    "# Listing 7.13\n",
    "# Last updated July 2020\n",
    "#\n",
    "#\n",
    "\n",
    "set.seed(12)                                   # set seed\n",
    "\n",
    "S = 1e6                                        # number of simulations\n",
    "F = P0*exp(r*TT)                               # futures price\n",
    "ysim = rnorm(S,-0.5*sigma^2*TT,sigma*sqrt(TT)) # sim returns, lognorm corrected\n",
    "F = F*exp(ysim)                                # sim futures price\n",
    "SP = F-X                                       # payoff\n",
    "SP[SP<0] = 0                                   # set negative outcomes to zero\n",
    "fsim = SP*exp(-r*TT)                           # discount\n",
    "call_sim = mean(fsim)                          # simulated price\n",
    "\n",
    "print(call_sim)"
   ]
  },
  {
   "cell_type": "code",
   "execution_count": 47,
   "metadata": {},
   "outputs": [
    {
     "data": {
      "image/png": "[encoded data removed]",
      "text/plain": [
       "Plot with title \"Histogram of fsim\""
      ]
     },
     "metadata": {},
     "output_type": "display_data"
    }
   ],
   "source": [
    "# Option density plots in R\n",
    "# Listing 7.15\n",
    "# Last updated 2011\n",
    "#\n",
    "#\n",
    "\n",
    "par(mfrow=c(1,2), pty=\"s\")\n",
    "\n",
    "hist(F, probability=TRUE, ylim=c(0,0.06))\n",
    "\n",
    "x = seq(min(F), max(F), length=100)\n",
    "lines(x, dnorm(x, mean = mean(F), sd = sd(SP)))\n",
    "hist(fsim, nclass=100, probability=TRUE)"
   ]
  },
  {
   "cell_type": "code",
   "execution_count": 48,
   "metadata": {},
   "outputs": [
    {
     "name": "stdout",
     "output_type": "stream",
     "text": [
      "[1] 2.289809\n"
     ]
    }
   ],
   "source": [
    "# Simulate VaR in R\n",
    "# Listing 7.17\n",
    "# Last updated 2011\n",
    "#\n",
    "#\n",
    "\n",
    "set.seed(1)                            # set seed\n",
    "\n",
    "S = 1e7                                # number of simulations\n",
    "s2 = 0.01^2                            # daily variance\n",
    "p = 0.01                               # probability\n",
    "r = 0.05                               # annual riskfree rate\n",
    "P = 100                                # price today\n",
    "ysim = rnorm(S,r/365-0.5*s2,sqrt(s2))  # sim returns\n",
    "Psim = P*exp(ysim)                     # sim future prices\n",
    "q = sort(Psim-P)                       # simulated P/L\n",
    "VaR1 = -q[p*S]\n",
    "\n",
    "print(VaR1)"
   ]
  },
  {
   "cell_type": "code",
   "execution_count": 49,
   "metadata": {},
   "outputs": [
    {
     "name": "stdout",
     "output_type": "stream",
     "text": [
      "[1] 1.214623\n"
     ]
    }
   ],
   "source": [
    "# Simulate option VaR in R\n",
    "# Listing 7.19\n",
    "# Last updated July 2020\n",
    "#\n",
    "#\n",
    "\n",
    "TT = 0.25                                         # time to expiration\n",
    "X = 100                                           # strike price\n",
    "sigma = sqrt(s2*250)                              # annual volatility\n",
    "f = bs(X, P, r, sigma, TT)                        # analytical call price\n",
    "fsim = bs(X,Psim,r,sigma,TT-(1/365))              # sim option prices \n",
    "q = sort(fsim$Call-f$Call)                        # simulated P/L\n",
    "VaR2 = -q[p*S]\n",
    "\n",
    "print(VaR2)"
   ]
  },
  {
   "cell_type": "code",
   "execution_count": 50,
   "metadata": {},
   "outputs": [
    {
     "name": "stdout",
     "output_type": "stream",
     "text": [
      "[1] 1.494695\n"
     ]
    }
   ],
   "source": [
    "# Example 7.3 in R\n",
    "# Listing 7.21\n",
    "# Last updated August 2016\n",
    "#\n",
    "#\n",
    "\n",
    "X1 = 100                                 \n",
    "X2 = 110                                 \n",
    "f1 = bs(X1, P, r, sigma, TT)                 \n",
    "f2 = bs(X2, P, r, sigma, TT)                 \n",
    "f2sim = bs(X2, Psim, r, sigma, TT-(1/365))\n",
    "f1sim = bs(X1, Psim, r, sigma, TT-(1/365))\n",
    "q = sort(f1sim$Call + f2sim$Put + Psim-f1$Call - f2$Put-P); \n",
    "VaR3 = -q[p*S]\n",
    "\n",
    "print(VaR3)"
   ]
  },
  {
   "cell_type": "code",
   "execution_count": 51,
   "metadata": {},
   "outputs": [],
   "source": [
    "# Simulated two-asset returns in R\n",
    "# Listing 7.23\n",
    "# Last updated July 2020\n",
    "#\n",
    "#\n",
    "\n",
    "library (MASS)\n",
    "\n",
    "set.seed(12)  # set seed\n",
    "\n",
    "mu = rep(r/365, 2)                                    # return mean\n",
    "Sigma = matrix(c(0.01, 0.0005, 0.0005, 0.02),ncol=2)  # covariance matrix\n",
    "y = mvrnorm(S,mu,Sigma)  # simulated returns"
   ]
  },
  {
   "cell_type": "code",
   "execution_count": 52,
   "metadata": {},
   "outputs": [
    {
     "name": "stdout",
     "output_type": "stream",
     "text": [
      "[1] 25.96307\n"
     ]
    }
   ],
   "source": [
    "# Two-asset VaR in R\n",
    "# Listing 7.25\n",
    "# Last updated July 2020\n",
    "#\n",
    "#\n",
    "\n",
    "K=2\n",
    "P = c(100, 50)                                 # prices\n",
    "x = rep(1, 2)                                  # number of assets\n",
    "Port = P %*% x                                 # portfolio at t\n",
    "Psim = matrix(t(matrix(P,K,S)),ncol=K)*exp(y)  # simulated prices\n",
    "PortSim = Psim %*% x                           # simulated portfolio value\n",
    "q = sort(PortSim-Port[1,1])                    # simulated P/L\n",
    "VaR4 = -q[S*p]\n",
    "\n",
    "print(VaR4)"
   ]
  },
  {
   "cell_type": "code",
   "execution_count": 53,
   "metadata": {},
   "outputs": [
    {
     "name": "stdout",
     "output_type": "stream",
     "text": [
      "[1] 20.79232\n"
     ]
    }
   ],
   "source": [
    "# A two-asset case in R with an option\n",
    "# Listing 7.27\n",
    "# Last updated July 2020\n",
    "#\n",
    "#\n",
    "\n",
    "f = bs(X = P[2], P = P[2], r = r, sigma = sigma, T = TT)\n",
    "fsim = bs(X = P[2], P = Psim[,2], r = r, sigma = sigma, T = TT-(1/365))\n",
    "q = sort(fsim$Call + Psim[,1] - f$Call - P[1]); \n",
    "VaR5 = -q[p*S]\n",
    "\n",
    "print(VaR5)"
   ]
  },
  {
   "cell_type": "markdown",
   "metadata": {},
   "source": [
    "<a id='8'></a>\n",
    "***"
   ]
  },
  {
   "cell_type": "markdown",
   "metadata": {},
   "source": [
    "# Chapter 8: Backtesting and Stress Testing\n",
    "\n",
    "-  8.1: Loading hypothetical stock prices, converting to returns\n",
    "-  8.3: Setting up backtest \n",
    "-  8.5: Running backtest for EWMA/MA/HS/GARCH VaR\n",
    "-  8.7: Backtesting analysis for EWMA/MA/HS/GARCH VaR\n",
    "-  8.9: Bernoulli coverage test\n",
    "-  8.11: Independence test\n",
    "-  8.13: Running Bernoulli/Independence test on backtests\n",
    "-  8.15: Running backtest for EWMA/HS ES\n",
    "-  8.17: Backtesting analysis for EWMA/HS ES"
   ]
  },
  {
   "cell_type": "code",
   "execution_count": 54,
   "metadata": {},
   "outputs": [],
   "source": [
    "# Load data in R\n",
    "# Listing 8.1\n",
    "# Last updated July 2020\n",
    "#\n",
    "#\n",
    "\n",
    "\n",
    "p = read.csv('index.csv')\n",
    "y = diff(log(p$Index)) # get returns "
   ]
  },
  {
   "cell_type": "code",
   "execution_count": 55,
   "metadata": {
    "scrolled": true
   },
   "outputs": [],
   "source": [
    "# Set backtest up in R\n",
    "# Listing 8.3\n",
    "# Last updated July 2020\n",
    "#\n",
    "#\n",
    "\n",
    "WE = 1000                             # estimation window length\n",
    "p = 0.01                              # probability\n",
    "l1 = ceiling(WE*p)                    # HS quantile\n",
    "portfolio_value = 1                   # portfolio value\n",
    "VaR = matrix(nrow=length(y),ncol=4)   # matrix for forecasts\n",
    "\n",
    "## EWMA setup\n",
    "lambda = 0.94       \n",
    "s11 = var(y)\n",
    "for(t in 2:WE) {\n",
    "    s11=lambda*s11+(1-lambda)*y[t-1]^2\n",
    "}"
   ]
  },
  {
   "cell_type": "code",
   "execution_count": 56,
   "metadata": {},
   "outputs": [
    {
     "name": "stdout",
     "output_type": "stream",
     "text": [
      "Time difference of 5.200304 mins\n"
     ]
    }
   ],
   "source": [
    "# Running backtest in R\n",
    "# Listing 8.5\n",
    "# Last updated July 2020\n",
    "#\n",
    "#\n",
    "## this will take several minutes to run\n",
    "\n",
    "library(rugarch)\n",
    "spec = ugarchspec(variance.model = list( garchOrder = c(1, 1)),\n",
    "                  mean.model = list( armaOrder = c(0,0),include.mean = FALSE))\n",
    "start_time <- Sys.time()\n",
    "for (t in (WE+1):length(y)){\n",
    "  t1 = t-WE;         # start of the data window\n",
    "  t2 = t-1;\t         # end of the data window\n",
    "  window = y[t1:t2]  # data for estimation\n",
    "  \n",
    "  s11 = lambda*s11 + (1-lambda)*y[t-1]^2\n",
    "  VaR[t,1] = -qnorm(p) * sqrt(s11) * portfolio_value          # EWMA\n",
    "  \n",
    "  VaR[t,2] = - sd(window) * qnorm(p)*portfolio_value          # MA\n",
    "  \n",
    "  ys = sort(window)                              \n",
    "  VaR[t,3] = -ys[l1]*portfolio_value                          # HS\n",
    "  \n",
    "  res = ugarchfit(spec = spec, data = window,solver=\"hybrid\")\n",
    "\n",
    "  omega = res@fit$coef['omega']\n",
    "  alpha = res@fit$coef['alpha1']\n",
    "  beta = res@fit$coef['beta1']\n",
    "  sigma2 = omega + alpha * tail(window,1)^2 + beta * tail(res@fit$var,1)  \n",
    "  VaR[t,4] = -sqrt(sigma2) * qnorm(p) * portfolio_value       # GARCH(1,1)\n",
    "}\n",
    "end_time <- Sys.time()\n",
    "print(end_time - start_time)"
   ]
  },
  {
   "cell_type": "code",
   "execution_count": 57,
   "metadata": {},
   "outputs": [
    {
     "name": "stdout",
     "output_type": "stream",
     "text": [
      "1 VR 2.074423 VaR vol 0.01211406 \n",
      "2 VR 1.860565 VaR vol 0.006622265 \n",
      "3 VR 1.240376 VaR vol 0.01229172 \n",
      "4 VR 1.73225 VaR vol 0.01146659 \n"
     ]
    },
    {
     "data": {
      "image/png": "[encoded data removed]",
      "text/plain": [
       "plot without title"
      ]
     },
     "metadata": {},
     "output_type": "display_data"
    }
   ],
   "source": [
    "# Backtesting analysis in R\n",
    "# Listing 8.7\n",
    "# Last updated August 2019\n",
    "#\n",
    "#\n",
    "\n",
    "for (i in 1:4){\n",
    "  VR = sum(y[(WE+1):length(y)]< -VaR[(WE+1):length(y),i])/(p*(length(y)-WE))\n",
    "  s = sd(VaR[(WE+1):length(y),i])\n",
    "  cat(i,\"VR\",VR,\"VaR vol\",s,\"\\n\")\n",
    "}\n",
    "matplot(cbind(y,VaR),type='l',col=1:5,las=1,ylab=\"\",lty=1:5)\n",
    "legend(\"topleft\",legend=c(\"Returns\",\"EWMA\",\"MA\",\"HS\",\"GARCH\"),lty=1:5,col=1:5,bty=\"n\")"
   ]
  },
  {
   "cell_type": "code",
   "execution_count": 58,
   "metadata": {},
   "outputs": [],
   "source": [
    "# Bernoulli coverage test in R\n",
    "# Listing 8.9\n",
    "# Last updated August 2016\n",
    "#\n",
    "#\n",
    "\n",
    "bern_test=function(p,v){\n",
    "  lv=length(v)\n",
    "  sv=sum(v)\n",
    "  \n",
    "  al=log(p)*sv+log(1-p)*(lv-sv)\n",
    "  bl=log(sv/lv)*sv +log(1-sv/lv)*(lv-sv)\n",
    "  return(-2*(al-bl))\n",
    "}"
   ]
  },
  {
   "cell_type": "code",
   "execution_count": 59,
   "metadata": {},
   "outputs": [],
   "source": [
    "# Independence test in R\n",
    "# Listing 8.11\n",
    "# Last updated June 2018\n",
    "#\n",
    "#\n",
    "\n",
    "ind_test=function(V){\n",
    "  J=matrix(ncol=4,nrow=length(V))\n",
    "  for (i in 2:length(V)){\n",
    "    J[i,1]=V[i-1]==0 & V[i]==0\n",
    "    J[i,2]=V[i-1]==0 & V[i]==1\n",
    "    J[i,3]=V[i-1]==1 & V[i]==0\n",
    "    J[i,4]=V[i-1]==1 & V[i]==1\n",
    "  }\n",
    "  V_00=sum(J[,1],na.rm=TRUE)\n",
    "  V_01=sum(J[,2],na.rm=TRUE)\n",
    "  V_10=sum(J[,3],na.rm=TRUE)\n",
    "  V_11=sum(J[,4],na.rm=TRUE)\n",
    "  p_00=V_00/(V_00+V_01)\n",
    "  p_01=V_01/(V_00+V_01)\n",
    "  p_10=V_10/(V_10+V_11)\n",
    "  p_11=V_11/(V_10+V_11)\n",
    "  hat_p=(V_01+V_11)/(V_00+V_01+V_10+V_11)\n",
    "  al = log(1-hat_p)*(V_00+V_10) + log(hat_p)*(V_01+V_11)\n",
    "  bl = log(p_00)*V_00 + log(p_01)*V_01 + log(p_10)*V_10 + log(p_11)*V_11\n",
    "  return(-2*(al-bl))\n",
    "}"
   ]
  },
  {
   "cell_type": "code",
   "execution_count": 60,
   "metadata": {},
   "outputs": [
    {
     "name": "stdout",
     "output_type": "stream",
     "text": [
      "1 EWMA \n",
      " Bernoulli -  Test statistic: 41.6257   p-value: 1.105309e-10 \n",
      " Independence -  Test statistic: 0.4411056   p-value: 0.5065893 \n",
      " \n",
      "2 MA \n",
      " Bernoulli -  Test statistic: 27.90392   p-value: 1.27491e-07 \n",
      " Independence -  Test statistic: 17.44182   p-value: 2.962367e-05 \n",
      " \n",
      "3 HS \n",
      " Bernoulli -  Test statistic: 2.535439   p-value: 0.1113159 \n",
      " Independence -  Test statistic: 11.48482   p-value: 0.0007016709 \n",
      " \n",
      "4 GARCH \n",
      " Bernoulli -  Test statistic: 20.78009   p-value: 5.151585e-06 \n",
      " Independence -  Test statistic: 0.2328221   p-value: 0.6294391 \n",
      " \n"
     ]
    }
   ],
   "source": [
    "# Backtesting S&P 500 in R\n",
    "# Listing 8.13\n",
    "# Last updated July 2020\n",
    "#\n",
    "#\n",
    "\n",
    "W1=WE+1\n",
    "ya=y[W1:length(y)]\n",
    "VaRa=VaR[W1:length(y),]\n",
    "m=c(\"EWMA\",\"MA\",\"HS\",\"GARCH\")\n",
    "for (i in 1:4){\n",
    "  q= y[W1:length(y)]< -VaR[W1:length(y),i]\n",
    "  v=VaRa*0\n",
    "  v[q,i]=1\n",
    "  ber=bern_test(p,v[,i])\n",
    "  ind=ind_test(v[,i])\n",
    "  cat(i,m[i], \"\\n\",\n",
    "      \"Bernoulli - \",\"Test statistic:\",ber,\"  p-value:\",1-pchisq(ber,1),\"\\n\",\n",
    "      \"Independence - \", \"Test statistic:\",ind,\"  p-value:\",1-pchisq(ind,1),\"\\n \\n\")\n",
    "}"
   ]
  },
  {
   "cell_type": "code",
   "execution_count": 61,
   "metadata": {},
   "outputs": [],
   "source": [
    "# Backtest ES in R\n",
    "# Listing 8.15\n",
    "# Last updated July 2020\n",
    "#\n",
    "#\n",
    "\n",
    "VaR2 = matrix(nrow=length(y), ncol=2)                    # VaR forecasts for 2 models\n",
    "ES = matrix(nrow=length(y), ncol=2)                      # ES forecasts for 2 models\n",
    "\n",
    "for (t in (WE+1):length(y)){\n",
    "  t1 = t-WE;\n",
    "  t2 = t-1;\n",
    "  window = y[t1:t2]\n",
    "  \n",
    "  s11 = lambda * s11  + (1-lambda) * y[t-1]^2 \n",
    "  VaR2[t,1] = -qnorm(p) * sqrt(s11) * portfolio_value    # EWMA\n",
    "  ES[t,1] = sqrt(s11) * dnorm(qnorm(p)) / p\n",
    "  \n",
    "  ys = sort(window)\n",
    "  VaR2[t,2] = -ys[l1] * portfolio_value                  # HS\n",
    "  ES[t,2] = -mean(ys[1:l1]) * portfolio_value\n",
    "}"
   ]
  },
  {
   "cell_type": "code",
   "execution_count": 62,
   "metadata": {},
   "outputs": [
    {
     "name": "stdout",
     "output_type": "stream",
     "text": [
      "1 nES 1.223518 \n",
      "2 nES 1.053689 \n"
     ]
    }
   ],
   "source": [
    "# Backtest ES in R\n",
    "# Listing 8.17\n",
    "# Last updated August 2019\n",
    "#\n",
    "#\n",
    "\n",
    "ESa = ES[W1:length(y),]\n",
    "VaRa = VaR2[W1:length(y),]\n",
    "for (i in 1:2){\n",
    "  q = ya <= -VaRa[,i]\n",
    "  nES = mean(ya[q] / -ESa[q,i])\n",
    "  cat(i,\"nES\",nES,\"\\n\")\n",
    "}"
   ]
  },
  {
   "cell_type": "markdown",
   "metadata": {},
   "source": [
    "<a id='9'></a>\n",
    "***"
   ]
  },
  {
   "cell_type": "markdown",
   "metadata": {},
   "source": [
    "# Chapter 9: Extreme Value Theory\n",
    "\n",
    "-  9.1: Calculation of tail index from returns"
   ]
  },
  {
   "cell_type": "code",
   "execution_count": 63,
   "metadata": {
    "scrolled": true
   },
   "outputs": [
    {
     "name": "stdout",
     "output_type": "stream",
     "text": [
      "[1] 2.62971\n"
     ]
    }
   ],
   "source": [
    "# Hill estimator in R\n",
    "# Listing 9.1\n",
    "# Last updated 2011\n",
    "#\n",
    "#\n",
    "\n",
    "ysort = sort(y)                             # sort the returns\n",
    "CT = 100                                    # set the threshold\n",
    "iota = 1/mean(log(ysort[1:CT]/ysort[CT+1])) # get the tail index\n",
    "\n",
    "print(iota)\n",
    "\n",
    "# END"
   ]
  }
 ],
 "metadata": {
  "kernelspec": {
   "display_name": "R",
   "language": "R",
   "name": "ir"
  },
  "language_info": {
   "codemirror_mode": "r",
   "file_extension": ".r",
   "mimetype": "text/x-r-source",
   "name": "R",
   "pygments_lexer": "r",
   "version": "4.2.2"
  }
 },
 "nbformat": 4,
 "nbformat_minor": 4
}
