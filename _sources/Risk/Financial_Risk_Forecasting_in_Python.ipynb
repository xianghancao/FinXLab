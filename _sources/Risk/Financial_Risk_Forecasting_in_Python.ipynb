{
 "cells": [
  {
   "cell_type": "markdown",
   "metadata": {},
   "source": [
    "# Introduction\n",
    "\n",
    "This notebook is an implementation of Jón Daníelsson's _Financial Risk Forecasting_ (Wiley, 2011) in Python 3.9.12, with annotations and introductory examples. The introductory examples (Appendix) are similar to Appendix B/C in the original book, with an emphasis on the differences between R/MATLAB and Python.\n",
    "\n",
    "Bullet point numbers correspond to the R/MATLAB Listing numbers in the original book, referred to henceforth as _FRF_.\n",
    "\n",
    "More details can be found at the book website: https://www.financialriskforecasting.com/\n",
    "\n",
    "Last updated: June 2022"
   ]
  },
  {
   "cell_type": "markdown",
   "metadata": {},
   "source": [
    "Copyright 2011-2020 Jón Daníelsson. This code is free software: you can redistribute it and/or modify it under the terms of the GNU General Public License as published by the Free Software Foundation, either version 3 of the License, or (at your option) any later version. This code is distributed in the hope that it will be useful, but WITHOUT ANY WARRANTY; without even the implied warranty of MERCHANTABILITY or FITNESS FOR A PARTICULAR PURPOSE. See the GNU General Public License for more details. The GNU General Public License is available at: https://www.gnu.org/licenses/."
   ]
  },
  {
   "cell_type": "markdown",
   "metadata": {},
   "source": [
    "<a id='top'></a>\n",
    "## Table of Contents \n",
    "[Chapter 0. Appendix - Introduction](#0) <br>\n",
    "[Chapter 1. Financial Markets, Prices and Risk](#1) <br>\n",
    "[Chapter 2. Univariate Volatility Modeling](#2) <br>\n",
    "[Chapter 3. Multivariate Volatility Models](#3) <br>\n",
    "[Chapter 4. Risk Measures](#4) <br>\n",
    "[Chapter 5. Implementing Risk Forecasts](#5) <br>\n",
    "[Chapter 6. Analytical Value-at-Risk for Options and Bonds](#6) <br>\n",
    "[Chapter 7. Simulation Methods for VaR for Options and Bonds](#7) <br>\n",
    "[Chapter 8. Backtesting and Stress Testing](#8) <br>\n",
    "[Chapter 9. Extreme Value Theory](#9) <br>"
   ]
  },
  {
   "cell_type": "markdown",
   "metadata": {},
   "source": [
    "<a id='0'></a>\n",
    "***"
   ]
  },
  {
   "cell_type": "markdown",
   "metadata": {},
   "source": [
    "# Appendix: An Introduction to Python\n",
    "\n",
    "Created in Python 3.9.12 (June 2022)\n",
    "\n",
    "-  P.1: Entering and Printing Data\n",
    "-  P.2: Vectors, Matrices and Sequences\n",
    "-  P.3: Importing Data (to be updated)\n",
    "-  P.4: Basic Summary Statistics\n",
    "-  P.5: Calculating Moments\n",
    "-  P.6: Basic Matrix Operations\n",
    "-  P.7: Statistical Distributions\n",
    "-  P.8: Statistical Tests\n",
    "-  P.9: Time Series\n",
    "-  P.10: Loops and Functions\n",
    "-  P.11: Basic Graphs\n",
    "-  P.12: Miscellaneous Useful Functions"
   ]
  },
  {
   "cell_type": "code",
   "execution_count": 1,
   "metadata": {},
   "outputs": [
    {
     "name": "stdout",
     "output_type": "stream",
     "text": [
      "10\n"
     ]
    }
   ],
   "source": [
    "# Entering and Printing Data in Python\n",
    "# Listing P.1\n",
    "# Last updated June 2018\n",
    "#\n",
    "#\n",
    "\n",
    "x = 10             # assign x the value 10\n",
    "print(x)           # print the value of x"
   ]
  },
  {
   "cell_type": "code",
   "execution_count": 2,
   "metadata": {},
   "outputs": [
    {
     "name": "stdout",
     "output_type": "stream",
     "text": [
      "[1, 3, 5, 7, 9]\n",
      "5\n",
      "5\n",
      "[[nan nan nan]\n",
      " [nan nan nan]]\n",
      "(2, 3)\n",
      "[[1 2 3 1 2 3]\n",
      " [1 2 3 1 2 3]\n",
      " [1 2 3 1 2 3]]\n",
      "[0, 1, 2, 3, 4, 5, 6, 7, 8, 9]\n"
     ]
    }
   ],
   "source": [
    "# Vectors, Matrices and Sequences in Python\n",
    "# Listing P.2\n",
    "# Last updated July 2020\n",
    "#\n",
    "#\n",
    "\n",
    "y = [1,3,5,7,9]       # lists in square brackets are stored as arrays\n",
    "\n",
    "print(y)\n",
    "\n",
    "print(y[2])           # 3rd element (Python indices start at 0)\n",
    "\n",
    "print(len(y))         # as expected, y has length 5\n",
    "\n",
    "import numpy as np    # NumPy: Numeric Python package\n",
    "\n",
    "v = np.full([2,3], np.nan) # create a 2x3 matrix with NaN values\n",
    "\n",
    "print(v)           \n",
    "\n",
    "print(v.shape)        # as expected, v is size (2,3)\n",
    "\n",
    "w = np.tile([1,2,3], (3,2)) # repeats thrice by rows, twice by columns\n",
    "\n",
    "print(w)\n",
    "\n",
    "s = range(10)         # an iterator from 0 to 9\n",
    "\n",
    "print([x for x in s]) # return  elements using list comprehension"
   ]
  },
  {
   "cell_type": "code",
   "execution_count": 3,
   "metadata": {},
   "outputs": [
    {
     "name": "stdout",
     "output_type": "stream",
     "text": [
      "32.4\n",
      "15\n",
      "3.14\n",
      "8.1\n",
      "7.13\n",
      "20.791800000000002\n",
      "27.722399999999997\n",
      "1.0\n",
      "[ 3.14  5.    9.26 15.  ]\n",
      "[1.1442228  2.7080502  2.22570405 1.60943791]\n"
     ]
    }
   ],
   "source": [
    "# Basic Summary Statistics in Python\n",
    "# Listing P.3\n",
    "# Last updated July 2020\n",
    "#\n",
    "#\n",
    "\n",
    "import numpy as np\n",
    "\n",
    "y = [3.14, 15, 9.26, 5]\n",
    "\n",
    "print(sum(y))          # sum of all elements of y\n",
    "print(max(y))          # maximum value of y\n",
    "print(min(y))          # minimum value of y\n",
    "print(np.mean(y))      # arithmetic mean\n",
    "print(np.median(y))    # median\n",
    "print(np.var(y))       # population variance\n",
    "print(np.cov(y))       # covar matrix = sample variance for single vector\n",
    "print(np.corrcoef(y))  # corr matrix = [1] for single vector\n",
    "print(np.sort(y))      # sort in ascending order\n",
    "print(np.log(y))       # natural log"
   ]
  },
  {
   "cell_type": "code",
   "execution_count": 4,
   "metadata": {},
   "outputs": [
    {
     "name": "stdout",
     "output_type": "stream",
     "text": [
      "8.1\n",
      "20.791800000000002\n",
      "5.265206548655049\n",
      "0.47004939528995604\n",
      "1.7153138938095185\n"
     ]
    }
   ],
   "source": [
    "# Calculating Moments in Python\n",
    "# Listing P.4\n",
    "# Last updated June 2018\n",
    "#\n",
    "#\n",
    "\n",
    "from scipy import stats\n",
    "\n",
    "print(np.mean(y))                        # mean\n",
    "print(np.var(y))                         # variance\n",
    "print(np.std(y, ddof = 1))               # ddof = 1 for unbiased standard deviation\n",
    "print(stats.skew(y))                     # skewness\n",
    "print(stats.kurtosis(y, fisher = False)) # fisher = False gives Pearson definition"
   ]
  },
  {
   "cell_type": "code",
   "execution_count": 5,
   "metadata": {},
   "outputs": [
    {
     "name": "stdout",
     "output_type": "stream",
     "text": [
      "[[ 5]\n",
      " [11]]\n",
      "[[1 2]\n",
      " [3 4]\n",
      " [1 2]]\n",
      "[[1 2 1]\n",
      " [3 4 2]]\n"
     ]
    }
   ],
   "source": [
    "# Basic Matrix Operations in Python\n",
    "# Listing P.5\n",
    "# Last updated June 2018\n",
    "#\n",
    "#\n",
    "\n",
    "\n",
    "z = np.matrix([[1, 2], [3, 4]])                   # z is a 2 x 2 matrix\n",
    "x = np.matrix([1, 2])                             # x is a 1 x 2 matrix\n",
    "\n",
    "## Note: z * x is undefined since the two matrices are not conformable\n",
    "\n",
    "print(z * np.transpose(x))                        # this evaluates to a 2 x 1 matrix          \n",
    "\n",
    "b = np.concatenate((z,x), axis = 0)               # \"stacking\" z and x vertically\n",
    "\n",
    "print(b)\n",
    "\n",
    "c = np.concatenate((z,np.transpose(x)), axis = 1) # \"stacking\" z and x horizontally\n",
    "\n",
    "print(c)\n",
    "\n",
    "## note: dimensions must match along the combining axis"
   ]
  },
  {
   "cell_type": "code",
   "execution_count": 6,
   "metadata": {},
   "outputs": [
    {
     "name": "stdout",
     "output_type": "stream",
     "text": [
      "[-1.28155157 -0.84162123 -0.52440051 -0.2533471   0.          0.2533471\n",
      "  0.52440051  0.84162123  1.28155157]\n",
      "[0.01997098 0.05805826 0.18695048 0.5        0.81304952 0.94194174\n",
      " 0.98002902]\n",
      "[0.         0.         0.         0.5        0.30326533 0.18393972\n",
      " 0.11156508]\n",
      "(-0.045879161987809274, 1.4544560879442023)\n"
     ]
    }
   ],
   "source": [
    "# Statistical Distributions in Python\n",
    "# Listing P.6\n",
    "# Last updated July 2020\n",
    "#\n",
    "#\n",
    "\n",
    "\n",
    "q = np.arange(-3,4,1)        # specify a set of values, syntax arange(min, exclusive-max, step)\n",
    "\n",
    "p = np.arange(0.1,1.0,0.1)   # specify a set of probabilities\n",
    "\n",
    "print(stats.norm.ppf(p))     # element-wise inverse Normal quantile\n",
    "\n",
    "print(stats.t.cdf(q,4))      # element-wise cdf under Student-t(4)\n",
    "\n",
    "print(stats.chi2.pdf(q,2))   # element-wise pdf under Chisq(2)\n",
    "\n",
    "## One can also obtain pseudorandom samples from distributions using numpy.random\n",
    "\n",
    "x = np.random.standard_t(df=5, size=100)   # Sampling 100 times from TDist with 5 df\n",
    "\n",
    "y = np.random.normal(size=50)              # Sampling 50 times from a standard normal \n",
    "\n",
    "## Given data, we obtain MLE estimates of parameters with stats:\n",
    "\n",
    "res = stats.norm.fit(x)                    # Fitting x to normal dist\n",
    "\n",
    "print(res)                                 # First element is mean, second sd"
   ]
  },
  {
   "cell_type": "code",
   "execution_count": 7,
   "metadata": {},
   "outputs": [
    {
     "name": "stdout",
     "output_type": "stream",
     "text": [
      "Jarque_beraResult(statistic=3.8010576599080963, pvalue=0.14948954376718215)\n",
      "      lb_stat  lb_pvalue\n",
      "1    1.678898   0.195071\n",
      "2    1.735300   0.419937\n",
      "3    3.187289   0.363640\n",
      "4    3.200164   0.524904\n",
      "5    3.589705   0.609860\n",
      "6    3.620324   0.727898\n",
      "7    4.015758   0.777961\n",
      "8    4.489716   0.810461\n",
      "9    6.731188   0.665084\n",
      "10   8.994699   0.532607\n",
      "11   9.408528   0.584238\n",
      "12  10.445726   0.576919\n",
      "13  10.545396   0.648842\n",
      "14  10.546561   0.721232\n",
      "15  12.563387   0.635981\n",
      "16  16.422652   0.423872\n",
      "17  16.471006   0.490724\n",
      "18  16.669928   0.545898\n",
      "19  18.047904   0.519241\n",
      "20  20.970627   0.398863\n"
     ]
    }
   ],
   "source": [
    "# Statistical Tests in Python\n",
    "# Listing P.7\n",
    "# Last updated July 2020\n",
    "#\n",
    "#\n",
    "\n",
    "from statsmodels.stats.diagnostic import acorr_ljungbox\n",
    "\n",
    "x = np.random.standard_t(df=5, size=500)  # Create dataset x\n",
    "\n",
    "print(stats.jarque_bera(x))               # Jarque-Bera test - prints statistic and p-value\n",
    "print(acorr_ljungbox(x, lags=20))         # Ljung-Box test - prints array of statistics and p-values"
   ]
  },
  {
   "cell_type": "code",
   "execution_count": 8,
   "metadata": {},
   "outputs": [
    {
     "data": {
      "image/png": "[encoded data removed]",
      "text/plain": [
       "<Figure size 432x288 with 1 Axes>"
      ]
     },
     "metadata": {
      "needs_background": "light"
     },
     "output_type": "display_data"
    },
    {
     "data": {
      "image/png": "[encoded data removed]",
      "text/plain": [
       "<Figure size 432x288 with 1 Axes>"
      ]
     },
     "metadata": {
      "needs_background": "light"
     },
     "output_type": "display_data"
    }
   ],
   "source": [
    "# Time Series in Python\n",
    "# Listing P.8\n",
    "# Last updated June 2018\n",
    "#\n",
    "#\n",
    "\n",
    "import statsmodels.api as sm\n",
    "import matplotlib.pyplot as plt\n",
    "\n",
    "y = np.random.standard_t(df = 5, size = 60)   # Create hypothetical dataset y\n",
    "\n",
    "q1 = sm.tsa.stattools.acf(y, nlags=20)        # autocorrelation for lags 1:20\n",
    "plt.bar(x = np.arange(1,len(q1)), height = q1[1:])\n",
    "plt.show()\n",
    "plt.close()\n",
    "\n",
    "q2 = sm.tsa.stattools.pacf(y, nlags=20)       # partial autocorr for lags 1:20\n",
    "plt.bar(x = np.arange(1,len(q2)), height = q2[1:])\n",
    "plt.show()\n",
    "plt.close()"
   ]
  },
  {
   "cell_type": "code",
   "execution_count": 9,
   "metadata": {},
   "outputs": [
    {
     "name": "stdout",
     "output_type": "stream",
     "text": [
      "9\n",
      "16\n",
      "25\n",
      "36\n",
      "49\n",
      "X is not a multiple of 3\n",
      "0.3836589450732917\n"
     ]
    }
   ],
   "source": [
    "# Loops and Functions in Python\n",
    "# Listing P.9\n",
    "# Last updated June 2018\n",
    "#\n",
    "#\n",
    "\n",
    "\n",
    "## For loops\n",
    "\n",
    "for i in range(3,8):      # NOTE: range(start, end), end excluded\n",
    "    print(i**2)           # range(3,8) iterates through [3,4,5,6,7)\n",
    "\n",
    "## If-else loops\n",
    "\n",
    "X = 10\n",
    "\n",
    "if X % 3 == 0:\n",
    "    print(\"X is a multiple of 3\")\n",
    "else:\n",
    "    print(\"X is not a multiple of 3\")\n",
    "\n",
    "## Functions (example: a simple excess kurtosis function)\n",
    "\n",
    "def excess_kurtosis(x, excess = 3):        # note: excess optional, default = 3\n",
    "    m4=np.mean((x-np.mean(x))**4)          # note: exponentiation in Python uses **\n",
    "    excess_kurt=m4/(np.std(x)**4)-excess\n",
    "    return excess_kurt\n",
    "\n",
    "x = np.random.standard_t(df=5,size=60)     # Create hypothetical dataset x\n",
    "\n",
    "print(excess_kurtosis(x))"
   ]
  },
  {
   "cell_type": "code",
   "execution_count": 10,
   "metadata": {},
   "outputs": [
    {
     "data": {
      "image/png": "[encoded data removed]",
      "text/plain": [
       "<Figure size 432x288 with 4 Axes>"
      ]
     },
     "metadata": {
      "needs_background": "light"
     },
     "output_type": "display_data"
    }
   ],
   "source": [
    "# Basic Graphs in Python\n",
    "# Listing P.10\n",
    "# Last updated July 2020\n",
    "#\n",
    "#\n",
    "\n",
    "\n",
    "y = np.random.normal(size = 50)\n",
    "z = np.random.standard_t(df = 4, size = 50)\n",
    "\n",
    "## using Matplotlib to plot bar, line, histogram and scatter plots\n",
    "## subplot(a,b,c) creates a axb grid and plots the next plot in position c\n",
    "\n",
    "plt.subplot(2,2,1)\n",
    "plt.bar(range(len(y)), y);\n",
    "plt.subplot(2,2,2)\n",
    "plt.plot(y);\n",
    "plt.subplot(2,2,3)\n",
    "plt.hist(y);\n",
    "plt.subplot(2,2,4)\n",
    "plt.scatter(y,z);"
   ]
  },
  {
   "cell_type": "code",
   "execution_count": 11,
   "metadata": {},
   "outputs": [
    {
     "name": "stdout",
     "output_type": "stream",
     "text": [
      "<class 'float'>\n",
      "<class 'int'>\n"
     ]
    }
   ],
   "source": [
    "# Miscellaneous Useful Functions in Python\n",
    "# Listing P.11\n",
    "# Last updated June 2018\n",
    "#\n",
    "#\n",
    "\n",
    "## Convert objects from one type to another with int(), float() etc\n",
    "## To check type, use type(object)\n",
    "\n",
    "x = 8.0\n",
    "\n",
    "print(type(x))\n",
    "\n",
    "x = int(x)\n",
    "\n",
    "print(type(x))"
   ]
  },
  {
   "cell_type": "markdown",
   "metadata": {},
   "source": [
    "<a id='1'></a>\n",
    "***"
   ]
  },
  {
   "cell_type": "markdown",
   "metadata": {},
   "source": [
    "# Chapter 1: Financial Markets, Prices and Risk\n",
    "\n",
    "-  1.1/1.2: Loading hypothetical stock prices, converting to returns, plotting returns\n",
    "-  1.3/1.4: Summary statistics for returns timeseries\n",
    "-  1.5/1.6: Autocorrelation function (ACF) plots, Ljung-Box test\n",
    "-  1.7/1.8: Quantile-Quantile (QQ) plots\n",
    "-  1.9/1.10: Correlation matrix between different stocks"
   ]
  },
  {
   "cell_type": "code",
   "execution_count": 12,
   "metadata": {},
   "outputs": [
    {
     "data": {
      "image/png": "[encoded data removed]",
      "text/plain": [
       "<Figure size 432x288 with 1 Axes>"
      ]
     },
     "metadata": {
      "needs_background": "light"
     },
     "output_type": "display_data"
    }
   ],
   "source": [
    "# Download S&P500 data in Python\n",
    "# Listing 1.1/1.2\n",
    "# Last updated July 2020\n",
    "# \n",
    "#\n",
    "\n",
    "import numpy as np\n",
    "import matplotlib.pyplot as plt\n",
    "\n",
    "price = np.loadtxt('index.csv', delimiter = ',', skiprows = 1)\n",
    "\n",
    "y = np.diff(np.log(price), n=1, axis=0)\n",
    "\n",
    "plt.plot(y)\n",
    "plt.title(\"S&P500 Returns\")\n",
    "plt.show()\n",
    "plt.close()"
   ]
  },
  {
   "cell_type": "code",
   "execution_count": 13,
   "metadata": {},
   "outputs": [
    {
     "name": "stdout",
     "output_type": "stream",
     "text": [
      "0.00025815990082599837\n",
      "0.010005728643763066\n",
      "-0.10195548627302298\n",
      "0.10673589502911707\n",
      "0.1526332698963366\n",
      "16.981171461092003\n",
      "Jarque_beraResult(statistic=46251.44013954825, pvalue=0.0)\n"
     ]
    }
   ],
   "source": [
    "# Sample statistics in Python\n",
    "# Listing 1.3/1.4\n",
    "# Last updated July 2020\n",
    "# \n",
    "#\n",
    "\n",
    "from scipy import stats\n",
    "\n",
    "print (np.mean(y))\n",
    "print (np.std(y, ddof=1))\n",
    "print (np.min(y))\n",
    "print (np.max(y))\n",
    "print (stats.skew(y))\n",
    "print (stats.kurtosis(y, fisher = False))\n",
    "print (stats.jarque_bera(y))"
   ]
  },
  {
   "cell_type": "code",
   "execution_count": 14,
   "metadata": {},
   "outputs": [
    {
     "data": {
      "image/png": "[encoded data removed]",
      "text/plain": [
       "<Figure size 432x288 with 1 Axes>"
      ]
     },
     "metadata": {
      "needs_background": "light"
     },
     "output_type": "display_data"
    },
    {
     "data": {
      "image/png": "[encoded data removed]",
      "text/plain": [
       "<Figure size 432x288 with 1 Axes>"
      ]
     },
     "metadata": {
      "needs_background": "light"
     },
     "output_type": "display_data"
    },
    {
     "name": "stdout",
     "output_type": "stream",
     "text": [
      "      lb_stat     lb_pvalue\n",
      "1    1.246528  2.642166e-01\n",
      "2    1.496305  4.732401e-01\n",
      "3    1.954356  5.819341e-01\n",
      "4   10.568621  3.186477e-02\n",
      "5   20.603885  9.621816e-04\n",
      "6   23.745683  5.815970e-04\n",
      "7   36.587087  5.615488e-06\n",
      "8   37.313407  1.007743e-05\n",
      "9   46.301167  5.294369e-07\n",
      "10  47.172281  8.785189e-07\n",
      "11  49.061384  9.224809e-07\n",
      "12  50.401496  1.187518e-06\n",
      "13  54.260693  5.445471e-07\n",
      "14  54.559431  1.030404e-06\n",
      "15  62.017528  1.131049e-07\n",
      "16  73.970415  1.992008e-09\n",
      "17  74.263010  3.930393e-09\n",
      "18  87.933280  3.386148e-11\n",
      "19  89.148138  4.694050e-11\n",
      "20  93.488126  1.808801e-11\n",
      "        lb_stat      lb_pvalue\n",
      "1    225.318034   6.258153e-51\n",
      "2    344.090460   1.912960e-75\n",
      "3    430.941781   4.388691e-93\n",
      "4    669.009996  1.786587e-143\n",
      "5    827.745178  1.149887e-176\n",
      "6   1040.356737  1.668589e-221\n",
      "7   1075.998715  4.541978e-228\n",
      "8   1157.115714  1.764649e-244\n",
      "9   1176.923181  1.162342e-247\n",
      "10  1315.830953  1.465726e-276\n",
      "11  1426.796212  1.990767e-299\n",
      "12  1543.177596   0.000000e+00\n",
      "13  1624.028467   0.000000e+00\n",
      "14  1706.491660   0.000000e+00\n",
      "15  1783.006717   0.000000e+00\n",
      "16  1891.534669   0.000000e+00\n",
      "17  2188.962152   0.000000e+00\n",
      "18  2304.986595   0.000000e+00\n",
      "19  2381.915406   0.000000e+00\n",
      "20  2543.047731   0.000000e+00\n"
     ]
    }
   ],
   "source": [
    "# ACF plots and the Ljung-Box test in Python\n",
    "# Listing 1.5/1.6\n",
    "# Last updated July 2020\n",
    "# \n",
    "#\n",
    "\n",
    "import statsmodels.api as sm\n",
    "import matplotlib.pyplot as plt\n",
    "from statsmodels.stats.diagnostic import acorr_ljungbox\n",
    "\n",
    "\n",
    "q = sm.tsa.stattools.acf(y, nlags=20)\n",
    "plt.bar(x = np.arange(1,len(q)), height = q[1:])\n",
    "plt.title(\"Autocorrelation of returns\")\n",
    "plt.show()\n",
    "plt.close()\n",
    "\n",
    "q = sm.tsa.stattools.acf(np.square(y), nlags=20)\n",
    "plt.bar(x = np.arange(1,len(q)), height = q[1:])\n",
    "plt.title(\"Autocorrelation of returns squared\")\n",
    "plt.show()\n",
    "plt.close()\n",
    "\n",
    "\n",
    "print (acorr_ljungbox(y, lags=20))\n",
    "print (acorr_ljungbox(np.square(y), lags=20))"
   ]
  },
  {
   "cell_type": "code",
   "execution_count": 15,
   "metadata": {},
   "outputs": [
    {
     "data": {
      "image/png": "[encoded data removed]",
      "text/plain": [
       "<Figure size 432x288 with 1 Axes>"
      ]
     },
     "metadata": {
      "needs_background": "light"
     },
     "output_type": "display_data"
    },
    {
     "data": {
      "image/png": "[encoded data removed]",
      "text/plain": [
       "<Figure size 432x288 with 1 Axes>"
      ]
     },
     "metadata": {
      "needs_background": "light"
     },
     "output_type": "display_data"
    }
   ],
   "source": [
    "# QQ plots in Python\n",
    "# Listing 1.7/1.8\n",
    "# Last updated June 2018\n",
    "# \n",
    "#\n",
    "\n",
    "from statsmodels.graphics.gofplots import qqplot\n",
    "\n",
    "fig1 = qqplot(y, line='q', dist = stats.norm, fit = True)               \n",
    "plt.show()\n",
    "plt.close()\n",
    "\n",
    "fig2 = qqplot(y, line='q', dist = stats.t, distargs=(5,), fit = True)\n",
    "plt.show()\n",
    "plt.close()"
   ]
  },
  {
   "cell_type": "code",
   "execution_count": 16,
   "metadata": {},
   "outputs": [
    {
     "name": "stdout",
     "output_type": "stream",
     "text": [
      "[[1.         0.22968419 0.21261918]\n",
      " [0.22968419 1.         0.14505109]\n",
      " [0.21261918 0.14505109 1.        ]]\n"
     ]
    }
   ],
   "source": [
    "# Download stock prices in Python\n",
    "# Listing 1.9/1.10\n",
    "# Last updated July 2020\n",
    "# \n",
    "#\n",
    "\n",
    "\n",
    "p = np.loadtxt('stocks.csv',delimiter=',',skiprows = 1)\n",
    "    \n",
    "y = np.diff(np.log(p), n=1, axis=0)\n",
    "\n",
    "print(np.corrcoef(y, rowvar=False)) # correlation matrix\n",
    "\n",
    "## rowvar=False indicates that columns are variables"
   ]
  },
  {
   "cell_type": "markdown",
   "metadata": {},
   "source": [
    "<a id='2'></a>\n",
    "***"
   ]
  },
  {
   "cell_type": "markdown",
   "metadata": {},
   "source": [
    "# Chapter 2: Univariate Volatility Modelling\n",
    "\n",
    "-  2.1/2.2: GARCH and t-GARCH estimation\n",
    "-  2.3/2.4: APARCH estimation (unavailable as of June 2018)"
   ]
  },
  {
   "cell_type": "code",
   "execution_count": 17,
   "metadata": {},
   "outputs": [
    {
     "name": "stdout",
     "output_type": "stream",
     "text": [
      "ARCH(1) model: \n",
      "                         Zero Mean - ARCH Model Results                        \n",
      "==============================================================================\n",
      "Dep. Variable:                      y   R-squared:                       0.000\n",
      "Mean Model:                 Zero Mean   Adj. R-squared:                  0.000\n",
      "Vol Model:                       ARCH   Log-Likelihood:               -7670.48\n",
      "Distribution:                  Normal   AIC:                           15345.0\n",
      "Method:            Maximum Likelihood   BIC:                           15358.3\n",
      "                                        No. Observations:                 5676\n",
      "Date:                Mon, Jun 20 2022   Df Residuals:                     5676\n",
      "Time:                        14:42:01   Df Model:                            0\n",
      "                            Volatility Model                            \n",
      "========================================================================\n",
      "                 coef    std err          t      P>|t|  95.0% Conf. Int.\n",
      "------------------------------------------------------------------------\n",
      "omega          0.6846  4.051e-02     16.900  4.511e-64 [  0.605,  0.764]\n",
      "alpha[1]       0.3406  5.594e-02      6.088  1.143e-09 [  0.231,  0.450]\n",
      "========================================================================\n",
      "\n",
      "Covariance estimator: robust \n",
      "\n",
      "ARCH(4) model: \n",
      "                         Zero Mean - ARCH Model Results                        \n",
      "==============================================================================\n",
      "Dep. Variable:                      y   R-squared:                       0.000\n",
      "Mean Model:                 Zero Mean   Adj. R-squared:                  0.000\n",
      "Vol Model:                       ARCH   Log-Likelihood:               -7278.14\n",
      "Distribution:                  Normal   AIC:                           14566.3\n",
      "Method:            Maximum Likelihood   BIC:                           14599.5\n",
      "                                        No. Observations:                 5676\n",
      "Date:                Mon, Jun 20 2022   Df Residuals:                     5676\n",
      "Time:                        14:42:01   Df Model:                            0\n",
      "                             Volatility Model                             \n",
      "==========================================================================\n",
      "                 coef    std err          t      P>|t|    95.0% Conf. Int.\n",
      "--------------------------------------------------------------------------\n",
      "omega          0.3892  3.601e-02     10.808  3.155e-27   [  0.319,  0.460]\n",
      "alpha[1]       0.1788  3.608e-02      4.955  7.249e-07   [  0.108,  0.249]\n",
      "alpha[2]       0.1539  3.143e-02      4.898  9.676e-07 [9.233e-02,  0.216]\n",
      "alpha[3]       0.1711  5.084e-02      3.366  7.640e-04 [7.146e-02,  0.271]\n",
      "alpha[4]       0.1432  3.428e-02      4.177  2.948e-05 [7.601e-02,  0.210]\n",
      "==========================================================================\n",
      "\n",
      "Covariance estimator: robust \n",
      "\n",
      "GARCH(4,1) model: \n",
      "                        Zero Mean - GARCH Model Results                        \n",
      "==============================================================================\n",
      "Dep. Variable:                      y   R-squared:                       0.000\n",
      "Mean Model:                 Zero Mean   Adj. R-squared:                  0.000\n",
      "Vol Model:                      GARCH   Log-Likelihood:               -6964.28\n",
      "Distribution:                  Normal   AIC:                           13940.6\n",
      "Method:            Maximum Likelihood   BIC:                           13980.4\n",
      "                                        No. Observations:                 5676\n",
      "Date:                Mon, Jun 20 2022   Df Residuals:                     5676\n",
      "Time:                        14:42:01   Df Model:                            0\n",
      "                               Volatility Model                              \n",
      "=============================================================================\n",
      "                 coef    std err          t      P>|t|       95.0% Conf. Int.\n",
      "-----------------------------------------------------------------------------\n",
      "omega          0.0131  3.703e-03      3.539  4.010e-04  [5.848e-03,2.036e-02]\n",
      "alpha[1]       0.0460  1.697e-02      2.711  6.708e-03  [1.274e-02,7.925e-02]\n",
      "alpha[2]       0.0242  2.372e-02      1.019      0.308 [-2.231e-02,7.068e-02]\n",
      "alpha[3]   9.6148e-10  2.998e-02  3.207e-08      1.000 [-5.877e-02,5.877e-02]\n",
      "alpha[4]   3.5019e-10  2.442e-02  1.434e-08      1.000 [-4.787e-02,4.787e-02]\n",
      "beta[1]        0.9162  1.361e-02     67.333      0.000      [  0.890,  0.943]\n",
      "=============================================================================\n",
      "\n",
      "Covariance estimator: robust \n",
      "\n",
      "GARCH(1,1) model: \n",
      "                        Zero Mean - GARCH Model Results                        \n",
      "==============================================================================\n",
      "Dep. Variable:                      y   R-squared:                       0.000\n",
      "Mean Model:                 Zero Mean   Adj. R-squared:                  0.000\n",
      "Vol Model:                      GARCH   Log-Likelihood:               -6965.88\n",
      "Distribution:                  Normal   AIC:                           13937.8\n",
      "Method:            Maximum Likelihood   BIC:                           13957.7\n",
      "                                        No. Observations:                 5676\n",
      "Date:                Mon, Jun 20 2022   Df Residuals:                     5676\n",
      "Time:                        14:42:01   Df Model:                            0\n",
      "                              Volatility Model                              \n",
      "============================================================================\n",
      "                 coef    std err          t      P>|t|      95.0% Conf. Int.\n",
      "----------------------------------------------------------------------------\n",
      "omega          0.0128  3.353e-03      3.803  1.427e-04 [6.181e-03,1.932e-02]\n",
      "alpha[1]       0.0668  8.769e-03      7.613  2.685e-14 [4.957e-02,8.394e-02]\n",
      "beta[1]        0.9198  1.115e-02     82.503      0.000     [  0.898,  0.942]\n",
      "============================================================================\n",
      "\n",
      "Covariance estimator: robust \n",
      "\n",
      "tGARCH(1,1) model: \n",
      "                           Zero Mean - GARCH Model Results                           \n",
      "====================================================================================\n",
      "Dep. Variable:                            y   R-squared:                       0.000\n",
      "Mean Model:                       Zero Mean   Adj. R-squared:                  0.000\n",
      "Vol Model:                            GARCH   Log-Likelihood:               -6551.58\n",
      "Distribution:      Standardized Student's t   AIC:                           13111.2\n",
      "Method:                  Maximum Likelihood   BIC:                           13137.7\n",
      "                                              No. Observations:                 5676\n",
      "Date:                      Mon, Jun 20 2022   Df Residuals:                     5676\n",
      "Time:                              14:42:01   Df Model:                            0\n",
      "                              Volatility Model                              \n",
      "============================================================================\n",
      "                 coef    std err          t      P>|t|      95.0% Conf. Int.\n",
      "----------------------------------------------------------------------------\n",
      "omega          0.0175  3.107e-03      5.640  1.696e-08 [1.143e-02,2.361e-02]\n",
      "alpha[1]       0.0787  9.045e-03      8.702  3.264e-18 [6.098e-02,9.644e-02]\n",
      "beta[1]        0.9048  9.727e-03     93.016      0.000     [  0.886,  0.924]\n",
      "                              Distribution                              \n",
      "========================================================================\n",
      "                 coef    std err          t      P>|t|  95.0% Conf. Int.\n",
      "------------------------------------------------------------------------\n",
      "nu             3.9448      0.210     18.752  1.861e-78 [  3.532,  4.357]\n",
      "========================================================================\n",
      "\n",
      "Covariance estimator: robust \n",
      "\n"
     ]
    }
   ],
   "source": [
    "# START\n",
    "# ARCH and GARCH estimation in Python\n",
    "# Listing 2.1/2.2\n",
    "# Last updated July 2020\n",
    "# \n",
    "#\n",
    "\n",
    "import numpy as np\n",
    "\n",
    "p = np.loadtxt('index.csv', delimiter = ',', skiprows = 1)\n",
    "\n",
    "y = np.diff(np.log(p), n=1, axis=0)*100\n",
    "\n",
    "y = y-np.mean(y)\n",
    "\n",
    "from arch import arch_model   \n",
    "## using Kevin Sheppard's ARCH package for Python\n",
    "\n",
    "## ARCH(1)\n",
    "am = arch_model(y, mean = 'Zero', vol='Garch', p=1, o=0, q=0, dist='Normal')\n",
    "arch1 = am.fit(update_freq=5, disp = \"off\")\n",
    "\n",
    "## ARCH(4)\n",
    "am = arch_model(y, mean = 'Zero', vol='Garch', p=4, o=0, q=0, dist='Normal')\n",
    "arch4 = am.fit(update_freq=5, disp = \"off\")\n",
    "\n",
    "\n",
    "## GARCH(4,1)\n",
    "am = arch_model(y, mean = 'Zero', vol='Garch', p=4, o=0, q=1, dist='Normal')\n",
    "garch4_1 = am.fit(update_freq=5, disp = \"off\")\n",
    "\n",
    "## GARCH(1,1)\n",
    "am = arch_model(y, mean = 'Zero', vol='Garch', p=1, o=0, q=1, dist='Normal')\n",
    "garch1_1 = am.fit(update_freq=5, disp = \"off\")\n",
    "\n",
    "## t-GARCH(1,1)\n",
    "am = arch_model(y, mean = 'Zero', vol='Garch', p=1, o=0, q=1, dist='StudentsT')\n",
    "tgarch1_1 = am.fit(update_freq=5, disp = \"off\")\n",
    "\n",
    "print(\"ARCH(1) model:\", \"\\n\", arch1.summary(), \"\\n\")\n",
    "print(\"ARCH(4) model:\", \"\\n\", arch4.summary(), \"\\n\")\n",
    "print(\"GARCH(4,1) model:\", \"\\n\", garch4_1.summary(), \"\\n\")\n",
    "print(\"GARCH(1,1) model:\", \"\\n\", garch1_1.summary(), \"\\n\")\n",
    "print(\"tGARCH(1,1) model:\", \"\\n\", tgarch1_1.summary(), \"\\n\")"
   ]
  },
  {
   "cell_type": "code",
   "execution_count": 18,
   "metadata": {},
   "outputs": [
    {
     "name": "stdout",
     "output_type": "stream",
     "text": [
      "Leverage effects: \n",
      "                      Zero Mean - GJR-GARCH Model Results                      \n",
      "==============================================================================\n",
      "Dep. Variable:                      y   R-squared:                       0.000\n",
      "Mean Model:                 Zero Mean   Adj. R-squared:                  0.000\n",
      "Vol Model:                  GJR-GARCH   Log-Likelihood:               -6965.83\n",
      "Distribution:                  Normal   AIC:                           13939.7\n",
      "Method:            Maximum Likelihood   BIC:                           13966.2\n",
      "                                        No. Observations:                 5676\n",
      "Date:                Mon, Jun 20 2022   Df Residuals:                     5676\n",
      "Time:                        14:42:02   Df Model:                            0\n",
      "                               Volatility Model                              \n",
      "=============================================================================\n",
      "                 coef    std err          t      P>|t|       95.0% Conf. Int.\n",
      "-----------------------------------------------------------------------------\n",
      "omega          0.0128  3.349e-03      3.813  1.371e-04  [6.207e-03,1.934e-02]\n",
      "alpha[1]       0.0656  1.207e-02      5.435  5.491e-08  [4.192e-02,8.922e-02]\n",
      "gamma[1]   2.4769e-03  1.632e-02      0.152      0.879 [-2.950e-02,3.446e-02]\n",
      "beta[1]        0.9197  1.108e-02     83.014      0.000      [  0.898,  0.941]\n",
      "=============================================================================\n",
      "\n",
      "Covariance estimator: robust \n",
      "\n",
      "Power model: \n",
      "                       Zero Mean - AVGARCH Model Results                       \n",
      "==============================================================================\n",
      "Dep. Variable:                      y   R-squared:                       0.000\n",
      "Mean Model:                 Zero Mean   Adj. R-squared:                  0.000\n",
      "Vol Model:                    AVGARCH   Log-Likelihood:               -7000.79\n",
      "Distribution:                  Normal   AIC:                           14007.6\n",
      "Method:            Maximum Likelihood   BIC:                           14027.5\n",
      "                                        No. Observations:                 5676\n",
      "Date:                Mon, Jun 20 2022   Df Residuals:                     5676\n",
      "Time:                        14:42:02   Df Model:                            0\n",
      "                              Volatility Model                              \n",
      "============================================================================\n",
      "                 coef    std err          t      P>|t|      95.0% Conf. Int.\n",
      "----------------------------------------------------------------------------\n",
      "omega          0.0189  6.881e-03      2.741  6.126e-03 [5.374e-03,3.235e-02]\n",
      "alpha[1]       0.0795  1.137e-02      6.997  2.606e-12   [5.725e-02,  0.102]\n",
      "beta[1]        0.9205  1.579e-02     58.312      0.000     [  0.890,  0.951]\n",
      "============================================================================\n",
      "\n",
      "Covariance estimator: robust \n",
      "\n"
     ]
    }
   ],
   "source": [
    "# Advanced ARCH and GARCH estimation in Python\n",
    "# Listing 2.3/2.4\n",
    "# Last updated July 2020\n",
    "# \n",
    "#\n",
    "  \n",
    "\n",
    "## Leverage effects\n",
    "am = arch_model(y, mean = 'Zero', vol='Garch', p=1, o=1, q=1, dist='Normal')\n",
    "leverage_garch1_1 = am.fit(update_freq=5, disp = \"off\")\n",
    "\n",
    "## Power models, delta = 1\n",
    "am = arch_model(y, mean = 'Zero', vol='Garch', p=1, o=0, q=1, dist='Normal', power = 1.0)\n",
    "power_garch1_1 = am.fit(update_freq=5, disp = \"off\")\n",
    "\n",
    "print(\"Leverage effects:\", \"\\n\", leverage_garch1_1.summary(), \"\\n\")\n",
    "print(\"Power model:\", \"\\n\", power_garch1_1.summary(), \"\\n\")"
   ]
  },
  {
   "cell_type": "markdown",
   "metadata": {},
   "source": [
    "<a id='3'></a>\n",
    "***"
   ]
  },
  {
   "cell_type": "markdown",
   "metadata": {},
   "source": [
    "# Chapter 3: Multivariate Volatility Models\n",
    "\n",
    "-  3.1/3.2: Loading hypothetical stock prices\n",
    "-  3.3/3.4: EWMA estimation\n",
    "-  3.5/3.6: OGARCH estimation (unavailable as of June 2018)\n",
    "-  3.7/3.8: DCC estimation (unavailable as of June 2018)\n",
    "-  3.9/3.10: Comparison of EWMA, OGARCH, DCC (unavailable as of June 2018)"
   ]
  },
  {
   "cell_type": "code",
   "execution_count": 19,
   "metadata": {},
   "outputs": [],
   "source": [
    "# Download stock prices in Python\n",
    "# Listing 3.1/3.2\n",
    "# Last updated June 2018\n",
    "# \n",
    "#\n",
    "\n",
    "import numpy as np\n",
    "\n",
    "p = np.loadtxt('stocks.csv',delimiter=',',skiprows=1)\n",
    "p = p[:,[0,1]]                          # consider first two stocks\n",
    "\n",
    "y = np.diff(np.log(p), n=1, axis=0)*100 # calculate returns\n",
    "\n",
    "y[:,0] = y[:,0]-np.mean(y[:,0])         # subtract mean\n",
    "y[:,1] = y[:,1]-np.mean(y[:,1])\n",
    "\n",
    "T = len(y[:,0])"
   ]
  },
  {
   "cell_type": "code",
   "execution_count": 20,
   "metadata": {},
   "outputs": [
    {
     "name": "stdout",
     "output_type": "stream",
     "text": [
      "[0.22968419 0.22363473 0.22182769 ... 0.34366321 0.31227409 0.31597027]\n"
     ]
    }
   ],
   "source": [
    "# EWMA in Python\n",
    "# Listing 3.3/3.4\n",
    "# Last updated June 2018\n",
    "# \n",
    "#\n",
    "\n",
    "EWMA = np.full([T,3], np.nan)\n",
    "\n",
    "lmbda = 0.94\n",
    "\n",
    "S = np.cov(y, rowvar = False)\n",
    "\n",
    "EWMA[0,] = S.flatten()[[0,3,1]]\n",
    "\n",
    "for i in range(1,T):\n",
    "    S = lmbda * S + (1-lmbda) * np.transpose(np.asmatrix(y[i-1]))* np.asmatrix(y[i-1])\n",
    "    EWMA[i,] = [S[0,0], S[1,1], S[0,1]]\n",
    "\n",
    "EWMArho = np.divide(EWMA[:,2], np.sqrt(np.multiply(EWMA[:,0],EWMA[:,1])))\n",
    "\n",
    "print(EWMArho)"
   ]
  },
  {
   "cell_type": "code",
   "execution_count": 21,
   "metadata": {},
   "outputs": [],
   "source": [
    "# OGARCH in Python\n",
    "# Listing 3.5/3.6\n",
    "# Last updated July 2020\n",
    "# \n",
    "#\n",
    "\n",
    "## Python does not have a proper OGARCH package at present"
   ]
  },
  {
   "cell_type": "code",
   "execution_count": 22,
   "metadata": {},
   "outputs": [],
   "source": [
    "# DCC in Python\n",
    "# Listing 3.7/3.8\n",
    "# Last updated July 2020\n",
    "# \n",
    "#\n",
    "\n",
    "## Python does not have a proper DCC package at present"
   ]
  },
  {
   "cell_type": "code",
   "execution_count": 23,
   "metadata": {},
   "outputs": [],
   "source": [
    "# Correlation comparison in Python\n",
    "# Listing 3.9/3.10\n",
    "# Last updated July 2020\n",
    "# \n",
    "#\n",
    "\n",
    "## Python does not have a proper OGARCH/DCC package at present"
   ]
  },
  {
   "cell_type": "markdown",
   "metadata": {},
   "source": [
    "<a id='4'></a>\n",
    "***"
   ]
  },
  {
   "cell_type": "markdown",
   "metadata": {},
   "source": [
    "# Chapter 4: Risk Measures\n",
    "\n",
    "-  4.1/4.2: Expected Shortfall (ES) estimation under normality assumption"
   ]
  },
  {
   "cell_type": "code",
   "execution_count": 24,
   "metadata": {},
   "outputs": [
    {
     "name": "stdout",
     "output_type": "stream",
     "text": [
      "VaR 50.0%: -0.0\n",
      "ES 50.0%: 0.798 \n",
      "\n",
      "VaR 10.0%: 1.282\n",
      "ES 10.0%: 1.755 \n",
      "\n",
      "VaR 5.0%: 1.645\n",
      "ES 5.0%: 2.063 \n",
      "\n",
      "VaR 2.5%: 1.96\n",
      "ES 2.5%: 2.338 \n",
      "\n",
      "VaR 1.0%: 2.326\n",
      "ES 1.0%: 2.665 \n",
      "\n",
      "VaR 0.1%: 3.09\n",
      "ES 0.1%: 3.367 \n",
      "\n"
     ]
    }
   ],
   "source": [
    "# ES in Python\n",
    "# Listing 4.1/4.2\n",
    "# Last updated July 2020\n",
    "# \n",
    "#\n",
    "\n",
    "from scipy import stats\n",
    "\n",
    "p = [0.5, 0.1, 0.05, 0.025, 0.01, 0.001]\n",
    "VaR = -stats.norm.ppf(p)\n",
    "ES = stats.norm.pdf(stats.norm.ppf(p))/p\n",
    "\n",
    "for i in range(len(p)):\n",
    "    print(\"VaR \" + str(round(p[i]*100,3)) + \"%: \" + str(round(VaR[i],3)))\n",
    "    print(\"ES \" + str(round(p[i]*100,3)) + \"%: \" + str(round(ES[i],3)), \"\\n\")"
   ]
  },
  {
   "cell_type": "markdown",
   "metadata": {},
   "source": [
    "<a id='5'></a>\n",
    "***"
   ]
  },
  {
   "cell_type": "markdown",
   "metadata": {},
   "source": [
    "# Chapter 5: Implementing Risk Forecasts\n",
    "\n",
    "-  5.1/5.2: Loading hypothetical stock prices, converting to returns\n",
    "-  5.3/5.4: Univariate HS Value at Risk (VaR)\n",
    "-  5.5/5.6: Multivariate HS VaR\n",
    "-  5.7/5.8: Univariate ES VaR\n",
    "-  5.9/5.10: Normal VaR\n",
    "-  5.11/5.12: Portfolio Normal VaR\n",
    "-  5.13/5.14: Student-t VaR\n",
    "-  5.15/5.16: Normal ES VaR\n",
    "-  5.17/5.18: Direct Integration Normal ES VaR\n",
    "-  5.19/5.20: MA Normal VaR\n",
    "-  5.21/5.22: EWMA VaR\n",
    "-  5.23/5.24: Two-asset EWMA VaR\n",
    "-  5.25/5.26: GARCH(1,1) VaR"
   ]
  },
  {
   "cell_type": "code",
   "execution_count": 25,
   "metadata": {},
   "outputs": [],
   "source": [
    "# Download stock prices in Python\n",
    "# Listing 5.1/5.2\n",
    "# Last updated July 2020\n",
    "# \n",
    "# \n",
    "\n",
    "import numpy as np\n",
    "from scipy import stats\n",
    "\n",
    "p = np.loadtxt('stocks.csv',delimiter=',',skiprows=1)\n",
    "p = p[:,[0,1]]      # consider two stocks\n",
    "## convert prices to returns, and adjust length\n",
    "\n",
    "y1 = np.diff(np.log(p[:,0]), n=1, axis=0)\n",
    "y2 = np.diff(np.log(p[:,1]), n=1, axis=0)\n",
    "\n",
    "y = np.stack([y1,y2], axis = 1)\n",
    "T = len(y1)\n",
    "value = 1000 # portfolio value\n",
    "p = 0.01 # probability"
   ]
  },
  {
   "cell_type": "code",
   "execution_count": 26,
   "metadata": {},
   "outputs": [
    {
     "name": "stdout",
     "output_type": "stream",
     "text": [
      "17.498224747930724\n"
     ]
    }
   ],
   "source": [
    "# Univariate HS in Python\n",
    "# Listing 5.3/5.4\n",
    "# Last updated July 2020\n",
    "# \n",
    "# \n",
    "\n",
    "from math import ceil\n",
    "\n",
    "ys = np.sort(y1) # sort returns\n",
    "op = ceil(T*p)    # p percent smallest\n",
    "VaR1 = -ys[op - 1] * value\n",
    "\n",
    "print(VaR1)"
   ]
  },
  {
   "cell_type": "code",
   "execution_count": 27,
   "metadata": {},
   "outputs": [
    {
     "name": "stdout",
     "output_type": "stream",
     "text": [
      "18.726262569293546\n"
     ]
    }
   ],
   "source": [
    "# Multivariate HS in Python\n",
    "# Listing 5.5/5.6\n",
    "# Last updated July 2020\n",
    "# \n",
    "# \n",
    "\n",
    "w = [0.3, 0.7]               # vector of portfolio weights\n",
    "yp = np.squeeze(np.matmul(y, w)) # portfolio returns\n",
    "yps = np.sort(yp)\n",
    "VaR2= -yps[op - 1] * value\n",
    "\n",
    "print(VaR2)"
   ]
  },
  {
   "cell_type": "code",
   "execution_count": 28,
   "metadata": {},
   "outputs": [
    {
     "name": "stdout",
     "output_type": "stream",
     "text": [
      "22.56338810381287\n"
     ]
    }
   ],
   "source": [
    "# Univariate ES in Python\n",
    "# Listing 5.7/5.8\n",
    "# Last updated June 2018\n",
    "# \n",
    "# \n",
    "\n",
    "ES1 = -np.mean(ys[:op]) * value\n",
    "\n",
    "print(ES1)"
   ]
  },
  {
   "cell_type": "code",
   "execution_count": 29,
   "metadata": {},
   "outputs": [
    {
     "name": "stdout",
     "output_type": "stream",
     "text": [
      "14.94957154354662\n"
     ]
    }
   ],
   "source": [
    "# Normal VaR in Python\n",
    "# Listing 5.9/5.10\n",
    "# Last updated June 2018\n",
    "# \n",
    "#\n",
    "\n",
    "sigma = np.std(y1, ddof=1) # estimate volatility\n",
    "VaR3 = -sigma * stats.norm.ppf(p) * value \n",
    "\n",
    "print(VaR3)"
   ]
  },
  {
   "cell_type": "code",
   "execution_count": 30,
   "metadata": {},
   "outputs": [
    {
     "name": "stdout",
     "output_type": "stream",
     "text": [
      "17.041085456523806\n"
     ]
    }
   ],
   "source": [
    "# Portfolio normal VaR in Python\n",
    "# Listing 5.11/5.12\n",
    "# Last updated June 2022\n",
    "# \n",
    "# \n",
    "\n",
    "## portfolio volatility\n",
    "sigma = np.sqrt(np.mat(w)*np.mat(np.cov(y,rowvar=False))*np.transpose(np.mat(w)))[0,0]\n",
    "    \n",
    "## Note: [0,0] is to pull the first element of the matrix out as a float\n",
    "VaR4 = -sigma * stats.norm.ppf(p) * value \n",
    "\n",
    "print(VaR4)"
   ]
  },
  {
   "cell_type": "code",
   "execution_count": 31,
   "metadata": {},
   "outputs": [
    {
     "name": "stdout",
     "output_type": "stream",
     "text": [
      "17.123433115229002\n"
     ]
    }
   ],
   "source": [
    "# Student-t VaR in Python\n",
    "# Listing 5.13/5.14\n",
    "# Last updated June 2018\n",
    "# \n",
    "# \n",
    "\n",
    "scy1 = y1 * 100         # scale the returns\n",
    "res = stats.t.fit(scy1)\n",
    "\n",
    "sigma = res[2]/100      # rescale volatility\n",
    "nu = res[0]\n",
    "\n",
    "VaR5 = -sigma*stats.t.ppf(p,nu)*value\n",
    "\n",
    "print(VaR5)"
   ]
  },
  {
   "cell_type": "code",
   "execution_count": 32,
   "metadata": {},
   "outputs": [
    {
     "name": "stdout",
     "output_type": "stream",
     "text": [
      "17.127193705870486\n"
     ]
    }
   ],
   "source": [
    "# Normal ES in Python\n",
    "# Listing 5.15/5.16\n",
    "# Last updated June 2018\n",
    "# \n",
    "# \n",
    "\n",
    "sigma = np.std(y1, ddof=1)\n",
    "ES2 = sigma * stats.norm.pdf(stats.norm.ppf(p)) / p * value\n",
    "\n",
    "print(ES2)"
   ]
  },
  {
   "cell_type": "code",
   "execution_count": 33,
   "metadata": {},
   "outputs": [
    {
     "name": "stdout",
     "output_type": "stream",
     "text": [
      "17.12719370586835\n"
     ]
    }
   ],
   "source": [
    "# Direct integration ES in Python\n",
    "# Listing 5.17/5.18\n",
    "# Last updated June 2018\n",
    "# \n",
    "# \n",
    "\n",
    "from scipy.integrate import quad\n",
    "\n",
    "VaR = -stats.norm.ppf(p)\n",
    "integrand = lambda q: q * stats.norm.pdf(q)\n",
    "ES = -sigma * quad(integrand, -np.inf, -VaR)[0] / p * value\n",
    "\n",
    "print(ES)"
   ]
  },
  {
   "cell_type": "code",
   "execution_count": 34,
   "metadata": {},
   "outputs": [
    {
     "name": "stdout",
     "output_type": "stream",
     "text": [
      "16.05049679536141\n",
      "16.149103169475975\n",
      "18.854346063820373\n",
      "18.882124798913356\n",
      "16.230531751938656\n",
      "16.169762107305665\n"
     ]
    }
   ],
   "source": [
    "# MA normal VaR in Python\n",
    "# Listing 5.19/5.20\n",
    "# Last updated June 2018\n",
    "# \n",
    "#\n",
    "\n",
    "WE = 20\n",
    "for t in range(T-5,T+1):\n",
    "    t1 = t-WE\n",
    "    window = y1[t1:t]      # estimation window\n",
    "    sigma = np.std(window, ddof=1)\n",
    "    VaR6 = -sigma*stats.norm.ppf(p)*value\n",
    "    print (VaR6)"
   ]
  },
  {
   "cell_type": "code",
   "execution_count": 35,
   "metadata": {},
   "outputs": [
    {
     "name": "stdout",
     "output_type": "stream",
     "text": [
      "16.75344387500228\n"
     ]
    }
   ],
   "source": [
    "# EWMA VaR in Python\n",
    "# Listing 5.21/5.22\n",
    "# Last updated June 2018\n",
    "# \n",
    "#\n",
    "\n",
    "lmbda = 0.94\n",
    "s11 = np.var(y1[0:30], ddof = 1)     # initial variance\n",
    "\n",
    "for t in range(1, T):\n",
    "    s11 = lmbda*s11 + (1-lmbda)*y1[t-1]**2\n",
    "\n",
    "VaR7 = -np.sqrt(s11)*stats.norm.ppf(p)*value\n",
    "\n",
    "print(VaR7)"
   ]
  },
  {
   "cell_type": "code",
   "execution_count": 36,
   "metadata": {},
   "outputs": [
    {
     "name": "stdout",
     "output_type": "stream",
     "text": [
      "20.50363287336398\n"
     ]
    }
   ],
   "source": [
    "# Two-asset EWMA VaR in Python\n",
    "# Listing 5.23/5.24\n",
    "# Last updated June 2022\n",
    "# \n",
    "# \n",
    "\n",
    "## s is the initial covariance\n",
    "s = np.cov(y, rowvar = False)\n",
    "for t in range(1,T):\n",
    "    s = lmbda*s+(1-lmbda)*np.transpose(np.asmatrix(y[t-1,:]))*np.asmatrix(y[t-1,:])\n",
    "\n",
    "sigma = np.sqrt(np.mat(w)*s*np.transpose(np.mat(w)))[0,0]\n",
    "## Note: [0,0] is to pull the first element of the matrix out as a float\n",
    "\n",
    "VaR8 = -sigma * stats.norm.ppf(p) * value\n",
    "\n",
    "print(VaR8)"
   ]
  },
  {
   "cell_type": "code",
   "execution_count": 37,
   "metadata": {},
   "outputs": [
    {
     "name": "stdout",
     "output_type": "stream",
     "text": [
      "16.54281744634769\n"
     ]
    }
   ],
   "source": [
    "# GARCH VaR in Python\n",
    "# Listing 5.25/5.26\n",
    "# Last updated July 2020\n",
    "# \n",
    "# \n",
    "\n",
    "from arch import arch_model \n",
    "\n",
    "am = arch_model(y1, mean = 'Zero', vol='Garch', p=1, o=0, q=1, dist='Normal', rescale = False)\n",
    "res = am.fit(update_freq=5, disp = \"off\")\n",
    "omega = res.params.loc['omega']\n",
    "alpha = res.params.loc['alpha[1]']\n",
    "beta = res.params.loc['beta[1]']\n",
    "## computing sigma2 for t+1\n",
    "sigma2 = omega + alpha*y1[T-1]**2 + beta * res.conditional_volatility[-1]**2\n",
    "\n",
    "VaR9 = -np.sqrt(sigma2) * stats.norm.ppf(p) * value\n",
    "\n",
    "print(VaR9)"
   ]
  },
  {
   "cell_type": "markdown",
   "metadata": {},
   "source": [
    "<a id='6'></a>\n",
    "***"
   ]
  },
  {
   "cell_type": "markdown",
   "metadata": {},
   "source": [
    "# Chapter 6: Analytical Value-at-Risk for Options and Bonds\n",
    "\n",
    "-  6.1/6.2: Black-Scholes function definition\n",
    "-  6.3/6.4: Black-Scholes option price calculation example"
   ]
  },
  {
   "cell_type": "code",
   "execution_count": 38,
   "metadata": {},
   "outputs": [],
   "source": [
    "# Black-Scholes function in Python\n",
    "# Listing 6.1/6.2\n",
    "# Last updated June 2018\n",
    "# \n",
    "# \n",
    "\n",
    "import numpy as np\n",
    "from scipy import stats\n",
    "\n",
    "def bs(X, P, r, sigma, T):\n",
    "    d1 = (np.log(P/X) + (r + 0.5 * sigma**2)*T)/(sigma * np.sqrt(T))\n",
    "    d2 = d1 - sigma * np.sqrt(T)\n",
    "\n",
    "    Call = P * stats.norm.cdf(d1) - X * np.exp(-r * T) * stats.norm.cdf(d2)\n",
    "    Put = X * np.exp(-r * T) * stats.norm.cdf(-d2) - P * stats.norm.cdf(-d1)\n",
    "    \n",
    "    Delta_Call = stats.norm.cdf(d1)\n",
    "    Delta_Put = Delta_Call - 1\n",
    "    Gamma = stats.norm.pdf(d1) / (P * sigma * np.sqrt(T))\n",
    "    \n",
    "    return {\"Call\": Call, \"Put\": Put, \"Delta_Call\": Delta_Call, \"Delta_Put\": Delta_Put, \"Gamma\": Gamma}"
   ]
  },
  {
   "cell_type": "code",
   "execution_count": 39,
   "metadata": {},
   "outputs": [
    {
     "name": "stdout",
     "output_type": "stream",
     "text": [
      "{'Call': 13.498517482637212, 'Put': 1.2764095651871656, 'Delta_Call': 0.8395228492806657, 'Delta_Put': -0.16047715071933433, 'Gamma': 0.017238257785615545}\n"
     ]
    }
   ],
   "source": [
    "# Black-Scholes in Python\n",
    "# Listing 6.3/6.4\n",
    "# Last updated July 2020\n",
    "# \n",
    "# \n",
    "\n",
    "f = bs(X = 90, P = 100, r = 0.05, sigma = 0.2, T = 0.5)\n",
    "\n",
    "print(f)"
   ]
  },
  {
   "cell_type": "markdown",
   "metadata": {},
   "source": [
    "<a id='7'></a>\n",
    "***"
   ]
  },
  {
   "cell_type": "markdown",
   "metadata": {},
   "source": [
    "# Chapter 7: Simulation Methods for VaR for Options and Bonds\n",
    "\n",
    "-  7.1/7.2: Plotting normal distribution transformation\n",
    "-  7.3/7.4: Random number generation from Uniform(0,1), Normal(0,1)\n",
    "-  7.5/7.6: Bond pricing using yield curve\n",
    "-  7.7/7.8: Yield curve simulations\n",
    "-  7.9/7.10: Bond price simulations\n",
    "-  7.11/7.12: Black-Scholes analytical pricing of call\n",
    "-  7.13/7.14: Black-Scholes Monte Carlo simulation pricing of call\n",
    "-  7.15/7.16: Option density plots\n",
    "-  7.17/7.18: VaR simulation of portfolio with only underlying\n",
    "-  7.19/7.20: VaR simulation of portfolio with only call\n",
    "-  7.21/7.22: VaR simulation of portfolio with call, put and underlying\n",
    "-  7.23/7.24: Simulated two-asset returns\n",
    "-  7.25/7.26: Two-asset portfolio VaR\n",
    "-  7.27/7.28: Two-asset portfolio VaR with a call"
   ]
  },
  {
   "cell_type": "code",
   "execution_count": 40,
   "metadata": {},
   "outputs": [
    {
     "data": {
      "image/png": "[encoded data removed]",
      "text/plain": [
       "<Figure size 432x288 with 1 Axes>"
      ]
     },
     "metadata": {
      "needs_background": "light"
     },
     "output_type": "display_data"
    }
   ],
   "source": [
    "# Transformation in Python\n",
    "# Listing 7.1/7.2\n",
    "# Last updated July 2020\n",
    "# \n",
    "#\n",
    "\n",
    "import numpy as np\n",
    "import matplotlib.pyplot as plt\n",
    "\n",
    "x = np.arange(-3,3.1, step = 0.1) # Python's arange excludes the last value\n",
    "plt.plot(x, stats.norm.cdf(x))\n",
    "plt.title(\"CDF of Normal distribution\")\n",
    "plt.show()\n",
    "plt.close()"
   ]
  },
  {
   "cell_type": "code",
   "execution_count": 41,
   "metadata": {},
   "outputs": [
    {
     "name": "stdout",
     "output_type": "stream",
     "text": [
      "[0.15416284 0.7400497  0.26331502 0.53373939 0.01457496 0.91874701\n",
      " 0.90071485 0.03342143 0.95694934 0.13720932]\n",
      "[ 0.75314283 -1.53472134  0.00512708 -0.12022767 -0.80698188  2.87181939\n",
      " -0.59782292  0.47245699  1.09595612 -1.2151688 ]\n",
      "[ 1.54289086  0.69652904  0.52148112 -0.25218158 -4.66442107 -2.42642183\n",
      "  0.27546574 -2.17082333  1.29967088  1.7842616 ]\n"
     ]
    }
   ],
   "source": [
    "# Various RNs in Python\n",
    "# Listing 7.3/7.4\n",
    "# Last updated July 2020\n",
    "# \n",
    "# \n",
    "\n",
    "\n",
    "np.random.seed(12)     # set seed\n",
    "S = 10                 # simulation size\n",
    "\n",
    "print (np.random.uniform(size = S))\n",
    "print (np.random.normal(size = S))\n",
    "print (np.random.standard_t(df = 4,size = S))"
   ]
  },
  {
   "cell_type": "code",
   "execution_count": 42,
   "metadata": {},
   "outputs": [
    {
     "name": "stdout",
     "output_type": "stream",
     "text": [
      "9.913205732444842\n"
     ]
    }
   ],
   "source": [
    "# Price bond in Python\n",
    "# Listing 7.5/7.6\n",
    "# Last updated July 2020\n",
    "# \n",
    "# \n",
    "\n",
    "\n",
    "yield_c = [5.00, 5.69, 6.09, 6.38, 6.61, \n",
    "           6.79, 6.94, 7.07, 7.19, 7.30]    # yield curve\n",
    "\n",
    "T = len(yield_c)\n",
    "r = 0.07                                    # initial yield rate\n",
    "Par = 10                                    # par value\n",
    "coupon = r * Par                            # coupon payments \n",
    "cc = [coupon] * 10                          # vector of cash flows\n",
    "cc[T-1] += Par                              # add par to cash flows\n",
    "P=np.sum(cc/(np.power((1+np.divide(yield_c,100)),\n",
    "                      list(range(1,T+1))))) # calc price\n",
    "\n",
    "print(P)"
   ]
  },
  {
   "cell_type": "code",
   "execution_count": 43,
   "metadata": {},
   "outputs": [
    {
     "data": {
      "image/png": "[encoded data removed]",
      "text/plain": [
       "<Figure size 432x288 with 1 Axes>"
      ]
     },
     "metadata": {
      "needs_background": "light"
     },
     "output_type": "display_data"
    }
   ],
   "source": [
    "# Simulate yields in Python\n",
    "# Listing 7.7/7.8\n",
    "# Last updated July 2020\n",
    "# \n",
    "# \n",
    "\n",
    "\n",
    "np.random.seed(12)                   # set seed\n",
    "sigma = 1.5                          # daily yield volatility\n",
    "S = 8                                # number of simulations\n",
    "r = np.random.normal(0,sigma,size=S) # generate random numbers\n",
    "\n",
    "ysim = np.zeros([T,S])\n",
    "for i in range(S):\n",
    "    ysim[:,i] = yield_c + r[i]\n",
    "\n",
    "plt.plot(ysim)\n",
    "plt.title(\"Simulated yield curves\")\n",
    "plt.show()\n",
    "plt.close()"
   ]
  },
  {
   "cell_type": "code",
   "execution_count": 44,
   "metadata": {},
   "outputs": [
    {
     "data": {
      "image/png": "[encoded data removed]",
      "text/plain": [
       "<Figure size 432x288 with 1 Axes>"
      ]
     },
     "metadata": {
      "needs_background": "light"
     },
     "output_type": "display_data"
    },
    {
     "data": {
      "image/png": "[encoded data removed]",
      "text/plain": [
       "<Figure size 432x288 with 1 Axes>"
      ]
     },
     "metadata": {
      "needs_background": "light"
     },
     "output_type": "display_data"
    }
   ],
   "source": [
    "# Simulate bond prices in Python\n",
    "# Listing 7.9/7.10\n",
    "# Last updated November 2020\n",
    "# \n",
    "# \n",
    "\n",
    "\n",
    "S = 8                   # simulation size\n",
    "SP = np.zeros([S])      # initializing vector with zeros\n",
    "\n",
    "for i in range(S):      # S simulations\n",
    "    SP[i] = np.sum(cc/(np.power((1+ysim[:,i]/100), list(range(1,T+1)))))\n",
    "\n",
    "SP -= (np.mean(SP) - P) # correct for mean\n",
    "\n",
    "plt.bar(range(1,S+1), SP)\n",
    "plt.title(\"Simulated bond prices, S = 8\")\n",
    "plt.show()\n",
    "plt.close()\n",
    "\n",
    "S = 50000\n",
    "\n",
    "np.random.seed(12)\n",
    "r = np.random.normal(0, sigma, size = S)\n",
    "\n",
    "ysim = np.zeros([T,S])\n",
    "for i in range(S):\n",
    "    ysim[:,i] = yield_c + r[i]\n",
    "\n",
    "SP = np.zeros([S])\n",
    "\n",
    "for i in range(S):     \n",
    "    SP[i] = np.sum(cc/(np.power((1+ysim[:,i]/100), list(range(1,T+1)))))\n",
    "    \n",
    "SP -= (np.mean(SP) - P)\n",
    "\n",
    "plt.hist(SP, bins = 30, range = (7, 13), density = True)\n",
    "\n",
    "fitted_norm=stats.norm.pdf(np.linspace(7,13,30),\n",
    "                           np.mean(SP),np.std(SP,ddof=1))\n",
    "\n",
    "plt.plot(np.linspace(7,13,30), fitted_norm)\n",
    "plt.title(\"Histogram for simulated bond prices, S = 50000\")\n",
    "plt.show()\n",
    "plt.close()"
   ]
  },
  {
   "cell_type": "code",
   "execution_count": 45,
   "metadata": {},
   "outputs": [
    {
     "name": "stdout",
     "output_type": "stream",
     "text": [
      "{'Call': 11.087280700718757, 'Put': 0.09967718185206187, 'Delta_Call': 0.9660259272621473, 'Delta_Put': -0.03397407273785269, 'Gamma': 0.010663779610020534}\n"
     ]
    }
   ],
   "source": [
    "# Black-Scholes valuation in Python\n",
    "# Listing 7.11/7.12\n",
    "# Last updated July 2020\n",
    "# \n",
    "# \n",
    "\n",
    "## This calculation uses the Black-Scholes pricing function (Listing 6.1/6.2)\n",
    "P0 = 50                     # initial spot price\n",
    "sigma = 0.2                 # annual volatility\n",
    "r = 0.05                    # annual interest\n",
    "T = 0.5                     # time to expiration\n",
    "X = 40                      # strike price\n",
    "f = bs(X, P0, r, sigma, T)  # analytical call price\n",
    "\n",
    "print(f)"
   ]
  },
  {
   "cell_type": "code",
   "execution_count": 46,
   "metadata": {},
   "outputs": [
    {
     "name": "stdout",
     "output_type": "stream",
     "text": [
      "11.068936888001415\n"
     ]
    }
   ],
   "source": [
    "# Black-Scholes simulation in Python\n",
    "# Listing 7.13/7.14\n",
    "# Last updated July 2020\n",
    "# \n",
    "#\n",
    "\n",
    "\n",
    "np.random.seed(12)          # set seed\n",
    "S = 10**6                   # number of simulations\n",
    "ysim=np.random.normal(-0.5*sigma**2*T,\n",
    "                      sigma*np.sqrt(T),size=S) # sim returns, lognorm corrected\n",
    "F = P0 * np.exp(r * T) * np.exp(ysim)          # sim future prices\n",
    "SP = F - X                  # payoff\n",
    "SP[SP < 0] = 0              # set negative outcomes to zero\n",
    "fsim = SP * np.exp(-r * T)  # discount\n",
    "call_sim = np.mean(fsim)    # simulated price\n",
    "print(call_sim)"
   ]
  },
  {
   "cell_type": "code",
   "execution_count": 47,
   "metadata": {},
   "outputs": [
    {
     "data": {
      "image/png": "[encoded data removed]",
      "text/plain": [
       "<Figure size 432x288 with 1 Axes>"
      ]
     },
     "metadata": {
      "needs_background": "light"
     },
     "output_type": "display_data"
    },
    {
     "data": {
      "image/png": "[encoded data removed]",
      "text/plain": [
       "<Figure size 432x288 with 1 Axes>"
      ]
     },
     "metadata": {
      "needs_background": "light"
     },
     "output_type": "display_data"
    }
   ],
   "source": [
    "# Option density plots in Python\n",
    "# Listing 7.15/7.16\n",
    "# Last updated July 2020\n",
    "# \n",
    "# \n",
    "\n",
    "\n",
    "plt.hist(F, bins = 60, range = (20,80), density = True)\n",
    "fitted_norm=stats.norm.pdf(np.linspace(20,80,60),np.mean(F),np.std(F,ddof=1))\n",
    "plt.plot(np.linspace(20,80,60), fitted_norm)\n",
    "plt.axvline(x=X, color='k')    \n",
    "plt.title(\"Density of future prices\")\n",
    "plt.show()\n",
    "plt.close()\n",
    "\n",
    "plt.hist(fsim, bins = 60, range = (0, 35), density = True)\n",
    "plt.axvline(x=f['Call'], color='k')\n",
    "plt.title(\"Density of Call option prices\")\n",
    "plt.show()\n",
    "plt.close()"
   ]
  },
  {
   "cell_type": "code",
   "execution_count": 48,
   "metadata": {},
   "outputs": [
    {
     "name": "stdout",
     "output_type": "stream",
     "text": [
      "2.290784802622909\n"
     ]
    }
   ],
   "source": [
    "# Simulate VaR in Python\n",
    "# Listing 7.17/7.18\n",
    "# Last updated July 2020\n",
    "# \n",
    "#\n",
    "\n",
    "from math import ceil\n",
    "\n",
    "np.random.seed(1)       # set seed\n",
    "S = 10**7               # number of simulations\n",
    "s2 = 0.01**2            # daily variance\n",
    "p = 0.01                # probability\n",
    "r = 0.05                # annual riskfree rate\n",
    "P = 100                 # price today\n",
    "ysim=np.random.normal(r/365-0.5*s2,np.sqrt(s2),size=S) # sim returns\n",
    "Psim = P * np.exp(ysim) # sim future prices\n",
    "q = np.sort(Psim - P)   # simulated P/L\n",
    "VaR1 = -q[ceil(p*S) - 1]\n",
    "\n",
    "print(VaR1)"
   ]
  },
  {
   "cell_type": "code",
   "execution_count": 49,
   "metadata": {},
   "outputs": [
    {
     "name": "stdout",
     "output_type": "stream",
     "text": [
      "1.2150728853608541\n"
     ]
    }
   ],
   "source": [
    "# Simulate option VaR in Python\n",
    "# Listing 7.19/7.20\n",
    "# Last updated July 2020\n",
    "# \n",
    "# \n",
    "\n",
    "\n",
    "\n",
    "T = 0.25       # time to expiration\n",
    "X = 100                                 # strike price\n",
    "sigma = np.sqrt(s2 * 250)               # annual volatility\n",
    "f = bs(X, P, r, sigma, T)               # analytical call price\n",
    "fsim = bs(X, Psim, r, sigma, T-(1/365)) # sim option prices\n",
    "q = np.sort(fsim['Call']-f['Call'])     # simulated P/L\n",
    "VaR2 = -q[ceil(p*S) - 1] \n",
    "\n",
    "print(VaR2)"
   ]
  },
  {
   "cell_type": "code",
   "execution_count": 50,
   "metadata": {},
   "outputs": [
    {
     "name": "stdout",
     "output_type": "stream",
     "text": [
      "1.4952375118324568\n"
     ]
    }
   ],
   "source": [
    "# Example 7.3 in Python\n",
    "# Listing 7.21/7.22\n",
    "# Last updated July 2020\n",
    "# \n",
    "#\n",
    "\n",
    "\n",
    "X1 = 100\n",
    "X2 = 110\n",
    "f1 = bs(X1, P, r, sigma, T)\n",
    "f2 = bs(X2, P, r, sigma, T)\n",
    "f2sim = bs(X2, Psim, r, sigma, T-(1/365))\n",
    "f1sim = bs(X1, Psim, r, sigma, T-(1/365))\n",
    "q = np.sort(f1sim['Call'] + f2sim['Put'] + Psim - f1['Call'] - f2['Put'] - P)\n",
    "VaR3 = -q[ceil(p*S) - 1]\n",
    "\n",
    "print(VaR3)"
   ]
  },
  {
   "cell_type": "code",
   "execution_count": 51,
   "metadata": {},
   "outputs": [],
   "source": [
    "# Simulated two-asset returns in Python\n",
    "# Listing 7.23/7.24\n",
    "# Last updated June 2018\n",
    "# \n",
    "#\n",
    "\n",
    "\n",
    "np.random.seed(12)                                      # set seed\n",
    "mu = np.transpose([r/365, r/365])                       # return mean\n",
    "Sigma = np.matrix([[0.01, 0.0005],[0.0005, 0.02]])      # covariance matrix\n",
    "y = np.random.multivariate_normal(mu, Sigma, size = S)  # simulated returns"
   ]
  },
  {
   "cell_type": "code",
   "execution_count": 52,
   "metadata": {},
   "outputs": [
    {
     "name": "stdout",
     "output_type": "stream",
     "text": [
      "25.942795557394135\n"
     ]
    }
   ],
   "source": [
    "# Two-asset VaR in Python\n",
    "# Listing 7.25/7.26\n",
    "# Last updated July 2020\n",
    "# \n",
    "#\n",
    "\n",
    "import numpy.matlib\n",
    "\n",
    "P = np.asarray([100, 50])              # prices\n",
    "x = np.asarray([1, 1])                 # number of assets\n",
    "Port = np.matmul(P, x)                 # portfolio at t\n",
    "Psim = np.matlib.repmat(P,S,1)*np.exp(y) # simulated prices\n",
    "PortSim = np.matmul(Psim, x)           # simulated portfolio value\n",
    "q = np.sort(PortSim - Port)            # simulated P/L\n",
    "VaR4 = -q[ceil(p*S) - 1]\n",
    "\n",
    "print(VaR4)"
   ]
  },
  {
   "cell_type": "code",
   "execution_count": 53,
   "metadata": {},
   "outputs": [
    {
     "name": "stdout",
     "output_type": "stream",
     "text": [
      "20.777617782200394\n"
     ]
    }
   ],
   "source": [
    "# A two-asset case in Python with an option\n",
    "# Listing 7.27/7.28\n",
    "# Last updated July 2020\n",
    "# \n",
    "#\n",
    "\n",
    "\n",
    "f = bs(X = P[1], P = P[1], r = r, sigma = sigma, T = T)\n",
    "fsim = bs(X = P[1], P = Psim[:,1], r = r, sigma = sigma, T = T-(1/365))\n",
    "q = np.sort(fsim['Call'] + Psim[:,0] - f['Call'] - P[0])\n",
    "VaR5 = -q[ceil(p*S) - 1]\n",
    "\n",
    "print(VaR5)"
   ]
  },
  {
   "cell_type": "markdown",
   "metadata": {},
   "source": [
    "<a id='8'></a>\n",
    "***"
   ]
  },
  {
   "cell_type": "markdown",
   "metadata": {},
   "source": [
    "# Chapter 8: Backtesting and Stress Testing\n",
    "\n",
    "-  8.1/8.2: Loading hypothetical stock prices, converting to returns\n",
    "-  8.3/8.4: Setting up backtest \n",
    "-  8.5/8.6: Running backtest for EWMA/MA/HS/GARCH VaR\n",
    "-  8.7/8.8: Backtesting analysis for EWMA/MA/HS/GARCH VaR\n",
    "-  8.9/8.10: Bernoulli coverage test\n",
    "-  8.11/8.12: Independence test\n",
    "-  8.13/8.14: Running Bernoulli/Independence test on backtests\n",
    "-  8.15/8.16: Running backtest for EWMA/HS ES\n",
    "-  8.17/8.18: Backtesting analysis for EWMA/HS ES"
   ]
  },
  {
   "cell_type": "code",
   "execution_count": 54,
   "metadata": {},
   "outputs": [],
   "source": [
    "# Load data in Python\n",
    "# Listing 8.1/8.2\n",
    "# Last updated June 2018\n",
    "# \n",
    "#\n",
    "\n",
    "import numpy as np\n",
    "\n",
    "price = np.loadtxt('index.csv',delimiter=',',skiprows=1)\n",
    "\n",
    "y = np.diff(np.log(price), n=1, axis=0) # get returns"
   ]
  },
  {
   "cell_type": "code",
   "execution_count": 55,
   "metadata": {},
   "outputs": [],
   "source": [
    "# Set backtest up in Python\n",
    "# Listing 8.3/8.4\n",
    "# Last updated July 2020\n",
    "# \n",
    "#\n",
    "\n",
    "from math import ceil\n",
    "\n",
    "T = len(y)                   # number of obs for y\n",
    "WE = 1000                    # estimation window length\n",
    "p = 0.01                     # probability\n",
    "l1 = ceil(WE * p)             # HS observation\n",
    "value = 1                    # portfolio value\n",
    "VaR = np.full([T,4], np.nan) # matrix for forecasts\n",
    "\n",
    "## EWMA setup\n",
    "\n",
    "lmbda = 0.94\n",
    "s11 = np.var(y)\n",
    "\n",
    "for t in range(1,WE):\n",
    "    s11=lmbda*s11+(1-lmbda)*y[t-1]**2"
   ]
  },
  {
   "cell_type": "code",
   "execution_count": 56,
   "metadata": {},
   "outputs": [],
   "source": [
    "# Running backtest in Python\n",
    "# Listing 8.5/8.6\n",
    "# Last updated July 2020\n",
    "# \n",
    "#\n",
    "\n",
    "from scipy import stats\n",
    "from arch import arch_model\n",
    "\n",
    "for t in range(WE, T): \n",
    "    t1 = t - WE           # start of data window\n",
    "    t2 = t - 1            # end of data window\n",
    "    window = y[t1:t2+1]   # data for estimation\n",
    "\n",
    "    s11 = lmbda * s11 + (1-lmbda) * y[t-1]**2\n",
    "    VaR[t,0] = -stats.norm.ppf(p)*np.sqrt(s11)*value # EWMA\n",
    " \n",
    "    VaR[t,1] = -np.std(window,ddof=1)*stats.norm.ppf(p)*value # MA\n",
    "\n",
    "    ys = np.sort(window)\n",
    "    VaR[t,2] = -ys[l1 - 1] * value # HS\n",
    "\n",
    "    am = arch_model(window, mean = 'Zero',vol = 'Garch',\n",
    "                    p = 1, o = 0, q = 1, dist = 'Normal', rescale = False)\n",
    "    res = am.fit(update_freq=0, disp = 'off', show_warning=False)\n",
    "    par = [res.params[0], res.params[1], res.params[2]]\n",
    "    s4 = par[0] + par[1] * window[WE - 1]**2 + par[\n",
    "        2] * res.conditional_volatility[-1]**2\n",
    "    VaR[t,3] = -np.sqrt(s4) * stats.norm.ppf(p) * value # GARCH(1,1)"
   ]
  },
  {
   "cell_type": "code",
   "execution_count": 57,
   "metadata": {},
   "outputs": [
    {
     "name": "stdout",
     "output_type": "stream",
     "text": [
      "EWMA \n",
      " Violation ratio: 2.074 \n",
      " Volatility: 0.012 \n",
      "\n",
      "MA \n",
      " Violation ratio: 1.861 \n",
      " Volatility: 0.007 \n",
      "\n",
      "HS \n",
      " Violation ratio: 1.24 \n",
      " Volatility: 0.012 \n",
      "\n",
      "GARCH \n",
      " Violation ratio: 1.54 \n",
      " Volatility: 0.01 \n",
      "\n"
     ]
    },
    {
     "data": {
      "image/png": "[encoded data removed]",
      "text/plain": [
       "<Figure size 432x288 with 1 Axes>"
      ]
     },
     "metadata": {
      "needs_background": "light"
     },
     "output_type": "display_data"
    }
   ],
   "source": [
    "# Backtesting analysis in Python\n",
    "# Listing 8.7/8.8\n",
    "# Last updated July 2020\n",
    "# \n",
    "#\n",
    "\n",
    "W1 = WE # Python index starts at 0\n",
    "m = [\"EWMA\", \"MA\", \"HS\", \"GARCH\"]\n",
    "\n",
    "for i in range(4):\n",
    "    VR = sum(y[W1:T] < -VaR[W1:T,i])/(p*(T-WE))\n",
    "    s = np.std(VaR[W1:T, i], ddof=1)\n",
    "    print (m[i], \"\\n\", \n",
    "           \"Violation ratio:\", round(VR, 3), \"\\n\", \n",
    "           \"Volatility:\", round(s,3), \"\\n\")\n",
    "\n",
    "plt.plot(y[W1:T])\n",
    "plt.plot(VaR[W1:T])\n",
    "plt.title(\"Backtesting\")\n",
    "plt.show()\n",
    "plt.close()"
   ]
  },
  {
   "cell_type": "code",
   "execution_count": 58,
   "metadata": {},
   "outputs": [],
   "source": [
    "# Bernoulli coverage test in Python\n",
    "# Listing 8.9/8.10\n",
    "# Last updated June 2018\n",
    "# \n",
    "#\n",
    "    \n",
    "def bern_test(p,v):\n",
    "    lv = len(v)\n",
    "    sv = sum(v)\n",
    "    \n",
    "    al = np.log(p)*sv + np.log(1-p)*(lv-sv)\n",
    "    bl = np.log(sv/lv)*sv + np.log(1-sv/lv)*(lv-sv)\n",
    "    \n",
    "    return (-2*(al-bl))"
   ]
  },
  {
   "cell_type": "code",
   "execution_count": 59,
   "metadata": {},
   "outputs": [],
   "source": [
    "# Independence test in Python\n",
    "# Listing 8.11/8.12\n",
    "# Last updated June 2018\n",
    "# \n",
    "#\n",
    "    \n",
    "def ind_test(V):\n",
    "    J = np.full([T,4], 0)\n",
    "    for i in range(1,len(V)-1):\n",
    "        J[i,0] = (V[i-1] == 0) & (V[i] == 0)\n",
    "        J[i,1] = (V[i-1] == 0) & (V[i] == 1)\n",
    "        J[i,2] = (V[i-1] == 1) & (V[i] == 0)\n",
    "        J[i,3] = (V[i-1] == 1) & (V[i] == 1)\n",
    "\n",
    "    V_00 = sum(J[:,0])\n",
    "    V_01 = sum(J[:,1])\n",
    "    V_10 = sum(J[:,2])\n",
    "    V_11 = sum(J[:,3])\n",
    "    \n",
    "    p_00=V_00/(V_00+V_01)\n",
    "    p_01=V_01/(V_00+V_01)\n",
    "    p_10=V_10/(V_10+V_11)\n",
    "    p_11=V_11/(V_10+V_11)\n",
    "    \n",
    "    hat_p = (V_01+V_11)/(V_00+V_01+V_10+V_11)\n",
    "    al = np.log(1-hat_p)*(V_00+V_10) + np.log(hat_p)*(V_01+V_11)\n",
    "    bl = np.log(p_00)*V_00 + np.log(p_01)*V_01 + np.log(p_10)*V_10 + np.log(p_11)*V_11\n",
    "    \n",
    "    return (-2*(al-bl))"
   ]
  },
  {
   "cell_type": "code",
   "execution_count": 60,
   "metadata": {},
   "outputs": [
    {
     "name": "stdout",
     "output_type": "stream",
     "text": [
      "EWMA \n",
      " Bernoulli: Test statistic = 41.626 p-value = 0.0 \n",
      " Independence: Test statistic = 0.441 p-value = 0.507 \n",
      "\n",
      "MA \n",
      " Bernoulli: Test statistic = 27.904 p-value = 0.0 \n",
      " Independence: Test statistic = 17.439 p-value = 0.0 \n",
      "\n",
      "HS \n",
      " Bernoulli: Test statistic = 2.535 p-value = 0.111 \n",
      " Independence: Test statistic = 11.483 p-value = 0.001 \n",
      "\n",
      "GARCH \n",
      " Bernoulli: Test statistic = 11.814 p-value = 0.001 \n",
      " Independence: Test statistic = 0.599 p-value = 0.439 \n",
      "\n"
     ]
    }
   ],
   "source": [
    "# Backtesting S&P 500 in Python\n",
    "# Listing 8.13/8.14\n",
    "# Last updated July 2020\n",
    "# \n",
    "# \n",
    "\n",
    "W1 = WE\n",
    "ya = y[W1:T]\n",
    "VaRa = VaR[W1:T,]\n",
    "m = ['EWMA', 'MA', 'HS', 'GARCH']\n",
    "\n",
    "for i in range(4):\n",
    "    q = y[W1:T] < -VaR[W1:T,i]\n",
    "    v = VaRa*0\n",
    "    v[q,i] = 1\n",
    "    ber = bern_test(p, v[:,i])\n",
    "    ind = ind_test(v[:,i])\n",
    "    print (m[i], \"\\n\",\n",
    "           \"Bernoulli:\", \"Test statistic =\", round(ber,3), \"p-value =\", round(1 - stats.chi2.cdf(ber, 1),3), \"\\n\",\n",
    "           \"Independence:\", \"Test statistic =\", round(ind,3), \"p-value =\", round(1 - stats.chi2.cdf(ind, 1),3), \"\\n\")"
   ]
  },
  {
   "cell_type": "code",
   "execution_count": 61,
   "metadata": {},
   "outputs": [],
   "source": [
    "# Backtest ES in Python\n",
    "# Listing 8.15/8.16\n",
    "# Last updated July 2020\n",
    "# \n",
    "#\n",
    "\n",
    "VaR = np.full([T,2], np.nan) # VaR forecasts\n",
    "ES = np.full([T,2], np.nan)  # ES forecasts\n",
    "for t in range(WE, T):\n",
    "    t1 = t - WE\n",
    "    t2 = t - 1\n",
    "    window = y[t1:t2+1]\n",
    "\n",
    "    s11 = lmbda * s11 + (1-lmbda) * y[t-1]**2\n",
    "    VaR[t,0] = -stats.norm.ppf(p) * np.sqrt(s11)*value       # EWMA\n",
    "    ES[t,0]=np.sqrt(s11)*stats.norm.pdf(stats.norm.ppf(p))/p\n",
    "\n",
    "    ys = np.sort(window)\n",
    "    VaR[t,1] = -ys[l1 - 1] * value                           # HS\n",
    "    ES[t,1] = -np.mean(ys[0:l1]) * value"
   ]
  },
  {
   "cell_type": "code",
   "execution_count": 62,
   "metadata": {},
   "outputs": [
    {
     "name": "stdout",
     "output_type": "stream",
     "text": [
      "EWMA nES =  1.224\n",
      "HS nES =  1.054\n"
     ]
    }
   ],
   "source": [
    "# ES in Python\n",
    "# Listing 8.17/8.18\n",
    "# Last updated July 2020\n",
    "# \n",
    "#\n",
    "\n",
    "ESa = ES[W1:T,:]\n",
    "VaRa = VaR[W1:T,:]\n",
    "m = [\"EWMA\", \"HS\"]\n",
    "\n",
    "for i in range(2):\n",
    "    q = ya <= -VaRa[:,i]\n",
    "    nES = np.mean(ya[q] / -ESa[q,i])\n",
    "    print (m[i], 'nES = ', round(nES,3))"
   ]
  },
  {
   "cell_type": "markdown",
   "metadata": {},
   "source": [
    "<a id='9'></a>\n",
    "***"
   ]
  },
  {
   "cell_type": "markdown",
   "metadata": {},
   "source": [
    "# Chapter 9: Extreme Value Theory\n",
    "\n",
    "-  9.1/9.2: Calculation of tail index from returns"
   ]
  },
  {
   "cell_type": "code",
   "execution_count": 63,
   "metadata": {},
   "outputs": [
    {
     "name": "stdout",
     "output_type": "stream",
     "text": [
      "2.62970984651441\n"
     ]
    }
   ],
   "source": [
    "# Hill estimator in Python\n",
    "# Listing 9.1/9.2\n",
    "# Last updated June 2018\n",
    "# \n",
    "#   \n",
    "\n",
    "ysort = np.sort(y)                                # sort the returns\n",
    "CT = 100                                          # set the threshold\n",
    "iota = 1/(np.mean(np.log(ysort[0:CT]/ysort[CT]))) # get the tail index\n",
    "\n",
    "print(iota) \n",
    "\n",
    "# END"
   ]
  }
 ],
 "metadata": {
  "kernelspec": {
   "display_name": "Python 3 (ipykernel)",
   "language": "python",
   "name": "python3"
  },
  "language_info": {
   "codemirror_mode": {
    "name": "ipython",
    "version": 3
   },
   "file_extension": ".py",
   "mimetype": "text/x-python",
   "name": "python",
   "nbconvert_exporter": "python",
   "pygments_lexer": "ipython3",
   "version": "3.9.17"
  }
 },
 "nbformat": 4,
 "nbformat_minor": 4
}
