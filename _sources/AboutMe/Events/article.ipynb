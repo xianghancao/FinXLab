{
 "cells": [
  {
   "cell_type": "markdown",
   "id": "49ab72eb-6c3d-49ce-9341-8bab305b5a79",
   "metadata": {},
   "source": [
    "# Events\n",
    "\n"
   ]
  },
  {
   "cell_type": "markdown",
   "id": "dc13f231-8b83-41f4-94ad-1c1e282d40d1",
   "metadata": {},
   "source": [
    "```{contents}\n",
    ":local:\n",
    "```"
   ]
  },
  {
   "cell_type": "markdown",
   "id": "ad23d05a-2817-4343-8d9c-a745b40540f5",
   "metadata": {},
   "source": [
    "## Aug 24: Training in U of Helsinky "
   ]
  },
  {
   "cell_type": "markdown",
   "id": "70a4463d-45fc-48c1-ac85-4844b4a3311d",
   "metadata": {},
   "source": [
    "<img src='images/Aug24_Helsinky_01.jpg' width=300>  <img src='images/Aug24_Helsinky_03.png' width=300> <img src='images/Aug24_Helsinky_04.jpg' width=300>"
   ]
  },
  {
   "cell_type": "markdown",
   "id": "120003a4-68db-49f5-ab59-f3d8e8be10fd",
   "metadata": {},
   "source": [
    "I was selected by the Shanghai Municipal Education Commission to participate in the \"Blended Learning Master Training Program\" at the University of Helsinki, Finland (10 days, August 2024, organized by Shanghai Normal University, pictured with Lissa, Minna, Emmi, and myself)."
   ]
  }
 ],
 "metadata": {
  "kernelspec": {
   "display_name": "Python 3 (ipykernel)",
   "language": "python",
   "name": "python3"
  },
  "language_info": {
   "codemirror_mode": {
    "name": "ipython",
    "version": 3
   },
   "file_extension": ".py",
   "mimetype": "text/x-python",
   "name": "python",
   "nbconvert_exporter": "python",
   "pygments_lexer": "ipython3",
   "version": "3.11.7"
  }
 },
 "nbformat": 4,
 "nbformat_minor": 5
}
