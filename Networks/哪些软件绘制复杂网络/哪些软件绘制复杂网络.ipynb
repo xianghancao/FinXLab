{
 "cells": [
  {
   "cell_type": "markdown",
   "id": "33a5b640-2e1f-4c8a-ab6b-406ebf2d7150",
   "metadata": {},
   "source": [
    "# 哪些软件绘制复杂网络"
   ]
  },
  {
   "cell_type": "markdown",
   "id": "e9aa3435-20fd-4f32-b59a-d4afd498bce3",
   "metadata": {},
   "source": [
    "## graphical"
   ]
  },
  {
   "cell_type": "markdown",
   "id": "af6606fb-b45b-40ed-b58a-b83abaaab0d1",
   "metadata": {},
   "source": [
    "https://www.graphica.app/"
   ]
  },
  {
   "cell_type": "markdown",
   "id": "00b2117c-e739-4a00-b452-cedf8aa5037a",
   "metadata": {},
   "source": [
    "<img src='graphical.png' width=400>"
   ]
  },
  {
   "cell_type": "markdown",
   "id": "661b43df-055a-4162-ab15-f955dfeffe91",
   "metadata": {},
   "source": [
    "## Gephi\n",
    "Gephi是一个开源的网络可视化和分析软件，适用于大规模网络数据的探索和可视化。Gephi提供丰富的布局算法和分析工具。"
   ]
  },
  {
   "cell_type": "markdown",
   "id": "30ee2268-aa49-417d-9d2b-e37e805e91a2",
   "metadata": {},
   "source": [
    "## Networkx\n",
    "NetworkX是一个用于创建、操作和研究复杂网络结构的Python库。可以与Matplotlib、Plotly等可视化工具结合使用。"
   ]
  },
  {
   "cell_type": "markdown",
   "id": "8df08c5e-23fa-47ec-b27e-77f2e46323f3",
   "metadata": {},
   "source": [
    "此外还有：Cytoscape，Pajek，Graphviz，D3.js，Neo4j"
   ]
  },
  {
   "cell_type": "markdown",
   "id": "eaa923fa-bda9-4fa1-9313-aabe9ebe52dd",
   "metadata": {},
   "source": []
  }
 ],
 "metadata": {
  "kernelspec": {
   "display_name": "Python 3 (ipykernel)",
   "language": "python",
   "name": "python3"
  },
  "language_info": {
   "codemirror_mode": {
    "name": "ipython",
    "version": 3
   },
   "file_extension": ".py",
   "mimetype": "text/x-python",
   "name": "python",
   "nbconvert_exporter": "python",
   "pygments_lexer": "ipython3",
   "version": "3.11.7"
  }
 },
 "nbformat": 4,
 "nbformat_minor": 5
}
