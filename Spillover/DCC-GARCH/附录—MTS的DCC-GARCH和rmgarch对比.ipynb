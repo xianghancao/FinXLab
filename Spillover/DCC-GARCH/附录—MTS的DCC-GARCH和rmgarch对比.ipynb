{
 "cells": [
  {
   "cell_type": "markdown",
   "id": "8c082569-36c9-46dd-9d5c-f7e810e31df8",
   "metadata": {},
   "source": [
    "# DCC-GARCH代码"
   ]
  },
  {
   "cell_type": "code",
   "execution_count": 1,
   "id": "71c66667-78b1-412e-9554-23420378269f",
   "metadata": {},
   "outputs": [
    {
     "name": "stderr",
     "output_type": "stream",
     "text": [
      "载入需要的程辑包：rugarch\n",
      "\n",
      "载入需要的程辑包：parallel\n",
      "\n",
      "\n",
      "载入程辑包：‘rugarch’\n",
      "\n",
      "\n",
      "The following object is masked from ‘package:stats’:\n",
      "\n",
      "    sigma\n",
      "\n",
      "\n"
     ]
    }
   ],
   "source": [
    "library(MTS)\n",
    "library(rmgarch)"
   ]
  },
  {
   "cell_type": "code",
   "execution_count": 2,
   "id": "d28456f9-8585-4e0e-88ea-e6e6a57b26ed",
   "metadata": {},
   "outputs": [],
   "source": [
    "# 读取数据\n",
    "load_txt <- function(file_name){\n",
    "    data = read.table(file_name, header=T)\n",
    "    return(data)\n",
    "    }\n",
    "    \n",
    "# 处理数据\n",
    "# processing <- function(data){\n",
    "#     return(c(rtn, date))\n",
    "#     }\n",
    "\n",
    "# 绘制DCC时变相关系数\n",
    "plot_corr<-function(date, corr, title){\n",
    "    plot(date, corr, type='l', main=title, xlab='Year', ylab='Corr')\n",
    "    }\n",
    "\n",
    "\n",
    "# 保存DCC时变相关系数\n",
    "save_txt <- function(corr_df, file_name){\n",
    "    write.table(corr_df, file=file_name, quote=FALSE)\n",
    "    }"
   ]
  },
  {
   "cell_type": "markdown",
   "id": "c06cc45e-f3f8-48b8-90f1-cc95723e25f6",
   "metadata": {},
   "source": [
    "## MTS的DCC-GARCH"
   ]
  },
  {
   "cell_type": "code",
   "execution_count": 3,
   "id": "caed9598-ca6c-4639-8718-6fed615a0468",
   "metadata": {},
   "outputs": [],
   "source": [
    "# 计算DCC时变相关系数\n",
    "dcc_corr <- function(rtn){\n",
    "    start<-Sys.time()\n",
    "    m1=dccPre(rtn, include.mean=T,p=0)\n",
    "    m3=dccFit(m1$sresi,type=\"Engle\")\n",
    "    corr <- m3$rho.t\n",
    "    end<-Sys.time()\n",
    "    running_time<-end-start\n",
    "    print(running_time)\n",
    "    return(corr)\n",
    "    }"
   ]
  },
  {
   "cell_type": "markdown",
   "id": "479c2ad8-afba-4353-a50c-8e860c809b66",
   "metadata": {},
   "source": [
    "## rmgarch的DCC-GARCH"
   ]
  },
  {
   "cell_type": "code",
   "execution_count": 3,
   "id": "938df12e-b098-44ff-9974-5e565b385051",
   "metadata": {},
   "outputs": [],
   "source": [
    "# 计算DCC时变相关系数\n",
    "dcc_corr2 <- function(data, date){\n",
    "    start<-Sys.time()\n",
    "    n=ncol(data)\n",
    "    p=1;q=1\n",
    "    meanSpec=list(armaOrder=c(1,0), include.mean=TRUE, archpow=1)\n",
    "    varSpec=list(method='sGARCH', garchOrder=c(p,q))\n",
    "    distSpec=c(\"mvt\")\n",
    "    spec1= ugarchspec(mean.model=meanSpec, variance.model = list(model = \"sGARCH\", garchOrder = c(1, 1)))\n",
    "    mySpec = multispec(replicate(n,spec1))\n",
    "    mySpec = dccspec(mySpec, VAR=F, robust=F, lag=1, lag.max=NULL, lag.criterion=c(\"AIC\"),\n",
    "                    external.regressors=NULL,\n",
    "                    robust.control=list(gama=0.25, delta=0.01, nc=10, ns=500),\n",
    "                    dccOrder=c(1,1), distribution=distSpec, start.pars=list(),\n",
    "                    fixed.pars=list())\n",
    "    fit_dcc=dccfit(data=data, mySpec, out.sample=0, solver='solnp', solver.control=list(),\n",
    "                  fit.control=list(eval.se=TRUE, stationarity=TRUE, scale=FALSE), parallel=TRUE,\n",
    "                  parallel.control=list(pkg=c(\"multicore\"), cores=2), fit=NULL, VAR.fit=NULL)\n",
    "    a = rcor(fit_dcc)\n",
    "    con_corr = matrix(a, ncol=length(date))\n",
    "    con_corr = t(con_corr)\n",
    "    end<-Sys.time()\n",
    "    running_time<-end-start\n",
    "    print(running_time)\n",
    "    return(con_corr)\n",
    "    }"
   ]
  },
  {
   "cell_type": "markdown",
   "id": "c5f67125-0131-429b-9909-8384ec21340b",
   "metadata": {},
   "source": [
    "## 对比测试"
   ]
  },
  {
   "cell_type": "code",
   "execution_count": 5,
   "id": "dbac23f7-7727-4190-b91d-5a9ab0a349ab",
   "metadata": {},
   "outputs": [],
   "source": [
    "da = read.table(\"datasets/ch7/m-ibmspko-6111.txt\", header=T)\n",
    "date <- as.Date(as.character(da$date, format='%Y%m%d'), '%Y%m%d')\n",
    "rtn = log(da[,2:4]+1)"
   ]
  },
  {
   "cell_type": "code",
   "execution_count": 58,
   "id": "e2998825-3b45-4b91-bd72-aa13222f3f45",
   "metadata": {
    "tags": []
   },
   "outputs": [
    {
     "name": "stdout",
     "output_type": "stream",
     "text": [
      "Sample mean of the returns:  0.00772774 0.005023909 0.01059521 \n",
      "Component:  1 \n",
      "Estimates:  0.000419 0.126738 0.788309 \n",
      "se.coef  :  0.000162 0.035404 0.055645 \n",
      "t-value  :  2.593451 3.579734 14.16673 \n",
      "Component:  2 \n",
      "Estimates:  9e-05 0.127725 0.836053 \n",
      "se.coef  :  4.1e-05 0.03084 0.031723 \n",
      "t-value  :  2.20126 4.141593 26.35484 \n",
      "Component:  3 \n",
      "Estimates:  0.000256 0.098706 0.830358 \n",
      "se.coef  :  8.5e-05 0.022361 0.03344 \n",
      "t-value  :  3.015323 4.414111 24.83091 \n",
      "Estimates:  0.9126534 0.04531516 8.624328 \n",
      "st.errors:  0.02947897 0.0127403 1.332697 \n",
      "t-values:   30.95947 3.556835 6.471336 \n",
      "Time difference of 6.829443 secs\n"
     ]
    }
   ],
   "source": [
    "con_corr=dcc_corr(rtn)\n",
    "#par(mfrow=c(3,1))\n",
    "#plot(date, con_corr[,4], type='l', main='IBM-SP', xlab='Year', ylab='Corr')\n",
    "#plot(date, con_corr[,7],  type='l', main='IBM-KO',xlab='Year', ylab='Corr')\n",
    "#plot(date, con_corr[,8], type='l', main='SP-KO', xlab='Year', ylab='Corr')"
   ]
  },
  {
   "cell_type": "code",
   "execution_count": 6,
   "id": "ffc4053a-6c60-4d72-a7a1-94048c0062d8",
   "metadata": {
    "tags": []
   },
   "outputs": [
    {
     "name": "stdout",
     "output_type": "stream",
     "text": [
      "Time difference of 2.536855 secs\n"
     ]
    }
   ],
   "source": [
    "con_corr=dcc_corr2(rtn, date)\n",
    "# par(mfrow=c(3,1))\n",
    "# plot(date, con_corr[,4], type='l', main='IBM-SP', xlab='Year', ylab='Corr')\n",
    "# plot(date, con_corr[,7],  type='l', main='IBM-KO',xlab='Year', ylab='Corr')\n",
    "# plot(date, con_corr[,8], type='l', main='SP-KO', xlab='Year', ylab='Corr')"
   ]
  }
 ],
 "metadata": {
  "kernelspec": {
   "display_name": "R",
   "language": "R",
   "name": "ir"
  },
  "language_info": {
   "codemirror_mode": "r",
   "file_extension": ".r",
   "mimetype": "text/x-r-source",
   "name": "R",
   "pygments_lexer": "r",
   "version": "4.2.2"
  },
  "toc-autonumbering": true
 },
 "nbformat": 4,
 "nbformat_minor": 5
}
