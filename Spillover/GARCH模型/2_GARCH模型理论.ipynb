{
 "cells": [
  {
   "cell_type": "markdown",
   "id": "c6d8bc69-902f-40ba-b866-5e5598ba4854",
   "metadata": {
    "tags": []
   },
   "source": [
    "# 广义自回归条件异方差GARCH模型 "
   ]
  },
  {
   "cell_type": "markdown",
   "id": "cebda2cf-c55a-4418-856b-11403183a102",
   "metadata": {},
   "source": [
    "## 1. GARCH模型"
   ]
  },
  {
   "cell_type": "markdown",
   "id": "b2d967a0-721f-480b-b1e5-a6b261ecbc77",
   "metadata": {},
   "source": [
    "虽然ARCH模型简单，但为了充分地描述资产收益率的波动率过程，往往需要许多参数. \n",
    "Bollerslev在1986年提出了一个有用的推广形式，称为推广的ARCH (GARCH)模型。"
   ]
  },
  {
   "cell_type": "markdown",
   "id": "d9fa572d-5c04-4c8d-8713-8c690162db07",
   "metadata": {},
   "source": [
    "对对数收益率序列${r_t}$,我们假定其均值方程是一个ARMA模型.设${a_t}$=${r_t}$-$\\mu_t$，是均值修正的对数收益率，若"
   ]
  },
  {
   "cell_type": "markdown",
   "id": "d662903d-3cc3-4288-b15d-e2f90cd44a68",
   "metadata": {},
   "source": [
    "$a_t=\\sigma_t \\varepsilon_t, \\quad \\sigma_t^2=\\alpha_0+\\sum_{i=1}^m \\alpha_i a_{t-i}^2+\\sum_{j=1}^s \\beta_j \\sigma_{t-j}^2$"
   ]
  },
  {
   "cell_type": "markdown",
   "id": "efd5db07-fee5-4a1a-beea-adb8f1bf4adb",
   "metadata": {},
   "source": [
    "其中 $\\left\\{\\varepsilon_t\\right\\}$ 是一个独立同分布的随机变量序列, 均值为 0 , 方差为 $1, \\alpha_0>$ $0, \\alpha_i \\geqslant 0, \\beta_j \\geqslant 0, \\quad \\sum_{i=1}^{\\max (m, s)}\\left(\\alpha_i+\\beta_i\\right)<1$ (这里对 $i>m, \\alpha_i=0, j>s, \\beta_j=$ 0), 则称 $a_t$ 服从 $\\operatorname{GARCH}(m, s)$ 模型。\n"
   ]
  },
  {
   "cell_type": "markdown",
   "id": "7bb412a8-7a56-4d25-9859-d13469851c66",
   "metadata": {},
   "source": [
    "对 $\\alpha_i+\\beta_i$ 的限制条件保证 $a_t$ 的无条件方差是有限的, 同时它的条件方差 $\\sigma_t^2$ 是随时间变化的."
   ]
  },
  {
   "cell_type": "markdown",
   "id": "31333d63-e1f9-4b81-842b-9b88bce0d4fb",
   "metadata": {},
   "source": [
    "## 2. GARCH(1,1) "
   ]
  },
  {
   "cell_type": "markdown",
   "id": "5f3bca21-21be-4ec6-b385-6c8752fc138f",
   "metadata": {},
   "source": [
    "这里具体介绍GARCH(1,1)模型，很多软件会使用以下希腊字母来表示："
   ]
  },
  {
   "cell_type": "markdown",
   "id": "02d2cc94-3581-4933-af0e-560ec3acd1b6",
   "metadata": {},
   "source": [
    "![GARCH_1_1](image/GARCH_1_1.png)"
   ]
  },
  {
   "cell_type": "code",
   "execution_count": null,
   "id": "ff9e17c5-54e8-4af2-8782-b89b6908f736",
   "metadata": {},
   "outputs": [],
   "source": []
  }
 ],
 "metadata": {
  "kernelspec": {
   "display_name": "Python 3 (ipykernel)",
   "language": "python",
   "name": "python3"
  },
  "language_info": {
   "codemirror_mode": {
    "name": "ipython",
    "version": 3
   },
   "file_extension": ".py",
   "mimetype": "text/x-python",
   "name": "python",
   "nbconvert_exporter": "python",
   "pygments_lexer": "ipython3",
   "version": "3.11.5"
  }
 },
 "nbformat": 4,
 "nbformat_minor": 5
}
