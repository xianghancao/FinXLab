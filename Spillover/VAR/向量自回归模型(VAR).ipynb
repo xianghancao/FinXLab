{
 "cells": [
  {
   "cell_type": "markdown",
   "id": "9e86ba99-9c0d-42d4-bde9-cdcae3396a1f",
   "metadata": {},
   "source": [
    "# 1 向量自回归模型(VAR)"
   ]
  },
  {
   "cell_type": "markdown",
   "id": "634bd901-bdda-483f-9678-fcdedf708a57",
   "metadata": {},
   "source": [
    "statsmodels.tsa.vector_ar contains methods that are useful for simultaneously modeling and analyzing multiple time series using Vector Autoregressions (VAR) and Vector Error Correction Models (VECM)."
   ]
  },
  {
   "cell_type": "markdown",
   "id": "30c784ef-99c2-43e3-ad8e-49a24484b9c7",
   "metadata": {},
   "source": [
    "我们有兴趣对一个T×K的多变量时间序列Y进行建模，其中T表示观测值的数量，K表示变量的数量。估计时间序列与其滞后值之间关系的一种方法是向量自回归过程："
   ]
  },
  {
   "cell_type": "markdown",
   "id": "9d862781-de4e-4ded-b23b-fdfae68c858f",
   "metadata": {},
   "source": [
    "\\begin{align}\\begin{aligned}Y_t = \\nu + A_1 Y_{t-1} + \\ldots + A_p Y_{t-p} + u_t\\\\u_t \\sim {\\sf Normal}(0, \\Sigma_u)\\end{aligned}\\end{align}"
   ]
  },
  {
   "cell_type": "markdown",
   "id": "0bb4aa1a-0900-4d02-86bf-10242769be72",
   "metadata": {},
   "source": [
    "# 人民币美元VAR模型"
   ]
  },
  {
   "cell_type": "code",
   "execution_count": 2,
   "id": "74d80936-d74a-4a73-9dfa-453a9641fb06",
   "metadata": {
    "tags": []
   },
   "outputs": [
    {
     "data": {
      "text/html": [
       "<div>\n",
       "<style scoped>\n",
       "    .dataframe tbody tr th:only-of-type {\n",
       "        vertical-align: middle;\n",
       "    }\n",
       "\n",
       "    .dataframe tbody tr th {\n",
       "        vertical-align: top;\n",
       "    }\n",
       "\n",
       "    .dataframe thead th {\n",
       "        text-align: right;\n",
       "    }\n",
       "</style>\n",
       "<table border=\"1\" class=\"dataframe\">\n",
       "  <thead>\n",
       "    <tr style=\"text-align: right;\">\n",
       "      <th></th>\n",
       "      <th>美元</th>\n",
       "      <th>人民币汇率</th>\n",
       "    </tr>\n",
       "    <tr>\n",
       "      <th>日期</th>\n",
       "      <th></th>\n",
       "      <th></th>\n",
       "    </tr>\n",
       "  </thead>\n",
       "  <tbody>\n",
       "    <tr>\n",
       "      <th>2010-1-10</th>\n",
       "      <td>77.32</td>\n",
       "      <td>6.8270</td>\n",
       "    </tr>\n",
       "    <tr>\n",
       "      <th>2010-1-17</th>\n",
       "      <td>78.28</td>\n",
       "      <td>6.8270</td>\n",
       "    </tr>\n",
       "    <tr>\n",
       "      <th>2010-1-24</th>\n",
       "      <td>79.46</td>\n",
       "      <td>6.8269</td>\n",
       "    </tr>\n",
       "    <tr>\n",
       "      <th>2010-1-3</th>\n",
       "      <td>77.47</td>\n",
       "      <td>6.8276</td>\n",
       "    </tr>\n",
       "    <tr>\n",
       "      <th>2010-1-31</th>\n",
       "      <td>80.44</td>\n",
       "      <td>6.8285</td>\n",
       "    </tr>\n",
       "    <tr>\n",
       "      <th>...</th>\n",
       "      <td>...</td>\n",
       "      <td>...</td>\n",
       "    </tr>\n",
       "    <tr>\n",
       "      <th>2023-2-26</th>\n",
       "      <td>104.52</td>\n",
       "      <td>6.9048</td>\n",
       "    </tr>\n",
       "    <tr>\n",
       "      <th>2023-2-5</th>\n",
       "      <td>103.63</td>\n",
       "      <td>6.8070</td>\n",
       "    </tr>\n",
       "    <tr>\n",
       "      <th>2023-3-12</th>\n",
       "      <td>103.71</td>\n",
       "      <td>6.8850</td>\n",
       "    </tr>\n",
       "    <tr>\n",
       "      <th>2023-3-19</th>\n",
       "      <td>103.12</td>\n",
       "      <td>6.8675</td>\n",
       "    </tr>\n",
       "    <tr>\n",
       "      <th>2023-3-5</th>\n",
       "      <td>104.58</td>\n",
       "      <td>6.9025</td>\n",
       "    </tr>\n",
       "  </tbody>\n",
       "</table>\n",
       "<p>690 rows × 2 columns</p>\n",
       "</div>"
      ],
      "text/plain": [
       "               美元   人民币汇率\n",
       "日期                       \n",
       "2010-1-10   77.32  6.8270\n",
       "2010-1-17   78.28  6.8270\n",
       "2010-1-24   79.46  6.8269\n",
       "2010-1-3    77.47  6.8276\n",
       "2010-1-31   80.44  6.8285\n",
       "...           ...     ...\n",
       "2023-2-26  104.52  6.9048\n",
       "2023-2-5   103.63  6.8070\n",
       "2023-3-12  103.71  6.8850\n",
       "2023-3-19  103.12  6.8675\n",
       "2023-3-5   104.58  6.9025\n",
       "\n",
       "[690 rows x 2 columns]"
      ]
     },
     "execution_count": 2,
     "metadata": {},
     "output_type": "execute_result"
    }
   ],
   "source": [
    "path =r\"C:\\Users\\daizhanghao\\Desktop\\dd.xlsx\"\n",
    "\n",
    "import pandas as pd\n",
    "\n",
    "data1=pd.read_csv('datasets/美元指数历史数据.csv',index_col=0)\n",
    "data=pd.DataFrame()\n",
    "data['美元']=data1['收盘']\n",
    "data2=pd.read_csv('datasets/USD_CNY历史数据.csv',index_col=0)\n",
    "data['人民币汇率']=data2['收盘']\n",
    "data.sort_index()"
   ]
  },
  {
   "cell_type": "code",
   "execution_count": 3,
   "id": "be216231-2a09-4384-907b-b20b46f5e71c",
   "metadata": {},
   "outputs": [],
   "source": [
    "import numpy as np"
   ]
  },
  {
   "cell_type": "code",
   "execution_count": 4,
   "id": "2575ea6e-9f11-4df0-b9d3-6736a7fd5eb8",
   "metadata": {},
   "outputs": [],
   "source": [
    "yesterday_close = data.shift(1)\n",
    "daily_logreturn=(data/yesterday_close).apply(np.log)"
   ]
  },
  {
   "cell_type": "code",
   "execution_count": 5,
   "id": "d5c38358-dcf6-495f-b4f2-c006d65c2f5e",
   "metadata": {},
   "outputs": [
    {
     "data": {
      "text/html": [
       "<div>\n",
       "<style scoped>\n",
       "    .dataframe tbody tr th:only-of-type {\n",
       "        vertical-align: middle;\n",
       "    }\n",
       "\n",
       "    .dataframe tbody tr th {\n",
       "        vertical-align: top;\n",
       "    }\n",
       "\n",
       "    .dataframe thead th {\n",
       "        text-align: right;\n",
       "    }\n",
       "</style>\n",
       "<table border=\"1\" class=\"dataframe\">\n",
       "  <thead>\n",
       "    <tr style=\"text-align: right;\">\n",
       "      <th></th>\n",
       "      <th>美元</th>\n",
       "      <th>人民币汇率</th>\n",
       "    </tr>\n",
       "    <tr>\n",
       "      <th>日期</th>\n",
       "      <th></th>\n",
       "      <th></th>\n",
       "    </tr>\n",
       "  </thead>\n",
       "  <tbody>\n",
       "    <tr>\n",
       "      <th>2023-3-19</th>\n",
       "      <td>103.12</td>\n",
       "      <td>6.8675</td>\n",
       "    </tr>\n",
       "    <tr>\n",
       "      <th>2023-3-12</th>\n",
       "      <td>103.71</td>\n",
       "      <td>6.8850</td>\n",
       "    </tr>\n",
       "    <tr>\n",
       "      <th>2023-3-5</th>\n",
       "      <td>104.58</td>\n",
       "      <td>6.9025</td>\n",
       "    </tr>\n",
       "    <tr>\n",
       "      <th>2023-2-26</th>\n",
       "      <td>104.52</td>\n",
       "      <td>6.9048</td>\n",
       "    </tr>\n",
       "    <tr>\n",
       "      <th>2023-2-19</th>\n",
       "      <td>105.21</td>\n",
       "      <td>6.9545</td>\n",
       "    </tr>\n",
       "  </tbody>\n",
       "</table>\n",
       "</div>"
      ],
      "text/plain": [
       "               美元   人民币汇率\n",
       "日期                       \n",
       "2023-3-19  103.12  6.8675\n",
       "2023-3-12  103.71  6.8850\n",
       "2023-3-5   104.58  6.9025\n",
       "2023-2-26  104.52  6.9048\n",
       "2023-2-19  105.21  6.9545"
      ]
     },
     "execution_count": 5,
     "metadata": {},
     "output_type": "execute_result"
    }
   ],
   "source": [
    "daily_logreturn= daily_logreturn.dropna()\n",
    "data.head(5)"
   ]
  },
  {
   "cell_type": "code",
   "execution_count": 6,
   "id": "1c0cb243-5be1-4c4e-80e6-676477340f2d",
   "metadata": {
    "tags": []
   },
   "outputs": [
    {
     "data": {
      "text/plain": [
       "<AxesSubplot:xlabel='日期'>"
      ]
     },
     "execution_count": 6,
     "metadata": {},
     "output_type": "execute_result"
    },
    {
     "data": {
      "image/png": "[encoded data removed]",
      "text/plain": [
       "<Figure size 720x288 with 1 Axes>"
      ]
     },
     "metadata": {
      "needs_background": "light"
     },
     "output_type": "display_data"
    }
   ],
   "source": [
    "import matplotlib.pyplot as plt \n",
    "plt.rcParams['font.sans-serif'] = 'SimHei'  # 设置字体为SimHei\n",
    "plt.rcParams['axes.unicode_minus'] = False  # 解决负号“-”显示异常\n",
    "daily_logreturn.plot(figsize=(10,4), legend=True)"
   ]
  },
  {
   "cell_type": "code",
   "execution_count": 7,
   "id": "4bd93b50-138e-423f-b734-1a228baacc46",
   "metadata": {},
   "outputs": [
    {
     "data": {
      "text/html": [
       "<div>\n",
       "<style scoped>\n",
       "    .dataframe tbody tr th:only-of-type {\n",
       "        vertical-align: middle;\n",
       "    }\n",
       "\n",
       "    .dataframe tbody tr th {\n",
       "        vertical-align: top;\n",
       "    }\n",
       "\n",
       "    .dataframe thead th {\n",
       "        text-align: right;\n",
       "    }\n",
       "</style>\n",
       "<table border=\"1\" class=\"dataframe\">\n",
       "  <thead>\n",
       "    <tr style=\"text-align: right;\">\n",
       "      <th></th>\n",
       "      <th>美元</th>\n",
       "      <th>人民币汇率</th>\n",
       "    </tr>\n",
       "  </thead>\n",
       "  <tbody>\n",
       "    <tr>\n",
       "      <th>count</th>\n",
       "      <td>689.000000</td>\n",
       "      <td>689.000000</td>\n",
       "    </tr>\n",
       "    <tr>\n",
       "      <th>mean</th>\n",
       "      <td>-0.000415</td>\n",
       "      <td>-0.000008</td>\n",
       "    </tr>\n",
       "    <tr>\n",
       "      <th>std</th>\n",
       "      <td>0.010244</td>\n",
       "      <td>0.004750</td>\n",
       "    </tr>\n",
       "    <tr>\n",
       "      <th>min</th>\n",
       "      <td>-0.040388</td>\n",
       "      <td>-0.028903</td>\n",
       "    </tr>\n",
       "    <tr>\n",
       "      <th>25%</th>\n",
       "      <td>-0.006536</td>\n",
       "      <td>-0.001747</td>\n",
       "    </tr>\n",
       "    <tr>\n",
       "      <th>50%</th>\n",
       "      <td>-0.000566</td>\n",
       "      <td>0.000088</td>\n",
       "    </tr>\n",
       "    <tr>\n",
       "      <th>75%</th>\n",
       "      <td>0.006194</td>\n",
       "      <td>0.001911</td>\n",
       "    </tr>\n",
       "    <tr>\n",
       "      <th>max</th>\n",
       "      <td>0.044346</td>\n",
       "      <td>0.020476</td>\n",
       "    </tr>\n",
       "  </tbody>\n",
       "</table>\n",
       "</div>"
      ],
      "text/plain": [
       "               美元       人民币汇率\n",
       "count  689.000000  689.000000\n",
       "mean    -0.000415   -0.000008\n",
       "std      0.010244    0.004750\n",
       "min     -0.040388   -0.028903\n",
       "25%     -0.006536   -0.001747\n",
       "50%     -0.000566    0.000088\n",
       "75%      0.006194    0.001911\n",
       "max      0.044346    0.020476"
      ]
     },
     "execution_count": 7,
     "metadata": {},
     "output_type": "execute_result"
    }
   ],
   "source": [
    "daily_logreturn.describe()"
   ]
  },
  {
   "cell_type": "code",
   "execution_count": 8,
   "id": "f1af9e26-7a3b-466c-b9ed-01ed2d387d98",
   "metadata": {},
   "outputs": [
    {
     "name": "stdout",
     "output_type": "stream",
     "text": [
      "adf的t统计量： -27.442787455265332\n",
      "p值： 0.0\n",
      "滞后阶数： 0\n",
      "样本数： 688\n",
      "临界值： {'1%': -3.439890503006147, '5%': -2.865750085260771, '10%': -2.569011980884938}\n"
     ]
    }
   ],
   "source": [
    "import statsmodels.tsa.stattools as st\n",
    "adf_t, pvalue, usedlag, nobs, critical_values, icbest = \\\n",
    "        st.adfuller(daily_logreturn['美元'])\n",
    "print('adf的t统计量：', adf_t)\n",
    "print('p值：', pvalue)\n",
    "print('滞后阶数：', usedlag)\n",
    "print('样本数：', nobs)\n",
    "print('临界值：', critical_values)"
   ]
  },
  {
   "cell_type": "code",
   "execution_count": 9,
   "id": "0d2d86f9-e079-49dd-aba2-636ad0e6a0c3",
   "metadata": {},
   "outputs": [
    {
     "name": "stdout",
     "output_type": "stream",
     "text": [
      "\n",
      "Granger Causality\n",
      "number of lags (no zero) 3\n",
      "ssr based F test:         F=3.9991  , p=0.0077  , df_denom=679, df_num=3\n",
      "ssr based chi2 test:   chi2=12.1211 , p=0.0070  , df=3\n",
      "likelihood ratio test: chi2=12.0153 , p=0.0073  , df=3\n",
      "parameter F test:         F=3.9991  , p=0.0077  , df_denom=679, df_num=3\n"
     ]
    },
    {
     "data": {
      "text/plain": [
       "{3: ({'ssr_ftest': (3.999139885595425, 0.007728674077729505, 679.0, 3),\n",
       "   'ssr_chi2test': (12.12110439551603, 0.006979614713635858, 3),\n",
       "   'lrtest': (12.015263922437953, 0.0073310552389396245, 3),\n",
       "   'params_ftest': (3.9991398855954086, 0.00772867407772991, 679.0, 3.0)},\n",
       "  [<statsmodels.regression.linear_model.RegressionResultsWrapper at 0x20ea5e8df70>,\n",
       "   <statsmodels.regression.linear_model.RegressionResultsWrapper at 0x20ea4dd0df0>,\n",
       "   array([[0., 0., 0., 1., 0., 0., 0.],\n",
       "          [0., 0., 0., 0., 1., 0., 0.],\n",
       "          [0., 0., 0., 0., 0., 1., 0.]])])}"
      ]
     },
     "execution_count": 9,
     "metadata": {},
     "output_type": "execute_result"
    }
   ],
   "source": [
    "from statsmodels.tsa.stattools import grangercausalitytests\n",
    "\n",
    "#perform Granger-Causality test\n",
    "grangercausalitytests(daily_logreturn[['美元', '人民币汇率']], maxlag=[3])\n",
    "\n"
   ]
  },
  {
   "cell_type": "code",
   "execution_count": 10,
   "id": "29dbb8cc-f5b5-4acb-b644-3747c621a1fa",
   "metadata": {},
   "outputs": [],
   "source": [
    "from statsmodels.tsa.api import VAR"
   ]
  },
  {
   "cell_type": "code",
   "execution_count": 11,
   "id": "5745d96f-e021-413b-afad-58c290a3138f",
   "metadata": {
    "tags": []
   },
   "outputs": [
    {
     "name": "stderr",
     "output_type": "stream",
     "text": [
      "D:\\anaconda\\lib\\site-packages\\statsmodels\\tsa\\base\\tsa_model.py:471: ValueWarning: No frequency information was provided, so inferred frequency -1W-SUN will be used.\n",
      "  self._init_dates(dates, freq)\n",
      "D:\\anaconda\\lib\\site-packages\\statsmodels\\tsa\\base\\tsa_model.py:471: ValueWarning: A date index has been provided, but it is not monotonic and so will be ignored when e.g. forecasting.\n",
      "  self._init_dates(dates, freq)\n"
     ]
    }
   ],
   "source": [
    "model = VAR(daily_logreturn)"
   ]
  },
  {
   "cell_type": "code",
   "execution_count": 12,
   "id": "c28bf55a-eab3-44e6-b910-adf61e3fbe38",
   "metadata": {
    "tags": []
   },
   "outputs": [
    {
     "data": {
      "text/plain": [
       "  Summary of Regression Results   \n",
       "==================================\n",
       "Model:                         VAR\n",
       "Method:                        OLS\n",
       "Date:           Sun, 16, Apr, 2023\n",
       "Time:                     21:46:31\n",
       "--------------------------------------------------------------------\n",
       "No. of Equations:         2.00000    BIC:                   -19.9439\n",
       "Nobs:                     687.000    HQIC:                  -19.9844\n",
       "Log likelihood:           4933.78    FPE:                2.04083e-09\n",
       "AIC:                     -20.0099    Det(Omega_mle):     2.01145e-09\n",
       "--------------------------------------------------------------------\n",
       "Results for equation 美元\n",
       "===========================================================================\n",
       "              coefficient       std. error           t-stat            prob\n",
       "---------------------------------------------------------------------------\n",
       "const           -0.000489         0.000390           -1.255           0.210\n",
       "L1.美元           -0.086654         0.040808           -2.123           0.034\n",
       "L1.人民币汇率         0.183518         0.088575            2.072           0.038\n",
       "L2.美元           -0.046878         0.041003           -1.143           0.253\n",
       "L2.人民币汇率         0.199406         0.088922            2.242           0.025\n",
       "===========================================================================\n",
       "\n",
       "Results for equation 人民币汇率\n",
       "===========================================================================\n",
       "              coefficient       std. error           t-stat            prob\n",
       "---------------------------------------------------------------------------\n",
       "const           -0.000035         0.000180           -0.196           0.845\n",
       "L1.美元           -0.045620         0.018838           -2.422           0.015\n",
       "L1.人民币汇率         0.149273         0.040888            3.651           0.000\n",
       "L2.美元           -0.005765         0.018928           -0.305           0.761\n",
       "L2.人民币汇率         0.068610         0.041048            1.671           0.095\n",
       "===========================================================================\n",
       "\n",
       "Correlation matrix of residuals\n",
       "               美元     人民币汇率\n",
       "美元       1.000000  0.352736\n",
       "人民币汇率    0.352736  1.000000\n",
       "\n"
      ]
     },
     "execution_count": 12,
     "metadata": {},
     "output_type": "execute_result"
    }
   ],
   "source": [
    "In [14]: results = model.fit(2)\n",
    "\n",
    "In [15]: results.summary()"
   ]
  },
  {
   "cell_type": "markdown",
   "id": "dbc91448-6799-444d-896b-612657093b44",
   "metadata": {},
   "source": [
    "$$\n",
    "Y:美元、X:人民币\n",
    "$$"
   ]
  },
  {
   "cell_type": "markdown",
   "id": "c26e12c3-41a2-4e29-a5d3-932cb3f3e7e7",
   "metadata": {
    "tags": []
   },
   "source": [
    "$$\n",
    "Y_t=-0.000168-0.51Y_{t-1}+0.0804X_{t-1}-0.3167Y_{t-2}-0.061946X_{t-2} \\\\\n",
    "X_t=0.002231+0.77Y_{t-1}-0.1951X_{t-1}+1.020374Y_{t-2}-0.479941X_{t-2}  \n",
    "$$"
   ]
  },
  {
   "cell_type": "markdown",
   "id": "a9ba12e8-8f7f-4738-9ec7-81959bedcddf",
   "metadata": {},
   "source": [
    "## 参考\n",
    "[1] statsmodels.tsa.vector_ar: <https://www.statsmodels.org/stable/vector_ar.html>"
   ]
  }
 ],
 "metadata": {
  "kernelspec": {
   "display_name": "Python 3 (ipykernel)",
   "language": "python",
   "name": "python3"
  },
  "language_info": {
   "codemirror_mode": {
    "name": "ipython",
    "version": 3
   },
   "file_extension": ".py",
   "mimetype": "text/x-python",
   "name": "python",
   "nbconvert_exporter": "python",
   "pygments_lexer": "ipython3",
   "version": "3.11.7"
  }
 },
 "nbformat": 4,
 "nbformat_minor": 5
}
