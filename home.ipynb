{
 "cells": [
  {
   "cell_type": "markdown",
   "id": "a5e1bad2-b041-4978-b7c0-0915e2f9cef3",
   "metadata": {},
   "source": [
    "# FinX Lab"
   ]
  },
  {
   "cell_type": "markdown",
   "id": "fb992e93-534b-4cca-a714-9a83d5d6ca66",
   "metadata": {},
   "source": [
    "***Financial Insights***, ***AI***, ***Quantitative***, ***Diversity***\n",
    "\n",
    "我们致力于成为市场繁荣的捍卫者"
   ]
  },
  {
   "cell_type": "markdown",
   "id": "55c42dd6-472a-4e07-a304-153cd93098dd",
   "metadata": {},
   "source": [
    "## Members"
   ]
  },
  {
   "cell_type": "markdown",
   "id": "d936ba44-d657-474b-a465-a4be988ad4cc",
   "metadata": {},
   "source": [
    "::::{card-carousel} 3\n",
    "\n",
    ":::{card}\n",
    ":margin: 3\n",
    ":class-body: text-center\n",
    ":class-header: bg-light text-center\n",
    ":link: Team/HansCao.html\n",
    "```{image} images/me.jpg\n",
    ":height: 160\n",
    "```\n",
    "^^^\n",
    "**Hans Cao**<br>\n",
    "Articles {fas}`arrow-right`\n",
    ":::\n",
    "::::"
   ]
  },
  {
   "cell_type": "markdown",
   "id": "b97177be-760c-47f0-bb55-5bbd901d1801",
   "metadata": {},
   "source": [
    "## Other links\n"
   ]
  },
  {
   "cell_type": "markdown",
   "id": "23325c60-8508-480d-9fed-422ba486e687",
   "metadata": {},
   "source": [
    "::::{card-carousel} 3\n",
    "\n",
    ":::{card}\n",
    ":margin: 3\n",
    ":class-body: text-center\n",
    ":class-header: bg-light text-center\n",
    ":link: https://big-data-finance-tutorial.readthedocs.io/ \n",
    "```{image} images/大数据金融.png\n",
    ":height: 160\n",
    "```\n",
    "^^^\n",
    "**Big Data in Finance**<br>\n",
    "**《大数据金融》**\n",
    "Visit {fas}`arrow-right`\n",
    ":::\n",
    "\n",
    ":::{card}\n",
    ":margin: 3\n",
    ":class-body: text-center\n",
    ":class-header: bg-light text-center\n",
    ":link: https://github.com/xianghancao/Business-Data-Analytics\n",
    "```{image} images/商务数据分析.png\n",
    ":height: 160\n",
    "```\n",
    "^^^\n",
    "**Business Data Analytics**<br>\n",
    "**《商务数据分析》**\n",
    "Visit {fas}`arrow-right`\n",
    ":::\n",
    "\n",
    "\n",
    ":::{card}\n",
    ":margin: 3\n",
    ":class-body: text-center\n",
    ":class-header: bg-light text-center\n",
    ":link: https://github.com/xianghancao/Eoconometric-Practice-by-Python\n",
    "```{image} images/计量经济学实训.png\n",
    ":height: 160\n",
    "```\n",
    "^^^\n",
    "**Econometrics in Practices**<br>\n",
    "**《计量经济学实训》**\n",
    "Visit {fas}`arrow-right`\n",
    ":::\n",
    "\n",
    "::::"
   ]
  },
  {
   "cell_type": "markdown",
   "id": "b4e0ac58-0684-4a49-8621-89f1e0eb126d",
   "metadata": {},
   "source": [
    "### Softwares"
   ]
  },
  {
   "cell_type": "markdown",
   "id": "c9109c4f-6a8c-4760-8688-a0db1cc4d853",
   "metadata": {},
   "source": [
    "::::{grid} 4\n",
    ":::{grid-item-card}  \n",
    ":class-body: text-center\n",
    ":class-header: bg-light text-center\n",
    ":link: https://github.com/xianghancao/AlgoSim\n",
    "```{image} images/AlgoSim.png\n",
    ":height: 100\n",
    "```\n",
    "^^^\n",
    "**AlgoSim**<br>\n",
    "**算法回测系统**\n",
    ":::\n",
    "\n",
    ":::{grid-item-card}  \n",
    ":class-body: text-center\n",
    ":class-header: bg-light text-center\n",
    ":link: https://github.com/xianghancao/Kitkit\n",
    "```{image} images/Kitkit.png\n",
    ":height: 100\n",
    "```\n",
    "^^^\n",
    "**Kitkit**<br>\n",
    "**向量式回测系统**\n",
    ":::\n",
    "\n",
    ":::{grid-item-card}  \n",
    ":class-body: text-center\n",
    ":class-header: bg-light text-center\n",
    ":link: https://github.com/xianghancao/CirclePlot\n",
    "```{image} images/CirclePlots.jpg\n",
    ":height: 100\n",
    "```\n",
    "^^^\n",
    "**CirclePlots**<br>\n",
    "**相关图绘制**\n",
    ":::\n",
    "\n",
    "::::"
   ]
  },
  {
   "cell_type": "markdown",
   "id": "76a64c0e-22fd-4a2e-a56b-1935c3e2916e",
   "metadata": {},
   "source": [
    "### Website Apps"
   ]
  },
  {
   "cell_type": "markdown",
   "id": "c5a5f250-8bd0-4116-acc4-7d99ba39567e",
   "metadata": {},
   "source": [
    "::::{grid} 4\n",
    ":::{grid-item-card}  \n",
    ":class-body: text-center\n",
    ":class-header: bg-light text-center\n",
    ":link: https://github.com/xianghancao/AssetsAI\n",
    "```{image} images/AssetsAI.png\n",
    ":height: 100\n",
    "```\n",
    "^^^\n",
    "**AssetsAI**<br>\n",
    "**资产可视化**\n",
    ":::\n",
    "::::"
   ]
  },
  {
   "cell_type": "markdown",
   "id": "1ca351b1-9d0f-45c4-bb71-ec46c1808952",
   "metadata": {},
   "source": [
    "This website is for academic use only and should not be used for commercial distribution. If any content infringes on your rights, please contact us for removal.\n",
    "\n",
    "Create：2024.4\n"
   ]
  }
 ],
 "metadata": {
  "kernelspec": {
   "display_name": "Python 3 (ipykernel)",
   "language": "python",
   "name": "python3"
  },
  "language_info": {
   "codemirror_mode": {
    "name": "ipython",
    "version": 3
   },
   "file_extension": ".py",
   "mimetype": "text/x-python",
   "name": "python",
   "nbconvert_exporter": "python",
   "pygments_lexer": "ipython3",
   "version": "3.11.7"
  }
 },
 "nbformat": 4,
 "nbformat_minor": 5
}
