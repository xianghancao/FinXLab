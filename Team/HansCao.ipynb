{
 "cells": [
  {
   "cell_type": "markdown",
   "id": "0f07b167-5f79-4d10-84a1-690e603534df",
   "metadata": {},
   "source": [
    "# HansCao"
   ]
  },
  {
   "cell_type": "markdown",
   "id": "515e4e3f-0656-4dcf-919c-3472770acd59",
   "metadata": {},
   "source": [
    "```{admonition} Articles\n",
    ":class: note\n",
    "\n",
    "<a href=\"../NLP/预训练模型进行文本分类.html\"> 预训练模型进行文本分类 </a>\n",
    "<br><a href=\"../Networks/基于iGraph的网络分析和绘图/article.html\"> 基于iGraph的网络分析和绘图 </a>\n",
    "<br><a href=\"../Networks/20240718-网络的相关性图绘制/article.html\"> 网络的相关性图绘制 </a>\n",
    "<br><a href=\"../Networks/20240723-如何绘制地理图/article.html\"> 如何绘制地理图 </a>\n",
    "<br><a href=\"../Networks/20240721-基于iGraph的网络分析和绘图/article.html\"> 基于iGraph的网络分析和绘图 </a>\n",
    "<br><a href=\"../Networks/20240805-基于Networkx的网络分析和绘图/article.html\"> 基于Networkx的网络分析和绘图 </a>\n",
    "\n",
    "\n",
    "```"
   ]
  },
  {
   "cell_type": "code",
   "execution_count": null,
   "id": "04b27792-dfa1-46a1-bd28-8291ae426706",
   "metadata": {},
   "outputs": [],
   "source": []
  }
 ],
 "metadata": {
  "kernelspec": {
   "display_name": "Python 3 (ipykernel)",
   "language": "python",
   "name": "python3"
  },
  "language_info": {
   "codemirror_mode": {
    "name": "ipython",
    "version": 3
   },
   "file_extension": ".py",
   "mimetype": "text/x-python",
   "name": "python",
   "nbconvert_exporter": "python",
   "pygments_lexer": "ipython3",
   "version": "3.11.7"
  }
 },
 "nbformat": 4,
 "nbformat_minor": 5
}
