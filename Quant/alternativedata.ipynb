{
 "cells": [
  {
   "cell_type": "markdown",
   "id": "6f20bcea-72ba-40e6-b9d0-ea4c0b69d755",
   "metadata": {},
   "source": [
    "# alternativedata"
   ]
  },
  {
   "cell_type": "markdown",
   "id": "0afb2d6b-6cb1-4dc1-8f65-0586d1c8b320",
   "metadata": {},
   "source": [
    "https://alternativedata.org/data-providers/category,satellite/"
   ]
  }
 ],
 "metadata": {
  "kernelspec": {
   "display_name": "Python 3 (ipykernel)",
   "language": "python",
   "name": "python3"
  },
  "language_info": {
   "codemirror_mode": {
    "name": "ipython",
    "version": 3
   },
   "file_extension": ".py",
   "mimetype": "text/x-python",
   "name": "python",
   "nbconvert_exporter": "python",
   "pygments_lexer": "ipython3",
   "version": "3.11.7"
  }
 },
 "nbformat": 4,
 "nbformat_minor": 5
}
