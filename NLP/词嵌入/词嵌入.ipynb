{
 "cells": [
  {
   "cell_type": "markdown",
   "id": "1de4931b-b3ac-4262-a375-1fd7f3f47914",
   "metadata": {},
   "source": [
    "# 大语言模型的词嵌入"
   ]
  },
  {
   "cell_type": "markdown",
   "id": "0079053a-f71f-4703-8cb6-f1cf6a37bfe7",
   "metadata": {},
   "source": [
    "几乎所有处理文本的神经网络都有一个共同的元素，叫嵌入层(embedding layer)，它使用词嵌入将代表词的标量值数组或序列变换成词向量（word vector)的浮点数数组。这些向量编码了关于词的含义和它们之间关系的信息。"
   ]
  },
  {
   "cell_type": "markdown",
   "id": "d5ccb00f-3924-430b-a791-d447b4b8759f",
   "metadata": {},
   "source": [
    "大语言模型与传统的词嵌入方法不同（Mikolov等人，2013；Pennington等人，2014），传统方法中一个词被表示为一个单一的向量表示，这些语言模型会为每个词标记返回上下文化的嵌入。这些上下文化的嵌入可以输入到后续任务中去。"
   ]
  },
  {
   "cell_type": "code",
   "execution_count": null,
   "id": "569e36fd-8368-4aa2-81ff-e0b06eab5bb3",
   "metadata": {},
   "outputs": [],
   "source": []
  }
 ],
 "metadata": {
  "kernelspec": {
   "display_name": "Python 3 (ipykernel)",
   "language": "python",
   "name": "python3"
  },
  "language_info": {
   "codemirror_mode": {
    "name": "ipython",
    "version": 3
   },
   "file_extension": ".py",
   "mimetype": "text/x-python",
   "name": "python",
   "nbconvert_exporter": "python",
   "pygments_lexer": "ipython3",
   "version": "3.11.7"
  }
 },
 "nbformat": 4,
 "nbformat_minor": 5
}
